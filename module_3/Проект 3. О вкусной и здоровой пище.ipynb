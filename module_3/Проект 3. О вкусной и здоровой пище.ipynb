{
 "cells": [
  {
   "cell_type": "markdown",
   "metadata": {},
   "source": [
    "![](https://www.pata.org/wp-content/uploads/2014/09/TripAdvisor_Logo-300x119.png)\n",
    "# Predict TripAdvisor Rating\n",
    "## В этом соревновании нам предстоит предсказать рейтинг ресторана в TripAdvisor\n",
    "**По ходу задачи:**\n",
    "* Прокачаем работу с pandas\n",
    "* Научимся работать с Kaggle Notebooks\n",
    "* Поймем как делать предобработку различных данных\n",
    "* Научимся работать с пропущенными данными (Nan)\n",
    "* Познакомимся с различными видами кодирования признаков\n",
    "* Немного попробуем [Feature Engineering](https://ru.wikipedia.org/wiki/Конструирование_признаков) (генерировать новые признаки)\n",
    "* И совсем немного затронем ML\n",
    "* И многое другое...   \n",
    "\n",
    "\n",
    "\n",
    "### И самое важное, все это вы сможете сделать самостоятельно!\n",
    "\n",
    "*Этот Ноутбук являетсся Примером/Шаблоном к этому соревнованию (Baseline) и не служит готовым решением!*   \n",
    "Вы можете использовать его как основу для построения своего решения.\n",
    "\n",
    "> что такое baseline решение, зачем оно нужно и почему предоставлять baseline к соревнованию стало важным стандартом на kaggle и других площадках.   \n",
    "**baseline** создается больше как шаблон, где можно посмотреть как происходит обращение с входящими данными и что нужно получить на выходе. При этом МЛ начинка может быть достаточно простой, просто для примера. Это помогает быстрее приступить к самому МЛ, а не тратить ценное время на чисто инженерные задачи. \n",
    "Также baseline являеться хорошей опорной точкой по метрике. Если твое решение хуже baseline - ты явно делаешь что-то не то и стоит попробовать другой путь) \n",
    "\n",
    "В контексте нашего соревнования baseline идет с небольшими примерами того, что можно делать с данными, и с инструкцией, что делать дальше, чтобы улучшить результат.  Вообще готовым решением это сложно назвать, так как используются всего 2 самых простых признака (а остальные исключаются)."
   ]
  },
  {
   "cell_type": "markdown",
   "metadata": {},
   "source": [
    "### Итоговое задание Стрибук Иван (DSPR-37)\n",
    "### по Проекту 3. О вкусной и здоровой пище \n",
    "####  Юнит 3. Введение в машинное обучение (отредактирован 26.07.2021)\n",
    "---"
   ]
  },
  {
   "cell_type": "markdown",
   "metadata": {},
   "source": [
    "# import"
   ]
  },
  {
   "cell_type": "code",
   "execution_count": null,
   "metadata": {
    "_cell_guid": "b1076dfc-b9ad-4769-8c92-a6c4dae69d19",
    "_uuid": "8f2839f25d086af736a60e9eeb907d3b93b6e0e5",
    "execution": {
     "iopub.execute_input": "2021-08-03T17:01:25.658765Z",
     "iopub.status.busy": "2021-08-03T17:01:25.658298Z",
     "iopub.status.idle": "2021-08-03T17:01:28.7497Z",
     "shell.execute_reply": "2021-08-03T17:01:28.748717Z",
     "shell.execute_reply.started": "2021-08-03T17:01:25.658719Z"
    }
   },
   "outputs": [],
   "source": [
    "# This Python 3 environment comes with many helpful analytics libraries installed\n",
    "# It is defined by the kaggle/python docker image: https://github.com/kaggle/docker-python\n",
    "# For example, here's several helpful packages to load in \n",
    "\n",
    "import numpy as np # linear algebra\n",
    "import pandas as pd # data processing, CSV file I/O (e.g. pd.read_csv)\n",
    "\n",
    "import matplotlib.pyplot as plt\n",
    "import seaborn as sns \n",
    "%matplotlib inline\n",
    "\n",
    "# Загружаем специальный удобный инструмент для разделения датасета:\n",
    "from sklearn.model_selection import train_test_split\n",
    "\n",
    "# Input data files are available in the \"../input/\" directory.\n",
    "# For example, running this (by clicking run or pressing Shift+Enter) will list all files under the input directory\n",
    "\n",
    "import os\n",
    "for dirname, _, filenames in os.walk('/kaggle/input'):\n",
    "    for filename in filenames:\n",
    "        print(os.path.join(dirname, filename))\n",
    "\n",
    "# Any results you write to the current directory are saved as output."
   ]
  },
  {
   "cell_type": "code",
   "execution_count": null,
   "metadata": {
    "execution": {
     "iopub.execute_input": "2021-08-03T17:01:28.752535Z",
     "iopub.status.busy": "2021-08-03T17:01:28.752167Z",
     "iopub.status.idle": "2021-08-03T17:01:28.757269Z",
     "shell.execute_reply": "2021-08-03T17:01:28.756566Z",
     "shell.execute_reply.started": "2021-08-03T17:01:28.75247Z"
    }
   },
   "outputs": [],
   "source": [
    "from datetime import datetime, timedelta\n",
    "import re"
   ]
  },
  {
   "cell_type": "code",
   "execution_count": null,
   "metadata": {
    "execution": {
     "iopub.execute_input": "2021-08-03T17:01:28.759091Z",
     "iopub.status.busy": "2021-08-03T17:01:28.758825Z",
     "iopub.status.idle": "2021-08-03T17:01:28.767944Z",
     "shell.execute_reply": "2021-08-03T17:01:28.766863Z",
     "shell.execute_reply.started": "2021-08-03T17:01:28.759037Z"
    }
   },
   "outputs": [],
   "source": [
    "# всегда фиксируйте RANDOM_SEED, чтобы ваши эксперименты были воспроизводимы!\n",
    "RANDOM_SEED = 42"
   ]
  },
  {
   "cell_type": "code",
   "execution_count": null,
   "metadata": {
    "execution": {
     "iopub.execute_input": "2021-08-03T17:01:28.76945Z",
     "iopub.status.busy": "2021-08-03T17:01:28.769173Z",
     "iopub.status.idle": "2021-08-03T17:01:32.178362Z",
     "shell.execute_reply": "2021-08-03T17:01:32.176702Z",
     "shell.execute_reply.started": "2021-08-03T17:01:28.769387Z"
    }
   },
   "outputs": [],
   "source": [
    "# зафиксируем версию пакетов, чтобы эксперименты были воспроизводимы:\n",
    "!pip freeze > requirements.txt"
   ]
  },
  {
   "cell_type": "markdown",
   "metadata": {},
   "source": [
    "# DATA"
   ]
  },
  {
   "cell_type": "code",
   "execution_count": null,
   "metadata": {
    "_cell_guid": "79c7e3d0-c299-4dcb-8224-4455121ee9b0",
    "_uuid": "d629ff2d2480ee46fbb7e2d37f6b5fab8052498a",
    "execution": {
     "iopub.execute_input": "2021-08-03T17:01:32.18312Z",
     "iopub.status.busy": "2021-08-03T17:01:32.182742Z",
     "iopub.status.idle": "2021-08-03T17:01:32.568669Z",
     "shell.execute_reply": "2021-08-03T17:01:32.567856Z",
     "shell.execute_reply.started": "2021-08-03T17:01:32.183061Z"
    }
   },
   "outputs": [],
   "source": [
    "DATA_DIR = '/kaggle/input/sf-dst-restaurant-rating/'\n",
    "df_train = pd.read_csv(DATA_DIR+'/main_task.csv')\n",
    "df_test = pd.read_csv(DATA_DIR+'kaggle_task.csv')\n",
    "sample_submission = pd.read_csv(DATA_DIR+'/sample_submission.csv')"
   ]
  },
  {
   "cell_type": "code",
   "execution_count": null,
   "metadata": {
    "execution": {
     "iopub.execute_input": "2021-08-03T17:01:32.571158Z",
     "iopub.status.busy": "2021-08-03T17:01:32.570927Z",
     "iopub.status.idle": "2021-08-03T17:01:32.575592Z",
     "shell.execute_reply": "2021-08-03T17:01:32.574556Z",
     "shell.execute_reply.started": "2021-08-03T17:01:32.571125Z"
    }
   },
   "outputs": [],
   "source": [
    "pd.set_option('display.max_columns', 200) # смотреть удобно таблицы"
   ]
  },
  {
   "cell_type": "code",
   "execution_count": null,
   "metadata": {
    "execution": {
     "iopub.execute_input": "2021-08-03T17:01:32.577052Z",
     "iopub.status.busy": "2021-08-03T17:01:32.576799Z",
     "iopub.status.idle": "2021-08-03T17:01:32.615627Z",
     "shell.execute_reply": "2021-08-03T17:01:32.614609Z",
     "shell.execute_reply.started": "2021-08-03T17:01:32.577009Z"
    }
   },
   "outputs": [],
   "source": [
    "df_train.info()"
   ]
  },
  {
   "cell_type": "code",
   "execution_count": null,
   "metadata": {
    "execution": {
     "iopub.execute_input": "2021-08-03T17:01:32.617529Z",
     "iopub.status.busy": "2021-08-03T17:01:32.617255Z",
     "iopub.status.idle": "2021-08-03T17:01:32.642759Z",
     "shell.execute_reply": "2021-08-03T17:01:32.641823Z",
     "shell.execute_reply.started": "2021-08-03T17:01:32.617486Z"
    }
   },
   "outputs": [],
   "source": [
    "df_train.head(5)"
   ]
  },
  {
   "cell_type": "code",
   "execution_count": null,
   "metadata": {
    "execution": {
     "iopub.execute_input": "2021-08-03T17:01:32.646687Z",
     "iopub.status.busy": "2021-08-03T17:01:32.6463Z",
     "iopub.status.idle": "2021-08-03T17:01:32.661914Z",
     "shell.execute_reply": "2021-08-03T17:01:32.659975Z",
     "shell.execute_reply.started": "2021-08-03T17:01:32.646636Z"
    }
   },
   "outputs": [],
   "source": [
    "df_test.info()"
   ]
  },
  {
   "cell_type": "code",
   "execution_count": null,
   "metadata": {
    "execution": {
     "iopub.execute_input": "2021-08-03T17:01:32.664528Z",
     "iopub.status.busy": "2021-08-03T17:01:32.664131Z",
     "iopub.status.idle": "2021-08-03T17:01:32.681811Z",
     "shell.execute_reply": "2021-08-03T17:01:32.680678Z",
     "shell.execute_reply.started": "2021-08-03T17:01:32.664458Z"
    }
   },
   "outputs": [],
   "source": [
    "df_test.head(5)"
   ]
  },
  {
   "cell_type": "code",
   "execution_count": null,
   "metadata": {
    "execution": {
     "iopub.execute_input": "2021-08-03T17:01:32.683261Z",
     "iopub.status.busy": "2021-08-03T17:01:32.683028Z",
     "iopub.status.idle": "2021-08-03T17:01:32.698666Z",
     "shell.execute_reply": "2021-08-03T17:01:32.697922Z",
     "shell.execute_reply.started": "2021-08-03T17:01:32.683227Z"
    }
   },
   "outputs": [],
   "source": [
    "sample_submission.head(5)"
   ]
  },
  {
   "cell_type": "code",
   "execution_count": null,
   "metadata": {
    "execution": {
     "iopub.execute_input": "2021-08-03T17:01:32.69991Z",
     "iopub.status.busy": "2021-08-03T17:01:32.69965Z",
     "iopub.status.idle": "2021-08-03T17:01:32.714797Z",
     "shell.execute_reply": "2021-08-03T17:01:32.71382Z",
     "shell.execute_reply.started": "2021-08-03T17:01:32.699863Z"
    }
   },
   "outputs": [],
   "source": [
    "sample_submission.info()"
   ]
  },
  {
   "cell_type": "code",
   "execution_count": null,
   "metadata": {
    "execution": {
     "iopub.execute_input": "2021-08-03T17:01:32.716178Z",
     "iopub.status.busy": "2021-08-03T17:01:32.715961Z",
     "iopub.status.idle": "2021-08-03T17:01:32.769121Z",
     "shell.execute_reply": "2021-08-03T17:01:32.767986Z",
     "shell.execute_reply.started": "2021-08-03T17:01:32.716146Z"
    }
   },
   "outputs": [],
   "source": [
    "# ВАЖНО! дря корректной обработки признаков объединяем трейн и тест в один датасет\n",
    "df_train['sample'] = 1 # помечаем где у нас трейн\n",
    "df_test['sample'] = 0 # помечаем где у нас тест\n",
    "df_test['Rating'] = 0 # в тесте у нас нет значения Rating, мы его должны предсказать, по этому пока просто заполняем нулями\n",
    "\n",
    "data = df_test.append(df_train, sort=False).reset_index(drop=True) # объединяем"
   ]
  },
  {
   "cell_type": "code",
   "execution_count": null,
   "metadata": {
    "execution": {
     "iopub.execute_input": "2021-08-03T17:01:32.772968Z",
     "iopub.status.busy": "2021-08-03T17:01:32.772682Z",
     "iopub.status.idle": "2021-08-03T17:01:32.798103Z",
     "shell.execute_reply": "2021-08-03T17:01:32.797304Z",
     "shell.execute_reply.started": "2021-08-03T17:01:32.772911Z"
    }
   },
   "outputs": [],
   "source": [
    "data.info()"
   ]
  },
  {
   "cell_type": "markdown",
   "metadata": {},
   "source": [
    "Подробнее по признакам:\n",
    "* City: Город \n",
    "* Cuisine Style: Кухня\n",
    "* Ranking: Ранг ресторана относительно других ресторанов в этом городе\n",
    "* Price Range: Цены в ресторане в 3 категориях\n",
    "* Number of Reviews: Количество отзывов\n",
    "* Reviews: 2 последних отзыва и даты этих отзывов\n",
    "* URL_TA: страница ресторана на 'www.tripadvisor.com' \n",
    "* ID_TA: ID ресторана в TripAdvisor\n",
    "* Rating: Рейтинг ресторана"
   ]
  },
  {
   "cell_type": "code",
   "execution_count": null,
   "metadata": {
    "execution": {
     "iopub.execute_input": "2021-08-03T17:01:32.799538Z",
     "iopub.status.busy": "2021-08-03T17:01:32.799148Z",
     "iopub.status.idle": "2021-08-03T17:01:32.820406Z",
     "shell.execute_reply": "2021-08-03T17:01:32.819355Z",
     "shell.execute_reply.started": "2021-08-03T17:01:32.799498Z"
    }
   },
   "outputs": [],
   "source": [
    "data.sample(5)"
   ]
  },
  {
   "cell_type": "code",
   "execution_count": null,
   "metadata": {
    "execution": {
     "iopub.execute_input": "2021-08-03T17:01:32.821939Z",
     "iopub.status.busy": "2021-08-03T17:01:32.821669Z",
     "iopub.status.idle": "2021-08-03T17:01:32.837238Z",
     "shell.execute_reply": "2021-08-03T17:01:32.836334Z",
     "shell.execute_reply.started": "2021-08-03T17:01:32.821888Z"
    }
   },
   "outputs": [],
   "source": [
    "data.Reviews[1]"
   ]
  },
  {
   "cell_type": "markdown",
   "metadata": {},
   "source": [
    "Как видим, большинство признаков у нас требует очистки и предварительной обработки."
   ]
  },
  {
   "cell_type": "code",
   "execution_count": null,
   "metadata": {
    "execution": {
     "iopub.execute_input": "2021-08-03T17:01:32.839273Z",
     "iopub.status.busy": "2021-08-03T17:01:32.838728Z",
     "iopub.status.idle": "2021-08-03T17:01:32.877262Z",
     "shell.execute_reply": "2021-08-03T17:01:32.87627Z",
     "shell.execute_reply.started": "2021-08-03T17:01:32.839213Z"
    }
   },
   "outputs": [],
   "source": [
    "# Restaurant_id\n",
    "data['code_Restaurant_id'] = data['Restaurant_id'].apply(lambda x: float(x[3:]))"
   ]
  },
  {
   "cell_type": "markdown",
   "metadata": {},
   "source": [
    "Визуальный осмотр показал, что код Restaurant_id очень сильно похож на Ranking в data_train.\n",
    "Надо проверить корреляцию и при необходимости удалить 'code_Restaurant_id'"
   ]
  },
  {
   "cell_type": "code",
   "execution_count": null,
   "metadata": {
    "execution": {
     "iopub.execute_input": "2021-08-03T17:01:32.879686Z",
     "iopub.status.busy": "2021-08-03T17:01:32.878955Z",
     "iopub.status.idle": "2021-08-03T17:01:32.889053Z",
     "shell.execute_reply": "2021-08-03T17:01:32.888033Z",
     "shell.execute_reply.started": "2021-08-03T17:01:32.879263Z"
    }
   },
   "outputs": [],
   "source": [
    "rest_id_corr = data[['code_Restaurant_id', 'Ranking']]"
   ]
  },
  {
   "cell_type": "code",
   "execution_count": null,
   "metadata": {
    "execution": {
     "iopub.execute_input": "2021-08-03T17:01:32.892191Z",
     "iopub.status.busy": "2021-08-03T17:01:32.891812Z",
     "iopub.status.idle": "2021-08-03T17:01:41.30911Z",
     "shell.execute_reply": "2021-08-03T17:01:41.308026Z",
     "shell.execute_reply.started": "2021-08-03T17:01:32.892133Z"
    }
   },
   "outputs": [],
   "source": [
    "sns.pairplot(rest_id_corr, kind = 'reg')"
   ]
  },
  {
   "cell_type": "code",
   "execution_count": null,
   "metadata": {
    "execution": {
     "iopub.execute_input": "2021-08-03T17:01:41.31141Z",
     "iopub.status.busy": "2021-08-03T17:01:41.310828Z",
     "iopub.status.idle": "2021-08-03T17:01:41.326659Z",
     "shell.execute_reply": "2021-08-03T17:01:41.325562Z",
     "shell.execute_reply.started": "2021-08-03T17:01:41.311349Z"
    }
   },
   "outputs": [],
   "source": [
    "# Используем для наглядности матрицу корреляций:\n",
    "rest_id_corr.corr()"
   ]
  },
  {
   "cell_type": "code",
   "execution_count": null,
   "metadata": {
    "execution": {
     "iopub.execute_input": "2021-08-03T17:01:41.328876Z",
     "iopub.status.busy": "2021-08-03T17:01:41.328314Z",
     "iopub.status.idle": "2021-08-03T17:01:41.345132Z",
     "shell.execute_reply": "2021-08-03T17:01:41.344112Z",
     "shell.execute_reply.started": "2021-08-03T17:01:41.328819Z"
    }
   },
   "outputs": [],
   "source": [
    "# вспоминаем Резюме по критерию code_Restaurant_id. Удаляем так как была гипотеза о корреляции с Ranking\n",
    "data.drop(['code_Restaurant_id'], axis=1, inplace=True, errors='ignore')"
   ]
  },
  {
   "cell_type": "markdown",
   "metadata": {},
   "source": [
    "# Cleaning and Prepping Data\n",
    "Обычно данные содержат в себе кучу мусора, который необходимо почистить, для того чтобы привести их в приемлемый формат. Чистка данных — это необходимый этап решения почти любой реальной задачи.   \n",
    "![](https://analyticsindiamag.com/wp-content/uploads/2018/01/data-cleaning.png)"
   ]
  },
  {
   "cell_type": "markdown",
   "metadata": {},
   "source": [
    "## 1. Обработка NAN \n",
    "У наличия пропусков могут быть разные причины, но пропуски нужно либо заполнить, либо исключить из набора полностью. Но с пропусками нужно быть внимательным, **даже отсутствие информации может быть важным признаком!**   \n",
    "По этому перед обработкой NAN лучше вынести информацию о наличии пропуска как отдельный признак "
   ]
  },
  {
   "cell_type": "code",
   "execution_count": null,
   "metadata": {
    "execution": {
     "iopub.execute_input": "2021-08-03T17:01:41.347212Z",
     "iopub.status.busy": "2021-08-03T17:01:41.346686Z",
     "iopub.status.idle": "2021-08-03T17:01:41.3607Z",
     "shell.execute_reply": "2021-08-03T17:01:41.359627Z",
     "shell.execute_reply.started": "2021-08-03T17:01:41.347151Z"
    }
   },
   "outputs": [],
   "source": [
    "# вынесем пропуски в данных отдельным параметром\n",
    "data['NoR NAN'] = pd.isna(data['Number of Reviews']).astype('uint8')"
   ]
  },
  {
   "cell_type": "code",
   "execution_count": null,
   "metadata": {
    "execution": {
     "iopub.execute_input": "2021-08-03T17:01:41.363186Z",
     "iopub.status.busy": "2021-08-03T17:01:41.362517Z",
     "iopub.status.idle": "2021-08-03T17:01:41.383047Z",
     "shell.execute_reply": "2021-08-03T17:01:41.382379Z",
     "shell.execute_reply.started": "2021-08-03T17:01:41.363124Z"
    }
   },
   "outputs": [],
   "source": [
    "# глянем в статистику\n",
    "data['Number of Reviews'].describe()"
   ]
  },
  {
   "cell_type": "markdown",
   "metadata": {},
   "source": [
    "Медиана и средняя сильно разняться, это значит, что в параметре много выбросов. для более детальной картины можно глянуть статистику по городам."
   ]
  },
  {
   "cell_type": "code",
   "execution_count": null,
   "metadata": {
    "execution": {
     "iopub.execute_input": "2021-08-03T17:01:41.38455Z",
     "iopub.status.busy": "2021-08-03T17:01:41.384138Z",
     "iopub.status.idle": "2021-08-03T17:01:41.403328Z",
     "shell.execute_reply": "2021-08-03T17:01:41.402315Z",
     "shell.execute_reply.started": "2021-08-03T17:01:41.384512Z"
    }
   },
   "outputs": [],
   "source": [
    "data['City'].value_counts().sort_index(ascending=True)"
   ]
  },
  {
   "cell_type": "code",
   "execution_count": null,
   "metadata": {
    "execution": {
     "iopub.execute_input": "2021-08-03T17:01:41.40699Z",
     "iopub.status.busy": "2021-08-03T17:01:41.406703Z",
     "iopub.status.idle": "2021-08-03T17:01:41.938928Z",
     "shell.execute_reply": "2021-08-03T17:01:41.937986Z",
     "shell.execute_reply.started": "2021-08-03T17:01:41.406935Z"
    }
   },
   "outputs": [],
   "source": [
    "data.groupby(['City'])['Number of Reviews'].agg(['mean','median']).plot(kind='bar',figsize=[20,3],grid=True)"
   ]
  },
  {
   "cell_type": "code",
   "execution_count": null,
   "metadata": {
    "execution": {
     "iopub.execute_input": "2021-08-03T17:01:41.940704Z",
     "iopub.status.busy": "2021-08-03T17:01:41.940464Z",
     "iopub.status.idle": "2021-08-03T17:01:41.958269Z",
     "shell.execute_reply": "2021-08-03T17:01:41.956705Z",
     "shell.execute_reply.started": "2021-08-03T17:01:41.940665Z"
    }
   },
   "outputs": [],
   "source": [
    "# будем заполнять пропуски медианой по городам, она в данном случае более объективно представляет информацию\n",
    "\n",
    "gb_city = round(data.groupby(['City'])['Number of Reviews'].median()).to_dict() # создаем словарь\n",
    "data['Number of Reviews'].fillna(data['City'].map(gb_city),inplace=True) # заменяем пропуски, применяя словарь"
   ]
  },
  {
   "cell_type": "markdown",
   "metadata": {},
   "source": [
    "### 2. Обработка признаков\n",
    "Для начала посмотрим какие признаки у нас могут быть категориальными."
   ]
  },
  {
   "cell_type": "code",
   "execution_count": null,
   "metadata": {
    "execution": {
     "iopub.execute_input": "2021-08-03T17:01:41.960702Z",
     "iopub.status.busy": "2021-08-03T17:01:41.960247Z",
     "iopub.status.idle": "2021-08-03T17:01:42.071673Z",
     "shell.execute_reply": "2021-08-03T17:01:42.070619Z",
     "shell.execute_reply.started": "2021-08-03T17:01:41.960625Z"
    }
   },
   "outputs": [],
   "source": [
    "data.nunique(dropna=False)"
   ]
  },
  {
   "cell_type": "markdown",
   "metadata": {},
   "source": [
    "Какие признаки можно считать категориальными?"
   ]
  },
  {
   "cell_type": "markdown",
   "metadata": {},
   "source": [
    "Для кодирования категориальных признаков есть множество подходов:\n",
    "* Label Encoding\n",
    "* One-Hot Encoding\n",
    "* Target Encoding\n",
    "* Hashing\n",
    "\n",
    "Выбор кодирования зависит от признака и выбраной модели.\n",
    "Не будем сейчас сильно погружаться в эту тематику, давайте посмотрим лучше пример с One-Hot Encoding:\n",
    "![](https://i.imgur.com/mtimFxh.png)"
   ]
  },
  {
   "cell_type": "code",
   "execution_count": null,
   "metadata": {
    "execution": {
     "iopub.execute_input": "2021-08-03T17:01:42.073349Z",
     "iopub.status.busy": "2021-08-03T17:01:42.073093Z",
     "iopub.status.idle": "2021-08-03T17:01:42.077823Z",
     "shell.execute_reply": "2021-08-03T17:01:42.076927Z",
     "shell.execute_reply.started": "2021-08-03T17:01:42.073308Z"
    }
   },
   "outputs": [],
   "source": [
    "# для One-Hot Encoding в pandas есть готовая функция - get_dummies. Особенно радует параметр dummy_na\n",
    "# перенесено после формирования признаков с использованием колонки City\n",
    "#data = pd.get_dummies(data, columns=['City'], dummy_na=True)"
   ]
  },
  {
   "cell_type": "code",
   "execution_count": null,
   "metadata": {
    "execution": {
     "iopub.execute_input": "2021-08-03T17:01:42.080779Z",
     "iopub.status.busy": "2021-08-03T17:01:42.080111Z",
     "iopub.status.idle": "2021-08-03T17:01:42.106988Z",
     "shell.execute_reply": "2021-08-03T17:01:42.106051Z",
     "shell.execute_reply.started": "2021-08-03T17:01:42.080713Z"
    }
   },
   "outputs": [],
   "source": [
    "data.sample(5)"
   ]
  },
  {
   "cell_type": "markdown",
   "metadata": {},
   "source": [
    "#### Возьмем следующий признак \"Price Range\"."
   ]
  },
  {
   "cell_type": "code",
   "execution_count": null,
   "metadata": {
    "execution": {
     "iopub.execute_input": "2021-08-03T17:01:42.10914Z",
     "iopub.status.busy": "2021-08-03T17:01:42.108544Z",
     "iopub.status.idle": "2021-08-03T17:01:42.122955Z",
     "shell.execute_reply": "2021-08-03T17:01:42.122061Z",
     "shell.execute_reply.started": "2021-08-03T17:01:42.109079Z"
    }
   },
   "outputs": [],
   "source": [
    "data['Price Range'].value_counts()"
   ]
  },
  {
   "cell_type": "code",
   "execution_count": null,
   "metadata": {
    "execution": {
     "iopub.execute_input": "2021-08-03T17:01:42.124998Z",
     "iopub.status.busy": "2021-08-03T17:01:42.124538Z",
     "iopub.status.idle": "2021-08-03T17:01:42.136415Z",
     "shell.execute_reply": "2021-08-03T17:01:42.135614Z",
     "shell.execute_reply.started": "2021-08-03T17:01:42.124814Z"
    }
   },
   "outputs": [],
   "source": [
    "# и кол-во пропусков\n",
    "display(data['Price Range'].isna().sum())"
   ]
  },
  {
   "cell_type": "markdown",
   "metadata": {},
   "source": [
    "По описанию 'Price Range' это - Цены в ресторане.  \n",
    "Их можно поставить по возрастанию (значит это не категориальный признак). А это значит, что их можно заменить последовательными числами, например 1,2,3  \n",
    "*Попробуйте сделать обработку этого признака уже самостоятельно!*"
   ]
  },
  {
   "cell_type": "code",
   "execution_count": null,
   "metadata": {
    "execution": {
     "iopub.execute_input": "2021-08-03T17:01:42.144287Z",
     "iopub.status.busy": "2021-08-03T17:01:42.143989Z",
     "iopub.status.idle": "2021-08-03T17:01:42.170938Z",
     "shell.execute_reply": "2021-08-03T17:01:42.169868Z",
     "shell.execute_reply.started": "2021-08-03T17:01:42.144231Z"
    }
   },
   "outputs": [],
   "source": [
    "# Ваша обработка 'Price Range'\n",
    "# 23041 ресторанов это более 70% из заполненной информации имеют средний параметр цены\n",
    "# поэтому заполняем пропуски двойкой (2)\n",
    "data['Price Range'].fillna('$$ - $$$', inplace = True)\n",
    "# заполним значения в переменной.\n",
    "data['Price Range'].replace({'$': 1,'$$ - $$$': 2,'$$$$': 3}, inplace = True)"
   ]
  },
  {
   "cell_type": "code",
   "execution_count": null,
   "metadata": {
    "execution": {
     "iopub.execute_input": "2021-08-03T17:01:42.173082Z",
     "iopub.status.busy": "2021-08-03T17:01:42.172742Z",
     "iopub.status.idle": "2021-08-03T17:01:42.186856Z",
     "shell.execute_reply": "2021-08-03T17:01:42.186012Z",
     "shell.execute_reply.started": "2021-08-03T17:01:42.173032Z"
    }
   },
   "outputs": [],
   "source": [
    "# посмотрим статисику\n",
    "display(data['Price Range'].describe())"
   ]
  },
  {
   "cell_type": "markdown",
   "metadata": {},
   "source": [
    "> Для некоторых алгоритмов МЛ даже для не категориальных признаков можно применить One-Hot Encoding, и это может улучшить качество модели. Пробуйте разные подходы к кодированию признака - никто не знает заранее, что может взлететь."
   ]
  },
  {
   "cell_type": "markdown",
   "metadata": {},
   "source": [
    "### Обработать другие признаки вы должны самостоятельно!\n",
    "Для обработки других признаков вам возможно придется даже написать свою функцию, а может даже и не одну, но в этом и есть ваша практика в этом модуле!     \n",
    "Следуя подсказкам в модуле вы сможете более подробно узнать, как сделать эти приобразования."
   ]
  },
  {
   "cell_type": "code",
   "execution_count": null,
   "metadata": {
    "execution": {
     "iopub.execute_input": "2021-08-03T17:01:42.189086Z",
     "iopub.status.busy": "2021-08-03T17:01:42.188697Z",
     "iopub.status.idle": "2021-08-03T17:01:42.211109Z",
     "shell.execute_reply": "2021-08-03T17:01:42.210123Z",
     "shell.execute_reply.started": "2021-08-03T17:01:42.189017Z"
    }
   },
   "outputs": [],
   "source": [
    "data['Cuisine Style'].value_counts(dropna=False).head(20)"
   ]
  },
  {
   "cell_type": "code",
   "execution_count": null,
   "metadata": {
    "execution": {
     "iopub.execute_input": "2021-08-03T17:01:42.212593Z",
     "iopub.status.busy": "2021-08-03T17:01:42.212316Z",
     "iopub.status.idle": "2021-08-03T17:01:42.429951Z",
     "shell.execute_reply": "2021-08-03T17:01:42.429184Z",
     "shell.execute_reply.started": "2021-08-03T17:01:42.212543Z"
    }
   },
   "outputs": [],
   "source": [
    "data[['City', 'Cuisine Style']].groupby('City').describe()"
   ]
  },
  {
   "cell_type": "code",
   "execution_count": null,
   "metadata": {
    "execution": {
     "iopub.execute_input": "2021-08-03T17:01:42.431251Z",
     "iopub.status.busy": "2021-08-03T17:01:42.430916Z",
     "iopub.status.idle": "2021-08-03T17:01:42.483238Z",
     "shell.execute_reply": "2021-08-03T17:01:42.482514Z",
     "shell.execute_reply.started": "2021-08-03T17:01:42.431216Z"
    }
   },
   "outputs": [],
   "source": [
    "data[['City', 'Cuisine Style']].groupby('City')['Cuisine Style'].value_counts()['London'].head(10)"
   ]
  },
  {
   "cell_type": "code",
   "execution_count": null,
   "metadata": {
    "execution": {
     "iopub.execute_input": "2021-08-03T17:01:42.48461Z",
     "iopub.status.busy": "2021-08-03T17:01:42.484239Z",
     "iopub.status.idle": "2021-08-03T17:01:42.77294Z",
     "shell.execute_reply": "2021-08-03T17:01:42.77217Z",
     "shell.execute_reply.started": "2021-08-03T17:01:42.484562Z"
    }
   },
   "outputs": [],
   "source": [
    "# тут ваш код на обработку других признаков\n",
    "\n",
    "#Заполняем пропуски для обзоров пустой строкой\n",
    "data['Reviews'].fillna('', inplace = True)\n",
    "\n",
    "#заполняем пропуски для видов кухни\n",
    "data['Cuisine Style'].fillna('Unknown', inplace = True)\n",
    "\n",
    "#Создаем признак для видов кухни типа list, предварительно убрав лишние символы \n",
    "data['Cuisine_Style_List'] = data['Cuisine Style'].str.replace(\"[\",'').str.replace(\"]\",'').str.replace(\"'\",\"\").str.replace(\", \",\",\")\n",
    "data['Cuisine_Style_List'] = data['Cuisine_Style_List'].str.split(',')\n",
    "\n",
    "#Определяем кол-во видов кухни для ресторана\n",
    "data['Cuisine_Count'] = data['Cuisine_Style_List'].apply(lambda x: len(x))\n"
   ]
  },
  {
   "cell_type": "code",
   "execution_count": null,
   "metadata": {
    "execution": {
     "iopub.execute_input": "2021-08-03T17:01:42.774494Z",
     "iopub.status.busy": "2021-08-03T17:01:42.774074Z",
     "iopub.status.idle": "2021-08-03T17:01:43.213169Z",
     "shell.execute_reply": "2021-08-03T17:01:43.212165Z",
     "shell.execute_reply.started": "2021-08-03T17:01:42.77444Z"
    }
   },
   "outputs": [],
   "source": [
    "# Заметно, что чем более разнообразна кухня, тем менше рейтинг ресторана. \n",
    "sns.boxplot(x='Cuisine_Count', y='Ranking', data=data)"
   ]
  },
  {
   "cell_type": "code",
   "execution_count": null,
   "metadata": {
    "execution": {
     "iopub.execute_input": "2021-08-03T17:01:43.215365Z",
     "iopub.status.busy": "2021-08-03T17:01:43.214809Z",
     "iopub.status.idle": "2021-08-03T17:01:43.245159Z",
     "shell.execute_reply": "2021-08-03T17:01:43.244536Z",
     "shell.execute_reply.started": "2021-08-03T17:01:43.215303Z"
    }
   },
   "outputs": [],
   "source": [
    "data.head(5)"
   ]
  },
  {
   "cell_type": "code",
   "execution_count": null,
   "metadata": {
    "execution": {
     "iopub.execute_input": "2021-08-03T17:01:43.246452Z",
     "iopub.status.busy": "2021-08-03T17:01:43.246125Z",
     "iopub.status.idle": "2021-08-03T17:01:43.255484Z",
     "shell.execute_reply": "2021-08-03T17:01:43.254787Z",
     "shell.execute_reply.started": "2021-08-03T17:01:43.246406Z"
    }
   },
   "outputs": [],
   "source": [
    "#функция для извлечения дат отзывов\n",
    "def get_dates(value):\n",
    "    pat = re.compile(\"\\d\\d/\\d\\d/\\d\\d\\d\\d\")\n",
    "    review_list = pat.findall(value)\n",
    "    return review_list\n",
    "\n",
    "#функция для определения минимальной даты\n",
    "def get_min_date(value):\n",
    "    #Заполняем 0 для пустых значений по умолчанию, позднее его заменим в признаке\n",
    "    res = 0\n",
    "    if len(value) > 1:\n",
    "        res = min(datetime.strptime(value[0],\"%m/%d/%Y\"), datetime.strptime(value[1],\"%m/%d/%Y\"))\n",
    "    elif len(value) == 1:\n",
    "        res = datetime.strptime(value[0],\"%m/%d/%Y\")\n",
    "    return res\n",
    "\n",
    "#функция для определения максимальной даты\n",
    "def get_max_date(value):\n",
    "    #Заполняем 0 для пустых значений по умолчанию, позднее его заменим в признаке\n",
    "    res = 0\n",
    "    if len(value) > 1:\n",
    "        res = max(datetime.strptime(value[0],\"%m/%d/%Y\"), datetime.strptime(value[1],\"%m/%d/%Y\"))\n",
    "    elif len(value) == 1:\n",
    "        res = datetime.strptime(value[0],\"%m/%d/%Y\")    \n",
    "    return res\n",
    "\n",
    "#функция для извлечения слов из отзывов\n",
    "def get_words(value):\n",
    "    #слова с not\n",
    "    pat=re.compile('[Nn]ot [A-Za-z]+')\n",
    "    review_list_n = pat.findall(value)\n",
    "    for word in review_list_n:\n",
    "        value = value.replace(word,'')\n",
    "    \n",
    "    pat=re.compile('[A-Za-z]+')\n",
    "    review_list = pat.findall(value)\n",
    "    review_list += review_list_n\n",
    "    review_list_cor = []\n",
    "    #переводим все слова в строчные буквы\n",
    "    for word in review_list:\n",
    "        review_list_cor.append(word.lower()) \n",
    "    return review_list_cor"
   ]
  },
  {
   "cell_type": "code",
   "execution_count": null,
   "metadata": {
    "execution": {
     "iopub.execute_input": "2021-08-03T17:01:43.256771Z",
     "iopub.status.busy": "2021-08-03T17:01:43.256403Z",
     "iopub.status.idle": "2021-08-03T17:01:43.314192Z",
     "shell.execute_reply": "2021-08-03T17:01:43.313368Z",
     "shell.execute_reply.started": "2021-08-03T17:01:43.256735Z"
    }
   },
   "outputs": [],
   "source": [
    "data.info()"
   ]
  },
  {
   "cell_type": "code",
   "execution_count": null,
   "metadata": {
    "execution": {
     "iopub.execute_input": "2021-08-03T17:01:43.31554Z",
     "iopub.status.busy": "2021-08-03T17:01:43.315179Z",
     "iopub.status.idle": "2021-08-03T17:01:45.354098Z",
     "shell.execute_reply": "2021-08-03T17:01:45.353428Z",
     "shell.execute_reply.started": "2021-08-03T17:01:43.315503Z"
    }
   },
   "outputs": [],
   "source": [
    "#Собираем слова из отзывов в отдельный признак\n",
    "data['Reviews_Words'] = data['Reviews'].apply(get_words)\n",
    "\n",
    "#определяем даты для отзывов\n",
    "data['Reviews_Dates'] = data['Reviews'].apply(get_dates)\n",
    "#минимальная дата отзыва\n",
    "data['Reviews_Min_Date'] = data['Reviews_Dates'].apply(get_min_date)\n",
    "#максимальная дата отзыва\n",
    "data['Reviews_Max_Date'] = data['Reviews_Dates'].apply(get_max_date)\n",
    "\n",
    "#Определяем минимальную дату в данных и заполняем ей 0-е (пустые) значения \n",
    "tot_min_date = min(data[data['Reviews_Min_Date'] != 0]['Reviews_Min_Date'])\n",
    "data['Reviews_Min_Date'] = data['Reviews_Min_Date'].replace(0, tot_min_date)\n",
    "data['Reviews_Max_Date'] = data['Reviews_Max_Date'].replace(0, tot_min_date)\n",
    "\n",
    "\n",
    "#разница между максимальной и минимальной датой отзыва \n",
    "data['Reviews_Dates_diff'] = data['Reviews_Max_Date'] - data['Reviews_Min_Date']\n",
    "data['Reviews_Dates_diff'] = data['Reviews_Dates_diff'].dt.days\n",
    "#разница между максимальной датой отзыва и последней датой отзыва в данных \n",
    "data['Reviews_Max_Date_diff'] = data['Reviews_Max_Date'].max() - data['Reviews_Max_Date']\n",
    "data['Reviews_Max_Date_diff'] = data['Reviews_Max_Date_diff'].dt.days"
   ]
  },
  {
   "cell_type": "code",
   "execution_count": null,
   "metadata": {
    "execution": {
     "iopub.execute_input": "2021-08-03T17:01:45.355457Z",
     "iopub.status.busy": "2021-08-03T17:01:45.355114Z",
     "iopub.status.idle": "2021-08-03T17:01:45.688742Z",
     "shell.execute_reply": "2021-08-03T17:01:45.687988Z",
     "shell.execute_reply.started": "2021-08-03T17:01:45.35541Z"
    }
   },
   "outputs": [],
   "source": [
    "#Определяем относительный ранг для ресторана внутри города\n",
    "data1 = data.groupby(['City'])['Ranking'].max().to_frame().reset_index()\n",
    "data1.columns = ['City','City_N_Rank']\n",
    "data = data.merge(data1, on = 'City', how = 'left')\n",
    "data['Ranking_rel'] = data['Ranking']/data['City_N_Rank']"
   ]
  },
  {
   "cell_type": "code",
   "execution_count": null,
   "metadata": {
    "execution": {
     "iopub.execute_input": "2021-08-03T17:01:45.68984Z",
     "iopub.status.busy": "2021-08-03T17:01:45.689632Z",
     "iopub.status.idle": "2021-08-03T17:01:45.722575Z",
     "shell.execute_reply": "2021-08-03T17:01:45.721525Z",
     "shell.execute_reply.started": "2021-08-03T17:01:45.689808Z"
    }
   },
   "outputs": [],
   "source": [
    "data.head(5)"
   ]
  },
  {
   "cell_type": "code",
   "execution_count": null,
   "metadata": {
    "execution": {
     "iopub.execute_input": "2021-08-03T17:01:45.724199Z",
     "iopub.status.busy": "2021-08-03T17:01:45.723863Z",
     "iopub.status.idle": "2021-08-03T17:01:45.733244Z",
     "shell.execute_reply": "2021-08-03T17:01:45.73194Z",
     "shell.execute_reply.started": "2021-08-03T17:01:45.724141Z"
    }
   },
   "outputs": [],
   "source": [
    "data.Reviews[:30]"
   ]
  },
  {
   "cell_type": "code",
   "execution_count": null,
   "metadata": {
    "execution": {
     "iopub.execute_input": "2021-08-03T17:01:45.734874Z",
     "iopub.status.busy": "2021-08-03T17:01:45.734644Z",
     "iopub.status.idle": "2021-08-03T17:01:46.003389Z",
     "shell.execute_reply": "2021-08-03T17:01:46.002503Z",
     "shell.execute_reply.started": "2021-08-03T17:01:45.734832Z"
    }
   },
   "outputs": [],
   "source": [
    "#смотрим наиболее часто встречающиеся в отзывах слова\n",
    "data['Reviews_Words'].explode().value_counts()[0:35]"
   ]
  },
  {
   "cell_type": "code",
   "execution_count": null,
   "metadata": {
    "execution": {
     "iopub.execute_input": "2021-08-03T17:01:46.004713Z",
     "iopub.status.busy": "2021-08-03T17:01:46.004463Z",
     "iopub.status.idle": "2021-08-03T17:01:46.008199Z",
     "shell.execute_reply": "2021-08-03T17:01:46.007628Z",
     "shell.execute_reply.started": "2021-08-03T17:01:46.004669Z"
    }
   },
   "outputs": [],
   "source": [
    "#Экспертным методом определяем список слов из часто встречаюшихся, котрые могут влиять на оценку\n",
    "#Как минимум проблема - отсутствие связки not со словами - теряется возомжный смысл\n",
    "key_words = ['good','great','nice','best','excellent','but','delicious', 'friendly', 'lovely', 'amazing', 'tasty', 'little']"
   ]
  },
  {
   "cell_type": "code",
   "execution_count": null,
   "metadata": {
    "execution": {
     "iopub.execute_input": "2021-08-03T17:01:46.009376Z",
     "iopub.status.busy": "2021-08-03T17:01:46.009073Z",
     "iopub.status.idle": "2021-08-03T17:01:46.026799Z",
     "shell.execute_reply": "2021-08-03T17:01:46.02607Z",
     "shell.execute_reply.started": "2021-08-03T17:01:46.009343Z"
    }
   },
   "outputs": [],
   "source": [
    "#функция для определения набора ключевых слов в отзывах с учетом кол-ва повторов\n",
    "def num_key_words(value):\n",
    "    #слова с not\n",
    "    new_list = []\n",
    "    for word in value:\n",
    "        if word in key_words:\n",
    "            new_list.append(word)\n",
    "    return new_list"
   ]
  },
  {
   "cell_type": "code",
   "execution_count": null,
   "metadata": {
    "execution": {
     "iopub.execute_input": "2021-08-03T17:01:46.028171Z",
     "iopub.status.busy": "2021-08-03T17:01:46.027761Z",
     "iopub.status.idle": "2021-08-03T17:01:46.129037Z",
     "shell.execute_reply": "2021-08-03T17:01:46.128262Z",
     "shell.execute_reply.started": "2021-08-03T17:01:46.028133Z"
    }
   },
   "outputs": [],
   "source": [
    "data['key_words_n'] = data['Reviews_Words'].apply(num_key_words)"
   ]
  },
  {
   "cell_type": "code",
   "execution_count": null,
   "metadata": {
    "execution": {
     "iopub.execute_input": "2021-08-03T17:01:46.130786Z",
     "iopub.status.busy": "2021-08-03T17:01:46.130244Z",
     "iopub.status.idle": "2021-08-03T17:01:46.163214Z",
     "shell.execute_reply": "2021-08-03T17:01:46.162318Z",
     "shell.execute_reply.started": "2021-08-03T17:01:46.130729Z"
    }
   },
   "outputs": [],
   "source": [
    "data.head(5)"
   ]
  },
  {
   "cell_type": "code",
   "execution_count": null,
   "metadata": {
    "execution": {
     "iopub.execute_input": "2021-08-03T17:01:46.165063Z",
     "iopub.status.busy": "2021-08-03T17:01:46.164587Z",
     "iopub.status.idle": "2021-08-03T17:01:46.240045Z",
     "shell.execute_reply": "2021-08-03T17:01:46.239287Z",
     "shell.execute_reply.started": "2021-08-03T17:01:46.165009Z"
    }
   },
   "outputs": [],
   "source": [
    "# для One-Hot Encoding в pandas есть готовая функция - get_dummies. Особенно радует параметр dummy_na\n",
    "# было выше в исходном варианте, перенесено для формирования данных с помощью признака City\n",
    "data = pd.get_dummies(data, columns=['City'], dummy_na=True)"
   ]
  },
  {
   "cell_type": "code",
   "execution_count": null,
   "metadata": {
    "execution": {
     "iopub.execute_input": "2021-08-03T17:01:46.241841Z",
     "iopub.status.busy": "2021-08-03T17:01:46.241311Z",
     "iopub.status.idle": "2021-08-03T17:01:46.907578Z",
     "shell.execute_reply": "2021-08-03T17:01:46.906603Z",
     "shell.execute_reply.started": "2021-08-03T17:01:46.241787Z"
    }
   },
   "outputs": [],
   "source": [
    "# Добавляем также dummies признак для типов кухни\n",
    "df1 = data[['Cuisine_Style_List']].copy()\n",
    "df1 = pd.get_dummies(df1['Cuisine_Style_List'].explode(), prefix = 'cuis').sum(level=0)\n",
    "data = pd.concat([data,df1],axis=1)"
   ]
  },
  {
   "cell_type": "code",
   "execution_count": null,
   "metadata": {
    "execution": {
     "iopub.execute_input": "2021-08-03T17:01:46.909233Z",
     "iopub.status.busy": "2021-08-03T17:01:46.908978Z",
     "iopub.status.idle": "2021-08-03T17:01:47.199221Z",
     "shell.execute_reply": "2021-08-03T17:01:47.198083Z",
     "shell.execute_reply.started": "2021-08-03T17:01:46.909193Z"
    }
   },
   "outputs": [],
   "source": [
    "# Добавляем также dummies признак для ключевых слов в отзыве\n",
    "df1 = data[['key_words_n']].copy()\n",
    "df1 = pd.get_dummies(df1['key_words_n'].explode(), prefix = 'w').sum(level=0)\n",
    "data = pd.concat([data,df1],axis=1)"
   ]
  },
  {
   "cell_type": "code",
   "execution_count": null,
   "metadata": {
    "execution": {
     "iopub.execute_input": "2021-08-03T17:01:47.201085Z",
     "iopub.status.busy": "2021-08-03T17:01:47.200669Z",
     "iopub.status.idle": "2021-08-03T17:01:47.318871Z",
     "shell.execute_reply": "2021-08-03T17:01:47.318019Z",
     "shell.execute_reply.started": "2021-08-03T17:01:47.200887Z"
    }
   },
   "outputs": [],
   "source": [
    "data.sample(5)"
   ]
  },
  {
   "cell_type": "markdown",
   "metadata": {},
   "source": [
    "![](https://cs10.pikabu.ru/post_img/2018/09/06/11/1536261023140110012.jpg)"
   ]
  },
  {
   "cell_type": "markdown",
   "metadata": {},
   "source": [
    "# EDA \n",
    "[Exploratory Data Analysis](https://ru.wikipedia.org/wiki/Разведочный_анализ_данных) - Анализ данных\n",
    "На этом этапе мы строим графики, ищем закономерности, аномалии, выбросы или связи между признаками.\n",
    "В общем цель этого этапа понять, что эти данные могут нам дать и как признаки могут быть взаимосвязаны между собой.\n",
    "Понимание изначальных признаков позволит сгенерировать новые, более сильные и, тем самым, сделать нашу модель лучше.\n",
    "![](https://miro.medium.com/max/2598/1*RXdMb7Uk6mGqWqPguHULaQ.png)"
   ]
  },
  {
   "cell_type": "markdown",
   "metadata": {},
   "source": [
    "### Посмотрим распределение признака"
   ]
  },
  {
   "cell_type": "code",
   "execution_count": null,
   "metadata": {
    "execution": {
     "iopub.execute_input": "2021-08-03T17:01:47.320479Z",
     "iopub.status.busy": "2021-08-03T17:01:47.320203Z",
     "iopub.status.idle": "2021-08-03T17:01:47.848953Z",
     "shell.execute_reply": "2021-08-03T17:01:47.847616Z",
     "shell.execute_reply.started": "2021-08-03T17:01:47.320432Z"
    }
   },
   "outputs": [],
   "source": [
    "# распределение в ранкинге\n",
    "plt.rcParams['figure.figsize'] = (12,6) \n",
    "data['Ranking'].hist(bins=100)"
   ]
  },
  {
   "cell_type": "markdown",
   "metadata": {},
   "source": [
    "У нас много ресторанов, которые не дотягивают и до 2500 места в своем городе, а что там по городам?"
   ]
  },
  {
   "cell_type": "code",
   "execution_count": null,
   "metadata": {
    "execution": {
     "iopub.execute_input": "2021-08-03T17:01:47.851509Z",
     "iopub.status.busy": "2021-08-03T17:01:47.850897Z",
     "iopub.status.idle": "2021-08-03T17:01:48.698299Z",
     "shell.execute_reply": "2021-08-03T17:01:48.697213Z",
     "shell.execute_reply.started": "2021-08-03T17:01:47.851218Z"
    }
   },
   "outputs": [],
   "source": [
    "# Построим боксплоты для рейтинга\n",
    "fig, ax = plt.subplots(figsize = (15, 10))\n",
    "sns.boxplot(x = 'City', y = 'Rating',data=df_train)\n",
    "plt.xticks(rotation=45)\n",
    "ax.set_title('Boxplot for City')\n",
    "plt.show()"
   ]
  },
  {
   "cell_type": "code",
   "execution_count": null,
   "metadata": {
    "execution": {
     "iopub.execute_input": "2021-08-03T17:01:48.699886Z",
     "iopub.status.busy": "2021-08-03T17:01:48.699618Z",
     "iopub.status.idle": "2021-08-03T17:01:49.063426Z",
     "shell.execute_reply": "2021-08-03T17:01:49.062334Z",
     "shell.execute_reply.started": "2021-08-03T17:01:48.699838Z"
    }
   },
   "outputs": [],
   "source": [
    "df_train['City'].value_counts(ascending=True).plot(kind='barh')"
   ]
  },
  {
   "cell_type": "markdown",
   "metadata": {},
   "source": [
    "А кто-то говорил, что французы любят поесть=) Посмотрим, как изменится распределение в большом городе:"
   ]
  },
  {
   "cell_type": "code",
   "execution_count": null,
   "metadata": {
    "execution": {
     "iopub.execute_input": "2021-08-03T17:01:49.065042Z",
     "iopub.status.busy": "2021-08-03T17:01:49.064797Z",
     "iopub.status.idle": "2021-08-03T17:01:49.535803Z",
     "shell.execute_reply": "2021-08-03T17:01:49.534762Z",
     "shell.execute_reply.started": "2021-08-03T17:01:49.064999Z"
    }
   },
   "outputs": [],
   "source": [
    "# Распределение в Лондоне\n",
    "df_train['Ranking'][df_train['City'] =='London'].hist(bins=100)"
   ]
  },
  {
   "cell_type": "code",
   "execution_count": null,
   "metadata": {
    "execution": {
     "iopub.execute_input": "2021-08-03T17:01:49.538532Z",
     "iopub.status.busy": "2021-08-03T17:01:49.53776Z",
     "iopub.status.idle": "2021-08-03T17:01:51.879369Z",
     "shell.execute_reply": "2021-08-03T17:01:51.878241Z",
     "shell.execute_reply.started": "2021-08-03T17:01:49.538449Z"
    }
   },
   "outputs": [],
   "source": [
    "# посмотрим на топ 10 городов\n",
    "for x in (df_train['City'].value_counts())[0:10].index:\n",
    "    df_train['Ranking'][df_train['City'] == x].hist(bins=100)\n",
    "plt.show()\n",
    "\n",
    "#Получается, что Ranking имеет нормальное распределение, \n",
    "#просто в больших городах больше ресторанов, из-за мы этого имеем смещение"
   ]
  },
  {
   "cell_type": "markdown",
   "metadata": {},
   "source": [
    "Получается, что Ranking имеет нормальное распределение, просто в больших городах больше ресторанов, из-за мы этого имеем смещение.\n",
    "\n",
    ">Подумайте как из этого можно сделать признак для вашей модели. Я покажу вам пример, как визуализация помогает находить взаимосвязи. А далее действуйте без подсказок =) \n"
   ]
  },
  {
   "cell_type": "markdown",
   "metadata": {},
   "source": [
    "### Посмотрим распределение целевой переменной"
   ]
  },
  {
   "cell_type": "code",
   "execution_count": null,
   "metadata": {
    "execution": {
     "iopub.execute_input": "2021-08-03T17:01:51.881998Z",
     "iopub.status.busy": "2021-08-03T17:01:51.881264Z",
     "iopub.status.idle": "2021-08-03T17:01:52.155741Z",
     "shell.execute_reply": "2021-08-03T17:01:52.154737Z",
     "shell.execute_reply.started": "2021-08-03T17:01:51.881926Z"
    }
   },
   "outputs": [],
   "source": [
    "df_train['Rating'].value_counts(ascending=True).plot(kind='barh')"
   ]
  },
  {
   "cell_type": "markdown",
   "metadata": {},
   "source": [
    "### Посмотрим распределение целевой переменной относительно признака"
   ]
  },
  {
   "cell_type": "code",
   "execution_count": null,
   "metadata": {
    "execution": {
     "iopub.execute_input": "2021-08-03T17:01:52.158186Z",
     "iopub.status.busy": "2021-08-03T17:01:52.15752Z",
     "iopub.status.idle": "2021-08-03T17:01:52.614448Z",
     "shell.execute_reply": "2021-08-03T17:01:52.613206Z",
     "shell.execute_reply.started": "2021-08-03T17:01:52.158118Z"
    }
   },
   "outputs": [],
   "source": [
    "df_train['Ranking'][df_train['Rating'] == 5].hist(bins=100)"
   ]
  },
  {
   "cell_type": "code",
   "execution_count": null,
   "metadata": {
    "execution": {
     "iopub.execute_input": "2021-08-03T17:01:52.616998Z",
     "iopub.status.busy": "2021-08-03T17:01:52.616379Z",
     "iopub.status.idle": "2021-08-03T17:01:53.075391Z",
     "shell.execute_reply": "2021-08-03T17:01:53.073838Z",
     "shell.execute_reply.started": "2021-08-03T17:01:52.616746Z"
    }
   },
   "outputs": [],
   "source": [
    "df_train['Ranking'][df_train['Rating'] < 4].hist(bins=100)"
   ]
  },
  {
   "cell_type": "markdown",
   "metadata": {},
   "source": [
    "### И один из моих любимых - [корреляция признаков](https://ru.wikipedia.org/wiki/Корреляция)\n",
    "На этом графике уже сейчас вы сможете заметить, как признаки связаны между собой и с целевой переменной."
   ]
  },
  {
   "cell_type": "code",
   "execution_count": null,
   "metadata": {
    "execution": {
     "iopub.execute_input": "2021-08-03T17:01:53.078038Z",
     "iopub.status.busy": "2021-08-03T17:01:53.077453Z",
     "iopub.status.idle": "2021-08-03T17:01:58.241185Z",
     "shell.execute_reply": "2021-08-03T17:01:58.237616Z",
     "shell.execute_reply.started": "2021-08-03T17:01:53.077787Z"
    }
   },
   "outputs": [],
   "source": [
    "plt.rcParams['figure.figsize'] = (15,10)\n",
    "sns.heatmap(data.drop(['sample'], axis=1).corr(),)"
   ]
  },
  {
   "cell_type": "code",
   "execution_count": null,
   "metadata": {
    "execution": {
     "iopub.execute_input": "2021-08-03T17:01:58.242717Z",
     "iopub.status.busy": "2021-08-03T17:01:58.242413Z",
     "iopub.status.idle": "2021-08-03T17:02:04.740893Z",
     "shell.execute_reply": "2021-08-03T17:02:04.740221Z",
     "shell.execute_reply.started": "2021-08-03T17:01:58.242673Z"
    }
   },
   "outputs": [],
   "source": [
    "plt.rcParams['figure.figsize'] = (10,60)\n",
    "sns.heatmap(data.query('sample == 1').corr()['Rating'].dropna().to_frame(),cmap=\"YlGnBu\",annot=True)"
   ]
  },
  {
   "cell_type": "markdown",
   "metadata": {},
   "source": [
    "Вообще благодаря визуализации в этом датасете можно узнать много интересных фактов, например:\n",
    "* где больше Пицерий в Мадриде или Лондоне?\n",
    "* в каком городе кухня ресторанов более разнообразна?\n",
    "\n",
    "придумайте свои вопрос и найдите на него ответ в данных)"
   ]
  },
  {
   "cell_type": "markdown",
   "metadata": {},
   "source": [
    "# Data Preprocessing\n",
    "Теперь, для удобства и воспроизводимости кода, завернем всю обработку в одну большую функцию."
   ]
  },
  {
   "cell_type": "code",
   "execution_count": null,
   "metadata": {
    "execution": {
     "iopub.execute_input": "2021-08-03T17:02:04.742255Z",
     "iopub.status.busy": "2021-08-03T17:02:04.741929Z",
     "iopub.status.idle": "2021-08-03T17:02:04.745903Z",
     "shell.execute_reply": "2021-08-03T17:02:04.74501Z",
     "shell.execute_reply.started": "2021-08-03T17:02:04.742219Z"
    }
   },
   "outputs": [],
   "source": [
    "# # на всякий случай, заново подгружаем данные\n",
    "# df_train = pd.read_csv(DATA_DIR+'/main_task.csv')\n",
    "# df_test = pd.read_csv(DATA_DIR+'/kaggle_task.csv')\n",
    "# df_train['sample'] = 1 # помечаем где у нас трейн\n",
    "# df_test['sample'] = 0 # помечаем где у нас тест\n",
    "# df_test['Rating'] = 0 # в тесте у нас нет значения Rating, мы его должны предсказать, по этому пока просто заполняем нулями\n",
    "\n",
    "# data = df_test.append(df_train, sort=False).reset_index(drop=True) # объединяем\n",
    "# data.info()"
   ]
  },
  {
   "cell_type": "code",
   "execution_count": null,
   "metadata": {
    "execution": {
     "iopub.execute_input": "2021-08-03T17:02:04.747456Z",
     "iopub.status.busy": "2021-08-03T17:02:04.747171Z",
     "iopub.status.idle": "2021-08-03T17:02:04.761224Z",
     "shell.execute_reply": "2021-08-03T17:02:04.760283Z",
     "shell.execute_reply.started": "2021-08-03T17:02:04.747393Z"
    }
   },
   "outputs": [],
   "source": [
    "# def preproc_data(df_input):\n",
    "#     '''includes several functions to pre-process the predictor data.'''\n",
    "    \n",
    "#     df_output = df_input.copy()\n",
    "    \n",
    "#     # ################### 1. Предобработка ############################################################## \n",
    "#     # убираем не нужные для модели признаки\n",
    "#     df_output.drop(['Restaurant_id','ID_TA',], axis = 1, inplace=True)\n",
    "    \n",
    "    \n",
    "#     # ################### 2. NAN ############################################################## \n",
    "#     # Далее заполняем пропуски, вы можете попробовать заполнением средним или средним по городу и тд...\n",
    "#     df_output['Number of Reviews'].fillna(0, inplace=True)\n",
    "#     # тут ваш код по обработке NAN\n",
    "#     # ....\n",
    "    \n",
    "    \n",
    "#     # ################### 3. Encoding ############################################################## \n",
    "#     # для One-Hot Encoding в pandas есть готовая функция - get_dummies. Особенно радует параметр dummy_na\n",
    "#     df_output = pd.get_dummies(df_output, columns=[ 'City',], dummy_na=True)\n",
    "#     # тут ваш код не Encoding фитчей\n",
    "#     # ....\n",
    "    \n",
    "    \n",
    "#     # ################### 4. Feature Engineering ####################################################\n",
    "#     # тут ваш код не генерацию новых фитчей\n",
    "#     # ....\n",
    "    \n",
    "    \n",
    "#     # ################### 5. Clean #################################################### \n",
    "#     # убираем признаки которые еще не успели обработать, \n",
    "#     # модель на признаках с dtypes \"object\" обучаться не будет, просто выберим их и удалим\n",
    "#     object_columns = [s for s in df_output.columns if df_output[s].dtypes == 'object']\n",
    "#     df_output.drop(object_columns, axis = 1, inplace=True)\n",
    "    \n",
    "#     return df_output"
   ]
  },
  {
   "cell_type": "markdown",
   "metadata": {},
   "source": [
    ">По хорошему, можно было бы перевести эту большую функцию в класс и разбить на подфункции (согласно ООП). "
   ]
  },
  {
   "cell_type": "markdown",
   "metadata": {},
   "source": [
    "#### Запускаем и проверяем что получилось"
   ]
  },
  {
   "cell_type": "code",
   "execution_count": null,
   "metadata": {
    "execution": {
     "iopub.execute_input": "2021-08-03T17:02:04.763088Z",
     "iopub.status.busy": "2021-08-03T17:02:04.762678Z",
     "iopub.status.idle": "2021-08-03T17:02:04.781503Z",
     "shell.execute_reply": "2021-08-03T17:02:04.7804Z",
     "shell.execute_reply.started": "2021-08-03T17:02:04.763042Z"
    }
   },
   "outputs": [],
   "source": [
    "# df_preproc = preproc_data(data)\n",
    "# df_preproc.sample(10)"
   ]
  },
  {
   "cell_type": "code",
   "execution_count": null,
   "metadata": {
    "execution": {
     "iopub.execute_input": "2021-08-03T17:02:04.783098Z",
     "iopub.status.busy": "2021-08-03T17:02:04.782738Z",
     "iopub.status.idle": "2021-08-03T17:02:04.8039Z",
     "shell.execute_reply": "2021-08-03T17:02:04.802767Z",
     "shell.execute_reply.started": "2021-08-03T17:02:04.783049Z"
    }
   },
   "outputs": [],
   "source": [
    "# df_preproc.info()"
   ]
  },
  {
   "cell_type": "code",
   "execution_count": null,
   "metadata": {
    "execution": {
     "iopub.execute_input": "2021-08-03T17:02:04.805675Z",
     "iopub.status.busy": "2021-08-03T17:02:04.805395Z",
     "iopub.status.idle": "2021-08-03T17:02:04.827762Z",
     "shell.execute_reply": "2021-08-03T17:02:04.826648Z",
     "shell.execute_reply.started": "2021-08-03T17:02:04.805625Z"
    }
   },
   "outputs": [],
   "source": [
    "data.info()"
   ]
  },
  {
   "cell_type": "code",
   "execution_count": null,
   "metadata": {
    "execution": {
     "iopub.execute_input": "2021-08-03T17:02:04.829008Z",
     "iopub.status.busy": "2021-08-03T17:02:04.828772Z",
     "iopub.status.idle": "2021-08-03T17:02:04.848281Z",
     "shell.execute_reply": "2021-08-03T17:02:04.847145Z",
     "shell.execute_reply.started": "2021-08-03T17:02:04.828974Z"
    }
   },
   "outputs": [],
   "source": [
    "data.columns[:30]"
   ]
  },
  {
   "cell_type": "code",
   "execution_count": null,
   "metadata": {
    "execution": {
     "iopub.execute_input": "2021-08-03T17:02:04.850164Z",
     "iopub.status.busy": "2021-08-03T17:02:04.849762Z",
     "iopub.status.idle": "2021-08-03T17:02:04.871108Z",
     "shell.execute_reply": "2021-08-03T17:02:04.869788Z",
     "shell.execute_reply.started": "2021-08-03T17:02:04.850097Z"
    }
   },
   "outputs": [],
   "source": [
    "#Берем данные из предварительной обработки\n",
    "df_preproc = data.drop(['Restaurant_id', 'Cuisine Style', 'Reviews', 'URL_TA', 'ID_TA', 'Cuisine_Style_List','Reviews_Words', \\\n",
    "                        'Reviews_Dates', 'Reviews_Min_Date', 'Reviews_Max_Date','key_words_n'], axis=1)"
   ]
  },
  {
   "cell_type": "code",
   "execution_count": null,
   "metadata": {
    "execution": {
     "iopub.execute_input": "2021-08-03T17:02:04.873056Z",
     "iopub.status.busy": "2021-08-03T17:02:04.87271Z",
     "iopub.status.idle": "2021-08-03T17:02:04.943172Z",
     "shell.execute_reply": "2021-08-03T17:02:04.942408Z",
     "shell.execute_reply.started": "2021-08-03T17:02:04.873Z"
    }
   },
   "outputs": [],
   "source": [
    "# Теперь выделим тестовую часть\n",
    "train_data = df_preproc.query('sample == 1').drop(['sample'], axis=1)\n",
    "test_data = df_preproc.query('sample == 0').drop(['sample'], axis=1)\n",
    "\n",
    "y = train_data.Rating.values            # наш таргет\n",
    "X = train_data.drop(['Rating'], axis=1)"
   ]
  },
  {
   "cell_type": "markdown",
   "metadata": {},
   "source": [
    "**Перед тем как отправлять наши данные на обучение, разделим данные на еще один тест и трейн, для валидации. \n",
    "Это поможет нам проверить, как хорошо наша модель работает, до отправки submissiona на kaggle.**"
   ]
  },
  {
   "cell_type": "code",
   "execution_count": null,
   "metadata": {
    "execution": {
     "iopub.execute_input": "2021-08-03T17:02:04.944769Z",
     "iopub.status.busy": "2021-08-03T17:02:04.944298Z",
     "iopub.status.idle": "2021-08-03T17:02:04.976728Z",
     "shell.execute_reply": "2021-08-03T17:02:04.975902Z",
     "shell.execute_reply.started": "2021-08-03T17:02:04.944726Z"
    }
   },
   "outputs": [],
   "source": [
    "# Воспользуемся специальной функцие train_test_split для разбивки тестовых данных\n",
    "# выделим 20% данных на валидацию (параметр test_size)\n",
    "X_train, X_test, y_train, y_test = train_test_split(X, y, test_size=0.2, random_state=RANDOM_SEED)"
   ]
  },
  {
   "cell_type": "code",
   "execution_count": null,
   "metadata": {
    "execution": {
     "iopub.execute_input": "2021-08-03T17:02:04.978407Z",
     "iopub.status.busy": "2021-08-03T17:02:04.977924Z",
     "iopub.status.idle": "2021-08-03T17:02:04.983964Z",
     "shell.execute_reply": "2021-08-03T17:02:04.983265Z",
     "shell.execute_reply.started": "2021-08-03T17:02:04.978362Z"
    }
   },
   "outputs": [],
   "source": [
    "# проверяем\n",
    "test_data.shape, train_data.shape, X.shape, X_train.shape, X_test.shape"
   ]
  },
  {
   "cell_type": "markdown",
   "metadata": {},
   "source": [
    "# Model \n",
    "Сам ML"
   ]
  },
  {
   "cell_type": "code",
   "execution_count": null,
   "metadata": {
    "execution": {
     "iopub.execute_input": "2021-08-03T17:02:04.98546Z",
     "iopub.status.busy": "2021-08-03T17:02:04.985054Z",
     "iopub.status.idle": "2021-08-03T17:02:05.182255Z",
     "shell.execute_reply": "2021-08-03T17:02:05.18136Z",
     "shell.execute_reply.started": "2021-08-03T17:02:04.985403Z"
    }
   },
   "outputs": [],
   "source": [
    "# Импортируем необходимые библиотеки:\n",
    "from sklearn.ensemble import RandomForestRegressor # инструмент для создания и обучения модели\n",
    "from sklearn import metrics # инструменты для оценки точности модели"
   ]
  },
  {
   "cell_type": "code",
   "execution_count": null,
   "metadata": {
    "execution": {
     "iopub.execute_input": "2021-08-03T17:02:05.184039Z",
     "iopub.status.busy": "2021-08-03T17:02:05.183522Z",
     "iopub.status.idle": "2021-08-03T17:02:05.188284Z",
     "shell.execute_reply": "2021-08-03T17:02:05.187403Z",
     "shell.execute_reply.started": "2021-08-03T17:02:05.183938Z"
    }
   },
   "outputs": [],
   "source": [
    "# Создаём модель (НАСТРОЙКИ НЕ ТРОГАЕМ)\n",
    "model = RandomForestRegressor(n_estimators=100, verbose=1, n_jobs=-1, random_state=RANDOM_SEED)"
   ]
  },
  {
   "cell_type": "code",
   "execution_count": null,
   "metadata": {
    "execution": {
     "iopub.execute_input": "2021-08-03T17:02:05.190213Z",
     "iopub.status.busy": "2021-08-03T17:02:05.189747Z",
     "iopub.status.idle": "2021-08-03T17:02:25.94256Z",
     "shell.execute_reply": "2021-08-03T17:02:25.941747Z",
     "shell.execute_reply.started": "2021-08-03T17:02:05.19004Z"
    }
   },
   "outputs": [],
   "source": [
    "# Обучаем модель на тестовом наборе данных\n",
    "model.fit(X_train, y_train)\n",
    "\n",
    "# Используем обученную модель для предсказания рейтинга ресторанов в тестовой выборке.\n",
    "# Предсказанные значения записываем в переменную y_pred\n",
    "y_pred = model.predict(X_test)"
   ]
  },
  {
   "cell_type": "markdown",
   "metadata": {},
   "source": [
    "заметим, что рейтинг имеет шаг 0.5. Модель предсказывает рейтинг без учёта этой детали.\n",
    "Если вручную округлить результаты предсказания, то их качество улучшится."
   ]
  },
  {
   "cell_type": "code",
   "execution_count": null,
   "metadata": {
    "execution": {
     "iopub.execute_input": "2021-08-03T17:02:25.943748Z",
     "iopub.status.busy": "2021-08-03T17:02:25.943519Z",
     "iopub.status.idle": "2021-08-03T17:02:25.950349Z",
     "shell.execute_reply": "2021-08-03T17:02:25.949549Z",
     "shell.execute_reply.started": "2021-08-03T17:02:25.943712Z"
    }
   },
   "outputs": [],
   "source": [
    "y_pred_round = np.round(y_pred * 2)/2\n",
    "display(y_pred_round)"
   ]
  },
  {
   "cell_type": "code",
   "execution_count": null,
   "metadata": {
    "execution": {
     "iopub.execute_input": "2021-08-03T17:02:25.952163Z",
     "iopub.status.busy": "2021-08-03T17:02:25.951744Z",
     "iopub.status.idle": "2021-08-03T17:02:25.964261Z",
     "shell.execute_reply": "2021-08-03T17:02:25.963565Z",
     "shell.execute_reply.started": "2021-08-03T17:02:25.952114Z"
    }
   },
   "outputs": [],
   "source": [
    "# Сравниваем предсказанные значения (y_pred) с реальными (y_test), и смотрим насколько они в среднем отличаются\n",
    "# Метрика называется Mean Absolute Error (MAE) и показывает среднее отклонение предсказанных значений от фактических.\n",
    "print('MAE:', metrics.mean_absolute_error(y_test, y_pred))\n",
    "print('MAE considering round:', metrics.mean_absolute_error(y_test, y_pred_round))"
   ]
  },
  {
   "cell_type": "code",
   "execution_count": null,
   "metadata": {
    "execution": {
     "iopub.execute_input": "2021-08-03T17:02:25.965544Z",
     "iopub.status.busy": "2021-08-03T17:02:25.965199Z",
     "iopub.status.idle": "2021-08-03T17:02:26.404633Z",
     "shell.execute_reply": "2021-08-03T17:02:26.403635Z",
     "shell.execute_reply.started": "2021-08-03T17:02:25.965507Z"
    }
   },
   "outputs": [],
   "source": [
    "# в RandomForestRegressor есть возможность вывести самые важные признаки для модели\n",
    "plt.rcParams['figure.figsize'] = (10,10)\n",
    "feat_importances = pd.Series(model.feature_importances_, index=X.columns)\n",
    "feat_importances.nlargest(15).plot(kind='barh')"
   ]
  },
  {
   "cell_type": "code",
   "execution_count": null,
   "metadata": {
    "execution": {
     "iopub.execute_input": "2021-08-03T17:02:26.406693Z",
     "iopub.status.busy": "2021-08-03T17:02:26.406143Z",
     "iopub.status.idle": "2021-08-03T17:02:27.774394Z",
     "shell.execute_reply": "2021-08-03T17:02:27.773304Z",
     "shell.execute_reply.started": "2021-08-03T17:02:26.406635Z"
    }
   },
   "outputs": [],
   "source": [
    "# Проверяем корреляцию важных переменных\n",
    "df_temp = data.loc[data['sample'] == 1, list(feat_importances.nlargest(15).index[0:15])]\n",
    "plt.rcParams['figure.figsize'] = (12,6)\n",
    "ax = sns.heatmap(df_temp.corr(), annot=True, fmt='.2g')\n",
    "i, k = ax.get_ylim()\n",
    "ax.set_ylim(i+0.5, k-0.5)"
   ]
  },
  {
   "cell_type": "code",
   "execution_count": null,
   "metadata": {
    "execution": {
     "iopub.execute_input": "2021-08-03T17:02:27.776493Z",
     "iopub.status.busy": "2021-08-03T17:02:27.775965Z",
     "iopub.status.idle": "2021-08-03T17:02:27.797264Z",
     "shell.execute_reply": "2021-08-03T17:02:27.796273Z",
     "shell.execute_reply.started": "2021-08-03T17:02:27.776435Z"
    }
   },
   "outputs": [],
   "source": [
    "list_temp = list(feat_importances.nlargest(15).index[[9,10]])\n",
    "display(df_temp[list_temp].corr())"
   ]
  },
  {
   "cell_type": "markdown",
   "metadata": {},
   "source": [
    "# Submission\n",
    "Если все устраевает - готовим Submission на кагл"
   ]
  },
  {
   "cell_type": "code",
   "execution_count": null,
   "metadata": {
    "execution": {
     "iopub.execute_input": "2021-08-03T17:02:27.799018Z",
     "iopub.status.busy": "2021-08-03T17:02:27.798653Z",
     "iopub.status.idle": "2021-08-03T17:02:27.803481Z",
     "shell.execute_reply": "2021-08-03T17:02:27.802772Z",
     "shell.execute_reply.started": "2021-08-03T17:02:27.798981Z"
    }
   },
   "outputs": [],
   "source": [
    "test_data.shape"
   ]
  },
  {
   "cell_type": "code",
   "execution_count": null,
   "metadata": {
    "execution": {
     "iopub.execute_input": "2021-08-03T17:02:27.804897Z",
     "iopub.status.busy": "2021-08-03T17:02:27.804544Z",
     "iopub.status.idle": "2021-08-03T17:02:27.908376Z",
     "shell.execute_reply": "2021-08-03T17:02:27.907412Z",
     "shell.execute_reply.started": "2021-08-03T17:02:27.804863Z"
    }
   },
   "outputs": [],
   "source": [
    "test_data.sample(10)"
   ]
  },
  {
   "cell_type": "code",
   "execution_count": null,
   "metadata": {
    "execution": {
     "iopub.execute_input": "2021-08-03T17:02:27.909851Z",
     "iopub.status.busy": "2021-08-03T17:02:27.909582Z",
     "iopub.status.idle": "2021-08-03T17:02:27.91712Z",
     "shell.execute_reply": "2021-08-03T17:02:27.916094Z",
     "shell.execute_reply.started": "2021-08-03T17:02:27.909803Z"
    }
   },
   "outputs": [],
   "source": [
    "test_data = test_data.drop(['Rating'], axis=1)"
   ]
  },
  {
   "cell_type": "code",
   "execution_count": null,
   "metadata": {
    "execution": {
     "iopub.execute_input": "2021-08-03T17:02:27.919124Z",
     "iopub.status.busy": "2021-08-03T17:02:27.918843Z",
     "iopub.status.idle": "2021-08-03T17:02:27.937388Z",
     "shell.execute_reply": "2021-08-03T17:02:27.936795Z",
     "shell.execute_reply.started": "2021-08-03T17:02:27.919074Z"
    }
   },
   "outputs": [],
   "source": [
    "sample_submission"
   ]
  },
  {
   "cell_type": "code",
   "execution_count": null,
   "metadata": {
    "execution": {
     "iopub.execute_input": "2021-08-03T17:02:27.93916Z",
     "iopub.status.busy": "2021-08-03T17:02:27.938648Z",
     "iopub.status.idle": "2021-08-03T17:02:28.15885Z",
     "shell.execute_reply": "2021-08-03T17:02:28.15803Z",
     "shell.execute_reply.started": "2021-08-03T17:02:27.939102Z"
    }
   },
   "outputs": [],
   "source": [
    "predict_submission = model.predict(test_data)"
   ]
  },
  {
   "cell_type": "code",
   "execution_count": null,
   "metadata": {
    "execution": {
     "iopub.execute_input": "2021-08-03T17:02:28.16007Z",
     "iopub.status.busy": "2021-08-03T17:02:28.159842Z",
     "iopub.status.idle": "2021-08-03T17:02:28.167062Z",
     "shell.execute_reply": "2021-08-03T17:02:28.165786Z",
     "shell.execute_reply.started": "2021-08-03T17:02:28.160038Z"
    }
   },
   "outputs": [],
   "source": [
    "predict_submission"
   ]
  },
  {
   "cell_type": "code",
   "execution_count": null,
   "metadata": {
    "execution": {
     "iopub.execute_input": "2021-08-03T17:02:28.169278Z",
     "iopub.status.busy": "2021-08-03T17:02:28.168909Z",
     "iopub.status.idle": "2021-08-03T17:02:28.181954Z",
     "shell.execute_reply": "2021-08-03T17:02:28.180976Z",
     "shell.execute_reply.started": "2021-08-03T17:02:28.169201Z"
    }
   },
   "outputs": [],
   "source": [
    "#округляем до 0,5 как в фактических оценках\n",
    "predict_submission =  np.round(predict_submission * 2)/2 # (predict_submission * 2).round(0) / 2\n",
    "predict_submission"
   ]
  },
  {
   "cell_type": "code",
   "execution_count": null,
   "metadata": {
    "execution": {
     "iopub.execute_input": "2021-08-03T17:02:28.183392Z",
     "iopub.status.busy": "2021-08-03T17:02:28.183047Z",
     "iopub.status.idle": "2021-08-03T17:02:28.730397Z",
     "shell.execute_reply": "2021-08-03T17:02:28.729301Z",
     "shell.execute_reply.started": "2021-08-03T17:02:28.183347Z"
    }
   },
   "outputs": [],
   "source": [
    "sample_submission['Rating'] = predict_submission\n",
    "sample_submission.to_csv('submission.csv', index=False)\n",
    "sample_submission.head(10)"
   ]
  },
  {
   "cell_type": "markdown",
   "metadata": {},
   "source": [
    "# What's next?\n",
    "Или что делать, чтоб улучшить результат:\n",
    "* Обработать оставшиеся признаки в понятный для машины формат\n",
    "* Посмотреть, что еще можно извлечь из признаков\n",
    "* Сгенерировать новые признаки\n",
    "* Подгрузить дополнительные данные, например: по населению или благосостоянию городов\n",
    "* Подобрать состав признаков\n",
    "\n",
    "В общем, процесс творческий и весьма увлекательный! Удачи в соревновании!\n"
   ]
  },
  {
   "cell_type": "code",
   "execution_count": null,
   "metadata": {},
   "outputs": [],
   "source": []
  }
 ],
 "metadata": {
  "kernelspec": {
   "display_name": "Python 3",
   "language": "python",
   "name": "python3"
  },
  "language_info": {
   "codemirror_mode": {
    "name": "ipython",
    "version": 3
   },
   "file_extension": ".py",
   "mimetype": "text/x-python",
   "name": "python",
   "nbconvert_exporter": "python",
   "pygments_lexer": "ipython3",
   "version": "3.6.4"
  }
 },
 "nbformat": 4,
 "nbformat_minor": 4
}
