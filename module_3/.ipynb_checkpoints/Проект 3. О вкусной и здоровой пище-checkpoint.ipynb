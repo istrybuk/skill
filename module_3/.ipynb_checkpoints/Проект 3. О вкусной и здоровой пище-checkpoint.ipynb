{
 "cells": [
  {
   "cell_type": "markdown",
   "metadata": {},
   "source": [
    "![](https://www.pata.org/wp-content/uploads/2014/09/TripAdvisor_Logo-300x119.png)\n",
    "# Predict TripAdvisor Rating\n",
    "## В этом соревновании нам предстоит предсказать рейтинг ресторана в TripAdvisor\n",
    "**По ходу задачи:**\n",
    "* Прокачаем работу с pandas\n",
    "* Научимся работать с Kaggle Notebooks\n",
    "* Поймем как делать предобработку различных данных\n",
    "* Научимся работать с пропущенными данными (Nan)\n",
    "* Познакомимся с различными видами кодирования признаков\n",
    "* Немного попробуем [Feature Engineering](https://ru.wikipedia.org/wiki/Конструирование_признаков) (генерировать новые признаки)\n",
    "* И совсем немного затронем ML\n",
    "* И многое другое...   \n",
    "\n",
    "\n",
    "\n",
    "### И самое важное, все это вы сможете сделать самостоятельно!\n",
    "\n",
    "*Этот Ноутбук являетсся Примером/Шаблоном к этому соревнованию (Baseline) и не служит готовым решением!*   \n",
    "Вы можете использовать его как основу для построения своего решения.\n",
    "\n",
    "> что такое baseline решение, зачем оно нужно и почему предоставлять baseline к соревнованию стало важным стандартом на kaggle и других площадках.   \n",
    "**baseline** создается больше как шаблон, где можно посмотреть как происходит обращение с входящими данными и что нужно получить на выходе. При этом МЛ начинка может быть достаточно простой, просто для примера. Это помогает быстрее приступить к самому МЛ, а не тратить ценное время на чисто инженерные задачи. \n",
    "Также baseline являеться хорошей опорной точкой по метрике. Если твое решение хуже baseline - ты явно делаешь что-то не то и стоит попробовать другой путь) \n",
    "\n",
    "В контексте нашего соревнования baseline идет с небольшими примерами того, что можно делать с данными, и с инструкцией, что делать дальше, чтобы улучшить результат.  Вообще готовым решением это сложно назвать, так как используются всего 2 самых простых признака (а остальные исключаются)."
   ]
  },
  {
   "cell_type": "markdown",
   "metadata": {},
   "source": [
    "### Итоговое задание Стрибук Иван (DSPR-37)\n",
    "### по Проекту 3. О вкусной и здоровой пище \n",
    "####  Юнит 3. Введение в машинное обучение (отредактирован 26.07.2021)\n",
    "---"
   ]
  },
  {
   "cell_type": "markdown",
   "metadata": {},
   "source": [
    "# import"
   ]
  },
  {
   "cell_type": "code",
   "execution_count": 7,
   "metadata": {
    "_cell_guid": "b1076dfc-b9ad-4769-8c92-a6c4dae69d19",
    "_uuid": "8f2839f25d086af736a60e9eeb907d3b93b6e0e5",
    "execution": {
     "iopub.execute_input": "2021-07-27T07:45:36.880378Z",
     "iopub.status.busy": "2021-07-27T07:45:36.879996Z",
     "iopub.status.idle": "2021-07-27T07:45:36.897624Z",
     "shell.execute_reply": "2021-07-27T07:45:36.896430Z",
     "shell.execute_reply.started": "2021-07-27T07:45:36.880307Z"
    }
   },
   "outputs": [],
   "source": [
    "# This Python 3 environment comes with many helpful analytics libraries installed\n",
    "# It is defined by the kaggle/python docker image: https://github.com/kaggle/docker-python\n",
    "# For example, here's several helpful packages to load in\n",
    "\n",
    "import os\n",
    "from sklearn.model_selection import train_test_split\n",
    "import numpy as np  # linear algebra\n",
    "import pandas as pd  # data processing, CSV file I/O (e.g. pd.read_csv)\n",
    "\n",
    "import matplotlib.pyplot as plt\n",
    "import seaborn as sns\n",
    "%matplotlib inline\n",
    "\n",
    "# Загружаем специальный удобный инструмент для разделения датасета:\n",
    "\n",
    "# Input data files are available in the \"../input/\" directory.\n",
    "# For example, running this (by clicking run or pressing Shift+Enter) will list all files under the input directory\n",
    "\n",
    "for dirname, _, filenames in os.walk('/kaggle/input'):\n",
    "    for filename in filenames:\n",
    "        print(os.path.join(dirname, filename))\n",
    "\n",
    "# Any results you write to the current directory are saved as output."
   ]
  },
  {
   "cell_type": "code",
   "execution_count": 13,
   "metadata": {
    "execution": {
     "iopub.execute_input": "2021-07-27T07:45:36.945739Z",
     "iopub.status.busy": "2021-07-27T07:45:36.945423Z",
     "iopub.status.idle": "2021-07-27T07:45:36.949695Z",
     "shell.execute_reply": "2021-07-27T07:45:36.949006Z",
     "shell.execute_reply.started": "2021-07-27T07:45:36.945691Z"
    }
   },
   "outputs": [],
   "source": [
    "from datetime import datetime, timedelta\n",
    "import re"
   ]
  },
  {
   "cell_type": "code",
   "execution_count": 14,
   "metadata": {
    "execution": {
     "iopub.execute_input": "2021-07-27T07:45:36.951975Z",
     "iopub.status.busy": "2021-07-27T07:45:36.951510Z",
     "iopub.status.idle": "2021-07-27T07:45:36.963880Z",
     "shell.execute_reply": "2021-07-27T07:45:36.962652Z",
     "shell.execute_reply.started": "2021-07-27T07:45:36.951907Z"
    }
   },
   "outputs": [],
   "source": [
    "# всегда фиксируйте RANDOM_SEED, чтобы ваши эксперименты были воспроизводимы!\n",
    "RANDOM_SEED = 42"
   ]
  },
  {
   "cell_type": "code",
   "execution_count": 15,
   "metadata": {
    "execution": {
     "iopub.execute_input": "2021-07-27T07:45:36.966195Z",
     "iopub.status.busy": "2021-07-27T07:45:36.965732Z",
     "iopub.status.idle": "2021-07-27T07:45:39.420155Z",
     "shell.execute_reply": "2021-07-27T07:45:39.418676Z",
     "shell.execute_reply.started": "2021-07-27T07:45:36.965984Z"
    }
   },
   "outputs": [],
   "source": [
    "# зафиксируем версию пакетов, чтобы эксперименты были воспроизводимы:\n",
    "!pip freeze > requirements.txt"
   ]
  },
  {
   "cell_type": "markdown",
   "metadata": {},
   "source": [
    "# DATA"
   ]
  },
  {
   "cell_type": "code",
   "execution_count": 16,
   "metadata": {
    "_cell_guid": "79c7e3d0-c299-4dcb-8224-4455121ee9b0",
    "_uuid": "d629ff2d2480ee46fbb7e2d37f6b5fab8052498a",
    "execution": {
     "iopub.execute_input": "2021-07-27T07:45:39.422769Z",
     "iopub.status.busy": "2021-07-27T07:45:39.422484Z",
     "iopub.status.idle": "2021-07-27T07:45:39.683650Z",
     "shell.execute_reply": "2021-07-27T07:45:39.682529Z",
     "shell.execute_reply.started": "2021-07-27T07:45:39.422722Z"
    }
   },
   "outputs": [
    {
     "ename": "FileNotFoundError",
     "evalue": "[Errno 2] No such file or directory: '/kaggle/input/sf-dst-restaurant-rating//main_task.csv'",
     "output_type": "error",
     "traceback": [
      "\u001b[1;31m---------------------------------------------------------------------------\u001b[0m",
      "\u001b[1;31mFileNotFoundError\u001b[0m                         Traceback (most recent call last)",
      "\u001b[1;32m<ipython-input-16-649f2db1a0c5>\u001b[0m in \u001b[0;36m<module>\u001b[1;34m\u001b[0m\n\u001b[0;32m      1\u001b[0m \u001b[0mDATA_DIR\u001b[0m \u001b[1;33m=\u001b[0m \u001b[1;34m'/kaggle/input/sf-dst-restaurant-rating/'\u001b[0m\u001b[1;33m\u001b[0m\u001b[1;33m\u001b[0m\u001b[0m\n\u001b[1;32m----> 2\u001b[1;33m \u001b[0mdf_train\u001b[0m \u001b[1;33m=\u001b[0m \u001b[0mpd\u001b[0m\u001b[1;33m.\u001b[0m\u001b[0mread_csv\u001b[0m\u001b[1;33m(\u001b[0m\u001b[0mDATA_DIR\u001b[0m\u001b[1;33m+\u001b[0m\u001b[1;34m'/main_task.csv'\u001b[0m\u001b[1;33m)\u001b[0m\u001b[1;33m\u001b[0m\u001b[1;33m\u001b[0m\u001b[0m\n\u001b[0m\u001b[0;32m      3\u001b[0m \u001b[0mdf_test\u001b[0m \u001b[1;33m=\u001b[0m \u001b[0mpd\u001b[0m\u001b[1;33m.\u001b[0m\u001b[0mread_csv\u001b[0m\u001b[1;33m(\u001b[0m\u001b[0mDATA_DIR\u001b[0m\u001b[1;33m+\u001b[0m\u001b[1;34m'kaggle_task.csv'\u001b[0m\u001b[1;33m)\u001b[0m\u001b[1;33m\u001b[0m\u001b[1;33m\u001b[0m\u001b[0m\n\u001b[0;32m      4\u001b[0m \u001b[0msample_submission\u001b[0m \u001b[1;33m=\u001b[0m \u001b[0mpd\u001b[0m\u001b[1;33m.\u001b[0m\u001b[0mread_csv\u001b[0m\u001b[1;33m(\u001b[0m\u001b[0mDATA_DIR\u001b[0m\u001b[1;33m+\u001b[0m\u001b[1;34m'/sample_submission.csv'\u001b[0m\u001b[1;33m)\u001b[0m\u001b[1;33m\u001b[0m\u001b[1;33m\u001b[0m\u001b[0m\n\u001b[0;32m      5\u001b[0m \u001b[1;33m\u001b[0m\u001b[0m\n",
      "\u001b[1;32m~\\anaconda3\\lib\\site-packages\\pandas\\io\\parsers.py\u001b[0m in \u001b[0;36mread_csv\u001b[1;34m(filepath_or_buffer, sep, delimiter, header, names, index_col, usecols, squeeze, prefix, mangle_dupe_cols, dtype, engine, converters, true_values, false_values, skipinitialspace, skiprows, skipfooter, nrows, na_values, keep_default_na, na_filter, verbose, skip_blank_lines, parse_dates, infer_datetime_format, keep_date_col, date_parser, dayfirst, cache_dates, iterator, chunksize, compression, thousands, decimal, lineterminator, quotechar, quoting, doublequote, escapechar, comment, encoding, dialect, error_bad_lines, warn_bad_lines, delim_whitespace, low_memory, memory_map, float_precision)\u001b[0m\n\u001b[0;32m    684\u001b[0m     )\n\u001b[0;32m    685\u001b[0m \u001b[1;33m\u001b[0m\u001b[0m\n\u001b[1;32m--> 686\u001b[1;33m     \u001b[1;32mreturn\u001b[0m \u001b[0m_read\u001b[0m\u001b[1;33m(\u001b[0m\u001b[0mfilepath_or_buffer\u001b[0m\u001b[1;33m,\u001b[0m \u001b[0mkwds\u001b[0m\u001b[1;33m)\u001b[0m\u001b[1;33m\u001b[0m\u001b[1;33m\u001b[0m\u001b[0m\n\u001b[0m\u001b[0;32m    687\u001b[0m \u001b[1;33m\u001b[0m\u001b[0m\n\u001b[0;32m    688\u001b[0m \u001b[1;33m\u001b[0m\u001b[0m\n",
      "\u001b[1;32m~\\anaconda3\\lib\\site-packages\\pandas\\io\\parsers.py\u001b[0m in \u001b[0;36m_read\u001b[1;34m(filepath_or_buffer, kwds)\u001b[0m\n\u001b[0;32m    450\u001b[0m \u001b[1;33m\u001b[0m\u001b[0m\n\u001b[0;32m    451\u001b[0m     \u001b[1;31m# Create the parser.\u001b[0m\u001b[1;33m\u001b[0m\u001b[1;33m\u001b[0m\u001b[1;33m\u001b[0m\u001b[0m\n\u001b[1;32m--> 452\u001b[1;33m     \u001b[0mparser\u001b[0m \u001b[1;33m=\u001b[0m \u001b[0mTextFileReader\u001b[0m\u001b[1;33m(\u001b[0m\u001b[0mfp_or_buf\u001b[0m\u001b[1;33m,\u001b[0m \u001b[1;33m**\u001b[0m\u001b[0mkwds\u001b[0m\u001b[1;33m)\u001b[0m\u001b[1;33m\u001b[0m\u001b[1;33m\u001b[0m\u001b[0m\n\u001b[0m\u001b[0;32m    453\u001b[0m \u001b[1;33m\u001b[0m\u001b[0m\n\u001b[0;32m    454\u001b[0m     \u001b[1;32mif\u001b[0m \u001b[0mchunksize\u001b[0m \u001b[1;32mor\u001b[0m \u001b[0miterator\u001b[0m\u001b[1;33m:\u001b[0m\u001b[1;33m\u001b[0m\u001b[1;33m\u001b[0m\u001b[0m\n",
      "\u001b[1;32m~\\anaconda3\\lib\\site-packages\\pandas\\io\\parsers.py\u001b[0m in \u001b[0;36m__init__\u001b[1;34m(self, f, engine, **kwds)\u001b[0m\n\u001b[0;32m    944\u001b[0m             \u001b[0mself\u001b[0m\u001b[1;33m.\u001b[0m\u001b[0moptions\u001b[0m\u001b[1;33m[\u001b[0m\u001b[1;34m\"has_index_names\"\u001b[0m\u001b[1;33m]\u001b[0m \u001b[1;33m=\u001b[0m \u001b[0mkwds\u001b[0m\u001b[1;33m[\u001b[0m\u001b[1;34m\"has_index_names\"\u001b[0m\u001b[1;33m]\u001b[0m\u001b[1;33m\u001b[0m\u001b[1;33m\u001b[0m\u001b[0m\n\u001b[0;32m    945\u001b[0m \u001b[1;33m\u001b[0m\u001b[0m\n\u001b[1;32m--> 946\u001b[1;33m         \u001b[0mself\u001b[0m\u001b[1;33m.\u001b[0m\u001b[0m_make_engine\u001b[0m\u001b[1;33m(\u001b[0m\u001b[0mself\u001b[0m\u001b[1;33m.\u001b[0m\u001b[0mengine\u001b[0m\u001b[1;33m)\u001b[0m\u001b[1;33m\u001b[0m\u001b[1;33m\u001b[0m\u001b[0m\n\u001b[0m\u001b[0;32m    947\u001b[0m \u001b[1;33m\u001b[0m\u001b[0m\n\u001b[0;32m    948\u001b[0m     \u001b[1;32mdef\u001b[0m \u001b[0mclose\u001b[0m\u001b[1;33m(\u001b[0m\u001b[0mself\u001b[0m\u001b[1;33m)\u001b[0m\u001b[1;33m:\u001b[0m\u001b[1;33m\u001b[0m\u001b[1;33m\u001b[0m\u001b[0m\n",
      "\u001b[1;32m~\\anaconda3\\lib\\site-packages\\pandas\\io\\parsers.py\u001b[0m in \u001b[0;36m_make_engine\u001b[1;34m(self, engine)\u001b[0m\n\u001b[0;32m   1176\u001b[0m     \u001b[1;32mdef\u001b[0m \u001b[0m_make_engine\u001b[0m\u001b[1;33m(\u001b[0m\u001b[0mself\u001b[0m\u001b[1;33m,\u001b[0m \u001b[0mengine\u001b[0m\u001b[1;33m=\u001b[0m\u001b[1;34m\"c\"\u001b[0m\u001b[1;33m)\u001b[0m\u001b[1;33m:\u001b[0m\u001b[1;33m\u001b[0m\u001b[1;33m\u001b[0m\u001b[0m\n\u001b[0;32m   1177\u001b[0m         \u001b[1;32mif\u001b[0m \u001b[0mengine\u001b[0m \u001b[1;33m==\u001b[0m \u001b[1;34m\"c\"\u001b[0m\u001b[1;33m:\u001b[0m\u001b[1;33m\u001b[0m\u001b[1;33m\u001b[0m\u001b[0m\n\u001b[1;32m-> 1178\u001b[1;33m             \u001b[0mself\u001b[0m\u001b[1;33m.\u001b[0m\u001b[0m_engine\u001b[0m \u001b[1;33m=\u001b[0m \u001b[0mCParserWrapper\u001b[0m\u001b[1;33m(\u001b[0m\u001b[0mself\u001b[0m\u001b[1;33m.\u001b[0m\u001b[0mf\u001b[0m\u001b[1;33m,\u001b[0m \u001b[1;33m**\u001b[0m\u001b[0mself\u001b[0m\u001b[1;33m.\u001b[0m\u001b[0moptions\u001b[0m\u001b[1;33m)\u001b[0m\u001b[1;33m\u001b[0m\u001b[1;33m\u001b[0m\u001b[0m\n\u001b[0m\u001b[0;32m   1179\u001b[0m         \u001b[1;32melse\u001b[0m\u001b[1;33m:\u001b[0m\u001b[1;33m\u001b[0m\u001b[1;33m\u001b[0m\u001b[0m\n\u001b[0;32m   1180\u001b[0m             \u001b[1;32mif\u001b[0m \u001b[0mengine\u001b[0m \u001b[1;33m==\u001b[0m \u001b[1;34m\"python\"\u001b[0m\u001b[1;33m:\u001b[0m\u001b[1;33m\u001b[0m\u001b[1;33m\u001b[0m\u001b[0m\n",
      "\u001b[1;32m~\\anaconda3\\lib\\site-packages\\pandas\\io\\parsers.py\u001b[0m in \u001b[0;36m__init__\u001b[1;34m(self, src, **kwds)\u001b[0m\n\u001b[0;32m   2006\u001b[0m         \u001b[0mkwds\u001b[0m\u001b[1;33m[\u001b[0m\u001b[1;34m\"usecols\"\u001b[0m\u001b[1;33m]\u001b[0m \u001b[1;33m=\u001b[0m \u001b[0mself\u001b[0m\u001b[1;33m.\u001b[0m\u001b[0musecols\u001b[0m\u001b[1;33m\u001b[0m\u001b[1;33m\u001b[0m\u001b[0m\n\u001b[0;32m   2007\u001b[0m \u001b[1;33m\u001b[0m\u001b[0m\n\u001b[1;32m-> 2008\u001b[1;33m         \u001b[0mself\u001b[0m\u001b[1;33m.\u001b[0m\u001b[0m_reader\u001b[0m \u001b[1;33m=\u001b[0m \u001b[0mparsers\u001b[0m\u001b[1;33m.\u001b[0m\u001b[0mTextReader\u001b[0m\u001b[1;33m(\u001b[0m\u001b[0msrc\u001b[0m\u001b[1;33m,\u001b[0m \u001b[1;33m**\u001b[0m\u001b[0mkwds\u001b[0m\u001b[1;33m)\u001b[0m\u001b[1;33m\u001b[0m\u001b[1;33m\u001b[0m\u001b[0m\n\u001b[0m\u001b[0;32m   2009\u001b[0m         \u001b[0mself\u001b[0m\u001b[1;33m.\u001b[0m\u001b[0munnamed_cols\u001b[0m \u001b[1;33m=\u001b[0m \u001b[0mself\u001b[0m\u001b[1;33m.\u001b[0m\u001b[0m_reader\u001b[0m\u001b[1;33m.\u001b[0m\u001b[0munnamed_cols\u001b[0m\u001b[1;33m\u001b[0m\u001b[1;33m\u001b[0m\u001b[0m\n\u001b[0;32m   2010\u001b[0m \u001b[1;33m\u001b[0m\u001b[0m\n",
      "\u001b[1;32mpandas\\_libs\\parsers.pyx\u001b[0m in \u001b[0;36mpandas._libs.parsers.TextReader.__cinit__\u001b[1;34m()\u001b[0m\n",
      "\u001b[1;32mpandas\\_libs\\parsers.pyx\u001b[0m in \u001b[0;36mpandas._libs.parsers.TextReader._setup_parser_source\u001b[1;34m()\u001b[0m\n",
      "\u001b[1;31mFileNotFoundError\u001b[0m: [Errno 2] No such file or directory: '/kaggle/input/sf-dst-restaurant-rating//main_task.csv'"
     ]
    }
   ],
   "source": [
    "DATA_DIR = '/kaggle/input/sf-dst-restaurant-rating/'\n",
    "df_train = pd.read_csv(DATA_DIR+'/main_task.csv')\n",
    "df_test = pd.read_csv(DATA_DIR+'kaggle_task.csv')\n",
    "sample_submission = pd.read_csv(DATA_DIR+'/sample_submission.csv')\n",
    "\n",
    "pd.set_option('display.max_columns', 200)  # смотреть удобно таблицы"
   ]
  },
  {
   "cell_type": "code",
   "execution_count": null,
   "metadata": {
    "execution": {
     "iopub.execute_input": "2021-07-27T07:45:39.685627Z",
     "iopub.status.busy": "2021-07-27T07:45:39.685349Z",
     "iopub.status.idle": "2021-07-27T07:45:39.726749Z",
     "shell.execute_reply": "2021-07-27T07:45:39.725372Z",
     "shell.execute_reply.started": "2021-07-27T07:45:39.685583Z"
    }
   },
   "outputs": [],
   "source": [
    "df_train.info()"
   ]
  },
  {
   "cell_type": "code",
   "execution_count": null,
   "metadata": {
    "execution": {
     "iopub.execute_input": "2021-07-27T07:45:39.728801Z",
     "iopub.status.busy": "2021-07-27T07:45:39.728413Z",
     "iopub.status.idle": "2021-07-27T07:45:39.754320Z",
     "shell.execute_reply": "2021-07-27T07:45:39.753136Z",
     "shell.execute_reply.started": "2021-07-27T07:45:39.728732Z"
    }
   },
   "outputs": [],
   "source": [
    "df_train.head(5)"
   ]
  },
  {
   "cell_type": "code",
   "execution_count": null,
   "metadata": {
    "execution": {
     "iopub.execute_input": "2021-07-27T07:45:39.758399Z",
     "iopub.status.busy": "2021-07-27T07:45:39.758102Z",
     "iopub.status.idle": "2021-07-27T07:45:39.779617Z",
     "shell.execute_reply": "2021-07-27T07:45:39.778505Z",
     "shell.execute_reply.started": "2021-07-27T07:45:39.758354Z"
    }
   },
   "outputs": [],
   "source": [
    "df_test.info()"
   ]
  },
  {
   "cell_type": "code",
   "execution_count": null,
   "metadata": {
    "execution": {
     "iopub.execute_input": "2021-07-27T07:45:39.784029Z",
     "iopub.status.busy": "2021-07-27T07:45:39.783530Z",
     "iopub.status.idle": "2021-07-27T07:45:39.802376Z",
     "shell.execute_reply": "2021-07-27T07:45:39.801019Z",
     "shell.execute_reply.started": "2021-07-27T07:45:39.783852Z"
    }
   },
   "outputs": [],
   "source": [
    "df_test.head(5)"
   ]
  },
  {
   "cell_type": "code",
   "execution_count": null,
   "metadata": {
    "execution": {
     "iopub.execute_input": "2021-07-27T07:45:39.804963Z",
     "iopub.status.busy": "2021-07-27T07:45:39.804552Z",
     "iopub.status.idle": "2021-07-27T07:45:39.822530Z",
     "shell.execute_reply": "2021-07-27T07:45:39.821767Z",
     "shell.execute_reply.started": "2021-07-27T07:45:39.804870Z"
    }
   },
   "outputs": [],
   "source": [
    "sample_submission.head(5)"
   ]
  },
  {
   "cell_type": "code",
   "execution_count": null,
   "metadata": {
    "execution": {
     "iopub.execute_input": "2021-07-27T07:45:39.824231Z",
     "iopub.status.busy": "2021-07-27T07:45:39.823788Z",
     "iopub.status.idle": "2021-07-27T07:45:39.839396Z",
     "shell.execute_reply": "2021-07-27T07:45:39.838699Z",
     "shell.execute_reply.started": "2021-07-27T07:45:39.824182Z"
    }
   },
   "outputs": [],
   "source": [
    "sample_submission.info()"
   ]
  },
  {
   "cell_type": "code",
   "execution_count": null,
   "metadata": {
    "execution": {
     "iopub.execute_input": "2021-07-27T07:45:39.841053Z",
     "iopub.status.busy": "2021-07-27T07:45:39.840593Z",
     "iopub.status.idle": "2021-07-27T07:45:39.883534Z",
     "shell.execute_reply": "2021-07-27T07:45:39.882524Z",
     "shell.execute_reply.started": "2021-07-27T07:45:39.841003Z"
    }
   },
   "outputs": [],
   "source": [
    "# ВАЖНО! дря корректной обработки признаков объединяем трейн и тест в один датасет\n",
    "df_train['sample'] = 1  # помечаем где у нас трейн\n",
    "df_test['sample'] = 0  # помечаем где у нас тест\n",
    "# в тесте у нас нет значения Rating, мы его должны предсказать, по этому пока просто заполняем нулями\n",
    "df_test['Rating'] = 0\n",
    "\n",
    "data = df_test.append(df_train, sort=False).reset_index(\n",
    "    drop=True)  # объединяем"
   ]
  },
  {
   "cell_type": "code",
   "execution_count": null,
   "metadata": {
    "execution": {
     "iopub.execute_input": "2021-07-27T07:45:39.884796Z",
     "iopub.status.busy": "2021-07-27T07:45:39.884571Z",
     "iopub.status.idle": "2021-07-27T07:45:39.929546Z",
     "shell.execute_reply": "2021-07-27T07:45:39.928781Z",
     "shell.execute_reply.started": "2021-07-27T07:45:39.884763Z"
    }
   },
   "outputs": [],
   "source": [
    "data.info()"
   ]
  },
  {
   "cell_type": "markdown",
   "metadata": {},
   "source": [
    "Подробнее по признакам:\n",
    "* City: Город \n",
    "* Cuisine Style: Кухня\n",
    "* Ranking: Ранг ресторана относительно других ресторанов в этом городе\n",
    "* Price Range: Цены в ресторане в 3 категориях\n",
    "* Number of Reviews: Количество отзывов\n",
    "* Reviews: 2 последних отзыва и даты этих отзывов\n",
    "* URL_TA: страница ресторана на 'www.tripadvisor.com' \n",
    "* ID_TA: ID ресторана в TripAdvisor\n",
    "* Rating: Рейтинг ресторана"
   ]
  },
  {
   "cell_type": "code",
   "execution_count": null,
   "metadata": {
    "execution": {
     "iopub.execute_input": "2021-07-27T07:45:39.931084Z",
     "iopub.status.busy": "2021-07-27T07:45:39.930650Z",
     "iopub.status.idle": "2021-07-27T07:45:39.957244Z",
     "shell.execute_reply": "2021-07-27T07:45:39.956300Z",
     "shell.execute_reply.started": "2021-07-27T07:45:39.931040Z"
    }
   },
   "outputs": [],
   "source": [
    "data.sample(5)"
   ]
  },
  {
   "cell_type": "code",
   "execution_count": null,
   "metadata": {
    "execution": {
     "iopub.execute_input": "2021-07-27T07:45:39.959272Z",
     "iopub.status.busy": "2021-07-27T07:45:39.958744Z",
     "iopub.status.idle": "2021-07-27T07:45:39.967263Z",
     "shell.execute_reply": "2021-07-27T07:45:39.966092Z",
     "shell.execute_reply.started": "2021-07-27T07:45:39.959216Z"
    }
   },
   "outputs": [],
   "source": [
    "data.Reviews[1]"
   ]
  },
  {
   "cell_type": "markdown",
   "metadata": {},
   "source": [
    "Как видим, большинство признаков у нас требует очистки и предварительной обработки."
   ]
  },
  {
   "cell_type": "code",
   "execution_count": null,
   "metadata": {
    "execution": {
     "iopub.execute_input": "2021-07-27T07:45:39.969168Z",
     "iopub.status.busy": "2021-07-27T07:45:39.968775Z",
     "iopub.status.idle": "2021-07-27T07:45:40.012970Z",
     "shell.execute_reply": "2021-07-27T07:45:40.011979Z",
     "shell.execute_reply.started": "2021-07-27T07:45:39.969098Z"
    }
   },
   "outputs": [],
   "source": [
    "# Restaurant_id\n",
    "data['code_Restaurant_id'] = data['Restaurant_id'].apply(\n",
    "    lambda x: float(x[3:]))"
   ]
  },
  {
   "cell_type": "markdown",
   "metadata": {},
   "source": [
    "Визуальный осмотр показал, что код Restaurant_id очень сильно похож на Ranking в data_train.\n",
    "Надо проверить корреляцию и при необходимости удалить 'code_Restaurant_id'"
   ]
  },
  {
   "cell_type": "code",
   "execution_count": null,
   "metadata": {
    "execution": {
     "iopub.execute_input": "2021-07-27T07:45:40.015077Z",
     "iopub.status.busy": "2021-07-27T07:45:40.014663Z",
     "iopub.status.idle": "2021-07-27T07:45:40.023487Z",
     "shell.execute_reply": "2021-07-27T07:45:40.022387Z",
     "shell.execute_reply.started": "2021-07-27T07:45:40.015006Z"
    }
   },
   "outputs": [],
   "source": [
    "rest_id_corr = data[['code_Restaurant_id', 'Ranking']]"
   ]
  },
  {
   "cell_type": "code",
   "execution_count": null,
   "metadata": {
    "execution": {
     "iopub.execute_input": "2021-07-27T07:45:40.025239Z",
     "iopub.status.busy": "2021-07-27T07:45:40.024968Z",
     "iopub.status.idle": "2021-07-27T07:45:48.332986Z",
     "shell.execute_reply": "2021-07-27T07:45:48.332078Z",
     "shell.execute_reply.started": "2021-07-27T07:45:40.025196Z"
    }
   },
   "outputs": [],
   "source": [
    "sns.pairplot(rest_id_corr, kind='reg')"
   ]
  },
  {
   "cell_type": "code",
   "execution_count": null,
   "metadata": {
    "execution": {
     "iopub.execute_input": "2021-07-27T07:45:48.335174Z",
     "iopub.status.busy": "2021-07-27T07:45:48.334653Z",
     "iopub.status.idle": "2021-07-27T07:45:48.349624Z",
     "shell.execute_reply": "2021-07-27T07:45:48.348382Z",
     "shell.execute_reply.started": "2021-07-27T07:45:48.334956Z"
    }
   },
   "outputs": [],
   "source": [
    "# Используем для наглядности матрицу корреляций:\n",
    "rest_id_corr.corr()"
   ]
  },
  {
   "cell_type": "code",
   "execution_count": null,
   "metadata": {
    "execution": {
     "iopub.execute_input": "2021-07-27T07:45:48.351730Z",
     "iopub.status.busy": "2021-07-27T07:45:48.351223Z",
     "iopub.status.idle": "2021-07-27T07:45:48.367042Z",
     "shell.execute_reply": "2021-07-27T07:45:48.365912Z",
     "shell.execute_reply.started": "2021-07-27T07:45:48.351539Z"
    }
   },
   "outputs": [],
   "source": [
    "# вспоминаем Резюме по критерию code_Restaurant_id. Удаляем так как была гипотеза о корреляции с Ranking\n",
    "data.drop(['code_Restaurant_id'], axis=1, inplace=True, errors='ignore')"
   ]
  },
  {
   "cell_type": "markdown",
   "metadata": {},
   "source": [
    "# Cleaning and Prepping Data\n",
    "Обычно данные содержат в себе кучу мусора, который необходимо почистить, для того чтобы привести их в приемлемый формат. Чистка данных — это необходимый этап решения почти любой реальной задачи.   \n",
    "![](https://analyticsindiamag.com/wp-content/uploads/2018/01/data-cleaning.png)"
   ]
  },
  {
   "cell_type": "markdown",
   "metadata": {},
   "source": [
    "## 1. Обработка NAN \n",
    "У наличия пропусков могут быть разные причины, но пропуски нужно либо заполнить, либо исключить из набора полностью. Но с пропусками нужно быть внимательным, **даже отсутствие информации может быть важным признаком!**   \n",
    "По этому перед обработкой NAN лучше вынести информацию о наличии пропуска как отдельный признак "
   ]
  },
  {
   "cell_type": "code",
   "execution_count": null,
   "metadata": {
    "execution": {
     "iopub.execute_input": "2021-07-27T07:45:48.369324Z",
     "iopub.status.busy": "2021-07-27T07:45:48.368769Z",
     "iopub.status.idle": "2021-07-27T07:45:48.381225Z",
     "shell.execute_reply": "2021-07-27T07:45:48.380080Z",
     "shell.execute_reply.started": "2021-07-27T07:45:48.369095Z"
    }
   },
   "outputs": [],
   "source": [
    "# вынесем пропуски в данных отдельным параметром\n",
    "data['NoR NAN'] = pd.isna(data['Number of Reviews']).astype('uint8')"
   ]
  },
  {
   "cell_type": "code",
   "execution_count": null,
   "metadata": {
    "execution": {
     "iopub.execute_input": "2021-07-27T07:45:48.385220Z",
     "iopub.status.busy": "2021-07-27T07:45:48.384873Z",
     "iopub.status.idle": "2021-07-27T07:45:48.401976Z",
     "shell.execute_reply": "2021-07-27T07:45:48.401075Z",
     "shell.execute_reply.started": "2021-07-27T07:45:48.385165Z"
    }
   },
   "outputs": [],
   "source": [
    "# глянем в статистику\n",
    "data['Number of Reviews'].describe()"
   ]
  },
  {
   "cell_type": "markdown",
   "metadata": {},
   "source": [
    "Медиана и средняя сильно разняться, это значит, что в параметре много выбросов. для более детальной картины можно глянуть статистику по городам."
   ]
  },
  {
   "cell_type": "code",
   "execution_count": null,
   "metadata": {
    "execution": {
     "iopub.execute_input": "2021-07-27T07:45:48.404175Z",
     "iopub.status.busy": "2021-07-27T07:45:48.403565Z",
     "iopub.status.idle": "2021-07-27T07:45:48.427112Z",
     "shell.execute_reply": "2021-07-27T07:45:48.426470Z",
     "shell.execute_reply.started": "2021-07-27T07:45:48.404114Z"
    }
   },
   "outputs": [],
   "source": [
    "data['City'].value_counts().sort_index(ascending=True)"
   ]
  },
  {
   "cell_type": "code",
   "execution_count": null,
   "metadata": {
    "execution": {
     "iopub.execute_input": "2021-07-27T07:45:48.428829Z",
     "iopub.status.busy": "2021-07-27T07:45:48.428409Z",
     "iopub.status.idle": "2021-07-27T07:45:48.938261Z",
     "shell.execute_reply": "2021-07-27T07:45:48.937311Z",
     "shell.execute_reply.started": "2021-07-27T07:45:48.428779Z"
    }
   },
   "outputs": [],
   "source": [
    "data.groupby(['City'])['Number of Reviews'].agg(\n",
    "    ['mean', 'median']).plot(kind='bar', figsize=[20, 3], grid=True)"
   ]
  },
  {
   "cell_type": "code",
   "execution_count": null,
   "metadata": {
    "execution": {
     "iopub.execute_input": "2021-07-27T07:45:48.940530Z",
     "iopub.status.busy": "2021-07-27T07:45:48.939912Z",
     "iopub.status.idle": "2021-07-27T07:45:48.962183Z",
     "shell.execute_reply": "2021-07-27T07:45:48.961352Z",
     "shell.execute_reply.started": "2021-07-27T07:45:48.940472Z"
    }
   },
   "outputs": [],
   "source": [
    "# будем заполнять пропуски медианой по городам, она в данном случае более объективно представляет информацию\n",
    "\n",
    "gb_city = round(data.groupby(['City'])[\n",
    "                'Number of Reviews'].median()).to_dict()  # создаем словарь\n",
    "# заменяем пропуски, применяя словарь\n",
    "data['Number of Reviews'].fillna(data['City'].map(gb_city), inplace=True)"
   ]
  },
  {
   "cell_type": "markdown",
   "metadata": {},
   "source": [
    "### 2. Обработка признаков\n",
    "Для начала посмотрим какие признаки у нас могут быть категориальными."
   ]
  },
  {
   "cell_type": "code",
   "execution_count": null,
   "metadata": {
    "execution": {
     "iopub.execute_input": "2021-07-27T07:45:48.964052Z",
     "iopub.status.busy": "2021-07-27T07:45:48.963688Z",
     "iopub.status.idle": "2021-07-27T07:45:49.088750Z",
     "shell.execute_reply": "2021-07-27T07:45:49.087842Z",
     "shell.execute_reply.started": "2021-07-27T07:45:48.963986Z"
    }
   },
   "outputs": [],
   "source": [
    "data.nunique(dropna=False)"
   ]
  },
  {
   "cell_type": "markdown",
   "metadata": {},
   "source": [
    "Какие признаки можно считать категориальными?"
   ]
  },
  {
   "cell_type": "markdown",
   "metadata": {},
   "source": [
    "Для кодирования категориальных признаков есть множество подходов:\n",
    "* Label Encoding\n",
    "* One-Hot Encoding\n",
    "* Target Encoding\n",
    "* Hashing\n",
    "\n",
    "Выбор кодирования зависит от признака и выбраной модели.\n",
    "Не будем сейчас сильно погружаться в эту тематику, давайте посмотрим лучше пример с One-Hot Encoding:\n",
    "![](https://i.imgur.com/mtimFxh.png)"
   ]
  },
  {
   "cell_type": "code",
   "execution_count": null,
   "metadata": {
    "execution": {
     "iopub.execute_input": "2021-07-27T07:45:49.090722Z",
     "iopub.status.busy": "2021-07-27T07:45:49.090376Z",
     "iopub.status.idle": "2021-07-27T07:45:49.094566Z",
     "shell.execute_reply": "2021-07-27T07:45:49.093445Z",
     "shell.execute_reply.started": "2021-07-27T07:45:49.090670Z"
    }
   },
   "outputs": [],
   "source": [
    "# для One-Hot Encoding в pandas есть готовая функция - get_dummies. Особенно радует параметр dummy_na\n",
    "# перенесено после формирования признаков с использованием колонки City\n",
    "#data = pd.get_dummies(data, columns=['City'], dummy_na=True)"
   ]
  },
  {
   "cell_type": "code",
   "execution_count": null,
   "metadata": {
    "execution": {
     "iopub.execute_input": "2021-07-27T07:45:49.096010Z",
     "iopub.status.busy": "2021-07-27T07:45:49.095723Z",
     "iopub.status.idle": "2021-07-27T07:45:49.126202Z",
     "shell.execute_reply": "2021-07-27T07:45:49.125180Z",
     "shell.execute_reply.started": "2021-07-27T07:45:49.095961Z"
    }
   },
   "outputs": [],
   "source": [
    "data.sample(5)"
   ]
  },
  {
   "cell_type": "markdown",
   "metadata": {},
   "source": [
    "#### Возьмем следующий признак \"Price Range\"."
   ]
  },
  {
   "cell_type": "code",
   "execution_count": null,
   "metadata": {
    "execution": {
     "iopub.execute_input": "2021-07-27T07:45:49.128134Z",
     "iopub.status.busy": "2021-07-27T07:45:49.127770Z",
     "iopub.status.idle": "2021-07-27T07:45:49.149495Z",
     "shell.execute_reply": "2021-07-27T07:45:49.148463Z",
     "shell.execute_reply.started": "2021-07-27T07:45:49.128067Z"
    }
   },
   "outputs": [],
   "source": [
    "data['Price Range'].value_counts()"
   ]
  },
  {
   "cell_type": "code",
   "execution_count": null,
   "metadata": {
    "execution": {
     "iopub.execute_input": "2021-07-27T07:45:49.152185Z",
     "iopub.status.busy": "2021-07-27T07:45:49.151874Z",
     "iopub.status.idle": "2021-07-27T07:45:49.169599Z",
     "shell.execute_reply": "2021-07-27T07:45:49.168565Z",
     "shell.execute_reply.started": "2021-07-27T07:45:49.152131Z"
    }
   },
   "outputs": [],
   "source": [
    "# и кол-во пропусков\n",
    "display(data['Price Range'].isna().sum())"
   ]
  },
  {
   "cell_type": "markdown",
   "metadata": {},
   "source": [
    "По описанию 'Price Range' это - Цены в ресторане.  \n",
    "Их можно поставить по возрастанию (значит это не категориальный признак). А это значит, что их можно заменить последовательными числами, например 1,2,3  \n",
    "*Попробуйте сделать обработку этого признака уже самостоятельно!*"
   ]
  },
  {
   "cell_type": "code",
   "execution_count": null,
   "metadata": {
    "execution": {
     "iopub.execute_input": "2021-07-27T07:45:49.171524Z",
     "iopub.status.busy": "2021-07-27T07:45:49.171141Z",
     "iopub.status.idle": "2021-07-27T07:45:49.216075Z",
     "shell.execute_reply": "2021-07-27T07:45:49.215079Z",
     "shell.execute_reply.started": "2021-07-27T07:45:49.171458Z"
    }
   },
   "outputs": [],
   "source": [
    "# Ваша обработка 'Price Range'\n",
    "# 23041 ресторанов это более 70% из заполненной информации имеют средний параметр цены\n",
    "# поэтому заполняем пропуски двойкой (2)\n",
    "data['Price Range'].fillna('$$ - $$$', inplace=True)\n",
    "# заполним значения в переменной.\n",
    "data['Price Range'].replace({'$': 1, '$$ - $$$': 2, '$$$$': 3}, inplace=True)"
   ]
  },
  {
   "cell_type": "code",
   "execution_count": null,
   "metadata": {
    "execution": {
     "iopub.execute_input": "2021-07-27T07:45:49.217723Z",
     "iopub.status.busy": "2021-07-27T07:45:49.217464Z",
     "iopub.status.idle": "2021-07-27T07:45:49.234943Z",
     "shell.execute_reply": "2021-07-27T07:45:49.233590Z",
     "shell.execute_reply.started": "2021-07-27T07:45:49.217680Z"
    }
   },
   "outputs": [],
   "source": [
    "# посмотрим статисику\n",
    "display(data['Price Range'].describe())"
   ]
  },
  {
   "cell_type": "markdown",
   "metadata": {},
   "source": [
    "> Для некоторых алгоритмов МЛ даже для не категориальных признаков можно применить One-Hot Encoding, и это может улучшить качество модели. Пробуйте разные подходы к кодированию признака - никто не знает заранее, что может взлететь."
   ]
  },
  {
   "cell_type": "markdown",
   "metadata": {},
   "source": [
    "### Обработать другие признаки вы должны самостоятельно!\n",
    "Для обработки других признаков вам возможно придется даже написать свою функцию, а может даже и не одну, но в этом и есть ваша практика в этом модуле!     \n",
    "Следуя подсказкам в модуле вы сможете более подробно узнать, как сделать эти приобразования."
   ]
  },
  {
   "cell_type": "code",
   "execution_count": null,
   "metadata": {
    "execution": {
     "iopub.execute_input": "2021-07-27T07:45:49.236757Z",
     "iopub.status.busy": "2021-07-27T07:45:49.236377Z",
     "iopub.status.idle": "2021-07-27T07:45:49.265835Z",
     "shell.execute_reply": "2021-07-27T07:45:49.264733Z",
     "shell.execute_reply.started": "2021-07-27T07:45:49.236634Z"
    }
   },
   "outputs": [],
   "source": [
    "data['Cuisine Style'].value_counts(dropna=False).head(20)"
   ]
  },
  {
   "cell_type": "code",
   "execution_count": null,
   "metadata": {
    "execution": {
     "iopub.execute_input": "2021-07-27T07:45:49.268075Z",
     "iopub.status.busy": "2021-07-27T07:45:49.267699Z",
     "iopub.status.idle": "2021-07-27T07:45:49.527231Z",
     "shell.execute_reply": "2021-07-27T07:45:49.526232Z",
     "shell.execute_reply.started": "2021-07-27T07:45:49.268009Z"
    }
   },
   "outputs": [],
   "source": [
    "data[['City', 'Cuisine Style']].groupby('City').describe()"
   ]
  },
  {
   "cell_type": "code",
   "execution_count": null,
   "metadata": {
    "execution": {
     "iopub.execute_input": "2021-07-27T07:45:49.536508Z",
     "iopub.status.busy": "2021-07-27T07:45:49.536198Z",
     "iopub.status.idle": "2021-07-27T07:45:49.595363Z",
     "shell.execute_reply": "2021-07-27T07:45:49.594250Z",
     "shell.execute_reply.started": "2021-07-27T07:45:49.536462Z"
    }
   },
   "outputs": [],
   "source": [
    "data[['City', 'Cuisine Style']].groupby(\n",
    "    'City')['Cuisine Style'].value_counts()['London'].head(10)"
   ]
  },
  {
   "cell_type": "code",
   "execution_count": null,
   "metadata": {
    "execution": {
     "iopub.execute_input": "2021-07-27T07:45:49.597694Z",
     "iopub.status.busy": "2021-07-27T07:45:49.597321Z",
     "iopub.status.idle": "2021-07-27T07:45:49.911398Z",
     "shell.execute_reply": "2021-07-27T07:45:49.910591Z",
     "shell.execute_reply.started": "2021-07-27T07:45:49.597627Z"
    }
   },
   "outputs": [],
   "source": [
    "# тут ваш код на обработку других признаков\n",
    "\n",
    "# Заполняем пропуски для обзоров пустой строкой\n",
    "data['Reviews'].fillna('', inplace=True)\n",
    "\n",
    "# заполняем пропуски для видов кухни\n",
    "data['Cuisine Style'].fillna('Unknown', inplace=True)\n",
    "\n",
    "# Создаем признак для видов кухни типа list, предварительно убрав лишние символы\n",
    "data['Cuisine_Style_List'] = data['Cuisine Style'].str.replace(\n",
    "    \"[\", '').str.replace(\"]\", '').str.replace(\"'\", \"\").str.replace(\", \", \",\")\n",
    "data['Cuisine_Style_List'] = data['Cuisine_Style_List'].str.split(',')\n",
    "\n",
    "# Определяем кол-во видов кухни для ресторана\n",
    "data['Cuisine_Count'] = data['Cuisine_Style_List'].apply(lambda x: len(x))"
   ]
  },
  {
   "cell_type": "code",
   "execution_count": null,
   "metadata": {
    "execution": {
     "iopub.execute_input": "2021-07-27T07:45:49.913307Z",
     "iopub.status.busy": "2021-07-27T07:45:49.912748Z",
     "iopub.status.idle": "2021-07-27T07:45:50.318437Z",
     "shell.execute_reply": "2021-07-27T07:45:50.317508Z",
     "shell.execute_reply.started": "2021-07-27T07:45:49.913249Z"
    }
   },
   "outputs": [],
   "source": [
    "# Заметно, что чем более разнообразна кухня, тем менше рейтинг ресторана.\n",
    "sns.boxplot(x='Cuisine_Count', y='Ranking', data=data)"
   ]
  },
  {
   "cell_type": "code",
   "execution_count": null,
   "metadata": {
    "execution": {
     "iopub.execute_input": "2021-07-27T07:45:50.320426Z",
     "iopub.status.busy": "2021-07-27T07:45:50.319897Z",
     "iopub.status.idle": "2021-07-27T07:45:50.345189Z",
     "shell.execute_reply": "2021-07-27T07:45:50.344220Z",
     "shell.execute_reply.started": "2021-07-27T07:45:50.320368Z"
    }
   },
   "outputs": [],
   "source": [
    "data.head(5)"
   ]
  },
  {
   "cell_type": "code",
   "execution_count": null,
   "metadata": {
    "execution": {
     "iopub.execute_input": "2021-07-27T07:45:50.347427Z",
     "iopub.status.busy": "2021-07-27T07:45:50.346793Z",
     "iopub.status.idle": "2021-07-27T07:45:50.361998Z",
     "shell.execute_reply": "2021-07-27T07:45:50.361296Z",
     "shell.execute_reply.started": "2021-07-27T07:45:50.347370Z"
    }
   },
   "outputs": [],
   "source": [
    "# функция для извлечения дат отзывов\n",
    "def get_dates(value):\n",
    "    pat = re.compile(\"\\d\\d/\\d\\d/\\d\\d\\d\\d\")\n",
    "    review_list = pat.findall(value)\n",
    "    return review_list\n",
    "\n",
    "# функция для определения минимальной даты\n",
    "\n",
    "\n",
    "def get_min_date(value):\n",
    "    # Заполняем 0 для пустых значений по умолчанию, позднее его заменим в признаке\n",
    "    res = 0\n",
    "    if len(value) > 1:\n",
    "        res = min(datetime.strptime(\n",
    "            value[0], \"%m/%d/%Y\"), datetime.strptime(value[1], \"%m/%d/%Y\"))\n",
    "    elif len(value) == 1:\n",
    "        res = datetime.strptime(value[0], \"%m/%d/%Y\")\n",
    "    return res\n",
    "\n",
    "# функция для определения максимальной даты\n",
    "\n",
    "\n",
    "def get_max_date(value):\n",
    "    # Заполняем 0 для пустых значений по умолчанию, позднее его заменим в признаке\n",
    "    res = 0\n",
    "    if len(value) > 1:\n",
    "        res = max(datetime.strptime(\n",
    "            value[0], \"%m/%d/%Y\"), datetime.strptime(value[1], \"%m/%d/%Y\"))\n",
    "    elif len(value) == 1:\n",
    "        res = datetime.strptime(value[0], \"%m/%d/%Y\")\n",
    "    return res\n",
    "\n",
    "# функция для извлечения слов из отзывов\n",
    "\n",
    "\n",
    "def get_words(value):\n",
    "    # слова с not\n",
    "    pat = re.compile('[Nn]ot [A-Za-z]+')\n",
    "    review_list_n = pat.findall(value)\n",
    "    for word in review_list_n:\n",
    "        value = value.replace(word, '')\n",
    "\n",
    "    pat = re.compile('[A-Za-z]+')\n",
    "    review_list = pat.findall(value)\n",
    "    review_list += review_list_n\n",
    "    review_list_cor = []\n",
    "    # переводим все слова в строчные буквы\n",
    "    for word in review_list:\n",
    "        review_list_cor.append(word.lower())\n",
    "    return review_list_cor"
   ]
  },
  {
   "cell_type": "code",
   "execution_count": null,
   "metadata": {
    "execution": {
     "iopub.execute_input": "2021-07-27T07:45:50.364101Z",
     "iopub.status.busy": "2021-07-27T07:45:50.363483Z",
     "iopub.status.idle": "2021-07-27T07:45:50.435598Z",
     "shell.execute_reply": "2021-07-27T07:45:50.434590Z",
     "shell.execute_reply.started": "2021-07-27T07:45:50.364043Z"
    }
   },
   "outputs": [],
   "source": [
    "data.info()"
   ]
  },
  {
   "cell_type": "code",
   "execution_count": null,
   "metadata": {
    "execution": {
     "iopub.execute_input": "2021-07-27T07:45:50.437205Z",
     "iopub.status.busy": "2021-07-27T07:45:50.436926Z",
     "iopub.status.idle": "2021-07-27T07:45:53.543375Z",
     "shell.execute_reply": "2021-07-27T07:45:53.542649Z",
     "shell.execute_reply.started": "2021-07-27T07:45:50.437155Z"
    }
   },
   "outputs": [],
   "source": [
    "# Собираем слова из отзывов в отдельный признак\n",
    "data['Reviews_Words'] = data['Reviews'].apply(get_words)\n",
    "\n",
    "# определяем даты для отзывов\n",
    "data['Reviews_Dates'] = data['Reviews'].apply(get_dates)\n",
    "# минимальная дата отзыва\n",
    "data['Reviews_Min_Date'] = data['Reviews_Dates'].apply(get_min_date)\n",
    "# максимальная дата отзыва\n",
    "data['Reviews_Max_Date'] = data['Reviews_Dates'].apply(get_max_date)\n",
    "\n",
    "# Определяем минимальную дату в данных и заполняем ей 0-е (пустые) значения\n",
    "tot_min_date = min(data[data['Reviews_Min_Date'] != 0]['Reviews_Min_Date'])\n",
    "data['Reviews_Min_Date'] = data['Reviews_Min_Date'].replace(0, tot_min_date)\n",
    "data['Reviews_Max_Date'] = data['Reviews_Max_Date'].replace(0, tot_min_date)\n",
    "\n",
    "\n",
    "# разница между максимальной и минимальной датой отзыва\n",
    "data['Reviews_Dates_diff'] = data['Reviews_Max_Date'] - data['Reviews_Min_Date']\n",
    "data['Reviews_Dates_diff'] = data['Reviews_Dates_diff'].dt.days\n",
    "# разница между максимальной датой отзыва и последней датой отзыва в данных\n",
    "data['Reviews_Max_Date_diff'] = data['Reviews_Max_Date'].max() - \\\n",
    "    data['Reviews_Max_Date']\n",
    "data['Reviews_Max_Date_diff'] = data['Reviews_Max_Date_diff'].dt.days"
   ]
  },
  {
   "cell_type": "code",
   "execution_count": null,
   "metadata": {
    "execution": {
     "iopub.execute_input": "2021-07-27T07:45:53.544970Z",
     "iopub.status.busy": "2021-07-27T07:45:53.544546Z",
     "iopub.status.idle": "2021-07-27T07:45:53.642044Z",
     "shell.execute_reply": "2021-07-27T07:45:53.641026Z",
     "shell.execute_reply.started": "2021-07-27T07:45:53.544914Z"
    }
   },
   "outputs": [],
   "source": [
    "# Определяем относительный ранг для ресторана внутри города\n",
    "data1 = data.groupby(['City'])['Ranking'].max().to_frame().reset_index()\n",
    "data1.columns = ['City', 'City_N_Rank']\n",
    "data = data.merge(data1, on='City', how='left')\n",
    "data['Ranking_rel'] = data['Ranking']/data['City_N_Rank']"
   ]
  },
  {
   "cell_type": "code",
   "execution_count": null,
   "metadata": {
    "execution": {
     "iopub.execute_input": "2021-07-27T07:45:53.643558Z",
     "iopub.status.busy": "2021-07-27T07:45:53.643312Z",
     "iopub.status.idle": "2021-07-27T07:45:53.679127Z",
     "shell.execute_reply": "2021-07-27T07:45:53.678183Z",
     "shell.execute_reply.started": "2021-07-27T07:45:53.643510Z"
    }
   },
   "outputs": [],
   "source": [
    "data.head(5)"
   ]
  },
  {
   "cell_type": "code",
   "execution_count": null,
   "metadata": {
    "execution": {
     "iopub.execute_input": "2021-07-27T07:45:53.681189Z",
     "iopub.status.busy": "2021-07-27T07:45:53.680637Z",
     "iopub.status.idle": "2021-07-27T07:45:53.692147Z",
     "shell.execute_reply": "2021-07-27T07:45:53.691173Z",
     "shell.execute_reply.started": "2021-07-27T07:45:53.681130Z"
    }
   },
   "outputs": [],
   "source": [
    "data.Reviews[:30]"
   ]
  },
  {
   "cell_type": "code",
   "execution_count": null,
   "metadata": {
    "execution": {
     "iopub.execute_input": "2021-07-27T07:45:53.693864Z",
     "iopub.status.busy": "2021-07-27T07:45:53.693535Z",
     "iopub.status.idle": "2021-07-27T07:45:54.137114Z",
     "shell.execute_reply": "2021-07-27T07:45:54.136062Z",
     "shell.execute_reply.started": "2021-07-27T07:45:53.693810Z"
    }
   },
   "outputs": [],
   "source": [
    "# смотрим наиболее часто встречающиеся в отзывах слова\n",
    "data['Reviews_Words'].explode().value_counts()[0:35]"
   ]
  },
  {
   "cell_type": "code",
   "execution_count": null,
   "metadata": {
    "execution": {
     "iopub.execute_input": "2021-07-27T07:45:54.139132Z",
     "iopub.status.busy": "2021-07-27T07:45:54.138731Z",
     "iopub.status.idle": "2021-07-27T07:45:54.145014Z",
     "shell.execute_reply": "2021-07-27T07:45:54.143702Z",
     "shell.execute_reply.started": "2021-07-27T07:45:54.139063Z"
    }
   },
   "outputs": [],
   "source": [
    "# Экспертным методом определяем список слов из часто встречаюшихся, котрые могут влиять на оценку\n",
    "# Как минимум проблема - отсутствие связки not со словами - теряется возомжный смысл\n",
    "key_words = ['good', 'great', 'nice', 'best', 'excellent', 'but',\n",
    "             'delicious', 'friendly', 'lovely', 'amazing', 'tasty', 'little']"
   ]
  },
  {
   "cell_type": "code",
   "execution_count": null,
   "metadata": {
    "execution": {
     "iopub.execute_input": "2021-07-27T07:45:54.147091Z",
     "iopub.status.busy": "2021-07-27T07:45:54.146697Z",
     "iopub.status.idle": "2021-07-27T07:45:54.164672Z",
     "shell.execute_reply": "2021-07-27T07:45:54.163375Z",
     "shell.execute_reply.started": "2021-07-27T07:45:54.147022Z"
    }
   },
   "outputs": [],
   "source": [
    "# функция для определения набора ключевых слов в отзывах с учетом кол-ва повторов\n",
    "def num_key_words(value):\n",
    "    # слова с not\n",
    "    new_list = []\n",
    "    for word in value:\n",
    "        if word in key_words:\n",
    "            new_list.append(word)\n",
    "    return new_list"
   ]
  },
  {
   "cell_type": "code",
   "execution_count": null,
   "metadata": {
    "execution": {
     "iopub.execute_input": "2021-07-27T07:45:54.167165Z",
     "iopub.status.busy": "2021-07-27T07:45:54.166619Z",
     "iopub.status.idle": "2021-07-27T07:45:54.607897Z",
     "shell.execute_reply": "2021-07-27T07:45:54.606988Z",
     "shell.execute_reply.started": "2021-07-27T07:45:54.166950Z"
    }
   },
   "outputs": [],
   "source": [
    "data['key_words_n'] = data['Reviews_Words'].apply(num_key_words)"
   ]
  },
  {
   "cell_type": "code",
   "execution_count": null,
   "metadata": {
    "execution": {
     "iopub.execute_input": "2021-07-27T07:45:54.609830Z",
     "iopub.status.busy": "2021-07-27T07:45:54.609464Z",
     "iopub.status.idle": "2021-07-27T07:45:54.646186Z",
     "shell.execute_reply": "2021-07-27T07:45:54.645354Z",
     "shell.execute_reply.started": "2021-07-27T07:45:54.609752Z"
    }
   },
   "outputs": [],
   "source": [
    "data.head(5)"
   ]
  },
  {
   "cell_type": "code",
   "execution_count": null,
   "metadata": {
    "execution": {
     "iopub.execute_input": "2021-07-27T07:45:54.647651Z",
     "iopub.status.busy": "2021-07-27T07:45:54.647415Z",
     "iopub.status.idle": "2021-07-27T07:45:54.721498Z",
     "shell.execute_reply": "2021-07-27T07:45:54.720541Z",
     "shell.execute_reply.started": "2021-07-27T07:45:54.647610Z"
    }
   },
   "outputs": [],
   "source": [
    "# для One-Hot Encoding в pandas есть готовая функция - get_dummies. Особенно радует параметр dummy_na\n",
    "# было выше в исходном варианте, перенесено для формирования данных с помощью признака City\n",
    "data = pd.get_dummies(data, columns=['City'], dummy_na=True)"
   ]
  },
  {
   "cell_type": "code",
   "execution_count": null,
   "metadata": {
    "execution": {
     "iopub.execute_input": "2021-07-27T07:45:54.722965Z",
     "iopub.status.busy": "2021-07-27T07:45:54.722709Z",
     "iopub.status.idle": "2021-07-27T07:45:55.491252Z",
     "shell.execute_reply": "2021-07-27T07:45:55.490380Z",
     "shell.execute_reply.started": "2021-07-27T07:45:54.722911Z"
    }
   },
   "outputs": [],
   "source": [
    "# Добавляем также dummies признак для типов кухни\n",
    "df1 = data[['Cuisine_Style_List']].copy()\n",
    "df1 = pd.get_dummies(df1['Cuisine_Style_List'].explode(),\n",
    "                     prefix='cuis').sum(level=0)\n",
    "data = pd.concat([data, df1], axis=1)"
   ]
  },
  {
   "cell_type": "code",
   "execution_count": null,
   "metadata": {
    "execution": {
     "iopub.execute_input": "2021-07-27T07:45:55.493019Z",
     "iopub.status.busy": "2021-07-27T07:45:55.492748Z",
     "iopub.status.idle": "2021-07-27T07:45:55.898073Z",
     "shell.execute_reply": "2021-07-27T07:45:55.897072Z",
     "shell.execute_reply.started": "2021-07-27T07:45:55.492974Z"
    }
   },
   "outputs": [],
   "source": [
    "# Добавляем также dummies признак для ключевых слов в отзыве\n",
    "df1 = data[['key_words_n']].copy()\n",
    "df1 = pd.get_dummies(df1['key_words_n'].explode(), prefix='w').sum(level=0)\n",
    "data = pd.concat([data, df1], axis=1)"
   ]
  },
  {
   "cell_type": "code",
   "execution_count": null,
   "metadata": {
    "execution": {
     "iopub.execute_input": "2021-07-27T07:45:55.899781Z",
     "iopub.status.busy": "2021-07-27T07:45:55.899548Z",
     "iopub.status.idle": "2021-07-27T07:45:56.041764Z",
     "shell.execute_reply": "2021-07-27T07:45:56.040956Z",
     "shell.execute_reply.started": "2021-07-27T07:45:55.899747Z"
    }
   },
   "outputs": [],
   "source": [
    "data.sample(5)"
   ]
  },
  {
   "cell_type": "markdown",
   "metadata": {},
   "source": [
    "![](https://cs10.pikabu.ru/post_img/2018/09/06/11/1536261023140110012.jpg)"
   ]
  },
  {
   "cell_type": "markdown",
   "metadata": {},
   "source": [
    "# EDA \n",
    "[Exploratory Data Analysis](https://ru.wikipedia.org/wiki/Разведочный_анализ_данных) - Анализ данных\n",
    "На этом этапе мы строим графики, ищем закономерности, аномалии, выбросы или связи между признаками.\n",
    "В общем цель этого этапа понять, что эти данные могут нам дать и как признаки могут быть взаимосвязаны между собой.\n",
    "Понимание изначальных признаков позволит сгенерировать новые, более сильные и, тем самым, сделать нашу модель лучше.\n",
    "![](https://miro.medium.com/max/2598/1*RXdMb7Uk6mGqWqPguHULaQ.png)"
   ]
  },
  {
   "cell_type": "markdown",
   "metadata": {},
   "source": [
    "### Посмотрим распределение признака"
   ]
  },
  {
   "cell_type": "code",
   "execution_count": null,
   "metadata": {
    "execution": {
     "iopub.execute_input": "2021-07-27T07:45:56.043369Z",
     "iopub.status.busy": "2021-07-27T07:45:56.043083Z",
     "iopub.status.idle": "2021-07-27T07:45:56.462584Z",
     "shell.execute_reply": "2021-07-27T07:45:56.461320Z",
     "shell.execute_reply.started": "2021-07-27T07:45:56.043316Z"
    }
   },
   "outputs": [],
   "source": [
    "# распределение в ранкинге\n",
    "plt.rcParams['figure.figsize'] = (12, 6)\n",
    "data['Ranking'].hist(bins=100)"
   ]
  },
  {
   "cell_type": "markdown",
   "metadata": {},
   "source": [
    "У нас много ресторанов, которые не дотягивают и до 2500 места в своем городе, а что там по городам?"
   ]
  },
  {
   "cell_type": "code",
   "execution_count": null,
   "metadata": {
    "execution": {
     "iopub.execute_input": "2021-07-27T07:45:56.465095Z",
     "iopub.status.busy": "2021-07-27T07:45:56.464486Z",
     "iopub.status.idle": "2021-07-27T07:45:57.319896Z",
     "shell.execute_reply": "2021-07-27T07:45:57.318837Z",
     "shell.execute_reply.started": "2021-07-27T07:45:56.464807Z"
    }
   },
   "outputs": [],
   "source": [
    "# Построим боксплоты для рейтинга\n",
    "fig, ax = plt.subplots(figsize=(15, 10))\n",
    "sns.boxplot(x='City', y='Rating', data=df_train)\n",
    "plt.xticks(rotation=45)\n",
    "ax.set_title('Boxplot for City')\n",
    "plt.show()"
   ]
  },
  {
   "cell_type": "code",
   "execution_count": null,
   "metadata": {
    "execution": {
     "iopub.execute_input": "2021-07-27T07:45:57.322449Z",
     "iopub.status.busy": "2021-07-27T07:45:57.321910Z",
     "iopub.status.idle": "2021-07-27T07:45:57.680305Z",
     "shell.execute_reply": "2021-07-27T07:45:57.679490Z",
     "shell.execute_reply.started": "2021-07-27T07:45:57.322251Z"
    }
   },
   "outputs": [],
   "source": [
    "df_train['City'].value_counts(ascending=True).plot(kind='barh')"
   ]
  },
  {
   "cell_type": "markdown",
   "metadata": {},
   "source": [
    "А кто-то говорил, что французы любят поесть=) Посмотрим, как изменится распределение в большом городе:"
   ]
  },
  {
   "cell_type": "code",
   "execution_count": null,
   "metadata": {
    "execution": {
     "iopub.execute_input": "2021-07-27T07:45:57.682076Z",
     "iopub.status.busy": "2021-07-27T07:45:57.681735Z",
     "iopub.status.idle": "2021-07-27T07:45:58.121712Z",
     "shell.execute_reply": "2021-07-27T07:45:58.120521Z",
     "shell.execute_reply.started": "2021-07-27T07:45:57.682020Z"
    }
   },
   "outputs": [],
   "source": [
    "# Распределение в Лондоне\n",
    "df_train['Ranking'][df_train['City'] == 'London'].hist(bins=100)"
   ]
  },
  {
   "cell_type": "code",
   "execution_count": null,
   "metadata": {
    "execution": {
     "iopub.execute_input": "2021-07-27T07:45:58.123837Z",
     "iopub.status.busy": "2021-07-27T07:45:58.123308Z",
     "iopub.status.idle": "2021-07-27T07:46:00.660739Z",
     "shell.execute_reply": "2021-07-27T07:46:00.659501Z",
     "shell.execute_reply.started": "2021-07-27T07:45:58.123615Z"
    }
   },
   "outputs": [],
   "source": [
    "# посмотрим на топ 10 городов\n",
    "for x in (df_train['City'].value_counts())[0:10].index:\n",
    "    df_train['Ranking'][df_train['City'] == x].hist(bins=100)\n",
    "plt.show()\n",
    "\n",
    "# Получается, что Ranking имеет нормальное распределение,\n",
    "# просто в больших городах больше ресторанов, из-за мы этого имеем смещение"
   ]
  },
  {
   "cell_type": "markdown",
   "metadata": {},
   "source": [
    "Получается, что Ranking имеет нормальное распределение, просто в больших городах больше ресторанов, из-за мы этого имеем смещение.\n",
    "\n",
    ">Подумайте как из этого можно сделать признак для вашей модели. Я покажу вам пример, как визуализация помогает находить взаимосвязи. А далее действуйте без подсказок =) \n"
   ]
  },
  {
   "cell_type": "markdown",
   "metadata": {},
   "source": [
    "### Посмотрим распределение целевой переменной"
   ]
  },
  {
   "cell_type": "code",
   "execution_count": null,
   "metadata": {
    "execution": {
     "iopub.execute_input": "2021-07-27T07:46:00.663040Z",
     "iopub.status.busy": "2021-07-27T07:46:00.662515Z",
     "iopub.status.idle": "2021-07-27T07:46:00.873810Z",
     "shell.execute_reply": "2021-07-27T07:46:00.872620Z",
     "shell.execute_reply.started": "2021-07-27T07:46:00.662810Z"
    }
   },
   "outputs": [],
   "source": [
    "df_train['Rating'].value_counts(ascending=True).plot(kind='barh')"
   ]
  },
  {
   "cell_type": "markdown",
   "metadata": {},
   "source": [
    "### Посмотрим распределение целевой переменной относительно признака"
   ]
  },
  {
   "cell_type": "code",
   "execution_count": null,
   "metadata": {
    "execution": {
     "iopub.execute_input": "2021-07-27T07:46:00.876026Z",
     "iopub.status.busy": "2021-07-27T07:46:00.875474Z",
     "iopub.status.idle": "2021-07-27T07:46:01.315688Z",
     "shell.execute_reply": "2021-07-27T07:46:01.314388Z",
     "shell.execute_reply.started": "2021-07-27T07:46:00.875785Z"
    }
   },
   "outputs": [],
   "source": [
    "df_train['Ranking'][df_train['Rating'] == 5].hist(bins=100)"
   ]
  },
  {
   "cell_type": "code",
   "execution_count": null,
   "metadata": {
    "execution": {
     "iopub.execute_input": "2021-07-27T07:46:01.318046Z",
     "iopub.status.busy": "2021-07-27T07:46:01.317494Z",
     "iopub.status.idle": "2021-07-27T07:46:01.747375Z",
     "shell.execute_reply": "2021-07-27T07:46:01.746186Z",
     "shell.execute_reply.started": "2021-07-27T07:46:01.317812Z"
    }
   },
   "outputs": [],
   "source": [
    "df_train['Ranking'][df_train['Rating'] < 4].hist(bins=100)"
   ]
  },
  {
   "cell_type": "markdown",
   "metadata": {},
   "source": [
    "### И один из моих любимых - [корреляция признаков](https://ru.wikipedia.org/wiki/Корреляция)\n",
    "На этом графике уже сейчас вы сможете заметить, как признаки связаны между собой и с целевой переменной."
   ]
  },
  {
   "cell_type": "code",
   "execution_count": null,
   "metadata": {
    "execution": {
     "iopub.execute_input": "2021-07-27T07:46:01.749674Z",
     "iopub.status.busy": "2021-07-27T07:46:01.749132Z",
     "iopub.status.idle": "2021-07-27T07:46:06.851787Z",
     "shell.execute_reply": "2021-07-27T07:46:06.850492Z",
     "shell.execute_reply.started": "2021-07-27T07:46:01.749456Z"
    }
   },
   "outputs": [],
   "source": [
    "plt.rcParams['figure.figsize'] = (15, 10)\n",
    "sns.heatmap(data.drop(['sample'], axis=1).corr(),)"
   ]
  },
  {
   "cell_type": "code",
   "execution_count": null,
   "metadata": {
    "execution": {
     "iopub.execute_input": "2021-07-27T07:46:06.853570Z",
     "iopub.status.busy": "2021-07-27T07:46:06.853278Z",
     "iopub.status.idle": "2021-07-27T07:46:13.315165Z",
     "shell.execute_reply": "2021-07-27T07:46:13.314208Z",
     "shell.execute_reply.started": "2021-07-27T07:46:06.853524Z"
    }
   },
   "outputs": [],
   "source": [
    "plt.rcParams['figure.figsize'] = (10, 60)\n",
    "sns.heatmap(data.query('sample == 1').corr()[\n",
    "            'Rating'].dropna().to_frame(), cmap=\"YlGnBu\", annot=True)"
   ]
  },
  {
   "cell_type": "markdown",
   "metadata": {},
   "source": [
    "Вообще благодаря визуализации в этом датасете можно узнать много интересных фактов, например:\n",
    "* где больше Пицерий в Мадриде или Лондоне?\n",
    "* в каком городе кухня ресторанов более разнообразна?\n",
    "\n",
    "придумайте свои вопрос и найдите на него ответ в данных)"
   ]
  },
  {
   "cell_type": "markdown",
   "metadata": {},
   "source": [
    "# Data Preprocessing\n",
    "Теперь, для удобства и воспроизводимости кода, завернем всю обработку в одну большую функцию."
   ]
  },
  {
   "cell_type": "code",
   "execution_count": null,
   "metadata": {
    "execution": {
     "iopub.execute_input": "2021-07-27T07:46:13.316926Z",
     "iopub.status.busy": "2021-07-27T07:46:13.316637Z",
     "iopub.status.idle": "2021-07-27T07:46:13.321115Z",
     "shell.execute_reply": "2021-07-27T07:46:13.320268Z",
     "shell.execute_reply.started": "2021-07-27T07:46:13.316873Z"
    }
   },
   "outputs": [],
   "source": [
    "# #Этот фрагмент не используется - все данные из исходной части обработки\n",
    "\n",
    "# # на всякий случай, заново подгружаем данные\n",
    "# df_train = pd.read_csv(DATA_DIR+'/main_task.csv')\n",
    "# df_test = pd.read_csv(DATA_DIR+'/kaggle_task.csv')\n",
    "# df_train['sample'] = 1 # помечаем где у нас трейн\n",
    "# df_test['sample'] = 0 # помечаем где у нас тест\n",
    "# df_test['Rating'] = 0 # в тесте у нас нет значения Rating, мы его должны предсказать, по этому пока просто заполняем нулями\n",
    "\n",
    "# data = df_test.append(df_train, sort=False).reset_index(drop=True) # объединяем\n",
    "# data.info()"
   ]
  },
  {
   "cell_type": "code",
   "execution_count": null,
   "metadata": {
    "execution": {
     "iopub.execute_input": "2021-07-27T07:46:13.323307Z",
     "iopub.status.busy": "2021-07-27T07:46:13.323014Z",
     "iopub.status.idle": "2021-07-27T07:46:13.339290Z",
     "shell.execute_reply": "2021-07-27T07:46:13.338355Z",
     "shell.execute_reply.started": "2021-07-27T07:46:13.323255Z"
    }
   },
   "outputs": [],
   "source": [
    "# def preproc_data(df_input):\n",
    "#     '''includes several functions to pre-process the predictor data.'''\n",
    "\n",
    "#     df_output = df_input.copy()\n",
    "\n",
    "#     # ################### 1. Предобработка ##############################################################\n",
    "#     # убираем не нужные для модели признаки\n",
    "#     df_output.drop(['Restaurant_id','ID_TA',], axis = 1, inplace=True)\n",
    "\n",
    "\n",
    "#     # ################### 2. NAN ##############################################################\n",
    "#     # Далее заполняем пропуски, вы можете попробовать заполнением средним или средним по городу и тд...\n",
    "#     df_output['Number of Reviews'].fillna(0, inplace=True)\n",
    "#     # тут ваш код по обработке NAN\n",
    "#     # ....\n",
    "\n",
    "\n",
    "#     # ################### 3. Encoding ##############################################################\n",
    "#     # для One-Hot Encoding в pandas есть готовая функция - get_dummies. Особенно радует параметр dummy_na\n",
    "#     df_output = pd.get_dummies(df_output, columns=[ 'City',], dummy_na=True)\n",
    "#     # тут ваш код не Encoding фитчей\n",
    "#     # ....\n",
    "\n",
    "\n",
    "#     # ################### 4. Feature Engineering ####################################################\n",
    "#     # тут ваш код не генерацию новых фитчей\n",
    "#     # ....\n",
    "\n",
    "\n",
    "#     # ################### 5. Clean ####################################################\n",
    "#     # убираем признаки которые еще не успели обработать,\n",
    "#     # модель на признаках с dtypes \"object\" обучаться не будет, просто выберим их и удалим\n",
    "#     object_columns = [s for s in df_output.columns if df_output[s].dtypes == 'object']\n",
    "#     df_output.drop(object_columns, axis = 1, inplace=True)\n",
    "\n",
    "#     return df_output"
   ]
  },
  {
   "cell_type": "markdown",
   "metadata": {},
   "source": [
    ">По хорошему, можно было бы перевести эту большую функцию в класс и разбить на подфункции (согласно ООП). "
   ]
  },
  {
   "cell_type": "markdown",
   "metadata": {},
   "source": [
    "#### Запускаем и проверяем что получилось"
   ]
  },
  {
   "cell_type": "code",
   "execution_count": null,
   "metadata": {
    "execution": {
     "iopub.execute_input": "2021-07-27T07:46:13.341187Z",
     "iopub.status.busy": "2021-07-27T07:46:13.340835Z",
     "iopub.status.idle": "2021-07-27T07:46:13.355047Z",
     "shell.execute_reply": "2021-07-27T07:46:13.354233Z",
     "shell.execute_reply.started": "2021-07-27T07:46:13.341136Z"
    }
   },
   "outputs": [],
   "source": [
    "#df_preproc = preproc_data(data)\n",
    "# df_preproc.sample(10)"
   ]
  },
  {
   "cell_type": "code",
   "execution_count": null,
   "metadata": {
    "execution": {
     "iopub.execute_input": "2021-07-27T07:46:13.356598Z",
     "iopub.status.busy": "2021-07-27T07:46:13.356240Z",
     "iopub.status.idle": "2021-07-27T07:46:13.372861Z",
     "shell.execute_reply": "2021-07-27T07:46:13.371784Z",
     "shell.execute_reply.started": "2021-07-27T07:46:13.356543Z"
    }
   },
   "outputs": [],
   "source": [
    "# df_preproc.info()"
   ]
  },
  {
   "cell_type": "code",
   "execution_count": null,
   "metadata": {
    "execution": {
     "iopub.execute_input": "2021-07-27T07:46:13.374957Z",
     "iopub.status.busy": "2021-07-27T07:46:13.374651Z",
     "iopub.status.idle": "2021-07-27T07:46:13.384383Z",
     "shell.execute_reply": "2021-07-27T07:46:13.383542Z",
     "shell.execute_reply.started": "2021-07-27T07:46:13.374883Z"
    }
   },
   "outputs": [],
   "source": [
    "# data['sample']"
   ]
  },
  {
   "cell_type": "code",
   "execution_count": null,
   "metadata": {
    "execution": {
     "iopub.execute_input": "2021-07-27T07:46:13.385728Z",
     "iopub.status.busy": "2021-07-27T07:46:13.385407Z",
     "iopub.status.idle": "2021-07-27T07:46:13.407811Z",
     "shell.execute_reply": "2021-07-27T07:46:13.406862Z",
     "shell.execute_reply.started": "2021-07-27T07:46:13.385672Z"
    }
   },
   "outputs": [],
   "source": [
    "data.info()"
   ]
  },
  {
   "cell_type": "code",
   "execution_count": null,
   "metadata": {
    "execution": {
     "iopub.execute_input": "2021-07-27T07:46:13.409691Z",
     "iopub.status.busy": "2021-07-27T07:46:13.409382Z",
     "iopub.status.idle": "2021-07-27T07:46:13.416866Z",
     "shell.execute_reply": "2021-07-27T07:46:13.415965Z",
     "shell.execute_reply.started": "2021-07-27T07:46:13.409638Z"
    }
   },
   "outputs": [],
   "source": [
    "data.columns[:30]"
   ]
  },
  {
   "cell_type": "code",
   "execution_count": null,
   "metadata": {
    "execution": {
     "iopub.execute_input": "2021-07-27T07:46:13.418616Z",
     "iopub.status.busy": "2021-07-27T07:46:13.418371Z",
     "iopub.status.idle": "2021-07-27T07:46:13.441074Z",
     "shell.execute_reply": "2021-07-27T07:46:13.439863Z",
     "shell.execute_reply.started": "2021-07-27T07:46:13.418574Z"
    }
   },
   "outputs": [],
   "source": [
    "# Берем данные из предварительной обработки\n",
    "df_preproc = data.drop(['Restaurant_id', 'Cuisine Style', 'Reviews', 'URL_TA', 'ID_TA', 'Cuisine_Style_List', 'Reviews_Words',\n",
    "                        'Reviews_Dates', 'Reviews_Min_Date', 'Reviews_Max_Date', 'key_words_n'], axis=1)"
   ]
  },
  {
   "cell_type": "code",
   "execution_count": null,
   "metadata": {
    "execution": {
     "iopub.execute_input": "2021-07-27T07:46:13.442923Z",
     "iopub.status.busy": "2021-07-27T07:46:13.442684Z",
     "iopub.status.idle": "2021-07-27T07:46:13.508227Z",
     "shell.execute_reply": "2021-07-27T07:46:13.507207Z",
     "shell.execute_reply.started": "2021-07-27T07:46:13.442889Z"
    }
   },
   "outputs": [],
   "source": [
    "# Теперь выделим тестовую часть\n",
    "train_data = df_preproc.query('sample == 1').drop(['sample'], axis=1)\n",
    "test_data = df_preproc.query('sample == 0').drop(['sample'], axis=1)\n",
    "\n",
    "y = train_data.Rating.values            # наш таргет\n",
    "X = train_data.drop(['Rating'], axis=1)"
   ]
  },
  {
   "cell_type": "markdown",
   "metadata": {},
   "source": [
    "**Перед тем как отправлять наши данные на обучение, разделим данные на еще один тест и трейн, для валидации. \n",
    "Это поможет нам проверить, как хорошо наша модель работает, до отправки submissiona на kaggle.**"
   ]
  },
  {
   "cell_type": "code",
   "execution_count": null,
   "metadata": {
    "execution": {
     "iopub.execute_input": "2021-07-27T07:46:13.512280Z",
     "iopub.status.busy": "2021-07-27T07:46:13.512003Z",
     "iopub.status.idle": "2021-07-27T07:46:13.546317Z",
     "shell.execute_reply": "2021-07-27T07:46:13.545407Z",
     "shell.execute_reply.started": "2021-07-27T07:46:13.512226Z"
    }
   },
   "outputs": [],
   "source": [
    "# Воспользуемся специальной функцие train_test_split для разбивки тестовых данных\n",
    "# выделим 20% данных на валидацию (параметр test_size)\n",
    "X_train, X_test, y_train, y_test = train_test_split(\n",
    "    X, y, test_size=0.2, random_state=RANDOM_SEED)"
   ]
  },
  {
   "cell_type": "code",
   "execution_count": null,
   "metadata": {
    "execution": {
     "iopub.execute_input": "2021-07-27T07:46:13.548179Z",
     "iopub.status.busy": "2021-07-27T07:46:13.547903Z",
     "iopub.status.idle": "2021-07-27T07:46:13.554903Z",
     "shell.execute_reply": "2021-07-27T07:46:13.554079Z",
     "shell.execute_reply.started": "2021-07-27T07:46:13.548136Z"
    }
   },
   "outputs": [],
   "source": [
    "# проверяем\n",
    "test_data.shape, train_data.shape, X.shape, X_train.shape, X_test.shape"
   ]
  },
  {
   "cell_type": "markdown",
   "metadata": {},
   "source": [
    "# Model \n",
    "Сам ML"
   ]
  },
  {
   "cell_type": "code",
   "execution_count": null,
   "metadata": {
    "execution": {
     "iopub.execute_input": "2021-07-27T07:46:13.556710Z",
     "iopub.status.busy": "2021-07-27T07:46:13.556427Z",
     "iopub.status.idle": "2021-07-27T07:46:13.566550Z",
     "shell.execute_reply": "2021-07-27T07:46:13.565686Z",
     "shell.execute_reply.started": "2021-07-27T07:46:13.556661Z"
    }
   },
   "outputs": [],
   "source": [
    "# Импортируем необходимые библиотеки:\n",
    "# инструмент для создания и обучения модели\n",
    "from sklearn.ensemble import RandomForestRegressor\n",
    "from sklearn import metrics  # инструменты для оценки точности модели"
   ]
  },
  {
   "cell_type": "code",
   "execution_count": null,
   "metadata": {
    "execution": {
     "iopub.execute_input": "2021-07-27T07:46:13.568169Z",
     "iopub.status.busy": "2021-07-27T07:46:13.567848Z",
     "iopub.status.idle": "2021-07-27T07:46:13.579787Z",
     "shell.execute_reply": "2021-07-27T07:46:13.578972Z",
     "shell.execute_reply.started": "2021-07-27T07:46:13.568118Z"
    }
   },
   "outputs": [],
   "source": [
    "# Создаём модель (НАСТРОЙКИ НЕ ТРОГАЕМ)\n",
    "model = RandomForestRegressor(\n",
    "    n_estimators=100, verbose=1, n_jobs=-1, random_state=RANDOM_SEED)"
   ]
  },
  {
   "cell_type": "code",
   "execution_count": null,
   "metadata": {
    "execution": {
     "iopub.execute_input": "2021-07-27T07:46:13.581651Z",
     "iopub.status.busy": "2021-07-27T07:46:13.581331Z",
     "iopub.status.idle": "2021-07-27T07:46:34.330557Z",
     "shell.execute_reply": "2021-07-27T07:46:34.329787Z",
     "shell.execute_reply.started": "2021-07-27T07:46:13.581600Z"
    }
   },
   "outputs": [],
   "source": [
    "# Обучаем модель на тестовом наборе данных\n",
    "model.fit(X_train, y_train)\n",
    "\n",
    "# Используем обученную модель для предсказания рейтинга ресторанов в тестовой выборке.\n",
    "# Предсказанные значения записываем в переменную y_pred\n",
    "y_pred = model.predict(X_test)"
   ]
  },
  {
   "cell_type": "markdown",
   "metadata": {},
   "source": [
    "заметим, что рейтинг имеет шаг 0.5. Модель предсказывает рейтинг без учёта этой детали.\n",
    "Если вручную округлить результаты предсказания, то их качество улучшится."
   ]
  },
  {
   "cell_type": "code",
   "execution_count": null,
   "metadata": {
    "execution": {
     "iopub.execute_input": "2021-07-27T07:46:34.331788Z",
     "iopub.status.busy": "2021-07-27T07:46:34.331552Z",
     "iopub.status.idle": "2021-07-27T07:46:34.339358Z",
     "shell.execute_reply": "2021-07-27T07:46:34.338369Z",
     "shell.execute_reply.started": "2021-07-27T07:46:34.331753Z"
    }
   },
   "outputs": [],
   "source": [
    "y_pred_round = np.round(y_pred * 2)/2\n",
    "display(y_pred_round)"
   ]
  },
  {
   "cell_type": "code",
   "execution_count": null,
   "metadata": {
    "execution": {
     "iopub.execute_input": "2021-07-27T07:46:34.341996Z",
     "iopub.status.busy": "2021-07-27T07:46:34.341430Z",
     "iopub.status.idle": "2021-07-27T07:46:34.353572Z",
     "shell.execute_reply": "2021-07-27T07:46:34.352495Z",
     "shell.execute_reply.started": "2021-07-27T07:46:34.341900Z"
    }
   },
   "outputs": [],
   "source": [
    "# Сравниваем предсказанные значения (y_pred) с реальными (y_test), и смотрим насколько они в среднем отличаются\n",
    "# Метрика называется Mean Absolute Error (MAE) и показывает среднее отклонение предсказанных значений от фактических.\n",
    "print('MAE:', metrics.mean_absolute_error(y_test, y_pred))\n",
    "print('MAE considering round:', metrics.mean_absolute_error(y_test, y_pred_round))"
   ]
  },
  {
   "cell_type": "code",
   "execution_count": null,
   "metadata": {
    "execution": {
     "iopub.execute_input": "2021-07-27T07:46:34.355758Z",
     "iopub.status.busy": "2021-07-27T07:46:34.355168Z",
     "iopub.status.idle": "2021-07-27T07:46:34.729242Z",
     "shell.execute_reply": "2021-07-27T07:46:34.728416Z",
     "shell.execute_reply.started": "2021-07-27T07:46:34.355699Z"
    }
   },
   "outputs": [],
   "source": [
    "# в RandomForestRegressor есть возможность вывести самые важные признаки для модели\n",
    "plt.rcParams['figure.figsize'] = (10, 10)\n",
    "feat_importances = pd.Series(model.feature_importances_, index=X.columns)\n",
    "feat_importances.nlargest(15).plot(kind='barh')"
   ]
  },
  {
   "cell_type": "code",
   "execution_count": null,
   "metadata": {
    "execution": {
     "iopub.execute_input": "2021-07-27T07:46:34.731075Z",
     "iopub.status.busy": "2021-07-27T07:46:34.730563Z",
     "iopub.status.idle": "2021-07-27T07:46:35.923659Z",
     "shell.execute_reply": "2021-07-27T07:46:35.922207Z",
     "shell.execute_reply.started": "2021-07-27T07:46:34.731018Z"
    }
   },
   "outputs": [],
   "source": [
    "# Проверяем корреляцию важных переменных\n",
    "df_temp = data.loc[data['sample'] == 1, list(\n",
    "    feat_importances.nlargest(15).index[0:15])]\n",
    "plt.rcParams['figure.figsize'] = (12, 6)\n",
    "ax = sns.heatmap(df_temp.corr(), annot=True, fmt='.2g')\n",
    "i, k = ax.get_ylim()\n",
    "ax.set_ylim(i+0.5, k-0.5)"
   ]
  },
  {
   "cell_type": "code",
   "execution_count": null,
   "metadata": {
    "execution": {
     "iopub.execute_input": "2021-07-27T07:46:35.925998Z",
     "iopub.status.busy": "2021-07-27T07:46:35.925478Z",
     "iopub.status.idle": "2021-07-27T07:46:35.945777Z",
     "shell.execute_reply": "2021-07-27T07:46:35.944312Z",
     "shell.execute_reply.started": "2021-07-27T07:46:35.925777Z"
    }
   },
   "outputs": [],
   "source": [
    "list_temp = list(feat_importances.nlargest(15).index[[9, 10]])\n",
    "display(df_temp[list_temp].corr())"
   ]
  },
  {
   "cell_type": "markdown",
   "metadata": {},
   "source": [
    "# Submission\n",
    "Если все устраевает - готовим Submission на кагл"
   ]
  },
  {
   "cell_type": "code",
   "execution_count": null,
   "metadata": {
    "execution": {
     "iopub.execute_input": "2021-07-27T07:46:35.947996Z",
     "iopub.status.busy": "2021-07-27T07:46:35.947441Z",
     "iopub.status.idle": "2021-07-27T07:46:35.954966Z",
     "shell.execute_reply": "2021-07-27T07:46:35.953892Z",
     "shell.execute_reply.started": "2021-07-27T07:46:35.947745Z"
    }
   },
   "outputs": [],
   "source": [
    "test_data.shape"
   ]
  },
  {
   "cell_type": "code",
   "execution_count": null,
   "metadata": {
    "execution": {
     "iopub.execute_input": "2021-07-27T07:46:35.957678Z",
     "iopub.status.busy": "2021-07-27T07:46:35.956950Z",
     "iopub.status.idle": "2021-07-27T07:46:36.086602Z",
     "shell.execute_reply": "2021-07-27T07:46:36.085865Z",
     "shell.execute_reply.started": "2021-07-27T07:46:35.957244Z"
    }
   },
   "outputs": [],
   "source": [
    "test_data.sample(10)"
   ]
  },
  {
   "cell_type": "code",
   "execution_count": null,
   "metadata": {
    "execution": {
     "iopub.execute_input": "2021-07-27T07:46:36.088392Z",
     "iopub.status.busy": "2021-07-27T07:46:36.087863Z",
     "iopub.status.idle": "2021-07-27T07:46:36.096710Z",
     "shell.execute_reply": "2021-07-27T07:46:36.095951Z",
     "shell.execute_reply.started": "2021-07-27T07:46:36.088336Z"
    }
   },
   "outputs": [],
   "source": [
    "test_data = test_data.drop(['Rating'], axis=1)"
   ]
  },
  {
   "cell_type": "code",
   "execution_count": null,
   "metadata": {
    "execution": {
     "iopub.execute_input": "2021-07-27T07:46:36.098539Z",
     "iopub.status.busy": "2021-07-27T07:46:36.098032Z",
     "iopub.status.idle": "2021-07-27T07:46:36.114634Z",
     "shell.execute_reply": "2021-07-27T07:46:36.113540Z",
     "shell.execute_reply.started": "2021-07-27T07:46:36.098481Z"
    }
   },
   "outputs": [],
   "source": [
    "sample_submission"
   ]
  },
  {
   "cell_type": "code",
   "execution_count": null,
   "metadata": {
    "execution": {
     "iopub.execute_input": "2021-07-27T07:46:36.116453Z",
     "iopub.status.busy": "2021-07-27T07:46:36.116046Z",
     "iopub.status.idle": "2021-07-27T07:46:36.239455Z",
     "shell.execute_reply": "2021-07-27T07:46:36.238653Z",
     "shell.execute_reply.started": "2021-07-27T07:46:36.116266Z"
    }
   },
   "outputs": [],
   "source": [
    "predict_submission = model.predict(test_data)"
   ]
  },
  {
   "cell_type": "code",
   "execution_count": null,
   "metadata": {
    "execution": {
     "iopub.execute_input": "2021-07-27T07:46:36.241315Z",
     "iopub.status.busy": "2021-07-27T07:46:36.240996Z",
     "iopub.status.idle": "2021-07-27T07:46:36.248547Z",
     "shell.execute_reply": "2021-07-27T07:46:36.247434Z",
     "shell.execute_reply.started": "2021-07-27T07:46:36.241260Z"
    }
   },
   "outputs": [],
   "source": [
    "predict_submission"
   ]
  },
  {
   "cell_type": "code",
   "execution_count": null,
   "metadata": {
    "execution": {
     "iopub.execute_input": "2021-07-27T07:46:36.250607Z",
     "iopub.status.busy": "2021-07-27T07:46:36.250126Z",
     "iopub.status.idle": "2021-07-27T07:46:36.261440Z",
     "shell.execute_reply": "2021-07-27T07:46:36.260564Z",
     "shell.execute_reply.started": "2021-07-27T07:46:36.250553Z"
    }
   },
   "outputs": [],
   "source": [
    "# округляем до 0,5 как в фактических оценках\n",
    "# (predict_submission * 2).round(0) / 2\n",
    "predict_submission = np.round(predict_submission * 2)/2\n",
    "predict_submission"
   ]
  },
  {
   "cell_type": "code",
   "execution_count": null,
   "metadata": {
    "execution": {
     "iopub.execute_input": "2021-07-27T07:46:36.263131Z",
     "iopub.status.busy": "2021-07-27T07:46:36.262714Z",
     "iopub.status.idle": "2021-07-27T07:46:36.314891Z",
     "shell.execute_reply": "2021-07-27T07:46:36.313913Z",
     "shell.execute_reply.started": "2021-07-27T07:46:36.263083Z"
    }
   },
   "outputs": [],
   "source": [
    "sample_submission['Rating'] = predict_submission\n",
    "sample_submission.to_csv('submission.csv', index=False)\n",
    "sample_submission.head(10)"
   ]
  },
  {
   "cell_type": "markdown",
   "metadata": {},
   "source": [
    "# What's next?\n",
    "Или что делать, чтоб улучшить результат:\n",
    "* Обработать оставшиеся признаки в понятный для машины формат\n",
    "* Посмотреть, что еще можно извлечь из признаков\n",
    "* Сгенерировать новые признаки\n",
    "* Подгрузить дополнительные данные, например: по населению или благосостоянию городов\n",
    "* Подобрать состав признаков\n",
    "\n",
    "В общем, процесс творческий и весьма увлекательный! Удачи в соревновании!\n"
   ]
  }
 ],
 "metadata": {
  "kernelspec": {
   "display_name": "Python 3",
   "language": "python",
   "name": "python3"
  },
  "language_info": {
   "codemirror_mode": {
    "name": "ipython",
    "version": 3
   },
   "file_extension": ".py",
   "mimetype": "text/x-python",
   "name": "python",
   "nbconvert_exporter": "python",
   "pygments_lexer": "ipython3",
   "version": "3.8.5"
  }
 },
 "nbformat": 4,
 "nbformat_minor": 4
}
