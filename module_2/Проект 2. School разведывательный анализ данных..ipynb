{
 "cells": [
  {
   "cell_type": "markdown",
   "metadata": {},
   "source": [
    "### Основные цели и задачи проекта\n",
    "##### Описание задачи \n",
    "Вас пригласили поучаствовать в одном из проектов UNICEF — международного подразделения ООН, чья миссия состоит в повышении уровня благополучия детей по всему миру. \n",
    "\n",
    "Суть проекта — отследить влияние условий жизни учащихся в возрасте от 15 до 22 лет на их успеваемость по математике, чтобы на ранней стадии выявлять студентов, находящихся в группе риска.\n",
    "\n",
    "И сделать это можно с помощью модели, которая предсказывала бы результаты госэкзамена по математике для каждого ученика школы.\n",
    "\n",
    "##### Основные цели\n",
    "Провести разведывательный анализ (School) датасета для дальнейшего построения модели, которая бы предсказывала результаты госэкзамена по математике для учеников школы.\n",
    "\n",
    "##### Описание датасета (переменные, которые содержит датасет):\n",
    "\n",
    "1. school — аббревиатура школы, в которой учится ученик\n",
    "2. sex — пол ученика ('F' - женский, 'M' - мужской)\n",
    "3. age — возраст ученика (от 15 до 22)\n",
    "4. address — тип адреса ученика ('U' - городской, 'R' - за городом)\n",
    "5. famsize — размер семьи('LE3' <= 3, 'GT3' >3)\n",
    "6. Pstatus — статус совместного жилья родителей ('T' - живут вместе 'A' - раздельно)\n",
    "7. Medu — образование матери (0 - нет, 1 - 4 класса, 2 - 5-9 классы, 3 - среднее специальное или 11 классов, 4 - высшее)\n",
    "8. Fedu — образование отца (0 - нет, 1 - 4 класса, 2 - 5-9 классы, 3 - среднее специальное или 11 классов, 4 - высшее)\n",
    "9. Mjob — работа матери ('teacher' - учитель, 'health' - сфера здравоохранения, 'services' - гос служба, 'at_home' - не работает, 'other' - другое)\n",
    "10. Fjob — работа отца ('teacher' - учитель, 'health' - сфера здравоохранения, 'services' - гос служба, 'at_home' - не работает, 'other' - другое)\n",
    "11. reason — причина выбора школы ('home' - близость к дому, 'reputation' - репутация школы, 'course' - образовательная программа, 'other' - другое)\n",
    "12. guardian — опекун ('mother' - мать, 'father' - отец, 'other' - другое)\n",
    "13. traveltime — время в пути до школы (1 - <15 мин., 2 - 15-30 мин., 3 - 30-60 мин., 4 - >60 мин.)\n",
    "14. studytime — время на учёбу помимо школы в неделю (1 - <2 часов, 2 - 2-5 часов, 3 - 5-10 часов, 4 - >10 часов)\n",
    "15. failures — количество внеучебных неудач (n, если 1<=n<3, иначе 4)\n",
    "16. schoolsup — дополнительная образовательная поддержка (yes или no)\n",
    "17. famsup — семейная образовательная поддержка (yes или no)\n",
    "18. paid — дополнительные платные занятия по математике (yes или no)\n",
    "19. activities — дополнительные внеучебные занятия (yes или no)\n",
    "20. nursery — посещал детский сад (yes или no)\n",
    "21. higher — хочет получить высшее образование (yes или no)\n",
    "22. internet — наличие интернета дома (yes или no)\n",
    "23. romantic — в романтических отношениях (yes или no)\n",
    "24. famrel — семейные отношения (от 1 - очень плохо до 5 - очень хорошо)\n",
    "25. freetime — свободное время после школы (от 1 - очень мало до 5 - очень мого)\n",
    "26. goout — проведение времени с друзьями (от 1 - очень мало до 5 - очень много)\n",
    "27. health — текущее состояние здоровья (от 1 - очень плохо до 5 - очень хорошо)\n",
    "28. absences — количество пропущенных занятий\n",
    "29. score — баллы по госэкзамену по математике"
   ]
  },
  {
   "cell_type": "markdown",
   "metadata": {},
   "source": [
    "# 1. Первичный отсмотр"
   ]
  },
  {
   "cell_type": "code",
   "execution_count": 4,
   "metadata": {},
   "outputs": [],
   "source": [
    "import pandas as pd\n",
    "import numpy as np\n",
    "import matplotlib.pyplot as plt\n",
    "import seaborn as sns\n",
    "from itertools import combinations\n",
    "from scipy.stats import ttest_ind\n",
    "import math"
   ]
  },
  {
   "cell_type": "code",
   "execution_count": 5,
   "metadata": {},
   "outputs": [],
   "source": [
    "# считываем исходный датасет\n",
    "school = pd.read_csv('data/stud_math.csv')"
   ]
  },
  {
   "cell_type": "code",
   "execution_count": 6,
   "metadata": {},
   "outputs": [
    {
     "data": {
      "text/html": [
       "<div>\n",
       "<style scoped>\n",
       "    .dataframe tbody tr th:only-of-type {\n",
       "        vertical-align: middle;\n",
       "    }\n",
       "\n",
       "    .dataframe tbody tr th {\n",
       "        vertical-align: top;\n",
       "    }\n",
       "\n",
       "    .dataframe thead th {\n",
       "        text-align: right;\n",
       "    }\n",
       "</style>\n",
       "<table border=\"1\" class=\"dataframe\">\n",
       "  <thead>\n",
       "    <tr style=\"text-align: right;\">\n",
       "      <th></th>\n",
       "      <th>school</th>\n",
       "      <th>sex</th>\n",
       "      <th>age</th>\n",
       "      <th>address</th>\n",
       "      <th>famsize</th>\n",
       "      <th>Pstatus</th>\n",
       "      <th>Medu</th>\n",
       "      <th>Fedu</th>\n",
       "      <th>Mjob</th>\n",
       "      <th>Fjob</th>\n",
       "      <th>reason</th>\n",
       "      <th>guardian</th>\n",
       "      <th>traveltime</th>\n",
       "      <th>studytime</th>\n",
       "      <th>failures</th>\n",
       "      <th>schoolsup</th>\n",
       "      <th>famsup</th>\n",
       "      <th>paid</th>\n",
       "      <th>activities</th>\n",
       "      <th>nursery</th>\n",
       "      <th>studytime, granular</th>\n",
       "      <th>higher</th>\n",
       "      <th>internet</th>\n",
       "      <th>romantic</th>\n",
       "      <th>famrel</th>\n",
       "      <th>freetime</th>\n",
       "      <th>goout</th>\n",
       "      <th>health</th>\n",
       "      <th>absences</th>\n",
       "      <th>score</th>\n",
       "    </tr>\n",
       "  </thead>\n",
       "  <tbody>\n",
       "    <tr>\n",
       "      <th>0</th>\n",
       "      <td>GP</td>\n",
       "      <td>F</td>\n",
       "      <td>18</td>\n",
       "      <td>U</td>\n",
       "      <td>NaN</td>\n",
       "      <td>A</td>\n",
       "      <td>4.0</td>\n",
       "      <td>4.0</td>\n",
       "      <td>at_home</td>\n",
       "      <td>teacher</td>\n",
       "      <td>course</td>\n",
       "      <td>mother</td>\n",
       "      <td>2.0</td>\n",
       "      <td>2.0</td>\n",
       "      <td>0.0</td>\n",
       "      <td>yes</td>\n",
       "      <td>no</td>\n",
       "      <td>no</td>\n",
       "      <td>no</td>\n",
       "      <td>yes</td>\n",
       "      <td>-6.0</td>\n",
       "      <td>yes</td>\n",
       "      <td>NaN</td>\n",
       "      <td>no</td>\n",
       "      <td>4.0</td>\n",
       "      <td>3.0</td>\n",
       "      <td>4.0</td>\n",
       "      <td>3.0</td>\n",
       "      <td>6.0</td>\n",
       "      <td>30.0</td>\n",
       "    </tr>\n",
       "    <tr>\n",
       "      <th>1</th>\n",
       "      <td>GP</td>\n",
       "      <td>F</td>\n",
       "      <td>17</td>\n",
       "      <td>U</td>\n",
       "      <td>GT3</td>\n",
       "      <td>NaN</td>\n",
       "      <td>1.0</td>\n",
       "      <td>1.0</td>\n",
       "      <td>at_home</td>\n",
       "      <td>other</td>\n",
       "      <td>course</td>\n",
       "      <td>father</td>\n",
       "      <td>1.0</td>\n",
       "      <td>2.0</td>\n",
       "      <td>0.0</td>\n",
       "      <td>no</td>\n",
       "      <td>yes</td>\n",
       "      <td>no</td>\n",
       "      <td>no</td>\n",
       "      <td>no</td>\n",
       "      <td>-6.0</td>\n",
       "      <td>yes</td>\n",
       "      <td>yes</td>\n",
       "      <td>no</td>\n",
       "      <td>5.0</td>\n",
       "      <td>3.0</td>\n",
       "      <td>3.0</td>\n",
       "      <td>3.0</td>\n",
       "      <td>4.0</td>\n",
       "      <td>30.0</td>\n",
       "    </tr>\n",
       "    <tr>\n",
       "      <th>2</th>\n",
       "      <td>GP</td>\n",
       "      <td>F</td>\n",
       "      <td>15</td>\n",
       "      <td>U</td>\n",
       "      <td>LE3</td>\n",
       "      <td>T</td>\n",
       "      <td>1.0</td>\n",
       "      <td>1.0</td>\n",
       "      <td>at_home</td>\n",
       "      <td>other</td>\n",
       "      <td>other</td>\n",
       "      <td>mother</td>\n",
       "      <td>1.0</td>\n",
       "      <td>2.0</td>\n",
       "      <td>3.0</td>\n",
       "      <td>yes</td>\n",
       "      <td>no</td>\n",
       "      <td>NaN</td>\n",
       "      <td>no</td>\n",
       "      <td>yes</td>\n",
       "      <td>-6.0</td>\n",
       "      <td>yes</td>\n",
       "      <td>yes</td>\n",
       "      <td>NaN</td>\n",
       "      <td>4.0</td>\n",
       "      <td>3.0</td>\n",
       "      <td>2.0</td>\n",
       "      <td>3.0</td>\n",
       "      <td>10.0</td>\n",
       "      <td>50.0</td>\n",
       "    </tr>\n",
       "    <tr>\n",
       "      <th>3</th>\n",
       "      <td>GP</td>\n",
       "      <td>F</td>\n",
       "      <td>15</td>\n",
       "      <td>U</td>\n",
       "      <td>GT3</td>\n",
       "      <td>T</td>\n",
       "      <td>4.0</td>\n",
       "      <td>2.0</td>\n",
       "      <td>health</td>\n",
       "      <td>NaN</td>\n",
       "      <td>home</td>\n",
       "      <td>mother</td>\n",
       "      <td>1.0</td>\n",
       "      <td>3.0</td>\n",
       "      <td>0.0</td>\n",
       "      <td>no</td>\n",
       "      <td>yes</td>\n",
       "      <td>yes</td>\n",
       "      <td>yes</td>\n",
       "      <td>yes</td>\n",
       "      <td>-9.0</td>\n",
       "      <td>yes</td>\n",
       "      <td>yes</td>\n",
       "      <td>yes</td>\n",
       "      <td>3.0</td>\n",
       "      <td>2.0</td>\n",
       "      <td>2.0</td>\n",
       "      <td>5.0</td>\n",
       "      <td>2.0</td>\n",
       "      <td>75.0</td>\n",
       "    </tr>\n",
       "    <tr>\n",
       "      <th>4</th>\n",
       "      <td>GP</td>\n",
       "      <td>F</td>\n",
       "      <td>16</td>\n",
       "      <td>U</td>\n",
       "      <td>GT3</td>\n",
       "      <td>T</td>\n",
       "      <td>3.0</td>\n",
       "      <td>3.0</td>\n",
       "      <td>other</td>\n",
       "      <td>other</td>\n",
       "      <td>home</td>\n",
       "      <td>father</td>\n",
       "      <td>1.0</td>\n",
       "      <td>2.0</td>\n",
       "      <td>0.0</td>\n",
       "      <td>no</td>\n",
       "      <td>yes</td>\n",
       "      <td>yes</td>\n",
       "      <td>no</td>\n",
       "      <td>yes</td>\n",
       "      <td>-6.0</td>\n",
       "      <td>yes</td>\n",
       "      <td>no</td>\n",
       "      <td>no</td>\n",
       "      <td>4.0</td>\n",
       "      <td>3.0</td>\n",
       "      <td>2.0</td>\n",
       "      <td>5.0</td>\n",
       "      <td>4.0</td>\n",
       "      <td>50.0</td>\n",
       "    </tr>\n",
       "  </tbody>\n",
       "</table>\n",
       "</div>"
      ],
      "text/plain": [
       "  school sex  age address famsize Pstatus  Medu  Fedu     Mjob     Fjob  \\\n",
       "0     GP   F   18       U     NaN       A   4.0   4.0  at_home  teacher   \n",
       "1     GP   F   17       U     GT3     NaN   1.0   1.0  at_home    other   \n",
       "2     GP   F   15       U     LE3       T   1.0   1.0  at_home    other   \n",
       "3     GP   F   15       U     GT3       T   4.0   2.0   health      NaN   \n",
       "4     GP   F   16       U     GT3       T   3.0   3.0    other    other   \n",
       "\n",
       "   reason guardian  traveltime  studytime  failures schoolsup famsup paid  \\\n",
       "0  course   mother         2.0        2.0       0.0       yes     no   no   \n",
       "1  course   father         1.0        2.0       0.0        no    yes   no   \n",
       "2   other   mother         1.0        2.0       3.0       yes     no  NaN   \n",
       "3    home   mother         1.0        3.0       0.0        no    yes  yes   \n",
       "4    home   father         1.0        2.0       0.0        no    yes  yes   \n",
       "\n",
       "  activities nursery  studytime, granular higher internet romantic  famrel  \\\n",
       "0         no     yes                 -6.0    yes      NaN       no     4.0   \n",
       "1         no      no                 -6.0    yes      yes       no     5.0   \n",
       "2         no     yes                 -6.0    yes      yes      NaN     4.0   \n",
       "3        yes     yes                 -9.0    yes      yes      yes     3.0   \n",
       "4         no     yes                 -6.0    yes       no       no     4.0   \n",
       "\n",
       "   freetime  goout  health  absences  score  \n",
       "0       3.0    4.0     3.0       6.0   30.0  \n",
       "1       3.0    3.0     3.0       4.0   30.0  \n",
       "2       3.0    2.0     3.0      10.0   50.0  \n",
       "3       2.0    2.0     5.0       2.0   75.0  \n",
       "4       3.0    2.0     5.0       4.0   50.0  "
      ]
     },
     "metadata": {},
     "output_type": "display_data"
    }
   ],
   "source": [
    "# сделаем расширенный формат вывода для столцов \n",
    "pd.set_option('display.max_columns', 40)\n",
    "display(school.head(5))"
   ]
  },
  {
   "cell_type": "code",
   "execution_count": 7,
   "metadata": {},
   "outputs": [
    {
     "name": "stdout",
     "output_type": "stream",
     "text": [
      "<class 'pandas.core.frame.DataFrame'>\n",
      "RangeIndex: 395 entries, 0 to 394\n",
      "Data columns (total 30 columns):\n",
      " #   Column               Non-Null Count  Dtype  \n",
      "---  ------               --------------  -----  \n",
      " 0   school               395 non-null    object \n",
      " 1   sex                  395 non-null    object \n",
      " 2   age                  395 non-null    int64  \n",
      " 3   address              378 non-null    object \n",
      " 4   famsize              368 non-null    object \n",
      " 5   Pstatus              350 non-null    object \n",
      " 6   Medu                 392 non-null    float64\n",
      " 7   Fedu                 371 non-null    float64\n",
      " 8   Mjob                 376 non-null    object \n",
      " 9   Fjob                 359 non-null    object \n",
      " 10  reason               378 non-null    object \n",
      " 11  guardian             364 non-null    object \n",
      " 12  traveltime           367 non-null    float64\n",
      " 13  studytime            388 non-null    float64\n",
      " 14  failures             373 non-null    float64\n",
      " 15  schoolsup            386 non-null    object \n",
      " 16  famsup               356 non-null    object \n",
      " 17  paid                 355 non-null    object \n",
      " 18  activities           381 non-null    object \n",
      " 19  nursery              379 non-null    object \n",
      " 20  studytime, granular  388 non-null    float64\n",
      " 21  higher               375 non-null    object \n",
      " 22  internet             361 non-null    object \n",
      " 23  romantic             364 non-null    object \n",
      " 24  famrel               368 non-null    float64\n",
      " 25  freetime             384 non-null    float64\n",
      " 26  goout                387 non-null    float64\n",
      " 27  health               380 non-null    float64\n",
      " 28  absences             383 non-null    float64\n",
      " 29  score                389 non-null    float64\n",
      "dtypes: float64(12), int64(1), object(17)\n",
      "memory usage: 92.7+ KB\n"
     ]
    }
   ],
   "source": [
    "# столбцы считались корректно\n",
    "# менять формат вручную не нужно\n",
    "# теперь проверим все ли столбцы, что есть в описании загрузились \n",
    "school.info()"
   ]
  },
  {
   "cell_type": "markdown",
   "metadata": {},
   "source": [
    "### Итог:\n",
    "- загрузились 30 столбцов, а в описании 29 - Вопрос ??? \n",
    "    - (столбец 'studytime, granular' - отсутствует в описании)\n",
    "- всего 395 записей"
   ]
  },
  {
   "cell_type": "markdown",
   "metadata": {},
   "source": [
    "# 2. Первичный отсмотр данных в столбцах"
   ]
  },
  {
   "cell_type": "markdown",
   "metadata": {},
   "source": [
    "Из описания датасета и первичного осмотра видно, что:\n",
    "1. Числовых рядов - 3 (три): \n",
    "    - age, absences, score\n",
    "2. Бинарных (два значения) - 12:\n",
    "    - sex, address, famsize, Pstatus, schoolsup, famsup, paid, activities, nursery, higher, internet, romantic\n",
    "3. Оценочные (несколько значений) - 13:\n",
    "    - Medu, Fedu, Mjob, Fjob, reason, guardian, traveltime, studytime, failures, famrel, freetime, goout, health\n",
    "4. Остальные (в том числе Номинальные) (их пока мы не можем отнести к какой-нибудь группе) - 2:\n",
    "    - school, studytime_granular\n",
    "\n",
    "проверяем - всего 30 столбцов\n",
    "столбец 'studytime, granular' - отсутствует в описании"
   ]
  },
  {
   "cell_type": "code",
   "execution_count": 8,
   "metadata": {},
   "outputs": [
    {
     "data": {
      "text/plain": [
       "Index(['school', 'sex', 'age', 'address', 'famsize', 'Pstatus', 'Medu', 'Fedu',\n",
       "       'Mjob', 'Fjob', 'reason', 'guardian', 'traveltime', 'studytime',\n",
       "       'failures', 'schoolsup', 'famsup', 'paid', 'activities', 'nursery',\n",
       "       'studytime, granular', 'higher', 'internet', 'romantic', 'famrel',\n",
       "       'freetime', 'goout', 'health', 'absences', 'score'],\n",
       "      dtype='object')"
      ]
     },
     "execution_count": 8,
     "metadata": {},
     "output_type": "execute_result"
    }
   ],
   "source": [
    "# посмотрим как записаны столбцы\n",
    "school.columns"
   ]
  },
  {
   "cell_type": "code",
   "execution_count": 9,
   "metadata": {},
   "outputs": [],
   "source": [
    "# переименуем столбцы начинающиеся с большой буквы на маленькую для удобства\n",
    "# а также сложные названия в простые \n",
    "school.rename(columns={'Pstatus': 'p_status', 'Medu':'m_edu', 'Fedu':'f_edu',\n",
    "       'Mjob':'m_job', 'Fjob':'f_job', 'studytime, granular': 'studytime_gr'}, inplace=True)"
   ]
  },
  {
   "cell_type": "code",
   "execution_count": 10,
   "metadata": {},
   "outputs": [
    {
     "data": {
      "text/html": [
       "<div>\n",
       "<style scoped>\n",
       "    .dataframe tbody tr th:only-of-type {\n",
       "        vertical-align: middle;\n",
       "    }\n",
       "\n",
       "    .dataframe tbody tr th {\n",
       "        vertical-align: top;\n",
       "    }\n",
       "\n",
       "    .dataframe thead th {\n",
       "        text-align: right;\n",
       "    }\n",
       "</style>\n",
       "<table border=\"1\" class=\"dataframe\">\n",
       "  <thead>\n",
       "    <tr style=\"text-align: right;\">\n",
       "      <th></th>\n",
       "      <th>school</th>\n",
       "      <th>sex</th>\n",
       "      <th>age</th>\n",
       "      <th>address</th>\n",
       "      <th>famsize</th>\n",
       "      <th>p_status</th>\n",
       "      <th>m_edu</th>\n",
       "      <th>f_edu</th>\n",
       "      <th>m_job</th>\n",
       "      <th>f_job</th>\n",
       "      <th>reason</th>\n",
       "      <th>guardian</th>\n",
       "      <th>traveltime</th>\n",
       "      <th>studytime</th>\n",
       "      <th>failures</th>\n",
       "      <th>schoolsup</th>\n",
       "      <th>famsup</th>\n",
       "      <th>paid</th>\n",
       "      <th>activities</th>\n",
       "      <th>nursery</th>\n",
       "      <th>studytime_gr</th>\n",
       "      <th>higher</th>\n",
       "      <th>internet</th>\n",
       "      <th>romantic</th>\n",
       "      <th>famrel</th>\n",
       "      <th>freetime</th>\n",
       "      <th>goout</th>\n",
       "      <th>health</th>\n",
       "      <th>absences</th>\n",
       "      <th>score</th>\n",
       "    </tr>\n",
       "  </thead>\n",
       "  <tbody>\n",
       "    <tr>\n",
       "      <th>0</th>\n",
       "      <td>GP</td>\n",
       "      <td>F</td>\n",
       "      <td>18</td>\n",
       "      <td>U</td>\n",
       "      <td>NaN</td>\n",
       "      <td>A</td>\n",
       "      <td>4.0</td>\n",
       "      <td>4.0</td>\n",
       "      <td>at_home</td>\n",
       "      <td>teacher</td>\n",
       "      <td>course</td>\n",
       "      <td>mother</td>\n",
       "      <td>2.0</td>\n",
       "      <td>2.0</td>\n",
       "      <td>0.0</td>\n",
       "      <td>yes</td>\n",
       "      <td>no</td>\n",
       "      <td>no</td>\n",
       "      <td>no</td>\n",
       "      <td>yes</td>\n",
       "      <td>-6.0</td>\n",
       "      <td>yes</td>\n",
       "      <td>NaN</td>\n",
       "      <td>no</td>\n",
       "      <td>4.0</td>\n",
       "      <td>3.0</td>\n",
       "      <td>4.0</td>\n",
       "      <td>3.0</td>\n",
       "      <td>6.0</td>\n",
       "      <td>30.0</td>\n",
       "    </tr>\n",
       "    <tr>\n",
       "      <th>1</th>\n",
       "      <td>GP</td>\n",
       "      <td>F</td>\n",
       "      <td>17</td>\n",
       "      <td>U</td>\n",
       "      <td>GT3</td>\n",
       "      <td>NaN</td>\n",
       "      <td>1.0</td>\n",
       "      <td>1.0</td>\n",
       "      <td>at_home</td>\n",
       "      <td>other</td>\n",
       "      <td>course</td>\n",
       "      <td>father</td>\n",
       "      <td>1.0</td>\n",
       "      <td>2.0</td>\n",
       "      <td>0.0</td>\n",
       "      <td>no</td>\n",
       "      <td>yes</td>\n",
       "      <td>no</td>\n",
       "      <td>no</td>\n",
       "      <td>no</td>\n",
       "      <td>-6.0</td>\n",
       "      <td>yes</td>\n",
       "      <td>yes</td>\n",
       "      <td>no</td>\n",
       "      <td>5.0</td>\n",
       "      <td>3.0</td>\n",
       "      <td>3.0</td>\n",
       "      <td>3.0</td>\n",
       "      <td>4.0</td>\n",
       "      <td>30.0</td>\n",
       "    </tr>\n",
       "    <tr>\n",
       "      <th>2</th>\n",
       "      <td>GP</td>\n",
       "      <td>F</td>\n",
       "      <td>15</td>\n",
       "      <td>U</td>\n",
       "      <td>LE3</td>\n",
       "      <td>T</td>\n",
       "      <td>1.0</td>\n",
       "      <td>1.0</td>\n",
       "      <td>at_home</td>\n",
       "      <td>other</td>\n",
       "      <td>other</td>\n",
       "      <td>mother</td>\n",
       "      <td>1.0</td>\n",
       "      <td>2.0</td>\n",
       "      <td>3.0</td>\n",
       "      <td>yes</td>\n",
       "      <td>no</td>\n",
       "      <td>NaN</td>\n",
       "      <td>no</td>\n",
       "      <td>yes</td>\n",
       "      <td>-6.0</td>\n",
       "      <td>yes</td>\n",
       "      <td>yes</td>\n",
       "      <td>NaN</td>\n",
       "      <td>4.0</td>\n",
       "      <td>3.0</td>\n",
       "      <td>2.0</td>\n",
       "      <td>3.0</td>\n",
       "      <td>10.0</td>\n",
       "      <td>50.0</td>\n",
       "    </tr>\n",
       "    <tr>\n",
       "      <th>3</th>\n",
       "      <td>GP</td>\n",
       "      <td>F</td>\n",
       "      <td>15</td>\n",
       "      <td>U</td>\n",
       "      <td>GT3</td>\n",
       "      <td>T</td>\n",
       "      <td>4.0</td>\n",
       "      <td>2.0</td>\n",
       "      <td>health</td>\n",
       "      <td>NaN</td>\n",
       "      <td>home</td>\n",
       "      <td>mother</td>\n",
       "      <td>1.0</td>\n",
       "      <td>3.0</td>\n",
       "      <td>0.0</td>\n",
       "      <td>no</td>\n",
       "      <td>yes</td>\n",
       "      <td>yes</td>\n",
       "      <td>yes</td>\n",
       "      <td>yes</td>\n",
       "      <td>-9.0</td>\n",
       "      <td>yes</td>\n",
       "      <td>yes</td>\n",
       "      <td>yes</td>\n",
       "      <td>3.0</td>\n",
       "      <td>2.0</td>\n",
       "      <td>2.0</td>\n",
       "      <td>5.0</td>\n",
       "      <td>2.0</td>\n",
       "      <td>75.0</td>\n",
       "    </tr>\n",
       "    <tr>\n",
       "      <th>4</th>\n",
       "      <td>GP</td>\n",
       "      <td>F</td>\n",
       "      <td>16</td>\n",
       "      <td>U</td>\n",
       "      <td>GT3</td>\n",
       "      <td>T</td>\n",
       "      <td>3.0</td>\n",
       "      <td>3.0</td>\n",
       "      <td>other</td>\n",
       "      <td>other</td>\n",
       "      <td>home</td>\n",
       "      <td>father</td>\n",
       "      <td>1.0</td>\n",
       "      <td>2.0</td>\n",
       "      <td>0.0</td>\n",
       "      <td>no</td>\n",
       "      <td>yes</td>\n",
       "      <td>yes</td>\n",
       "      <td>no</td>\n",
       "      <td>yes</td>\n",
       "      <td>-6.0</td>\n",
       "      <td>yes</td>\n",
       "      <td>no</td>\n",
       "      <td>no</td>\n",
       "      <td>4.0</td>\n",
       "      <td>3.0</td>\n",
       "      <td>2.0</td>\n",
       "      <td>5.0</td>\n",
       "      <td>4.0</td>\n",
       "      <td>50.0</td>\n",
       "    </tr>\n",
       "  </tbody>\n",
       "</table>\n",
       "</div>"
      ],
      "text/plain": [
       "  school sex  age address famsize p_status  m_edu  f_edu    m_job    f_job  \\\n",
       "0     GP   F   18       U     NaN        A    4.0    4.0  at_home  teacher   \n",
       "1     GP   F   17       U     GT3      NaN    1.0    1.0  at_home    other   \n",
       "2     GP   F   15       U     LE3        T    1.0    1.0  at_home    other   \n",
       "3     GP   F   15       U     GT3        T    4.0    2.0   health      NaN   \n",
       "4     GP   F   16       U     GT3        T    3.0    3.0    other    other   \n",
       "\n",
       "   reason guardian  traveltime  studytime  failures schoolsup famsup paid  \\\n",
       "0  course   mother         2.0        2.0       0.0       yes     no   no   \n",
       "1  course   father         1.0        2.0       0.0        no    yes   no   \n",
       "2   other   mother         1.0        2.0       3.0       yes     no  NaN   \n",
       "3    home   mother         1.0        3.0       0.0        no    yes  yes   \n",
       "4    home   father         1.0        2.0       0.0        no    yes  yes   \n",
       "\n",
       "  activities nursery  studytime_gr higher internet romantic  famrel  freetime  \\\n",
       "0         no     yes          -6.0    yes      NaN       no     4.0       3.0   \n",
       "1         no      no          -6.0    yes      yes       no     5.0       3.0   \n",
       "2         no     yes          -6.0    yes      yes      NaN     4.0       3.0   \n",
       "3        yes     yes          -9.0    yes      yes      yes     3.0       2.0   \n",
       "4         no     yes          -6.0    yes       no       no     4.0       3.0   \n",
       "\n",
       "   goout  health  absences  score  \n",
       "0    4.0     3.0       6.0   30.0  \n",
       "1    3.0     3.0       4.0   30.0  \n",
       "2    2.0     3.0      10.0   50.0  \n",
       "3    2.0     5.0       2.0   75.0  \n",
       "4    2.0     5.0       4.0   50.0  "
      ]
     },
     "metadata": {},
     "output_type": "display_data"
    }
   ],
   "source": [
    "# проверим\n",
    "display(school.head(5))"
   ]
  },
  {
   "cell_type": "markdown",
   "metadata": {},
   "source": [
    "### Посмотрим сколько школ содержит наш датасет (school)"
   ]
  },
  {
   "cell_type": "code",
   "execution_count": 11,
   "metadata": {},
   "outputs": [
    {
     "data": {
      "text/html": [
       "<div>\n",
       "<style scoped>\n",
       "    .dataframe tbody tr th:only-of-type {\n",
       "        vertical-align: middle;\n",
       "    }\n",
       "\n",
       "    .dataframe tbody tr th {\n",
       "        vertical-align: top;\n",
       "    }\n",
       "\n",
       "    .dataframe thead th {\n",
       "        text-align: right;\n",
       "    }\n",
       "</style>\n",
       "<table border=\"1\" class=\"dataframe\">\n",
       "  <thead>\n",
       "    <tr style=\"text-align: right;\">\n",
       "      <th></th>\n",
       "      <th>school</th>\n",
       "    </tr>\n",
       "  </thead>\n",
       "  <tbody>\n",
       "    <tr>\n",
       "      <th>GP</th>\n",
       "      <td>349</td>\n",
       "    </tr>\n",
       "    <tr>\n",
       "      <th>MS</th>\n",
       "      <td>46</td>\n",
       "    </tr>\n",
       "  </tbody>\n",
       "</table>\n",
       "</div>"
      ],
      "text/plain": [
       "    school\n",
       "GP     349\n",
       "MS      46"
      ]
     },
     "execution_count": 11,
     "metadata": {},
     "output_type": "execute_result"
    }
   ],
   "source": [
    "pd.DataFrame(school.school.value_counts())"
   ]
  },
  {
   "cell_type": "code",
   "execution_count": 12,
   "metadata": {},
   "outputs": [
    {
     "name": "stdout",
     "output_type": "stream",
     "text": [
      "<class 'pandas.core.frame.DataFrame'>\n",
      "RangeIndex: 395 entries, 0 to 394\n",
      "Data columns (total 1 columns):\n",
      " #   Column  Non-Null Count  Dtype \n",
      "---  ------  --------------  ----- \n",
      " 0   school  395 non-null    object\n",
      "dtypes: object(1)\n",
      "memory usage: 3.2+ KB\n"
     ]
    }
   ],
   "source": [
    "school.loc[:, ['school']].info()"
   ]
  },
  {
   "cell_type": "markdown",
   "metadata": {},
   "source": [
    "### Итог:\n",
    "- school: у нас 2 названия школ. Это означает что по сути это бинарный признак. \n",
    "- пропусков нет"
   ]
  },
  {
   "cell_type": "markdown",
   "metadata": {},
   "source": [
    "### Посмотрим на столбец studytime и studytime_gr, которого не было в описании"
   ]
  },
  {
   "cell_type": "markdown",
   "metadata": {},
   "source": [
    "В описании полей отсутствуют сведения о переменной \"studytime, granular\", значения которой к тому же отрицательны и неинтерпретируемы. Проверим взаимосвязь значений этого параметра со \"studytime\"."
   ]
  },
  {
   "cell_type": "code",
   "execution_count": 13,
   "metadata": {},
   "outputs": [
    {
     "data": {
      "text/html": [
       "<div>\n",
       "<style scoped>\n",
       "    .dataframe tbody tr th:only-of-type {\n",
       "        vertical-align: middle;\n",
       "    }\n",
       "\n",
       "    .dataframe tbody tr th {\n",
       "        vertical-align: top;\n",
       "    }\n",
       "\n",
       "    .dataframe thead th {\n",
       "        text-align: right;\n",
       "    }\n",
       "</style>\n",
       "<table border=\"1\" class=\"dataframe\">\n",
       "  <thead>\n",
       "    <tr style=\"text-align: right;\">\n",
       "      <th></th>\n",
       "      <th>studytime</th>\n",
       "      <th>studytime_gr</th>\n",
       "    </tr>\n",
       "  </thead>\n",
       "  <tbody>\n",
       "    <tr>\n",
       "      <th>0</th>\n",
       "      <td>2.0</td>\n",
       "      <td>-6.0</td>\n",
       "    </tr>\n",
       "    <tr>\n",
       "      <th>1</th>\n",
       "      <td>2.0</td>\n",
       "      <td>-6.0</td>\n",
       "    </tr>\n",
       "    <tr>\n",
       "      <th>2</th>\n",
       "      <td>2.0</td>\n",
       "      <td>-6.0</td>\n",
       "    </tr>\n",
       "    <tr>\n",
       "      <th>3</th>\n",
       "      <td>3.0</td>\n",
       "      <td>-9.0</td>\n",
       "    </tr>\n",
       "    <tr>\n",
       "      <th>4</th>\n",
       "      <td>2.0</td>\n",
       "      <td>-6.0</td>\n",
       "    </tr>\n",
       "    <tr>\n",
       "      <th>...</th>\n",
       "      <td>...</td>\n",
       "      <td>...</td>\n",
       "    </tr>\n",
       "    <tr>\n",
       "      <th>390</th>\n",
       "      <td>2.0</td>\n",
       "      <td>-6.0</td>\n",
       "    </tr>\n",
       "    <tr>\n",
       "      <th>391</th>\n",
       "      <td>1.0</td>\n",
       "      <td>-3.0</td>\n",
       "    </tr>\n",
       "    <tr>\n",
       "      <th>392</th>\n",
       "      <td>1.0</td>\n",
       "      <td>-3.0</td>\n",
       "    </tr>\n",
       "    <tr>\n",
       "      <th>393</th>\n",
       "      <td>1.0</td>\n",
       "      <td>-3.0</td>\n",
       "    </tr>\n",
       "    <tr>\n",
       "      <th>394</th>\n",
       "      <td>1.0</td>\n",
       "      <td>-3.0</td>\n",
       "    </tr>\n",
       "  </tbody>\n",
       "</table>\n",
       "<p>395 rows × 2 columns</p>\n",
       "</div>"
      ],
      "text/plain": [
       "     studytime  studytime_gr\n",
       "0          2.0          -6.0\n",
       "1          2.0          -6.0\n",
       "2          2.0          -6.0\n",
       "3          3.0          -9.0\n",
       "4          2.0          -6.0\n",
       "..         ...           ...\n",
       "390        2.0          -6.0\n",
       "391        1.0          -3.0\n",
       "392        1.0          -3.0\n",
       "393        1.0          -3.0\n",
       "394        1.0          -3.0\n",
       "\n",
       "[395 rows x 2 columns]"
      ]
     },
     "execution_count": 13,
     "metadata": {},
     "output_type": "execute_result"
    }
   ],
   "source": [
    "# посмотрим визуально на несколько значений\n",
    "school.loc[:,['studytime','studytime_gr']]"
   ]
  },
  {
   "cell_type": "code",
   "execution_count": 14,
   "metadata": {},
   "outputs": [
    {
     "data": {
      "text/html": [
       "<div>\n",
       "<style scoped>\n",
       "    .dataframe tbody tr th:only-of-type {\n",
       "        vertical-align: middle;\n",
       "    }\n",
       "\n",
       "    .dataframe tbody tr th {\n",
       "        vertical-align: top;\n",
       "    }\n",
       "\n",
       "    .dataframe thead th {\n",
       "        text-align: right;\n",
       "    }\n",
       "</style>\n",
       "<table border=\"1\" class=\"dataframe\">\n",
       "  <thead>\n",
       "    <tr style=\"text-align: right;\">\n",
       "      <th></th>\n",
       "      <th>studytime</th>\n",
       "    </tr>\n",
       "  </thead>\n",
       "  <tbody>\n",
       "    <tr>\n",
       "      <th>2.0</th>\n",
       "      <td>194</td>\n",
       "    </tr>\n",
       "    <tr>\n",
       "      <th>1.0</th>\n",
       "      <td>103</td>\n",
       "    </tr>\n",
       "    <tr>\n",
       "      <th>3.0</th>\n",
       "      <td>64</td>\n",
       "    </tr>\n",
       "    <tr>\n",
       "      <th>4.0</th>\n",
       "      <td>27</td>\n",
       "    </tr>\n",
       "  </tbody>\n",
       "</table>\n",
       "</div>"
      ],
      "text/plain": [
       "     studytime\n",
       "2.0        194\n",
       "1.0        103\n",
       "3.0         64\n",
       "4.0         27"
      ]
     },
     "metadata": {},
     "output_type": "display_data"
    },
    {
     "data": {
      "text/html": [
       "<div>\n",
       "<style scoped>\n",
       "    .dataframe tbody tr th:only-of-type {\n",
       "        vertical-align: middle;\n",
       "    }\n",
       "\n",
       "    .dataframe tbody tr th {\n",
       "        vertical-align: top;\n",
       "    }\n",
       "\n",
       "    .dataframe thead th {\n",
       "        text-align: right;\n",
       "    }\n",
       "</style>\n",
       "<table border=\"1\" class=\"dataframe\">\n",
       "  <thead>\n",
       "    <tr style=\"text-align: right;\">\n",
       "      <th></th>\n",
       "      <th>studytime_gr</th>\n",
       "    </tr>\n",
       "  </thead>\n",
       "  <tbody>\n",
       "    <tr>\n",
       "      <th>-6.0</th>\n",
       "      <td>194</td>\n",
       "    </tr>\n",
       "    <tr>\n",
       "      <th>-3.0</th>\n",
       "      <td>103</td>\n",
       "    </tr>\n",
       "    <tr>\n",
       "      <th>-9.0</th>\n",
       "      <td>64</td>\n",
       "    </tr>\n",
       "    <tr>\n",
       "      <th>-12.0</th>\n",
       "      <td>27</td>\n",
       "    </tr>\n",
       "  </tbody>\n",
       "</table>\n",
       "</div>"
      ],
      "text/plain": [
       "       studytime_gr\n",
       "-6.0            194\n",
       "-3.0            103\n",
       "-9.0             64\n",
       "-12.0            27"
      ]
     },
     "metadata": {},
     "output_type": "display_data"
    }
   ],
   "source": [
    "# распределение значений этих столбцов\n",
    "display(pd.DataFrame(school.studytime.value_counts()),pd.DataFrame(school.studytime_gr.value_counts()))"
   ]
  },
  {
   "cell_type": "code",
   "execution_count": 15,
   "metadata": {},
   "outputs": [
    {
     "data": {
      "text/html": [
       "<div>\n",
       "<style scoped>\n",
       "    .dataframe tbody tr th:only-of-type {\n",
       "        vertical-align: middle;\n",
       "    }\n",
       "\n",
       "    .dataframe tbody tr th {\n",
       "        vertical-align: top;\n",
       "    }\n",
       "\n",
       "    .dataframe thead th {\n",
       "        text-align: right;\n",
       "    }\n",
       "</style>\n",
       "<table border=\"1\" class=\"dataframe\">\n",
       "  <thead>\n",
       "    <tr style=\"text-align: right;\">\n",
       "      <th></th>\n",
       "      <th>studytime</th>\n",
       "      <th>studytime_gr</th>\n",
       "    </tr>\n",
       "  </thead>\n",
       "  <tbody>\n",
       "    <tr>\n",
       "      <th>studytime</th>\n",
       "      <td>1.0</td>\n",
       "      <td>-1.0</td>\n",
       "    </tr>\n",
       "    <tr>\n",
       "      <th>studytime_gr</th>\n",
       "      <td>-1.0</td>\n",
       "      <td>1.0</td>\n",
       "    </tr>\n",
       "  </tbody>\n",
       "</table>\n",
       "</div>"
      ],
      "text/plain": [
       "              studytime  studytime_gr\n",
       "studytime           1.0          -1.0\n",
       "studytime_gr       -1.0           1.0"
      ]
     },
     "execution_count": 15,
     "metadata": {},
     "output_type": "execute_result"
    }
   ],
   "source": [
    "# значения во втором столбце \n",
    "# это просто умножение на -3 значений первого столбца\n",
    "# и как следствие 100% корреляция этих столбцом\n",
    "school[['studytime', 'studytime_gr']].corr()"
   ]
  },
  {
   "cell_type": "markdown",
   "metadata": {},
   "source": [
    "Понятно, что параметр \"studytime, granular\" для анализа нам неинтересен. Удалим его из набора данных."
   ]
  },
  {
   "cell_type": "code",
   "execution_count": 16,
   "metadata": {},
   "outputs": [],
   "source": [
    "# удаляем столбец studytime_gr для дальнейшего анализа он не пригодится\n",
    "school.drop(['studytime_gr'], inplace = True, axis = 1)"
   ]
  },
  {
   "cell_type": "code",
   "execution_count": 17,
   "metadata": {},
   "outputs": [
    {
     "name": "stdout",
     "output_type": "stream",
     "text": [
      "<class 'pandas.core.frame.DataFrame'>\n",
      "RangeIndex: 395 entries, 0 to 394\n",
      "Data columns (total 1 columns):\n",
      " #   Column     Non-Null Count  Dtype  \n",
      "---  ------     --------------  -----  \n",
      " 0   studytime  388 non-null    float64\n",
      "dtypes: float64(1)\n",
      "memory usage: 3.2 KB\n"
     ]
    }
   ],
   "source": [
    "# продолжаем анализ столбца studytime\n",
    "school.loc[:, ['studytime']].info()"
   ]
  },
  {
   "cell_type": "code",
   "execution_count": 18,
   "metadata": {},
   "outputs": [
    {
     "data": {
      "text/plain": [
       "7"
      ]
     },
     "execution_count": 18,
     "metadata": {},
     "output_type": "execute_result"
    }
   ],
   "source": [
    "# Пропуски в данных\n",
    "395-388"
   ]
  },
  {
   "cell_type": "markdown",
   "metadata": {},
   "source": [
    "### Итог:\n",
    "- studytime: четыре уникальных значения (оценки). То есть это оценочный категориальный признак.\n",
    "7 строк в которых время на учёбу помимо школы в неделю неизвестно (это 1.77%). Заполнить пропуски на данный момент не представляется возможным, так как вариантов для заполнения слишком много, потому что выделить какую-то одну оценку из четырех однозначно доминирующую невозможно.\n",
    "Столбец 'studytime, granular' удален, так как он на 100% обратно скоррелирован с studytime."
   ]
  },
  {
   "cell_type": "markdown",
   "metadata": {},
   "source": [
    "### Посмотрим  на столбец Medu — образование матери (0 - нет, 1 - 4 класса, 2 - 5-9 классы, 3 - среднее специальное или 11 классов, 4 - высшее"
   ]
  },
  {
   "cell_type": "code",
   "execution_count": 19,
   "metadata": {},
   "outputs": [
    {
     "data": {
      "text/html": [
       "<div>\n",
       "<style scoped>\n",
       "    .dataframe tbody tr th:only-of-type {\n",
       "        vertical-align: middle;\n",
       "    }\n",
       "\n",
       "    .dataframe tbody tr th {\n",
       "        vertical-align: top;\n",
       "    }\n",
       "\n",
       "    .dataframe thead th {\n",
       "        text-align: right;\n",
       "    }\n",
       "</style>\n",
       "<table border=\"1\" class=\"dataframe\">\n",
       "  <thead>\n",
       "    <tr style=\"text-align: right;\">\n",
       "      <th></th>\n",
       "      <th>m_edu</th>\n",
       "    </tr>\n",
       "  </thead>\n",
       "  <tbody>\n",
       "    <tr>\n",
       "      <th>4.0</th>\n",
       "      <td>131</td>\n",
       "    </tr>\n",
       "    <tr>\n",
       "      <th>2.0</th>\n",
       "      <td>102</td>\n",
       "    </tr>\n",
       "    <tr>\n",
       "      <th>3.0</th>\n",
       "      <td>97</td>\n",
       "    </tr>\n",
       "    <tr>\n",
       "      <th>1.0</th>\n",
       "      <td>59</td>\n",
       "    </tr>\n",
       "    <tr>\n",
       "      <th>0.0</th>\n",
       "      <td>3</td>\n",
       "    </tr>\n",
       "  </tbody>\n",
       "</table>\n",
       "</div>"
      ],
      "text/plain": [
       "     m_edu\n",
       "4.0    131\n",
       "2.0    102\n",
       "3.0     97\n",
       "1.0     59\n",
       "0.0      3"
      ]
     },
     "execution_count": 19,
     "metadata": {},
     "output_type": "execute_result"
    }
   ],
   "source": [
    "pd.DataFrame(school.m_edu.value_counts())"
   ]
  },
  {
   "cell_type": "code",
   "execution_count": 20,
   "metadata": {},
   "outputs": [
    {
     "name": "stdout",
     "output_type": "stream",
     "text": [
      "<class 'pandas.core.frame.DataFrame'>\n",
      "RangeIndex: 395 entries, 0 to 394\n",
      "Data columns (total 1 columns):\n",
      " #   Column  Non-Null Count  Dtype  \n",
      "---  ------  --------------  -----  \n",
      " 0   m_edu   392 non-null    float64\n",
      "dtypes: float64(1)\n",
      "memory usage: 3.2 KB\n"
     ]
    }
   ],
   "source": [
    "school.loc[:, ['m_edu']].info()"
   ]
  },
  {
   "cell_type": "markdown",
   "metadata": {},
   "source": [
    "### Итог:\n",
    "- Medu: пять уникальных значений как в описании. 3 строки в которых значения неизвестны. Заполнить пропуски на данный момент не представляется возможным, так как вариантов для заполнения слишком много, потому что выделить какую-то одно значение из пяти однозначно доминирующее невозможно.\n",
    "Кроме этого строк соответсвующих значению 0.0 статистически очень мало (==3), но я бы не удалял их, так как они есть в описании и вероятно помогут сделать модель более точной"
   ]
  },
  {
   "cell_type": "markdown",
   "metadata": {},
   "source": [
    "### Посмотрим на столбец Fedu — образование отца (0 - нет, 1 - 4 класса, 2 - 5-9 классы, 3 - среднее специальное или 11 классов, 4 - высшее)"
   ]
  },
  {
   "cell_type": "code",
   "execution_count": 21,
   "metadata": {},
   "outputs": [
    {
     "data": {
      "text/html": [
       "<div>\n",
       "<style scoped>\n",
       "    .dataframe tbody tr th:only-of-type {\n",
       "        vertical-align: middle;\n",
       "    }\n",
       "\n",
       "    .dataframe tbody tr th {\n",
       "        vertical-align: top;\n",
       "    }\n",
       "\n",
       "    .dataframe thead th {\n",
       "        text-align: right;\n",
       "    }\n",
       "</style>\n",
       "<table border=\"1\" class=\"dataframe\">\n",
       "  <thead>\n",
       "    <tr style=\"text-align: right;\">\n",
       "      <th></th>\n",
       "      <th>f_edu</th>\n",
       "    </tr>\n",
       "  </thead>\n",
       "  <tbody>\n",
       "    <tr>\n",
       "      <th>2.0</th>\n",
       "      <td>106</td>\n",
       "    </tr>\n",
       "    <tr>\n",
       "      <th>3.0</th>\n",
       "      <td>96</td>\n",
       "    </tr>\n",
       "    <tr>\n",
       "      <th>4.0</th>\n",
       "      <td>88</td>\n",
       "    </tr>\n",
       "    <tr>\n",
       "      <th>1.0</th>\n",
       "      <td>78</td>\n",
       "    </tr>\n",
       "    <tr>\n",
       "      <th>0.0</th>\n",
       "      <td>2</td>\n",
       "    </tr>\n",
       "    <tr>\n",
       "      <th>40.0</th>\n",
       "      <td>1</td>\n",
       "    </tr>\n",
       "  </tbody>\n",
       "</table>\n",
       "</div>"
      ],
      "text/plain": [
       "      f_edu\n",
       "2.0     106\n",
       "3.0      96\n",
       "4.0      88\n",
       "1.0      78\n",
       "0.0       2\n",
       "40.0      1"
      ]
     },
     "execution_count": 21,
     "metadata": {},
     "output_type": "execute_result"
    }
   ],
   "source": [
    "pd.DataFrame(school.f_edu.value_counts())"
   ]
  },
  {
   "cell_type": "code",
   "execution_count": 22,
   "metadata": {},
   "outputs": [],
   "source": [
    "# видим что появилось значение отсутствующее в описании датасета \n",
    "# при этом оно по написанию очень похоже на 4.0\n",
    "# скорее это ошибка (оно единственная такая оценка) при внесении информации\n",
    "# поэтому заменим его на 4.0\n",
    "school.loc[school['f_edu'] == 40.0, 'f_edu'] = 4.0"
   ]
  },
  {
   "cell_type": "code",
   "execution_count": 23,
   "metadata": {},
   "outputs": [
    {
     "data": {
      "text/html": [
       "<div>\n",
       "<style scoped>\n",
       "    .dataframe tbody tr th:only-of-type {\n",
       "        vertical-align: middle;\n",
       "    }\n",
       "\n",
       "    .dataframe tbody tr th {\n",
       "        vertical-align: top;\n",
       "    }\n",
       "\n",
       "    .dataframe thead th {\n",
       "        text-align: right;\n",
       "    }\n",
       "</style>\n",
       "<table border=\"1\" class=\"dataframe\">\n",
       "  <thead>\n",
       "    <tr style=\"text-align: right;\">\n",
       "      <th></th>\n",
       "      <th>f_edu</th>\n",
       "    </tr>\n",
       "  </thead>\n",
       "  <tbody>\n",
       "    <tr>\n",
       "      <th>2.0</th>\n",
       "      <td>106</td>\n",
       "    </tr>\n",
       "    <tr>\n",
       "      <th>3.0</th>\n",
       "      <td>96</td>\n",
       "    </tr>\n",
       "    <tr>\n",
       "      <th>4.0</th>\n",
       "      <td>89</td>\n",
       "    </tr>\n",
       "    <tr>\n",
       "      <th>1.0</th>\n",
       "      <td>78</td>\n",
       "    </tr>\n",
       "    <tr>\n",
       "      <th>0.0</th>\n",
       "      <td>2</td>\n",
       "    </tr>\n",
       "  </tbody>\n",
       "</table>\n",
       "</div>"
      ],
      "text/plain": [
       "     f_edu\n",
       "2.0    106\n",
       "3.0     96\n",
       "4.0     89\n",
       "1.0     78\n",
       "0.0      2"
      ]
     },
     "execution_count": 23,
     "metadata": {},
     "output_type": "execute_result"
    }
   ],
   "source": [
    "# проверяем\n",
    "pd.DataFrame(school.f_edu.value_counts())"
   ]
  },
  {
   "cell_type": "code",
   "execution_count": 24,
   "metadata": {},
   "outputs": [
    {
     "name": "stdout",
     "output_type": "stream",
     "text": [
      "<class 'pandas.core.frame.DataFrame'>\n",
      "RangeIndex: 395 entries, 0 to 394\n",
      "Data columns (total 1 columns):\n",
      " #   Column  Non-Null Count  Dtype  \n",
      "---  ------  --------------  -----  \n",
      " 0   f_edu   371 non-null    float64\n",
      "dtypes: float64(1)\n",
      "memory usage: 3.2 KB\n"
     ]
    }
   ],
   "source": [
    "# продожлжаем\n",
    "school.loc[:, ['f_edu']].info()"
   ]
  },
  {
   "cell_type": "code",
   "execution_count": 25,
   "metadata": {},
   "outputs": [
    {
     "data": {
      "text/plain": [
       "24"
      ]
     },
     "execution_count": 25,
     "metadata": {},
     "output_type": "execute_result"
    }
   ],
   "source": [
    "# Пропуски в данных\n",
    "395-371"
   ]
  },
  {
   "cell_type": "markdown",
   "metadata": {},
   "source": [
    "### Итог:\n",
    "- Fedu: пять уникальных значений как в описании. 24 строки в которых значения неизвестны. Заполнить пропуски на данный момент не представляется возможным, так как вариантов для заполнения слишком много, потому что выделить какое-то одно значение из пяти однозначно доминирующее невозможно.\n",
    "Кроме этого строк соответствующих значению 0.0 статистически очень мало (==2), но я бы не удалял их, так как они есть в описании и вероятно помогут сделать модель более точной"
   ]
  },
  {
   "cell_type": "markdown",
   "metadata": {},
   "source": [
    "### Посмотрим на столбец Mjob — работа матери ('teacher' - учитель, 'health' - сфера здравоохранения, 'services' - гос служба, 'at_home' - не работает, 'other' - другое)"
   ]
  },
  {
   "cell_type": "code",
   "execution_count": 26,
   "metadata": {},
   "outputs": [
    {
     "data": {
      "text/html": [
       "<div>\n",
       "<style scoped>\n",
       "    .dataframe tbody tr th:only-of-type {\n",
       "        vertical-align: middle;\n",
       "    }\n",
       "\n",
       "    .dataframe tbody tr th {\n",
       "        vertical-align: top;\n",
       "    }\n",
       "\n",
       "    .dataframe thead th {\n",
       "        text-align: right;\n",
       "    }\n",
       "</style>\n",
       "<table border=\"1\" class=\"dataframe\">\n",
       "  <thead>\n",
       "    <tr style=\"text-align: right;\">\n",
       "      <th></th>\n",
       "      <th>m_job</th>\n",
       "    </tr>\n",
       "  </thead>\n",
       "  <tbody>\n",
       "    <tr>\n",
       "      <th>other</th>\n",
       "      <td>133</td>\n",
       "    </tr>\n",
       "    <tr>\n",
       "      <th>services</th>\n",
       "      <td>98</td>\n",
       "    </tr>\n",
       "    <tr>\n",
       "      <th>at_home</th>\n",
       "      <td>58</td>\n",
       "    </tr>\n",
       "    <tr>\n",
       "      <th>teacher</th>\n",
       "      <td>55</td>\n",
       "    </tr>\n",
       "    <tr>\n",
       "      <th>health</th>\n",
       "      <td>32</td>\n",
       "    </tr>\n",
       "  </tbody>\n",
       "</table>\n",
       "</div>"
      ],
      "text/plain": [
       "          m_job\n",
       "other       133\n",
       "services     98\n",
       "at_home      58\n",
       "teacher      55\n",
       "health       32"
      ]
     },
     "execution_count": 26,
     "metadata": {},
     "output_type": "execute_result"
    }
   ],
   "source": [
    "pd.DataFrame(school.m_job.value_counts())"
   ]
  },
  {
   "cell_type": "code",
   "execution_count": 27,
   "metadata": {},
   "outputs": [
    {
     "name": "stdout",
     "output_type": "stream",
     "text": [
      "<class 'pandas.core.frame.DataFrame'>\n",
      "RangeIndex: 395 entries, 0 to 394\n",
      "Data columns (total 1 columns):\n",
      " #   Column  Non-Null Count  Dtype \n",
      "---  ------  --------------  ----- \n",
      " 0   m_job   376 non-null    object\n",
      "dtypes: object(1)\n",
      "memory usage: 3.2+ KB\n"
     ]
    }
   ],
   "source": [
    "school.loc[:, ['m_job']].info()"
   ]
  },
  {
   "cell_type": "code",
   "execution_count": 28,
   "metadata": {},
   "outputs": [
    {
     "data": {
      "text/plain": [
       "19"
      ]
     },
     "execution_count": 28,
     "metadata": {},
     "output_type": "execute_result"
    }
   ],
   "source": [
    "# Пропуски в данных\n",
    "395-376"
   ]
  },
  {
   "cell_type": "markdown",
   "metadata": {},
   "source": [
    "### Итог:\n",
    "- Mjob: пять уникальных значений как в описании. 19 строк в которых значения неизвестны. Заполнить пропуски на данный момент не представляется возможным, так как вариантов для заполнения слишком много, потому что выделить какое-то одно значение из пяти однозначно доминирующее невозможно"
   ]
  },
  {
   "cell_type": "markdown",
   "metadata": {},
   "source": [
    "### Посмотрим на столбец Fjob — работа отца ('teacher' - учитель, 'health' - сфера здравоохранения, 'services' - гос служба, 'at_home' - не работает, 'other' - другое)"
   ]
  },
  {
   "cell_type": "code",
   "execution_count": 29,
   "metadata": {},
   "outputs": [
    {
     "data": {
      "text/html": [
       "<div>\n",
       "<style scoped>\n",
       "    .dataframe tbody tr th:only-of-type {\n",
       "        vertical-align: middle;\n",
       "    }\n",
       "\n",
       "    .dataframe tbody tr th {\n",
       "        vertical-align: top;\n",
       "    }\n",
       "\n",
       "    .dataframe thead th {\n",
       "        text-align: right;\n",
       "    }\n",
       "</style>\n",
       "<table border=\"1\" class=\"dataframe\">\n",
       "  <thead>\n",
       "    <tr style=\"text-align: right;\">\n",
       "      <th></th>\n",
       "      <th>f_job</th>\n",
       "    </tr>\n",
       "  </thead>\n",
       "  <tbody>\n",
       "    <tr>\n",
       "      <th>other</th>\n",
       "      <td>197</td>\n",
       "    </tr>\n",
       "    <tr>\n",
       "      <th>services</th>\n",
       "      <td>102</td>\n",
       "    </tr>\n",
       "    <tr>\n",
       "      <th>teacher</th>\n",
       "      <td>29</td>\n",
       "    </tr>\n",
       "    <tr>\n",
       "      <th>at_home</th>\n",
       "      <td>16</td>\n",
       "    </tr>\n",
       "    <tr>\n",
       "      <th>health</th>\n",
       "      <td>15</td>\n",
       "    </tr>\n",
       "  </tbody>\n",
       "</table>\n",
       "</div>"
      ],
      "text/plain": [
       "          f_job\n",
       "other       197\n",
       "services    102\n",
       "teacher      29\n",
       "at_home      16\n",
       "health       15"
      ]
     },
     "execution_count": 29,
     "metadata": {},
     "output_type": "execute_result"
    }
   ],
   "source": [
    "pd.DataFrame(school.f_job.value_counts())"
   ]
  },
  {
   "cell_type": "code",
   "execution_count": 30,
   "metadata": {},
   "outputs": [
    {
     "name": "stdout",
     "output_type": "stream",
     "text": [
      "<class 'pandas.core.frame.DataFrame'>\n",
      "RangeIndex: 395 entries, 0 to 394\n",
      "Data columns (total 1 columns):\n",
      " #   Column  Non-Null Count  Dtype \n",
      "---  ------  --------------  ----- \n",
      " 0   f_job   359 non-null    object\n",
      "dtypes: object(1)\n",
      "memory usage: 3.2+ KB\n"
     ]
    }
   ],
   "source": [
    "school.loc[:, ['f_job']].info()"
   ]
  },
  {
   "cell_type": "code",
   "execution_count": 31,
   "metadata": {},
   "outputs": [
    {
     "data": {
      "text/plain": [
       "36"
      ]
     },
     "execution_count": 31,
     "metadata": {},
     "output_type": "execute_result"
    }
   ],
   "source": [
    "# Пропуски в данных\n",
    "395-359"
   ]
  },
  {
   "cell_type": "markdown",
   "metadata": {},
   "source": [
    "### Итог:\n",
    "- Fjob: пять уникальных значений как в описании. 36 строк в которых значения неизвестны (9.1% от всех строк). Многовато пропусков. И если очень захотеть то можно было бы заполнить рандомом двумя значимыми значениями - services и other, но я бы сначала провел анализ до конца, потом сформировал модель и если бы была необходимость вернулся к этому столбцу и заполнил пропуски. А пока считаю что заполнить пропуски на данный момент не представляется возможным, так как вариантов для заполнения слишком много (два из пяти), потому что выделить какое-то одно значение из пяти однозначно доминирующее невозможно."
   ]
  },
  {
   "cell_type": "markdown",
   "metadata": {},
   "source": [
    "### Посмотрим на столбец reason — причина выбора школы ('home' - близость к дому, 'reputation' - репутация школы, 'course' - образовательная программа, 'other' - другое)"
   ]
  },
  {
   "cell_type": "code",
   "execution_count": 32,
   "metadata": {},
   "outputs": [
    {
     "data": {
      "text/html": [
       "<div>\n",
       "<style scoped>\n",
       "    .dataframe tbody tr th:only-of-type {\n",
       "        vertical-align: middle;\n",
       "    }\n",
       "\n",
       "    .dataframe tbody tr th {\n",
       "        vertical-align: top;\n",
       "    }\n",
       "\n",
       "    .dataframe thead th {\n",
       "        text-align: right;\n",
       "    }\n",
       "</style>\n",
       "<table border=\"1\" class=\"dataframe\">\n",
       "  <thead>\n",
       "    <tr style=\"text-align: right;\">\n",
       "      <th></th>\n",
       "      <th>reason</th>\n",
       "    </tr>\n",
       "  </thead>\n",
       "  <tbody>\n",
       "    <tr>\n",
       "      <th>course</th>\n",
       "      <td>137</td>\n",
       "    </tr>\n",
       "    <tr>\n",
       "      <th>home</th>\n",
       "      <td>104</td>\n",
       "    </tr>\n",
       "    <tr>\n",
       "      <th>reputation</th>\n",
       "      <td>103</td>\n",
       "    </tr>\n",
       "    <tr>\n",
       "      <th>other</th>\n",
       "      <td>34</td>\n",
       "    </tr>\n",
       "  </tbody>\n",
       "</table>\n",
       "</div>"
      ],
      "text/plain": [
       "            reason\n",
       "course         137\n",
       "home           104\n",
       "reputation     103\n",
       "other           34"
      ]
     },
     "execution_count": 32,
     "metadata": {},
     "output_type": "execute_result"
    }
   ],
   "source": [
    "pd.DataFrame(school.reason.value_counts())"
   ]
  },
  {
   "cell_type": "code",
   "execution_count": 33,
   "metadata": {},
   "outputs": [
    {
     "name": "stdout",
     "output_type": "stream",
     "text": [
      "<class 'pandas.core.frame.DataFrame'>\n",
      "RangeIndex: 395 entries, 0 to 394\n",
      "Data columns (total 1 columns):\n",
      " #   Column  Non-Null Count  Dtype \n",
      "---  ------  --------------  ----- \n",
      " 0   reason  378 non-null    object\n",
      "dtypes: object(1)\n",
      "memory usage: 3.2+ KB\n"
     ]
    }
   ],
   "source": [
    "school.loc[:, ['reason']].info()"
   ]
  },
  {
   "cell_type": "code",
   "execution_count": 34,
   "metadata": {},
   "outputs": [
    {
     "data": {
      "text/plain": [
       "16"
      ]
     },
     "execution_count": 34,
     "metadata": {},
     "output_type": "execute_result"
    }
   ],
   "source": [
    "# Пропуски в данных\n",
    "395-379"
   ]
  },
  {
   "cell_type": "markdown",
   "metadata": {},
   "source": [
    "### Итог:\n",
    "- reason: четыре уникальных значения как в описании. 16 строк в которых значения неизвестны. Заполнить пропуски на данный момент не представляется возможным, так как вариантов для заполнения слишком много, потому что выделить какое-то одно значение из четырех однозначно доминирующее невозможно."
   ]
  },
  {
   "cell_type": "markdown",
   "metadata": {},
   "source": [
    "### Посмотрим на столбец guardian — опекун ('mother' - мать, 'father' - отец, 'other' - другое)"
   ]
  },
  {
   "cell_type": "code",
   "execution_count": 35,
   "metadata": {},
   "outputs": [
    {
     "data": {
      "text/html": [
       "<div>\n",
       "<style scoped>\n",
       "    .dataframe tbody tr th:only-of-type {\n",
       "        vertical-align: middle;\n",
       "    }\n",
       "\n",
       "    .dataframe tbody tr th {\n",
       "        vertical-align: top;\n",
       "    }\n",
       "\n",
       "    .dataframe thead th {\n",
       "        text-align: right;\n",
       "    }\n",
       "</style>\n",
       "<table border=\"1\" class=\"dataframe\">\n",
       "  <thead>\n",
       "    <tr style=\"text-align: right;\">\n",
       "      <th></th>\n",
       "      <th>guardian</th>\n",
       "    </tr>\n",
       "  </thead>\n",
       "  <tbody>\n",
       "    <tr>\n",
       "      <th>mother</th>\n",
       "      <td>250</td>\n",
       "    </tr>\n",
       "    <tr>\n",
       "      <th>father</th>\n",
       "      <td>86</td>\n",
       "    </tr>\n",
       "    <tr>\n",
       "      <th>other</th>\n",
       "      <td>28</td>\n",
       "    </tr>\n",
       "  </tbody>\n",
       "</table>\n",
       "</div>"
      ],
      "text/plain": [
       "        guardian\n",
       "mother       250\n",
       "father        86\n",
       "other         28"
      ]
     },
     "execution_count": 35,
     "metadata": {},
     "output_type": "execute_result"
    }
   ],
   "source": [
    "pd.DataFrame(school.guardian.value_counts())"
   ]
  },
  {
   "cell_type": "code",
   "execution_count": 36,
   "metadata": {},
   "outputs": [
    {
     "name": "stdout",
     "output_type": "stream",
     "text": [
      "<class 'pandas.core.frame.DataFrame'>\n",
      "RangeIndex: 395 entries, 0 to 394\n",
      "Data columns (total 1 columns):\n",
      " #   Column    Non-Null Count  Dtype \n",
      "---  ------    --------------  ----- \n",
      " 0   guardian  364 non-null    object\n",
      "dtypes: object(1)\n",
      "memory usage: 3.2+ KB\n"
     ]
    }
   ],
   "source": [
    "school.loc[:, ['guardian']].info()"
   ]
  },
  {
   "cell_type": "code",
   "execution_count": 37,
   "metadata": {},
   "outputs": [
    {
     "data": {
      "text/plain": [
       "31"
      ]
     },
     "execution_count": 37,
     "metadata": {},
     "output_type": "execute_result"
    }
   ],
   "source": [
    "# Пропуски в данных\n",
    "395-364"
   ]
  },
  {
   "cell_type": "markdown",
   "metadata": {},
   "source": [
    "### Итог:\n",
    "- guardian: три уникальных значения как в описании. 31 строка в которых значения неизвестны. Многовато пропусков. И если очень захотеть то можно было бы заполнить значением mother, но я бы сначала провел анализ до конца, потом сформировал модель и если бы была необходимость вернулся к этому столбцу и заполнил пропуски. А пока считаю что заполнить пропуски на данный момент не представляется возможным, так как вариантов для заполнения слишком много (два из трех), потому что выделить какое-то одно значение из трех однозначно доминирующее невозможно"
   ]
  },
  {
   "cell_type": "markdown",
   "metadata": {},
   "source": [
    "### Посмотрим на столбец traveltime — время в пути до школы (1 - <15 мин., 2 - 15-30 мин., 3 - 30-60 мин., 4 - >60 мин.)"
   ]
  },
  {
   "cell_type": "code",
   "execution_count": 38,
   "metadata": {},
   "outputs": [
    {
     "data": {
      "text/html": [
       "<div>\n",
       "<style scoped>\n",
       "    .dataframe tbody tr th:only-of-type {\n",
       "        vertical-align: middle;\n",
       "    }\n",
       "\n",
       "    .dataframe tbody tr th {\n",
       "        vertical-align: top;\n",
       "    }\n",
       "\n",
       "    .dataframe thead th {\n",
       "        text-align: right;\n",
       "    }\n",
       "</style>\n",
       "<table border=\"1\" class=\"dataframe\">\n",
       "  <thead>\n",
       "    <tr style=\"text-align: right;\">\n",
       "      <th></th>\n",
       "      <th>traveltime</th>\n",
       "    </tr>\n",
       "  </thead>\n",
       "  <tbody>\n",
       "    <tr>\n",
       "      <th>1.0</th>\n",
       "      <td>242</td>\n",
       "    </tr>\n",
       "    <tr>\n",
       "      <th>2.0</th>\n",
       "      <td>96</td>\n",
       "    </tr>\n",
       "    <tr>\n",
       "      <th>3.0</th>\n",
       "      <td>22</td>\n",
       "    </tr>\n",
       "    <tr>\n",
       "      <th>4.0</th>\n",
       "      <td>7</td>\n",
       "    </tr>\n",
       "  </tbody>\n",
       "</table>\n",
       "</div>"
      ],
      "text/plain": [
       "     traveltime\n",
       "1.0         242\n",
       "2.0          96\n",
       "3.0          22\n",
       "4.0           7"
      ]
     },
     "execution_count": 38,
     "metadata": {},
     "output_type": "execute_result"
    }
   ],
   "source": [
    "pd.DataFrame(school.traveltime.value_counts())"
   ]
  },
  {
   "cell_type": "code",
   "execution_count": 39,
   "metadata": {},
   "outputs": [
    {
     "name": "stdout",
     "output_type": "stream",
     "text": [
      "<class 'pandas.core.frame.DataFrame'>\n",
      "RangeIndex: 395 entries, 0 to 394\n",
      "Data columns (total 1 columns):\n",
      " #   Column      Non-Null Count  Dtype  \n",
      "---  ------      --------------  -----  \n",
      " 0   traveltime  367 non-null    float64\n",
      "dtypes: float64(1)\n",
      "memory usage: 3.2 KB\n"
     ]
    }
   ],
   "source": [
    "school.loc[:, ['traveltime']].info()"
   ]
  },
  {
   "cell_type": "code",
   "execution_count": 40,
   "metadata": {},
   "outputs": [
    {
     "data": {
      "text/plain": [
       "28"
      ]
     },
     "execution_count": 40,
     "metadata": {},
     "output_type": "execute_result"
    }
   ],
   "source": [
    "# Пропуски в данных\n",
    "395-367"
   ]
  },
  {
   "cell_type": "markdown",
   "metadata": {},
   "source": [
    "### Итог:\n",
    "- traveltime: четыре уникальных значения как в описании. 28 строк в которых значения неизвестны. Заполнить пропуски на данный момент не представляется возможным, так как вариантов для заполнения слишком много, потому что выделить какое-то одно значение из четырех однозначно доминирующее невозможно."
   ]
  },
  {
   "cell_type": "markdown",
   "metadata": {},
   "source": [
    "### Посмотрим на столбец failures — количество внеучебных неудач (n, если 1<=n<3, иначе 4)"
   ]
  },
  {
   "cell_type": "code",
   "execution_count": 41,
   "metadata": {},
   "outputs": [
    {
     "data": {
      "text/html": [
       "<div>\n",
       "<style scoped>\n",
       "    .dataframe tbody tr th:only-of-type {\n",
       "        vertical-align: middle;\n",
       "    }\n",
       "\n",
       "    .dataframe tbody tr th {\n",
       "        vertical-align: top;\n",
       "    }\n",
       "\n",
       "    .dataframe thead th {\n",
       "        text-align: right;\n",
       "    }\n",
       "</style>\n",
       "<table border=\"1\" class=\"dataframe\">\n",
       "  <thead>\n",
       "    <tr style=\"text-align: right;\">\n",
       "      <th></th>\n",
       "      <th>failures</th>\n",
       "    </tr>\n",
       "  </thead>\n",
       "  <tbody>\n",
       "    <tr>\n",
       "      <th>0.0</th>\n",
       "      <td>293</td>\n",
       "    </tr>\n",
       "    <tr>\n",
       "      <th>1.0</th>\n",
       "      <td>49</td>\n",
       "    </tr>\n",
       "    <tr>\n",
       "      <th>2.0</th>\n",
       "      <td>16</td>\n",
       "    </tr>\n",
       "    <tr>\n",
       "      <th>3.0</th>\n",
       "      <td>15</td>\n",
       "    </tr>\n",
       "  </tbody>\n",
       "</table>\n",
       "</div>"
      ],
      "text/plain": [
       "     failures\n",
       "0.0       293\n",
       "1.0        49\n",
       "2.0        16\n",
       "3.0        15"
      ]
     },
     "execution_count": 41,
     "metadata": {},
     "output_type": "execute_result"
    }
   ],
   "source": [
    "pd.DataFrame(school.failures.value_counts())"
   ]
  },
  {
   "cell_type": "markdown",
   "metadata": {},
   "source": [
    "уникальные значения соответствуют по кол-ву (четыре), но не соответсвуют значениям в описании (n, если 1<=n<3, иначе 4) - в описании значения должны быть от 1 до 4.\n",
    "\n",
    "Видимо в описании ошибка, максимального значения указанного в описании 4 - не встречаетя в выборке.\n",
    "\n",
    "Остовляю как есть."
   ]
  },
  {
   "cell_type": "code",
   "execution_count": 42,
   "metadata": {},
   "outputs": [
    {
     "name": "stdout",
     "output_type": "stream",
     "text": [
      "<class 'pandas.core.frame.DataFrame'>\n",
      "RangeIndex: 395 entries, 0 to 394\n",
      "Data columns (total 1 columns):\n",
      " #   Column    Non-Null Count  Dtype  \n",
      "---  ------    --------------  -----  \n",
      " 0   failures  373 non-null    float64\n",
      "dtypes: float64(1)\n",
      "memory usage: 3.2 KB\n"
     ]
    }
   ],
   "source": [
    "# продолжаем\n",
    "school.loc[:, ['failures']].info()"
   ]
  },
  {
   "cell_type": "code",
   "execution_count": 43,
   "metadata": {},
   "outputs": [
    {
     "data": {
      "text/plain": [
       "22"
      ]
     },
     "execution_count": 43,
     "metadata": {},
     "output_type": "execute_result"
    }
   ],
   "source": [
    "# Пропуски в данных\n",
    "395-373"
   ]
  },
  {
   "cell_type": "code",
   "execution_count": 44,
   "metadata": {},
   "outputs": [
    {
     "data": {
      "text/html": [
       "<div>\n",
       "<style scoped>\n",
       "    .dataframe tbody tr th:only-of-type {\n",
       "        vertical-align: middle;\n",
       "    }\n",
       "\n",
       "    .dataframe tbody tr th {\n",
       "        vertical-align: top;\n",
       "    }\n",
       "\n",
       "    .dataframe thead th {\n",
       "        text-align: right;\n",
       "    }\n",
       "</style>\n",
       "<table border=\"1\" class=\"dataframe\">\n",
       "  <thead>\n",
       "    <tr style=\"text-align: right;\">\n",
       "      <th></th>\n",
       "      <th>school</th>\n",
       "      <th>sex</th>\n",
       "      <th>age</th>\n",
       "      <th>address</th>\n",
       "      <th>famsize</th>\n",
       "      <th>p_status</th>\n",
       "      <th>m_edu</th>\n",
       "      <th>f_edu</th>\n",
       "      <th>m_job</th>\n",
       "      <th>f_job</th>\n",
       "      <th>reason</th>\n",
       "      <th>guardian</th>\n",
       "      <th>traveltime</th>\n",
       "      <th>studytime</th>\n",
       "      <th>failures</th>\n",
       "      <th>schoolsup</th>\n",
       "      <th>famsup</th>\n",
       "      <th>paid</th>\n",
       "      <th>activities</th>\n",
       "      <th>nursery</th>\n",
       "      <th>higher</th>\n",
       "      <th>internet</th>\n",
       "      <th>romantic</th>\n",
       "      <th>famrel</th>\n",
       "      <th>freetime</th>\n",
       "      <th>goout</th>\n",
       "      <th>health</th>\n",
       "      <th>absences</th>\n",
       "      <th>score</th>\n",
       "    </tr>\n",
       "  </thead>\n",
       "  <tbody>\n",
       "    <tr>\n",
       "      <th>21</th>\n",
       "      <td>GP</td>\n",
       "      <td>M</td>\n",
       "      <td>15</td>\n",
       "      <td>U</td>\n",
       "      <td>GT3</td>\n",
       "      <td>T</td>\n",
       "      <td>4.0</td>\n",
       "      <td>NaN</td>\n",
       "      <td>health</td>\n",
       "      <td>health</td>\n",
       "      <td>other</td>\n",
       "      <td>father</td>\n",
       "      <td>1.0</td>\n",
       "      <td>1.0</td>\n",
       "      <td>NaN</td>\n",
       "      <td>no</td>\n",
       "      <td>yes</td>\n",
       "      <td>NaN</td>\n",
       "      <td>no</td>\n",
       "      <td>yes</td>\n",
       "      <td>yes</td>\n",
       "      <td>yes</td>\n",
       "      <td>no</td>\n",
       "      <td>5.0</td>\n",
       "      <td>4.0</td>\n",
       "      <td>2.0</td>\n",
       "      <td>5.0</td>\n",
       "      <td>0.0</td>\n",
       "      <td>75.0</td>\n",
       "    </tr>\n",
       "    <tr>\n",
       "      <th>48</th>\n",
       "      <td>GP</td>\n",
       "      <td>M</td>\n",
       "      <td>15</td>\n",
       "      <td>U</td>\n",
       "      <td>GT3</td>\n",
       "      <td>T</td>\n",
       "      <td>4.0</td>\n",
       "      <td>2.0</td>\n",
       "      <td>teacher</td>\n",
       "      <td>other</td>\n",
       "      <td>home</td>\n",
       "      <td>mother</td>\n",
       "      <td>1.0</td>\n",
       "      <td>2.0</td>\n",
       "      <td>NaN</td>\n",
       "      <td>no</td>\n",
       "      <td>yes</td>\n",
       "      <td>yes</td>\n",
       "      <td>no</td>\n",
       "      <td>yes</td>\n",
       "      <td>NaN</td>\n",
       "      <td>no</td>\n",
       "      <td>no</td>\n",
       "      <td>4.0</td>\n",
       "      <td>3.0</td>\n",
       "      <td>3.0</td>\n",
       "      <td>5.0</td>\n",
       "      <td>2.0</td>\n",
       "      <td>70.0</td>\n",
       "    </tr>\n",
       "    <tr>\n",
       "      <th>54</th>\n",
       "      <td>GP</td>\n",
       "      <td>F</td>\n",
       "      <td>15</td>\n",
       "      <td>U</td>\n",
       "      <td>LE3</td>\n",
       "      <td>NaN</td>\n",
       "      <td>3.0</td>\n",
       "      <td>3.0</td>\n",
       "      <td>NaN</td>\n",
       "      <td>other</td>\n",
       "      <td>other</td>\n",
       "      <td>mother</td>\n",
       "      <td>1.0</td>\n",
       "      <td>1.0</td>\n",
       "      <td>NaN</td>\n",
       "      <td>no</td>\n",
       "      <td>no</td>\n",
       "      <td>yes</td>\n",
       "      <td>NaN</td>\n",
       "      <td>yes</td>\n",
       "      <td>yes</td>\n",
       "      <td>yes</td>\n",
       "      <td>NaN</td>\n",
       "      <td>5.0</td>\n",
       "      <td>3.0</td>\n",
       "      <td>4.0</td>\n",
       "      <td>1.0</td>\n",
       "      <td>6.0</td>\n",
       "      <td>65.0</td>\n",
       "    </tr>\n",
       "    <tr>\n",
       "      <th>68</th>\n",
       "      <td>GP</td>\n",
       "      <td>F</td>\n",
       "      <td>15</td>\n",
       "      <td>R</td>\n",
       "      <td>LE3</td>\n",
       "      <td>T</td>\n",
       "      <td>2.0</td>\n",
       "      <td>2.0</td>\n",
       "      <td>health</td>\n",
       "      <td>NaN</td>\n",
       "      <td>reputation</td>\n",
       "      <td>mother</td>\n",
       "      <td>NaN</td>\n",
       "      <td>2.0</td>\n",
       "      <td>NaN</td>\n",
       "      <td>yes</td>\n",
       "      <td>yes</td>\n",
       "      <td>NaN</td>\n",
       "      <td>no</td>\n",
       "      <td>yes</td>\n",
       "      <td>yes</td>\n",
       "      <td>yes</td>\n",
       "      <td>no</td>\n",
       "      <td>4.0</td>\n",
       "      <td>1.0</td>\n",
       "      <td>3.0</td>\n",
       "      <td>4.0</td>\n",
       "      <td>2.0</td>\n",
       "      <td>40.0</td>\n",
       "    </tr>\n",
       "    <tr>\n",
       "      <th>91</th>\n",
       "      <td>GP</td>\n",
       "      <td>F</td>\n",
       "      <td>15</td>\n",
       "      <td>U</td>\n",
       "      <td>GT3</td>\n",
       "      <td>T</td>\n",
       "      <td>4.0</td>\n",
       "      <td>3.0</td>\n",
       "      <td>services</td>\n",
       "      <td>other</td>\n",
       "      <td>reputation</td>\n",
       "      <td>mother</td>\n",
       "      <td>1.0</td>\n",
       "      <td>NaN</td>\n",
       "      <td>NaN</td>\n",
       "      <td>no</td>\n",
       "      <td>no</td>\n",
       "      <td>yes</td>\n",
       "      <td>yes</td>\n",
       "      <td>yes</td>\n",
       "      <td>yes</td>\n",
       "      <td>yes</td>\n",
       "      <td>no</td>\n",
       "      <td>4.0</td>\n",
       "      <td>5.0</td>\n",
       "      <td>5.0</td>\n",
       "      <td>1.0</td>\n",
       "      <td>4.0</td>\n",
       "      <td>90.0</td>\n",
       "    </tr>\n",
       "    <tr>\n",
       "      <th>107</th>\n",
       "      <td>GP</td>\n",
       "      <td>M</td>\n",
       "      <td>16</td>\n",
       "      <td>U</td>\n",
       "      <td>GT3</td>\n",
       "      <td>T</td>\n",
       "      <td>3.0</td>\n",
       "      <td>3.0</td>\n",
       "      <td>services</td>\n",
       "      <td>NaN</td>\n",
       "      <td>home</td>\n",
       "      <td>father</td>\n",
       "      <td>1.0</td>\n",
       "      <td>3.0</td>\n",
       "      <td>NaN</td>\n",
       "      <td>no</td>\n",
       "      <td>yes</td>\n",
       "      <td>no</td>\n",
       "      <td>yes</td>\n",
       "      <td>yes</td>\n",
       "      <td>yes</td>\n",
       "      <td>yes</td>\n",
       "      <td>no</td>\n",
       "      <td>5.0</td>\n",
       "      <td>3.0</td>\n",
       "      <td>3.0</td>\n",
       "      <td>5.0</td>\n",
       "      <td>2.0</td>\n",
       "      <td>90.0</td>\n",
       "    </tr>\n",
       "    <tr>\n",
       "      <th>108</th>\n",
       "      <td>GP</td>\n",
       "      <td>M</td>\n",
       "      <td>15</td>\n",
       "      <td>R</td>\n",
       "      <td>GT3</td>\n",
       "      <td>NaN</td>\n",
       "      <td>4.0</td>\n",
       "      <td>4.0</td>\n",
       "      <td>other</td>\n",
       "      <td>other</td>\n",
       "      <td>home</td>\n",
       "      <td>father</td>\n",
       "      <td>4.0</td>\n",
       "      <td>4.0</td>\n",
       "      <td>NaN</td>\n",
       "      <td>no</td>\n",
       "      <td>yes</td>\n",
       "      <td>yes</td>\n",
       "      <td>yes</td>\n",
       "      <td>yes</td>\n",
       "      <td>yes</td>\n",
       "      <td>yes</td>\n",
       "      <td>yes</td>\n",
       "      <td>1.0</td>\n",
       "      <td>3.0</td>\n",
       "      <td>5.0</td>\n",
       "      <td>1.0</td>\n",
       "      <td>6.0</td>\n",
       "      <td>65.0</td>\n",
       "    </tr>\n",
       "    <tr>\n",
       "      <th>114</th>\n",
       "      <td>GP</td>\n",
       "      <td>M</td>\n",
       "      <td>15</td>\n",
       "      <td>R</td>\n",
       "      <td>NaN</td>\n",
       "      <td>T</td>\n",
       "      <td>2.0</td>\n",
       "      <td>1.0</td>\n",
       "      <td>health</td>\n",
       "      <td>services</td>\n",
       "      <td>reputation</td>\n",
       "      <td>mother</td>\n",
       "      <td>1.0</td>\n",
       "      <td>2.0</td>\n",
       "      <td>NaN</td>\n",
       "      <td>no</td>\n",
       "      <td>no</td>\n",
       "      <td>no</td>\n",
       "      <td>yes</td>\n",
       "      <td>yes</td>\n",
       "      <td>yes</td>\n",
       "      <td>yes</td>\n",
       "      <td>yes</td>\n",
       "      <td>5.0</td>\n",
       "      <td>4.0</td>\n",
       "      <td>2.0</td>\n",
       "      <td>5.0</td>\n",
       "      <td>8.0</td>\n",
       "      <td>45.0</td>\n",
       "    </tr>\n",
       "    <tr>\n",
       "      <th>115</th>\n",
       "      <td>GP</td>\n",
       "      <td>M</td>\n",
       "      <td>16</td>\n",
       "      <td>U</td>\n",
       "      <td>GT3</td>\n",
       "      <td>T</td>\n",
       "      <td>4.0</td>\n",
       "      <td>4.0</td>\n",
       "      <td>teacher</td>\n",
       "      <td>teacher</td>\n",
       "      <td>course</td>\n",
       "      <td>father</td>\n",
       "      <td>1.0</td>\n",
       "      <td>2.0</td>\n",
       "      <td>NaN</td>\n",
       "      <td>no</td>\n",
       "      <td>yes</td>\n",
       "      <td>no</td>\n",
       "      <td>yes</td>\n",
       "      <td>yes</td>\n",
       "      <td>yes</td>\n",
       "      <td>NaN</td>\n",
       "      <td>no</td>\n",
       "      <td>5.0</td>\n",
       "      <td>4.0</td>\n",
       "      <td>4.0</td>\n",
       "      <td>5.0</td>\n",
       "      <td>2.0</td>\n",
       "      <td>80.0</td>\n",
       "    </tr>\n",
       "    <tr>\n",
       "      <th>125</th>\n",
       "      <td>GP</td>\n",
       "      <td>M</td>\n",
       "      <td>15</td>\n",
       "      <td>U</td>\n",
       "      <td>GT3</td>\n",
       "      <td>T</td>\n",
       "      <td>3.0</td>\n",
       "      <td>4.0</td>\n",
       "      <td>services</td>\n",
       "      <td>services</td>\n",
       "      <td>home</td>\n",
       "      <td>father</td>\n",
       "      <td>1.0</td>\n",
       "      <td>1.0</td>\n",
       "      <td>NaN</td>\n",
       "      <td>yes</td>\n",
       "      <td>no</td>\n",
       "      <td>no</td>\n",
       "      <td>no</td>\n",
       "      <td>yes</td>\n",
       "      <td>yes</td>\n",
       "      <td>NaN</td>\n",
       "      <td>no</td>\n",
       "      <td>5.0</td>\n",
       "      <td>5.0</td>\n",
       "      <td>5.0</td>\n",
       "      <td>5.0</td>\n",
       "      <td>0.0</td>\n",
       "      <td>60.0</td>\n",
       "    </tr>\n",
       "    <tr>\n",
       "      <th>153</th>\n",
       "      <td>GP</td>\n",
       "      <td>M</td>\n",
       "      <td>19</td>\n",
       "      <td>U</td>\n",
       "      <td>GT3</td>\n",
       "      <td>NaN</td>\n",
       "      <td>3.0</td>\n",
       "      <td>2.0</td>\n",
       "      <td>services</td>\n",
       "      <td>at_home</td>\n",
       "      <td>home</td>\n",
       "      <td>mother</td>\n",
       "      <td>1.0</td>\n",
       "      <td>1.0</td>\n",
       "      <td>NaN</td>\n",
       "      <td>no</td>\n",
       "      <td>yes</td>\n",
       "      <td>no</td>\n",
       "      <td>no</td>\n",
       "      <td>yes</td>\n",
       "      <td>no</td>\n",
       "      <td>yes</td>\n",
       "      <td>yes</td>\n",
       "      <td>4.0</td>\n",
       "      <td>5.0</td>\n",
       "      <td>4.0</td>\n",
       "      <td>NaN</td>\n",
       "      <td>0.0</td>\n",
       "      <td>0.0</td>\n",
       "    </tr>\n",
       "    <tr>\n",
       "      <th>158</th>\n",
       "      <td>GP</td>\n",
       "      <td>M</td>\n",
       "      <td>16</td>\n",
       "      <td>R</td>\n",
       "      <td>GT3</td>\n",
       "      <td>NaN</td>\n",
       "      <td>2.0</td>\n",
       "      <td>2.0</td>\n",
       "      <td>at_home</td>\n",
       "      <td>other</td>\n",
       "      <td>course</td>\n",
       "      <td>mother</td>\n",
       "      <td>3.0</td>\n",
       "      <td>1.0</td>\n",
       "      <td>NaN</td>\n",
       "      <td>no</td>\n",
       "      <td>no</td>\n",
       "      <td>no</td>\n",
       "      <td>no</td>\n",
       "      <td>no</td>\n",
       "      <td>NaN</td>\n",
       "      <td>no</td>\n",
       "      <td>no</td>\n",
       "      <td>4.0</td>\n",
       "      <td>2.0</td>\n",
       "      <td>2.0</td>\n",
       "      <td>3.0</td>\n",
       "      <td>2.0</td>\n",
       "      <td>75.0</td>\n",
       "    </tr>\n",
       "    <tr>\n",
       "      <th>170</th>\n",
       "      <td>GP</td>\n",
       "      <td>M</td>\n",
       "      <td>16</td>\n",
       "      <td>U</td>\n",
       "      <td>GT3</td>\n",
       "      <td>T</td>\n",
       "      <td>3.0</td>\n",
       "      <td>4.0</td>\n",
       "      <td>other</td>\n",
       "      <td>other</td>\n",
       "      <td>course</td>\n",
       "      <td>father</td>\n",
       "      <td>3.0</td>\n",
       "      <td>1.0</td>\n",
       "      <td>NaN</td>\n",
       "      <td>no</td>\n",
       "      <td>yes</td>\n",
       "      <td>no</td>\n",
       "      <td>yes</td>\n",
       "      <td>no</td>\n",
       "      <td>NaN</td>\n",
       "      <td>yes</td>\n",
       "      <td>no</td>\n",
       "      <td>3.0</td>\n",
       "      <td>4.0</td>\n",
       "      <td>5.0</td>\n",
       "      <td>2.0</td>\n",
       "      <td>0.0</td>\n",
       "      <td>0.0</td>\n",
       "    </tr>\n",
       "    <tr>\n",
       "      <th>171</th>\n",
       "      <td>GP</td>\n",
       "      <td>M</td>\n",
       "      <td>16</td>\n",
       "      <td>U</td>\n",
       "      <td>GT3</td>\n",
       "      <td>T</td>\n",
       "      <td>1.0</td>\n",
       "      <td>0.0</td>\n",
       "      <td>other</td>\n",
       "      <td>other</td>\n",
       "      <td>reputation</td>\n",
       "      <td>mother</td>\n",
       "      <td>2.0</td>\n",
       "      <td>2.0</td>\n",
       "      <td>NaN</td>\n",
       "      <td>no</td>\n",
       "      <td>yes</td>\n",
       "      <td>yes</td>\n",
       "      <td>yes</td>\n",
       "      <td>yes</td>\n",
       "      <td>NaN</td>\n",
       "      <td>yes</td>\n",
       "      <td>yes</td>\n",
       "      <td>4.0</td>\n",
       "      <td>3.0</td>\n",
       "      <td>2.0</td>\n",
       "      <td>3.0</td>\n",
       "      <td>2.0</td>\n",
       "      <td>80.0</td>\n",
       "    </tr>\n",
       "    <tr>\n",
       "      <th>204</th>\n",
       "      <td>GP</td>\n",
       "      <td>F</td>\n",
       "      <td>16</td>\n",
       "      <td>R</td>\n",
       "      <td>GT3</td>\n",
       "      <td>T</td>\n",
       "      <td>2.0</td>\n",
       "      <td>2.0</td>\n",
       "      <td>services</td>\n",
       "      <td>services</td>\n",
       "      <td>reputation</td>\n",
       "      <td>mother</td>\n",
       "      <td>2.0</td>\n",
       "      <td>4.0</td>\n",
       "      <td>NaN</td>\n",
       "      <td>no</td>\n",
       "      <td>yes</td>\n",
       "      <td>yes</td>\n",
       "      <td>yes</td>\n",
       "      <td>no</td>\n",
       "      <td>yes</td>\n",
       "      <td>yes</td>\n",
       "      <td>NaN</td>\n",
       "      <td>5.0</td>\n",
       "      <td>3.0</td>\n",
       "      <td>5.0</td>\n",
       "      <td>5.0</td>\n",
       "      <td>6.0</td>\n",
       "      <td>55.0</td>\n",
       "    </tr>\n",
       "    <tr>\n",
       "      <th>214</th>\n",
       "      <td>GP</td>\n",
       "      <td>F</td>\n",
       "      <td>17</td>\n",
       "      <td>R</td>\n",
       "      <td>LE3</td>\n",
       "      <td>T</td>\n",
       "      <td>4.0</td>\n",
       "      <td>4.0</td>\n",
       "      <td>services</td>\n",
       "      <td>other</td>\n",
       "      <td>other</td>\n",
       "      <td>mother</td>\n",
       "      <td>1.0</td>\n",
       "      <td>1.0</td>\n",
       "      <td>NaN</td>\n",
       "      <td>no</td>\n",
       "      <td>yes</td>\n",
       "      <td>NaN</td>\n",
       "      <td>no</td>\n",
       "      <td>yes</td>\n",
       "      <td>yes</td>\n",
       "      <td>no</td>\n",
       "      <td>no</td>\n",
       "      <td>5.0</td>\n",
       "      <td>2.0</td>\n",
       "      <td>1.0</td>\n",
       "      <td>3.0</td>\n",
       "      <td>12.0</td>\n",
       "      <td>50.0</td>\n",
       "    </tr>\n",
       "    <tr>\n",
       "      <th>236</th>\n",
       "      <td>GP</td>\n",
       "      <td>M</td>\n",
       "      <td>17</td>\n",
       "      <td>U</td>\n",
       "      <td>LE3</td>\n",
       "      <td>T</td>\n",
       "      <td>2.0</td>\n",
       "      <td>NaN</td>\n",
       "      <td>other</td>\n",
       "      <td>other</td>\n",
       "      <td>home</td>\n",
       "      <td>father</td>\n",
       "      <td>1.0</td>\n",
       "      <td>2.0</td>\n",
       "      <td>NaN</td>\n",
       "      <td>no</td>\n",
       "      <td>no</td>\n",
       "      <td>NaN</td>\n",
       "      <td>yes</td>\n",
       "      <td>no</td>\n",
       "      <td>yes</td>\n",
       "      <td>yes</td>\n",
       "      <td>yes</td>\n",
       "      <td>4.0</td>\n",
       "      <td>4.0</td>\n",
       "      <td>2.0</td>\n",
       "      <td>NaN</td>\n",
       "      <td>4.0</td>\n",
       "      <td>65.0</td>\n",
       "    </tr>\n",
       "    <tr>\n",
       "      <th>261</th>\n",
       "      <td>GP</td>\n",
       "      <td>M</td>\n",
       "      <td>18</td>\n",
       "      <td>U</td>\n",
       "      <td>GT3</td>\n",
       "      <td>T</td>\n",
       "      <td>4.0</td>\n",
       "      <td>3.0</td>\n",
       "      <td>teacher</td>\n",
       "      <td>other</td>\n",
       "      <td>course</td>\n",
       "      <td>mother</td>\n",
       "      <td>NaN</td>\n",
       "      <td>2.0</td>\n",
       "      <td>NaN</td>\n",
       "      <td>no</td>\n",
       "      <td>yes</td>\n",
       "      <td>yes</td>\n",
       "      <td>no</td>\n",
       "      <td>no</td>\n",
       "      <td>yes</td>\n",
       "      <td>yes</td>\n",
       "      <td>NaN</td>\n",
       "      <td>4.0</td>\n",
       "      <td>3.0</td>\n",
       "      <td>2.0</td>\n",
       "      <td>3.0</td>\n",
       "      <td>2.0</td>\n",
       "      <td>40.0</td>\n",
       "    </tr>\n",
       "    <tr>\n",
       "      <th>280</th>\n",
       "      <td>GP</td>\n",
       "      <td>M</td>\n",
       "      <td>17</td>\n",
       "      <td>U</td>\n",
       "      <td>NaN</td>\n",
       "      <td>A</td>\n",
       "      <td>4.0</td>\n",
       "      <td>NaN</td>\n",
       "      <td>services</td>\n",
       "      <td>other</td>\n",
       "      <td>home</td>\n",
       "      <td>mother</td>\n",
       "      <td>2.0</td>\n",
       "      <td>1.0</td>\n",
       "      <td>NaN</td>\n",
       "      <td>no</td>\n",
       "      <td>no</td>\n",
       "      <td>yes</td>\n",
       "      <td>yes</td>\n",
       "      <td>yes</td>\n",
       "      <td>yes</td>\n",
       "      <td>yes</td>\n",
       "      <td>NaN</td>\n",
       "      <td>4.0</td>\n",
       "      <td>NaN</td>\n",
       "      <td>4.0</td>\n",
       "      <td>5.0</td>\n",
       "      <td>30.0</td>\n",
       "      <td>40.0</td>\n",
       "    </tr>\n",
       "    <tr>\n",
       "      <th>313</th>\n",
       "      <td>GP</td>\n",
       "      <td>F</td>\n",
       "      <td>19</td>\n",
       "      <td>U</td>\n",
       "      <td>NaN</td>\n",
       "      <td>NaN</td>\n",
       "      <td>3.0</td>\n",
       "      <td>2.0</td>\n",
       "      <td>services</td>\n",
       "      <td>other</td>\n",
       "      <td>reputation</td>\n",
       "      <td>other</td>\n",
       "      <td>2.0</td>\n",
       "      <td>2.0</td>\n",
       "      <td>NaN</td>\n",
       "      <td>no</td>\n",
       "      <td>NaN</td>\n",
       "      <td>NaN</td>\n",
       "      <td>no</td>\n",
       "      <td>no</td>\n",
       "      <td>yes</td>\n",
       "      <td>yes</td>\n",
       "      <td>yes</td>\n",
       "      <td>4.0</td>\n",
       "      <td>2.0</td>\n",
       "      <td>2.0</td>\n",
       "      <td>1.0</td>\n",
       "      <td>22.0</td>\n",
       "      <td>55.0</td>\n",
       "    </tr>\n",
       "    <tr>\n",
       "      <th>320</th>\n",
       "      <td>GP</td>\n",
       "      <td>F</td>\n",
       "      <td>17</td>\n",
       "      <td>U</td>\n",
       "      <td>GT3</td>\n",
       "      <td>A</td>\n",
       "      <td>4.0</td>\n",
       "      <td>3.0</td>\n",
       "      <td>services</td>\n",
       "      <td>services</td>\n",
       "      <td>course</td>\n",
       "      <td>mother</td>\n",
       "      <td>1.0</td>\n",
       "      <td>2.0</td>\n",
       "      <td>NaN</td>\n",
       "      <td>no</td>\n",
       "      <td>yes</td>\n",
       "      <td>yes</td>\n",
       "      <td>no</td>\n",
       "      <td>yes</td>\n",
       "      <td>NaN</td>\n",
       "      <td>yes</td>\n",
       "      <td>yes</td>\n",
       "      <td>5.0</td>\n",
       "      <td>2.0</td>\n",
       "      <td>2.0</td>\n",
       "      <td>5.0</td>\n",
       "      <td>23.0</td>\n",
       "      <td>65.0</td>\n",
       "    </tr>\n",
       "    <tr>\n",
       "      <th>344</th>\n",
       "      <td>GP</td>\n",
       "      <td>F</td>\n",
       "      <td>18</td>\n",
       "      <td>U</td>\n",
       "      <td>NaN</td>\n",
       "      <td>T</td>\n",
       "      <td>2.0</td>\n",
       "      <td>3.0</td>\n",
       "      <td>at_home</td>\n",
       "      <td>other</td>\n",
       "      <td>course</td>\n",
       "      <td>NaN</td>\n",
       "      <td>1.0</td>\n",
       "      <td>3.0</td>\n",
       "      <td>NaN</td>\n",
       "      <td>no</td>\n",
       "      <td>yes</td>\n",
       "      <td>no</td>\n",
       "      <td>no</td>\n",
       "      <td>yes</td>\n",
       "      <td>yes</td>\n",
       "      <td>yes</td>\n",
       "      <td>no</td>\n",
       "      <td>4.0</td>\n",
       "      <td>3.0</td>\n",
       "      <td>3.0</td>\n",
       "      <td>3.0</td>\n",
       "      <td>4.0</td>\n",
       "      <td>50.0</td>\n",
       "    </tr>\n",
       "  </tbody>\n",
       "</table>\n",
       "</div>"
      ],
      "text/plain": [
       "    school sex  age address famsize p_status  m_edu  f_edu     m_job  \\\n",
       "21      GP   M   15       U     GT3        T    4.0    NaN    health   \n",
       "48      GP   M   15       U     GT3        T    4.0    2.0   teacher   \n",
       "54      GP   F   15       U     LE3      NaN    3.0    3.0       NaN   \n",
       "68      GP   F   15       R     LE3        T    2.0    2.0    health   \n",
       "91      GP   F   15       U     GT3        T    4.0    3.0  services   \n",
       "107     GP   M   16       U     GT3        T    3.0    3.0  services   \n",
       "108     GP   M   15       R     GT3      NaN    4.0    4.0     other   \n",
       "114     GP   M   15       R     NaN        T    2.0    1.0    health   \n",
       "115     GP   M   16       U     GT3        T    4.0    4.0   teacher   \n",
       "125     GP   M   15       U     GT3        T    3.0    4.0  services   \n",
       "153     GP   M   19       U     GT3      NaN    3.0    2.0  services   \n",
       "158     GP   M   16       R     GT3      NaN    2.0    2.0   at_home   \n",
       "170     GP   M   16       U     GT3        T    3.0    4.0     other   \n",
       "171     GP   M   16       U     GT3        T    1.0    0.0     other   \n",
       "204     GP   F   16       R     GT3        T    2.0    2.0  services   \n",
       "214     GP   F   17       R     LE3        T    4.0    4.0  services   \n",
       "236     GP   M   17       U     LE3        T    2.0    NaN     other   \n",
       "261     GP   M   18       U     GT3        T    4.0    3.0   teacher   \n",
       "280     GP   M   17       U     NaN        A    4.0    NaN  services   \n",
       "313     GP   F   19       U     NaN      NaN    3.0    2.0  services   \n",
       "320     GP   F   17       U     GT3        A    4.0    3.0  services   \n",
       "344     GP   F   18       U     NaN        T    2.0    3.0   at_home   \n",
       "\n",
       "        f_job      reason guardian  traveltime  studytime  failures schoolsup  \\\n",
       "21     health       other   father         1.0        1.0       NaN        no   \n",
       "48      other        home   mother         1.0        2.0       NaN        no   \n",
       "54      other       other   mother         1.0        1.0       NaN        no   \n",
       "68        NaN  reputation   mother         NaN        2.0       NaN       yes   \n",
       "91      other  reputation   mother         1.0        NaN       NaN        no   \n",
       "107       NaN        home   father         1.0        3.0       NaN        no   \n",
       "108     other        home   father         4.0        4.0       NaN        no   \n",
       "114  services  reputation   mother         1.0        2.0       NaN        no   \n",
       "115   teacher      course   father         1.0        2.0       NaN        no   \n",
       "125  services        home   father         1.0        1.0       NaN       yes   \n",
       "153   at_home        home   mother         1.0        1.0       NaN        no   \n",
       "158     other      course   mother         3.0        1.0       NaN        no   \n",
       "170     other      course   father         3.0        1.0       NaN        no   \n",
       "171     other  reputation   mother         2.0        2.0       NaN        no   \n",
       "204  services  reputation   mother         2.0        4.0       NaN        no   \n",
       "214     other       other   mother         1.0        1.0       NaN        no   \n",
       "236     other        home   father         1.0        2.0       NaN        no   \n",
       "261     other      course   mother         NaN        2.0       NaN        no   \n",
       "280     other        home   mother         2.0        1.0       NaN        no   \n",
       "313     other  reputation    other         2.0        2.0       NaN        no   \n",
       "320  services      course   mother         1.0        2.0       NaN        no   \n",
       "344     other      course      NaN         1.0        3.0       NaN        no   \n",
       "\n",
       "    famsup paid activities nursery higher internet romantic  famrel  freetime  \\\n",
       "21     yes  NaN         no     yes    yes      yes       no     5.0       4.0   \n",
       "48     yes  yes         no     yes    NaN       no       no     4.0       3.0   \n",
       "54      no  yes        NaN     yes    yes      yes      NaN     5.0       3.0   \n",
       "68     yes  NaN         no     yes    yes      yes       no     4.0       1.0   \n",
       "91      no  yes        yes     yes    yes      yes       no     4.0       5.0   \n",
       "107    yes   no        yes     yes    yes      yes       no     5.0       3.0   \n",
       "108    yes  yes        yes     yes    yes      yes      yes     1.0       3.0   \n",
       "114     no   no        yes     yes    yes      yes      yes     5.0       4.0   \n",
       "115    yes   no        yes     yes    yes      NaN       no     5.0       4.0   \n",
       "125     no   no         no     yes    yes      NaN       no     5.0       5.0   \n",
       "153    yes   no         no     yes     no      yes      yes     4.0       5.0   \n",
       "158     no   no         no      no    NaN       no       no     4.0       2.0   \n",
       "170    yes   no        yes      no    NaN      yes       no     3.0       4.0   \n",
       "171    yes  yes        yes     yes    NaN      yes      yes     4.0       3.0   \n",
       "204    yes  yes        yes      no    yes      yes      NaN     5.0       3.0   \n",
       "214    yes  NaN         no     yes    yes       no       no     5.0       2.0   \n",
       "236     no  NaN        yes      no    yes      yes      yes     4.0       4.0   \n",
       "261    yes  yes         no      no    yes      yes      NaN     4.0       3.0   \n",
       "280     no  yes        yes     yes    yes      yes      NaN     4.0       NaN   \n",
       "313    NaN  NaN         no      no    yes      yes      yes     4.0       2.0   \n",
       "320    yes  yes         no     yes    NaN      yes      yes     5.0       2.0   \n",
       "344    yes   no         no     yes    yes      yes       no     4.0       3.0   \n",
       "\n",
       "     goout  health  absences  score  \n",
       "21     2.0     5.0       0.0   75.0  \n",
       "48     3.0     5.0       2.0   70.0  \n",
       "54     4.0     1.0       6.0   65.0  \n",
       "68     3.0     4.0       2.0   40.0  \n",
       "91     5.0     1.0       4.0   90.0  \n",
       "107    3.0     5.0       2.0   90.0  \n",
       "108    5.0     1.0       6.0   65.0  \n",
       "114    2.0     5.0       8.0   45.0  \n",
       "115    4.0     5.0       2.0   80.0  \n",
       "125    5.0     5.0       0.0   60.0  \n",
       "153    4.0     NaN       0.0    0.0  \n",
       "158    2.0     3.0       2.0   75.0  \n",
       "170    5.0     2.0       0.0    0.0  \n",
       "171    2.0     3.0       2.0   80.0  \n",
       "204    5.0     5.0       6.0   55.0  \n",
       "214    1.0     3.0      12.0   50.0  \n",
       "236    2.0     NaN       4.0   65.0  \n",
       "261    2.0     3.0       2.0   40.0  \n",
       "280    4.0     5.0      30.0   40.0  \n",
       "313    2.0     1.0      22.0   55.0  \n",
       "320    2.0     5.0      23.0   65.0  \n",
       "344    3.0     3.0       4.0   50.0  "
      ]
     },
     "execution_count": 44,
     "metadata": {},
     "output_type": "execute_result"
    }
   ],
   "source": [
    "# 22 строки в которых значения неизвестны. \n",
    "# Я бы и тут не заполнял, но уже 10 критерий анализирую и не заполнил ни одного пропуска.\n",
    "# решил попробовать заполнить пропуски нулями (==0.0) потому что с натяжкой, \n",
    "# но можно выделить это одно значение из четырех, которое однозначно доминирует.\n",
    "\n",
    "# но давайте сначала посмотрим на эти 22 строки, чтобы там не было ничего экстраордиарного\n",
    "temp = school[school.failures.isnull()]\n",
    "temp"
   ]
  },
  {
   "cell_type": "code",
   "execution_count": 45,
   "metadata": {},
   "outputs": [
    {
     "data": {
      "text/html": [
       "<div>\n",
       "<style scoped>\n",
       "    .dataframe tbody tr th:only-of-type {\n",
       "        vertical-align: middle;\n",
       "    }\n",
       "\n",
       "    .dataframe tbody tr th {\n",
       "        vertical-align: top;\n",
       "    }\n",
       "\n",
       "    .dataframe thead th {\n",
       "        text-align: right;\n",
       "    }\n",
       "</style>\n",
       "<table border=\"1\" class=\"dataframe\">\n",
       "  <thead>\n",
       "    <tr style=\"text-align: right;\">\n",
       "      <th></th>\n",
       "      <th>age</th>\n",
       "      <th>m_edu</th>\n",
       "      <th>f_edu</th>\n",
       "      <th>traveltime</th>\n",
       "      <th>studytime</th>\n",
       "      <th>failures</th>\n",
       "      <th>famrel</th>\n",
       "      <th>freetime</th>\n",
       "      <th>goout</th>\n",
       "      <th>health</th>\n",
       "      <th>absences</th>\n",
       "      <th>score</th>\n",
       "    </tr>\n",
       "  </thead>\n",
       "  <tbody>\n",
       "    <tr>\n",
       "      <th>mean</th>\n",
       "      <td>16.272727</td>\n",
       "      <td>3.045455</td>\n",
       "      <td>2.684211</td>\n",
       "      <td>1.55</td>\n",
       "      <td>1.904762</td>\n",
       "      <td>NaN</td>\n",
       "      <td>4.227273</td>\n",
       "      <td>3.238095</td>\n",
       "      <td>3.181818</td>\n",
       "      <td>3.5</td>\n",
       "      <td>6.318182</td>\n",
       "      <td>57.045455</td>\n",
       "    </tr>\n",
       "  </tbody>\n",
       "</table>\n",
       "</div>"
      ],
      "text/plain": [
       "            age     m_edu     f_edu  traveltime  studytime  failures  \\\n",
       "mean  16.272727  3.045455  2.684211        1.55   1.904762       NaN   \n",
       "\n",
       "        famrel  freetime     goout  health  absences      score  \n",
       "mean  4.227273  3.238095  3.181818     3.5  6.318182  57.045455  "
      ]
     },
     "execution_count": 45,
     "metadata": {},
     "output_type": "execute_result"
    }
   ],
   "source": [
    "# ничего криминального визуально не видно\n",
    "# внимание привлекли две строчки с нулевыми скорами (index: 153,170)\n",
    "# это два парня 19 и 16 лет соответсвенно, живущие в городе ничем особенно не отличающие, \n",
    "# только вот опекун у одного (father) и отношения в семье немного выбиваются из общей статистики\n",
    "\n",
    "# посмотрим на среднее значение нашей выборки из датасета и всего датасета \n",
    "temp.describe()[1:2]"
   ]
  },
  {
   "cell_type": "code",
   "execution_count": 46,
   "metadata": {},
   "outputs": [
    {
     "data": {
      "text/html": [
       "<div>\n",
       "<style scoped>\n",
       "    .dataframe tbody tr th:only-of-type {\n",
       "        vertical-align: middle;\n",
       "    }\n",
       "\n",
       "    .dataframe tbody tr th {\n",
       "        vertical-align: top;\n",
       "    }\n",
       "\n",
       "    .dataframe thead th {\n",
       "        text-align: right;\n",
       "    }\n",
       "</style>\n",
       "<table border=\"1\" class=\"dataframe\">\n",
       "  <thead>\n",
       "    <tr style=\"text-align: right;\">\n",
       "      <th></th>\n",
       "      <th>age</th>\n",
       "      <th>m_edu</th>\n",
       "      <th>f_edu</th>\n",
       "      <th>traveltime</th>\n",
       "      <th>studytime</th>\n",
       "      <th>failures</th>\n",
       "      <th>famrel</th>\n",
       "      <th>freetime</th>\n",
       "      <th>goout</th>\n",
       "      <th>health</th>\n",
       "      <th>absences</th>\n",
       "      <th>score</th>\n",
       "    </tr>\n",
       "  </thead>\n",
       "  <tbody>\n",
       "    <tr>\n",
       "      <th>mean</th>\n",
       "      <td>16.696203</td>\n",
       "      <td>2.75</td>\n",
       "      <td>2.51752</td>\n",
       "      <td>1.438692</td>\n",
       "      <td>2.03866</td>\n",
       "      <td>0.337802</td>\n",
       "      <td>3.9375</td>\n",
       "      <td>3.231771</td>\n",
       "      <td>3.105943</td>\n",
       "      <td>3.531579</td>\n",
       "      <td>7.279373</td>\n",
       "      <td>52.262211</td>\n",
       "    </tr>\n",
       "  </tbody>\n",
       "</table>\n",
       "</div>"
      ],
      "text/plain": [
       "            age  m_edu    f_edu  traveltime  studytime  failures  famrel  \\\n",
       "mean  16.696203   2.75  2.51752    1.438692    2.03866  0.337802  3.9375   \n",
       "\n",
       "      freetime     goout    health  absences      score  \n",
       "mean  3.231771  3.105943  3.531579  7.279373  52.262211  "
      ]
     },
     "execution_count": 46,
     "metadata": {},
     "output_type": "execute_result"
    }
   ],
   "source": [
    "school.describe()[1:2]"
   ]
  },
  {
   "cell_type": "code",
   "execution_count": 47,
   "metadata": {},
   "outputs": [
    {
     "data": {
      "text/html": [
       "<div>\n",
       "<style scoped>\n",
       "    .dataframe tbody tr th:only-of-type {\n",
       "        vertical-align: middle;\n",
       "    }\n",
       "\n",
       "    .dataframe tbody tr th {\n",
       "        vertical-align: top;\n",
       "    }\n",
       "\n",
       "    .dataframe thead tr th {\n",
       "        text-align: left;\n",
       "    }\n",
       "</style>\n",
       "<table border=\"1\" class=\"dataframe\">\n",
       "  <thead>\n",
       "    <tr>\n",
       "      <th>score</th>\n",
       "      <th colspan=\"4\" halign=\"left\">0.0</th>\n",
       "      <th>20.0</th>\n",
       "      <th colspan=\"4\" halign=\"left\">25.0</th>\n",
       "      <th>30.0</th>\n",
       "      <th colspan=\"4\" halign=\"left\">35.0</th>\n",
       "      <th colspan=\"4\" halign=\"left\">40.0</th>\n",
       "      <th colspan=\"4\" halign=\"left\">45.0</th>\n",
       "      <th colspan=\"4\" halign=\"left\">50.0</th>\n",
       "      <th colspan=\"2\" halign=\"left\">55.0</th>\n",
       "      <th colspan=\"2\" halign=\"left\">60.0</th>\n",
       "      <th colspan=\"3\" halign=\"left\">65.0</th>\n",
       "      <th colspan=\"2\" halign=\"left\">70.0</th>\n",
       "      <th colspan=\"2\" halign=\"left\">75.0</th>\n",
       "      <th>80.0</th>\n",
       "      <th>85.0</th>\n",
       "      <th colspan=\"2\" halign=\"left\">90.0</th>\n",
       "      <th>95.0</th>\n",
       "      <th>100.0</th>\n",
       "    </tr>\n",
       "    <tr>\n",
       "      <th>failures</th>\n",
       "      <th>0.0</th>\n",
       "      <th>1.0</th>\n",
       "      <th>2.0</th>\n",
       "      <th>3.0</th>\n",
       "      <th>2.0</th>\n",
       "      <th>0.0</th>\n",
       "      <th>1.0</th>\n",
       "      <th>2.0</th>\n",
       "      <th>3.0</th>\n",
       "      <th>0.0</th>\n",
       "      <th>0.0</th>\n",
       "      <th>1.0</th>\n",
       "      <th>2.0</th>\n",
       "      <th>3.0</th>\n",
       "      <th>0.0</th>\n",
       "      <th>1.0</th>\n",
       "      <th>2.0</th>\n",
       "      <th>3.0</th>\n",
       "      <th>0.0</th>\n",
       "      <th>1.0</th>\n",
       "      <th>2.0</th>\n",
       "      <th>3.0</th>\n",
       "      <th>0.0</th>\n",
       "      <th>1.0</th>\n",
       "      <th>2.0</th>\n",
       "      <th>3.0</th>\n",
       "      <th>0.0</th>\n",
       "      <th>1.0</th>\n",
       "      <th>0.0</th>\n",
       "      <th>1.0</th>\n",
       "      <th>0.0</th>\n",
       "      <th>1.0</th>\n",
       "      <th>2.0</th>\n",
       "      <th>0.0</th>\n",
       "      <th>1.0</th>\n",
       "      <th>0.0</th>\n",
       "      <th>2.0</th>\n",
       "      <th>0.0</th>\n",
       "      <th>0.0</th>\n",
       "      <th>0.0</th>\n",
       "      <th>1.0</th>\n",
       "      <th>0.0</th>\n",
       "      <th>0.0</th>\n",
       "    </tr>\n",
       "  </thead>\n",
       "  <tbody>\n",
       "    <tr>\n",
       "      <th>age</th>\n",
       "      <td>17</td>\n",
       "      <td>10</td>\n",
       "      <td>4</td>\n",
       "      <td>4</td>\n",
       "      <td>1</td>\n",
       "      <td>3</td>\n",
       "      <td>2</td>\n",
       "      <td>1</td>\n",
       "      <td>1</td>\n",
       "      <td>15</td>\n",
       "      <td>3</td>\n",
       "      <td>2</td>\n",
       "      <td>1</td>\n",
       "      <td>3</td>\n",
       "      <td>15</td>\n",
       "      <td>10</td>\n",
       "      <td>2</td>\n",
       "      <td>1</td>\n",
       "      <td>20</td>\n",
       "      <td>2</td>\n",
       "      <td>3</td>\n",
       "      <td>1</td>\n",
       "      <td>41</td>\n",
       "      <td>6</td>\n",
       "      <td>1</td>\n",
       "      <td>4</td>\n",
       "      <td>41</td>\n",
       "      <td>3</td>\n",
       "      <td>24</td>\n",
       "      <td>6</td>\n",
       "      <td>21</td>\n",
       "      <td>5</td>\n",
       "      <td>1</td>\n",
       "      <td>25</td>\n",
       "      <td>1</td>\n",
       "      <td>30</td>\n",
       "      <td>1</td>\n",
       "      <td>14</td>\n",
       "      <td>6</td>\n",
       "      <td>9</td>\n",
       "      <td>1</td>\n",
       "      <td>5</td>\n",
       "      <td>1</td>\n",
       "    </tr>\n",
       "  </tbody>\n",
       "</table>\n",
       "</div>"
      ],
      "text/plain": [
       "score    0.0               20.0  25.0              30.0  35.0               \\\n",
       "failures   0.0 1.0 2.0 3.0   2.0   0.0 1.0 2.0 3.0   0.0   0.0 1.0 2.0 3.0   \n",
       "age         17  10   4   4     1     3   2   1   1    15     3   2   1   3   \n",
       "\n",
       "score    40.0              45.0              50.0              55.0       \\\n",
       "failures   0.0 1.0 2.0 3.0   0.0 1.0 2.0 3.0   0.0 1.0 2.0 3.0   0.0 1.0   \n",
       "age         15  10   2   1    20   2   3   1    41   6   1   4    41   3   \n",
       "\n",
       "score    60.0      65.0          70.0      75.0      80.0  85.0  90.0       \\\n",
       "failures   0.0 1.0   0.0 1.0 2.0   0.0 1.0   0.0 2.0   0.0   0.0   0.0 1.0   \n",
       "age         24   6    21   5   1    25   1    30   1    14     6     9   1   \n",
       "\n",
       "score    95.0  100.0  \n",
       "failures   0.0   0.0  \n",
       "age          5     1  "
      ]
     },
     "metadata": {},
     "output_type": "display_data"
    }
   ],
   "source": [
    "\n",
    "# видно что отличия несущественные\n",
    "\n",
    "# автозаполнение нулями приведет к среднему значению пустых строк равному 0.0\n",
    "# при том что среднее значение по всему датасету 0.33 - значит этот шаг оправдан \n",
    "# для полного успокоения сгруппируем данные для score и failures,\n",
    "# чтобы понимать какие значения  failures характерны нулевым значениям score\n",
    "pd.set_option('display.max_columns', 60)\n",
    "display(pd.DataFrame(school.groupby(['score','failures']).age.count()).T)"
   ]
  },
  {
   "cell_type": "markdown",
   "metadata": {},
   "source": [
    "получается:\n",
    "- при значениях score больше либо равно 70 в большинстве строк всего нет неудач failure = 0.0\n",
    "- при значениях score больше 55 значения failure = 2.0 и 3.0 не встречаются\n",
    "- при значениях score больше 35 кол-во неудач (1,2,3) меньше чем failure = 0.0\n",
    "-  при значениях score до 35 включительно кол-во неудач (1,2,3) больше чем failure = 0.0 \n",
    "-  при значениях score равным 0 кол-во неудач превышает кол-во ненеудач\n",
    " из этого следует, что вышеописанным парням скорее всего не светит failure = 0.0 \n",
    "\n",
    "в целом есть некоторая закономерность которая может звучать так\n",
    "1. чем меньше неудач тем больше score"
   ]
  },
  {
   "cell_type": "code",
   "execution_count": 48,
   "metadata": {},
   "outputs": [
    {
     "data": {
      "text/html": [
       "<div>\n",
       "<style scoped>\n",
       "    .dataframe tbody tr th:only-of-type {\n",
       "        vertical-align: middle;\n",
       "    }\n",
       "\n",
       "    .dataframe tbody tr th {\n",
       "        vertical-align: top;\n",
       "    }\n",
       "\n",
       "    .dataframe thead tr th {\n",
       "        text-align: left;\n",
       "    }\n",
       "</style>\n",
       "<table border=\"1\" class=\"dataframe\">\n",
       "  <thead>\n",
       "    <tr>\n",
       "      <th>score</th>\n",
       "      <th colspan=\"2\" halign=\"left\">0.0</th>\n",
       "      <th colspan=\"2\" halign=\"left\">40.0</th>\n",
       "      <th colspan=\"3\" halign=\"left\">45.0</th>\n",
       "      <th>50.0</th>\n",
       "      <th colspan=\"2\" halign=\"left\">55.0</th>\n",
       "      <th>60.0</th>\n",
       "      <th colspan=\"3\" halign=\"left\">65.0</th>\n",
       "    </tr>\n",
       "    <tr>\n",
       "      <th>failures</th>\n",
       "      <th>0.0</th>\n",
       "      <th>1.0</th>\n",
       "      <th>0.0</th>\n",
       "      <th>1.0</th>\n",
       "      <th>0.0</th>\n",
       "      <th>2.0</th>\n",
       "      <th>3.0</th>\n",
       "      <th>1.0</th>\n",
       "      <th>0.0</th>\n",
       "      <th>1.0</th>\n",
       "      <th>1.0</th>\n",
       "      <th>0.0</th>\n",
       "      <th>1.0</th>\n",
       "      <th>2.0</th>\n",
       "    </tr>\n",
       "  </thead>\n",
       "  <tbody>\n",
       "    <tr>\n",
       "      <th>age</th>\n",
       "      <td>1</td>\n",
       "      <td>3</td>\n",
       "      <td>1</td>\n",
       "      <td>2</td>\n",
       "      <td>1</td>\n",
       "      <td>1</td>\n",
       "      <td>1</td>\n",
       "      <td>1</td>\n",
       "      <td>1</td>\n",
       "      <td>2</td>\n",
       "      <td>1</td>\n",
       "      <td>1</td>\n",
       "      <td>2</td>\n",
       "      <td>1</td>\n",
       "    </tr>\n",
       "  </tbody>\n",
       "</table>\n",
       "</div>"
      ],
      "text/plain": [
       "score    0.0      40.0     45.0         50.0 55.0     60.0 65.0        \n",
       "failures  0.0 1.0  0.0 1.0  0.0 2.0 3.0  1.0  0.0 1.0  1.0  0.0 1.0 2.0\n",
       "age         1   3    1   2    1   1   1    1    1   2    1    1   2   1"
      ]
     },
     "execution_count": 48,
     "metadata": {},
     "output_type": "execute_result"
    }
   ],
   "source": [
    "# посмотрим какая статистика для возраста age=19 так как парень такой один\n",
    "pd.DataFrame(school[school['age']==19].groupby(['score','failures']).age.count()).T"
   ]
  },
  {
   "cell_type": "code",
   "execution_count": 49,
   "metadata": {},
   "outputs": [
    {
     "name": "stdout",
     "output_type": "stream",
     "text": [
      "кол-во строк со score больше 35 := 20\n",
      "кол-во строк со score меньше 35 := 2\n"
     ]
    }
   ],
   "source": [
    "# в целом тенденция такая же как я писал выше \n",
    "# чем меньше неудач тем больше score\n",
    "\n",
    "# также примечательно что тут максимальный score 65 \n",
    "# поэтому можно сформулировать принцип по заполнению пропусков такой\n",
    "# при значениях score от нуля до 35 включительно одна неудача failure = 1.0\n",
    "# при значениях score выше 35 нет неудач failure = 0.0\n",
    "# посмотрим сколько у нас таких вариантов\n",
    "print(f\"кол-во строк со score больше 35 := {len(temp[temp.score>35])}\")\n",
    "print(f\"кол-во строк со score меньше 35 := {len(temp[temp.score<=35])}\")"
   ]
  },
  {
   "cell_type": "code",
   "execution_count": 50,
   "metadata": {},
   "outputs": [],
   "source": [
    "# значит 20 значений из 22 заполним нулями, а 2 значения - 1.0\n",
    "\n",
    "# делаем заполнение 20 значений\n",
    "school.loc[(school['score'] > 35.0) & (school.failures.isnull()) , 'failures'] = 0.0\n",
    "# потом заполняем оставшиеся \n",
    "school.loc[school.failures.isnull(), 'failures'] = 1.0"
   ]
  },
  {
   "cell_type": "code",
   "execution_count": 51,
   "metadata": {},
   "outputs": [
    {
     "name": "stdout",
     "output_type": "stream",
     "text": [
      "     failures\n",
      "0.0       313\n",
      "1.0        51\n",
      "2.0        16\n",
      "3.0        15\n",
      "<class 'pandas.core.frame.DataFrame'>\n",
      "RangeIndex: 395 entries, 0 to 394\n",
      "Data columns (total 1 columns):\n",
      " #   Column    Non-Null Count  Dtype  \n",
      "---  ------    --------------  -----  \n",
      " 0   failures  395 non-null    float64\n",
      "dtypes: float64(1)\n",
      "memory usage: 3.2 KB\n"
     ]
    }
   ],
   "source": [
    "# проверяем\n",
    "print(pd.DataFrame(school.failures.value_counts()))\n",
    "school.loc[:, ['failures']].info()"
   ]
  },
  {
   "cell_type": "markdown",
   "metadata": {},
   "source": [
    "### Итог:\n",
    "- failures: четыре уникальных значения как в описании. Пропусков нет (заполнил - принципы заполнения описаны выше в комментариях)"
   ]
  },
  {
   "cell_type": "markdown",
   "metadata": {},
   "source": [
    "### Посмотрим на столбец famrel — семейные отношения (от 1 - очень плохо до 5 - очень хорошо)"
   ]
  },
  {
   "cell_type": "code",
   "execution_count": 52,
   "metadata": {},
   "outputs": [
    {
     "data": {
      "text/html": [
       "<div>\n",
       "<style scoped>\n",
       "    .dataframe tbody tr th:only-of-type {\n",
       "        vertical-align: middle;\n",
       "    }\n",
       "\n",
       "    .dataframe tbody tr th {\n",
       "        vertical-align: top;\n",
       "    }\n",
       "\n",
       "    .dataframe thead th {\n",
       "        text-align: right;\n",
       "    }\n",
       "</style>\n",
       "<table border=\"1\" class=\"dataframe\">\n",
       "  <thead>\n",
       "    <tr style=\"text-align: right;\">\n",
       "      <th></th>\n",
       "      <th>famrel</th>\n",
       "    </tr>\n",
       "  </thead>\n",
       "  <tbody>\n",
       "    <tr>\n",
       "      <th>4.0</th>\n",
       "      <td>182</td>\n",
       "    </tr>\n",
       "    <tr>\n",
       "      <th>5.0</th>\n",
       "      <td>99</td>\n",
       "    </tr>\n",
       "    <tr>\n",
       "      <th>3.0</th>\n",
       "      <td>62</td>\n",
       "    </tr>\n",
       "    <tr>\n",
       "      <th>2.0</th>\n",
       "      <td>17</td>\n",
       "    </tr>\n",
       "    <tr>\n",
       "      <th>1.0</th>\n",
       "      <td>7</td>\n",
       "    </tr>\n",
       "    <tr>\n",
       "      <th>-1.0</th>\n",
       "      <td>1</td>\n",
       "    </tr>\n",
       "  </tbody>\n",
       "</table>\n",
       "</div>"
      ],
      "text/plain": [
       "      famrel\n",
       " 4.0     182\n",
       " 5.0      99\n",
       " 3.0      62\n",
       " 2.0      17\n",
       " 1.0       7\n",
       "-1.0       1"
      ]
     },
     "execution_count": 52,
     "metadata": {},
     "output_type": "execute_result"
    }
   ],
   "source": [
    "pd.DataFrame(school.famrel.value_counts())"
   ]
  },
  {
   "cell_type": "code",
   "execution_count": 53,
   "metadata": {},
   "outputs": [],
   "source": [
    "# появилось одно!!! значение отсутствующее в исходном описании области значений критерия \n",
    "# при этом оно по написанию очень похоже на 1.0\n",
    "# скорее это ошибка\n",
    "# поэтому заменим его на 1.0\n",
    "school.loc[school['famrel'] == -1.0, 'famrel'] = 1.0"
   ]
  },
  {
   "cell_type": "code",
   "execution_count": 54,
   "metadata": {},
   "outputs": [
    {
     "data": {
      "text/html": [
       "<div>\n",
       "<style scoped>\n",
       "    .dataframe tbody tr th:only-of-type {\n",
       "        vertical-align: middle;\n",
       "    }\n",
       "\n",
       "    .dataframe tbody tr th {\n",
       "        vertical-align: top;\n",
       "    }\n",
       "\n",
       "    .dataframe thead th {\n",
       "        text-align: right;\n",
       "    }\n",
       "</style>\n",
       "<table border=\"1\" class=\"dataframe\">\n",
       "  <thead>\n",
       "    <tr style=\"text-align: right;\">\n",
       "      <th></th>\n",
       "      <th>famrel</th>\n",
       "    </tr>\n",
       "  </thead>\n",
       "  <tbody>\n",
       "    <tr>\n",
       "      <th>4.0</th>\n",
       "      <td>182</td>\n",
       "    </tr>\n",
       "    <tr>\n",
       "      <th>5.0</th>\n",
       "      <td>99</td>\n",
       "    </tr>\n",
       "    <tr>\n",
       "      <th>3.0</th>\n",
       "      <td>62</td>\n",
       "    </tr>\n",
       "    <tr>\n",
       "      <th>2.0</th>\n",
       "      <td>17</td>\n",
       "    </tr>\n",
       "    <tr>\n",
       "      <th>1.0</th>\n",
       "      <td>8</td>\n",
       "    </tr>\n",
       "  </tbody>\n",
       "</table>\n",
       "</div>"
      ],
      "text/plain": [
       "     famrel\n",
       "4.0     182\n",
       "5.0      99\n",
       "3.0      62\n",
       "2.0      17\n",
       "1.0       8"
      ]
     },
     "execution_count": 54,
     "metadata": {},
     "output_type": "execute_result"
    }
   ],
   "source": [
    "# проверим\n",
    "pd.DataFrame(school.famrel.value_counts())"
   ]
  },
  {
   "cell_type": "code",
   "execution_count": 55,
   "metadata": {},
   "outputs": [
    {
     "name": "stdout",
     "output_type": "stream",
     "text": [
      "<class 'pandas.core.frame.DataFrame'>\n",
      "RangeIndex: 395 entries, 0 to 394\n",
      "Data columns (total 1 columns):\n",
      " #   Column  Non-Null Count  Dtype  \n",
      "---  ------  --------------  -----  \n",
      " 0   famrel  368 non-null    float64\n",
      "dtypes: float64(1)\n",
      "memory usage: 3.2 KB\n"
     ]
    }
   ],
   "source": [
    "school.loc[:, ['famrel']].info()"
   ]
  },
  {
   "cell_type": "code",
   "execution_count": 56,
   "metadata": {},
   "outputs": [
    {
     "data": {
      "text/plain": [
       "27"
      ]
     },
     "execution_count": 56,
     "metadata": {},
     "output_type": "execute_result"
    }
   ],
   "source": [
    "# Пропуски в данных\n",
    "395-368"
   ]
  },
  {
   "cell_type": "markdown",
   "metadata": {},
   "source": [
    "### Итог:\n",
    "- famrel: пять уникальных значения как в описании. 27 строк в которых значения неизвестны. Заполнить пропуски на данный момент не представляется возможным, так как вариантов для заполнения слишком много, потому что выделить какое-то одно значение из пяти однозначно доминирующее невозможно."
   ]
  },
  {
   "cell_type": "markdown",
   "metadata": {},
   "source": [
    "### Посмотрим на столбец freetime — свободное время после школы (от 1 - очень мало до 5 - очень мого)"
   ]
  },
  {
   "cell_type": "code",
   "execution_count": 57,
   "metadata": {},
   "outputs": [
    {
     "data": {
      "text/html": [
       "<div>\n",
       "<style scoped>\n",
       "    .dataframe tbody tr th:only-of-type {\n",
       "        vertical-align: middle;\n",
       "    }\n",
       "\n",
       "    .dataframe tbody tr th {\n",
       "        vertical-align: top;\n",
       "    }\n",
       "\n",
       "    .dataframe thead th {\n",
       "        text-align: right;\n",
       "    }\n",
       "</style>\n",
       "<table border=\"1\" class=\"dataframe\">\n",
       "  <thead>\n",
       "    <tr style=\"text-align: right;\">\n",
       "      <th></th>\n",
       "      <th>freetime</th>\n",
       "    </tr>\n",
       "  </thead>\n",
       "  <tbody>\n",
       "    <tr>\n",
       "      <th>3.0</th>\n",
       "      <td>153</td>\n",
       "    </tr>\n",
       "    <tr>\n",
       "      <th>4.0</th>\n",
       "      <td>112</td>\n",
       "    </tr>\n",
       "    <tr>\n",
       "      <th>2.0</th>\n",
       "      <td>63</td>\n",
       "    </tr>\n",
       "    <tr>\n",
       "      <th>5.0</th>\n",
       "      <td>38</td>\n",
       "    </tr>\n",
       "    <tr>\n",
       "      <th>1.0</th>\n",
       "      <td>18</td>\n",
       "    </tr>\n",
       "  </tbody>\n",
       "</table>\n",
       "</div>"
      ],
      "text/plain": [
       "     freetime\n",
       "3.0       153\n",
       "4.0       112\n",
       "2.0        63\n",
       "5.0        38\n",
       "1.0        18"
      ]
     },
     "execution_count": 57,
     "metadata": {},
     "output_type": "execute_result"
    }
   ],
   "source": [
    "pd.DataFrame(school.freetime.value_counts())"
   ]
  },
  {
   "cell_type": "code",
   "execution_count": 58,
   "metadata": {},
   "outputs": [
    {
     "name": "stdout",
     "output_type": "stream",
     "text": [
      "<class 'pandas.core.frame.DataFrame'>\n",
      "RangeIndex: 395 entries, 0 to 394\n",
      "Data columns (total 1 columns):\n",
      " #   Column    Non-Null Count  Dtype  \n",
      "---  ------    --------------  -----  \n",
      " 0   freetime  384 non-null    float64\n",
      "dtypes: float64(1)\n",
      "memory usage: 3.2 KB\n"
     ]
    }
   ],
   "source": [
    "school.loc[:, ['freetime']].info()"
   ]
  },
  {
   "cell_type": "code",
   "execution_count": 59,
   "metadata": {},
   "outputs": [
    {
     "data": {
      "text/plain": [
       "11"
      ]
     },
     "execution_count": 59,
     "metadata": {},
     "output_type": "execute_result"
    }
   ],
   "source": [
    "# Пропуски в данных\n",
    "395-384"
   ]
  },
  {
   "cell_type": "markdown",
   "metadata": {},
   "source": [
    "### Итог:\n",
    "- freetime: пять уникальных значения как в описании. 11 строк в которых значения неизвестны. Заполнить пропуски на данный момент не представляется возможным, так как вариантов для заполнения слишком много, потому что выделить какое-то одно значение из пяти однозначно доминирующее невозможно."
   ]
  },
  {
   "cell_type": "markdown",
   "metadata": {},
   "source": [
    "### Посмотрим на столбец goout — проведение времени с друзьями (от 1 - очень мало до 5 - очень много)"
   ]
  },
  {
   "cell_type": "code",
   "execution_count": 60,
   "metadata": {},
   "outputs": [
    {
     "data": {
      "text/html": [
       "<div>\n",
       "<style scoped>\n",
       "    .dataframe tbody tr th:only-of-type {\n",
       "        vertical-align: middle;\n",
       "    }\n",
       "\n",
       "    .dataframe tbody tr th {\n",
       "        vertical-align: top;\n",
       "    }\n",
       "\n",
       "    .dataframe thead th {\n",
       "        text-align: right;\n",
       "    }\n",
       "</style>\n",
       "<table border=\"1\" class=\"dataframe\">\n",
       "  <thead>\n",
       "    <tr style=\"text-align: right;\">\n",
       "      <th></th>\n",
       "      <th>goout</th>\n",
       "    </tr>\n",
       "  </thead>\n",
       "  <tbody>\n",
       "    <tr>\n",
       "      <th>3.0</th>\n",
       "      <td>127</td>\n",
       "    </tr>\n",
       "    <tr>\n",
       "      <th>2.0</th>\n",
       "      <td>101</td>\n",
       "    </tr>\n",
       "    <tr>\n",
       "      <th>4.0</th>\n",
       "      <td>84</td>\n",
       "    </tr>\n",
       "    <tr>\n",
       "      <th>5.0</th>\n",
       "      <td>52</td>\n",
       "    </tr>\n",
       "    <tr>\n",
       "      <th>1.0</th>\n",
       "      <td>23</td>\n",
       "    </tr>\n",
       "  </tbody>\n",
       "</table>\n",
       "</div>"
      ],
      "text/plain": [
       "     goout\n",
       "3.0    127\n",
       "2.0    101\n",
       "4.0     84\n",
       "5.0     52\n",
       "1.0     23"
      ]
     },
     "execution_count": 60,
     "metadata": {},
     "output_type": "execute_result"
    }
   ],
   "source": [
    "pd.DataFrame(school.goout.value_counts())"
   ]
  },
  {
   "cell_type": "code",
   "execution_count": 61,
   "metadata": {},
   "outputs": [
    {
     "name": "stdout",
     "output_type": "stream",
     "text": [
      "<class 'pandas.core.frame.DataFrame'>\n",
      "RangeIndex: 395 entries, 0 to 394\n",
      "Data columns (total 1 columns):\n",
      " #   Column  Non-Null Count  Dtype  \n",
      "---  ------  --------------  -----  \n",
      " 0   goout   387 non-null    float64\n",
      "dtypes: float64(1)\n",
      "memory usage: 3.2 KB\n"
     ]
    }
   ],
   "source": [
    "school.loc[:, ['goout']].info()"
   ]
  },
  {
   "cell_type": "code",
   "execution_count": 62,
   "metadata": {},
   "outputs": [
    {
     "data": {
      "text/plain": [
       "8"
      ]
     },
     "execution_count": 62,
     "metadata": {},
     "output_type": "execute_result"
    }
   ],
   "source": [
    "# Пропуски в данных\n",
    "395-387"
   ]
  },
  {
   "cell_type": "markdown",
   "metadata": {},
   "source": [
    "### Итог:\n",
    "- goout: пять уникальных значения как в описании. 8 строк в которых значения неизвестны. Заполнить пропуски на данный момент не представляется возможным, так как вариантов для заполнения слишком много, потому что выделить какое-то одно значение из пяти однозначно доминирующее невозможно."
   ]
  },
  {
   "cell_type": "markdown",
   "metadata": {},
   "source": [
    "### Посмотрим на столбец health — текущее состояние здоровья (от 1 - очень плохо до 5 - очень хорошо)"
   ]
  },
  {
   "cell_type": "code",
   "execution_count": 63,
   "metadata": {},
   "outputs": [
    {
     "data": {
      "text/html": [
       "<div>\n",
       "<style scoped>\n",
       "    .dataframe tbody tr th:only-of-type {\n",
       "        vertical-align: middle;\n",
       "    }\n",
       "\n",
       "    .dataframe tbody tr th {\n",
       "        vertical-align: top;\n",
       "    }\n",
       "\n",
       "    .dataframe thead th {\n",
       "        text-align: right;\n",
       "    }\n",
       "</style>\n",
       "<table border=\"1\" class=\"dataframe\">\n",
       "  <thead>\n",
       "    <tr style=\"text-align: right;\">\n",
       "      <th></th>\n",
       "      <th>health</th>\n",
       "    </tr>\n",
       "  </thead>\n",
       "  <tbody>\n",
       "    <tr>\n",
       "      <th>5.0</th>\n",
       "      <td>138</td>\n",
       "    </tr>\n",
       "    <tr>\n",
       "      <th>3.0</th>\n",
       "      <td>89</td>\n",
       "    </tr>\n",
       "    <tr>\n",
       "      <th>4.0</th>\n",
       "      <td>63</td>\n",
       "    </tr>\n",
       "    <tr>\n",
       "      <th>1.0</th>\n",
       "      <td>47</td>\n",
       "    </tr>\n",
       "    <tr>\n",
       "      <th>2.0</th>\n",
       "      <td>43</td>\n",
       "    </tr>\n",
       "  </tbody>\n",
       "</table>\n",
       "</div>"
      ],
      "text/plain": [
       "     health\n",
       "5.0     138\n",
       "3.0      89\n",
       "4.0      63\n",
       "1.0      47\n",
       "2.0      43"
      ]
     },
     "execution_count": 63,
     "metadata": {},
     "output_type": "execute_result"
    }
   ],
   "source": [
    "pd.DataFrame(school.health.value_counts())"
   ]
  },
  {
   "cell_type": "code",
   "execution_count": 64,
   "metadata": {},
   "outputs": [
    {
     "name": "stdout",
     "output_type": "stream",
     "text": [
      "<class 'pandas.core.frame.DataFrame'>\n",
      "RangeIndex: 395 entries, 0 to 394\n",
      "Data columns (total 1 columns):\n",
      " #   Column  Non-Null Count  Dtype  \n",
      "---  ------  --------------  -----  \n",
      " 0   health  380 non-null    float64\n",
      "dtypes: float64(1)\n",
      "memory usage: 3.2 KB\n"
     ]
    }
   ],
   "source": [
    "school.loc[:, ['health']].info()"
   ]
  },
  {
   "cell_type": "code",
   "execution_count": 65,
   "metadata": {},
   "outputs": [
    {
     "data": {
      "text/plain": [
       "15"
      ]
     },
     "execution_count": 65,
     "metadata": {},
     "output_type": "execute_result"
    }
   ],
   "source": [
    "# Пропуски в данных\n",
    "395-380"
   ]
  },
  {
   "cell_type": "markdown",
   "metadata": {},
   "source": [
    "### Итог:\n",
    "- health: пять уникальных значения как в описании. 15 строк в которых значения неизвестны. Заполнить пропуски на данный момент не представляется возможным, так как вариантов для заполнения слишком много, потому что выделить какое-то одно значение из пяти однозначно доминирующее невозможно."
   ]
  },
  {
   "cell_type": "markdown",
   "metadata": {},
   "source": [
    "## Посмотрим на числовое распределение age — возраст ученика (от 15 до 22)"
   ]
  },
  {
   "cell_type": "code",
   "execution_count": 66,
   "metadata": {},
   "outputs": [
    {
     "data": {
      "text/plain": [
       "<AxesSubplot:>"
      ]
     },
     "execution_count": 66,
     "metadata": {},
     "output_type": "execute_result"
    },
    {
     "data": {
      "image/png": "[encoded data removed]",
      "text/plain": [
       "<Figure size 432x288 with 1 Axes>"
      ]
     },
     "metadata": {
      "needs_background": "light"
     },
     "output_type": "display_data"
    }
   ],
   "source": [
    "school.age.hist()"
   ]
  },
  {
   "cell_type": "code",
   "execution_count": 67,
   "metadata": {},
   "outputs": [
    {
     "data": {
      "text/plain": [
       "16    104\n",
       "17     98\n",
       "18     82\n",
       "15     82\n",
       "19     24\n",
       "20      3\n",
       "22      1\n",
       "21      1\n",
       "Name: age, dtype: int64"
      ]
     },
     "execution_count": 67,
     "metadata": {},
     "output_type": "execute_result"
    }
   ],
   "source": [
    "# убедимся что пропусков нет\n",
    "school.age.value_counts()"
   ]
  },
  {
   "cell_type": "code",
   "execution_count": 68,
   "metadata": {},
   "outputs": [
    {
     "data": {
      "text/plain": [
       "<AxesSubplot:>"
      ]
     },
     "execution_count": 68,
     "metadata": {},
     "output_type": "execute_result"
    },
    {
     "data": {
      "image/png": "[encoded data removed]",
      "text/plain": [
       "<Figure size 432x288 with 1 Axes>"
      ]
     },
     "metadata": {
      "needs_background": "light"
     },
     "output_type": "display_data"
    }
   ],
   "source": [
    "# построим ящик с усами чтобы проверить на наличие выбросов\n",
    "sns.boxplot(data=school.age)"
   ]
  },
  {
   "cell_type": "code",
   "execution_count": 69,
   "metadata": {},
   "outputs": [
    {
     "name": "stdout",
     "output_type": "stream",
     "text": [
      "25-й перцентиль: 16.0, 75-й перцентиль: 18.0, IQR: 2.0,  Границы выбросов: [13.0, 21.0].\n"
     ]
    },
    {
     "data": {
      "image/png": "[encoded data removed]",
      "text/plain": [
       "<Figure size 432x288 with 1 Axes>"
      ]
     },
     "metadata": {
      "needs_background": "light"
     },
     "output_type": "display_data"
    }
   ],
   "source": [
    "# в принципе видно что boxplot предлагает выкинуть выброс на 22 и граница на 21\n",
    "# но мы можем провести подровный анализ границ и расчитать их точные значения\n",
    "median = school.age.median()\n",
    "IQR = school.age.quantile(0.75) - school.age.quantile(0.25)\n",
    "perc25 = school.age.quantile(0.25)\n",
    "perc75 = school.age.quantile(0.75)\n",
    "print('25-й перцентиль: {},'.format(perc25),\n",
    "      '75-й перцентиль: {},'.format(perc75),\n",
    "      \"IQR: {}, \".format(IQR),\n",
    "      \"Границы выбросов: [{f}, {l}].\".format(f=perc25 - 1.5*IQR, l=perc75 + 1.5*IQR))\n",
    "\n",
    "\n",
    "school.age.loc[school.age <= 22].hist(bins = 8, \n",
    "                                  range = (14.5, 22.5), \n",
    "                                  color = 'red',\n",
    "                                  label = 'выбросы')\n",
    "\n",
    "school.age.loc[school.age.between(perc25 - 1.5*IQR, perc75 + 1.5*IQR)].hist(bins = 8, \n",
    "                                                                        range = (14.5, 22.5),\n",
    "                                                                        color = 'blue',\n",
    "                                                                        label = 'IQR')\n",
    "\n",
    "plt.legend();"
   ]
  },
  {
   "cell_type": "markdown",
   "metadata": {},
   "source": [
    "получилось:\n",
    "- граница действительно на 21.0"
   ]
  },
  {
   "cell_type": "code",
   "execution_count": 70,
   "metadata": {},
   "outputs": [],
   "source": [
    "# удаляем значение 22\n",
    "school.loc[school['age'] == 22.0, 'age'] = np.nan"
   ]
  },
  {
   "cell_type": "code",
   "execution_count": 71,
   "metadata": {},
   "outputs": [
    {
     "data": {
      "text/plain": [
       "count    394.000000\n",
       "mean      16.682741\n",
       "std        1.249267\n",
       "min       15.000000\n",
       "25%       16.000000\n",
       "50%       17.000000\n",
       "75%       18.000000\n",
       "max       21.000000\n",
       "Name: age, dtype: float64"
      ]
     },
     "execution_count": 71,
     "metadata": {},
     "output_type": "execute_result"
    }
   ],
   "source": [
    "school.age.describe()"
   ]
  },
  {
   "cell_type": "code",
   "execution_count": 72,
   "metadata": {},
   "outputs": [
    {
     "data": {
      "text/plain": [
       "<AxesSubplot:>"
      ]
     },
     "execution_count": 72,
     "metadata": {},
     "output_type": "execute_result"
    },
    {
     "data": {
      "image/png": "[encoded data removed]",
      "text/plain": [
       "<Figure size 432x288 with 1 Axes>"
      ]
     },
     "metadata": {
      "needs_background": "light"
     },
     "output_type": "display_data"
    }
   ],
   "source": [
    "# еще раз построим ящик с усами чтобы убедится что выбросов нет\n",
    "sns.boxplot(data=school.age)"
   ]
  },
  {
   "cell_type": "markdown",
   "metadata": {},
   "source": [
    "### Итог:\n",
    "- age: распределение признака скорее логнормальное (то есть имеет длинный хвост справа) это говорит о том что редко но встречаются ученики старше 18 лет. Выбросов теперь нет (удалил одно значение ==22 (^выброс). Медиана смещена влево, это означает что большинство учеников в возрасте 16-17 лет."
   ]
  },
  {
   "cell_type": "code",
   "execution_count": 73,
   "metadata": {},
   "outputs": [
    {
     "data": {
      "text/html": [
       "<div>\n",
       "<style scoped>\n",
       "    .dataframe tbody tr th:only-of-type {\n",
       "        vertical-align: middle;\n",
       "    }\n",
       "\n",
       "    .dataframe tbody tr th {\n",
       "        vertical-align: top;\n",
       "    }\n",
       "\n",
       "    .dataframe thead th {\n",
       "        text-align: right;\n",
       "    }\n",
       "</style>\n",
       "<table border=\"1\" class=\"dataframe\">\n",
       "  <thead>\n",
       "    <tr style=\"text-align: right;\">\n",
       "      <th></th>\n",
       "      <th>count</th>\n",
       "      <th>mean</th>\n",
       "      <th>max</th>\n",
       "      <th>min</th>\n",
       "      <th>median</th>\n",
       "    </tr>\n",
       "    <tr>\n",
       "      <th>age</th>\n",
       "      <th></th>\n",
       "      <th></th>\n",
       "      <th></th>\n",
       "      <th></th>\n",
       "      <th></th>\n",
       "    </tr>\n",
       "  </thead>\n",
       "  <tbody>\n",
       "    <tr>\n",
       "      <th>15.0</th>\n",
       "      <td>82</td>\n",
       "      <td>56.280488</td>\n",
       "      <td>95.0</td>\n",
       "      <td>0.0</td>\n",
       "      <td>55.0</td>\n",
       "    </tr>\n",
       "    <tr>\n",
       "      <th>16.0</th>\n",
       "      <td>103</td>\n",
       "      <td>55.194175</td>\n",
       "      <td>100.0</td>\n",
       "      <td>0.0</td>\n",
       "      <td>55.0</td>\n",
       "    </tr>\n",
       "    <tr>\n",
       "      <th>17.0</th>\n",
       "      <td>98</td>\n",
       "      <td>51.377551</td>\n",
       "      <td>90.0</td>\n",
       "      <td>0.0</td>\n",
       "      <td>55.0</td>\n",
       "    </tr>\n",
       "    <tr>\n",
       "      <th>18.0</th>\n",
       "      <td>80</td>\n",
       "      <td>48.312500</td>\n",
       "      <td>95.0</td>\n",
       "      <td>0.0</td>\n",
       "      <td>50.0</td>\n",
       "    </tr>\n",
       "    <tr>\n",
       "      <th>19.0</th>\n",
       "      <td>21</td>\n",
       "      <td>40.238095</td>\n",
       "      <td>65.0</td>\n",
       "      <td>0.0</td>\n",
       "      <td>45.0</td>\n",
       "    </tr>\n",
       "    <tr>\n",
       "      <th>20.0</th>\n",
       "      <td>3</td>\n",
       "      <td>70.000000</td>\n",
       "      <td>90.0</td>\n",
       "      <td>45.0</td>\n",
       "      <td>75.0</td>\n",
       "    </tr>\n",
       "    <tr>\n",
       "      <th>21.0</th>\n",
       "      <td>1</td>\n",
       "      <td>35.000000</td>\n",
       "      <td>35.0</td>\n",
       "      <td>35.0</td>\n",
       "      <td>35.0</td>\n",
       "    </tr>\n",
       "  </tbody>\n",
       "</table>\n",
       "</div>"
      ],
      "text/plain": [
       "      count       mean    max   min  median\n",
       "age                                        \n",
       "15.0     82  56.280488   95.0   0.0    55.0\n",
       "16.0    103  55.194175  100.0   0.0    55.0\n",
       "17.0     98  51.377551   90.0   0.0    55.0\n",
       "18.0     80  48.312500   95.0   0.0    50.0\n",
       "19.0     21  40.238095   65.0   0.0    45.0\n",
       "20.0      3  70.000000   90.0  45.0    75.0\n",
       "21.0      1  35.000000   35.0  35.0    35.0"
      ]
     },
     "metadata": {},
     "output_type": "display_data"
    }
   ],
   "source": [
    "# как ведет себя скор от возраста\n",
    "display(pd.DataFrame(school.groupby(['age']).score.agg(['count','mean', 'max', 'min', 'median'])))"
   ]
  },
  {
   "cell_type": "markdown",
   "metadata": {},
   "source": [
    "в целом вывод о том что чем старше тем ниже score верный возраст 20 выбивается из статистики за счет двух учеников (один с оценкой 90, другой с оценкой 75) это статистически не значимо. Оставим это как гипотезу проверим на матрице коррелации."
   ]
  },
  {
   "cell_type": "markdown",
   "metadata": {},
   "source": [
    "### Посмотрим на числовое распределение absences — количество пропущенных занятий"
   ]
  },
  {
   "cell_type": "code",
   "execution_count": 74,
   "metadata": {},
   "outputs": [
    {
     "data": {
      "text/plain": [
       "<AxesSubplot:>"
      ]
     },
     "execution_count": 74,
     "metadata": {},
     "output_type": "execute_result"
    },
    {
     "data": {
      "image/png": "[encoded data removed]",
      "text/plain": [
       "<Figure size 432x288 with 1 Axes>"
      ]
     },
     "metadata": {
      "needs_background": "light"
     },
     "output_type": "display_data"
    }
   ],
   "source": [
    "school.absences.hist()"
   ]
  },
  {
   "cell_type": "code",
   "execution_count": 75,
   "metadata": {},
   "outputs": [
    {
     "data": {
      "text/plain": [
       "<AxesSubplot:>"
      ]
     },
     "execution_count": 75,
     "metadata": {},
     "output_type": "execute_result"
    },
    {
     "data": {
      "image/png": "[encoded data removed]",
      "text/plain": [
       "<Figure size 432x288 with 1 Axes>"
      ]
     },
     "metadata": {
      "needs_background": "light"
     },
     "output_type": "display_data"
    }
   ],
   "source": [
    "# построим ящик с усами чтобы проверить на наличие выбросов\n",
    "sns.boxplot(data=school.absences)"
   ]
  },
  {
   "cell_type": "code",
   "execution_count": 76,
   "metadata": {},
   "outputs": [
    {
     "name": "stdout",
     "output_type": "stream",
     "text": [
      "25-й перцентиль: 0.0, 75-й перцентиль: 8.0, IQR: 8.0,  Границы выбросов: [-12.0, 20.0].\n"
     ]
    },
    {
     "data": {
      "image/png": "[encoded data removed]",
      "text/plain": [
       "<Figure size 432x288 with 1 Axes>"
      ]
     },
     "metadata": {
      "needs_background": "light"
     },
     "output_type": "display_data"
    }
   ],
   "source": [
    "# сделаем подровный анализ границ и расчитаем их точные значения\n",
    "median = school.absences.median()\n",
    "IQR = school.absences.quantile(0.75) - school.absences.quantile(0.25)\n",
    "perc25 = school.absences.quantile(0.25)\n",
    "perc75 = school.absences.quantile(0.75)\n",
    "print('25-й перцентиль: {},'.format(perc25),\n",
    "      '75-й перцентиль: {},'.format(perc75),\n",
    "      \"IQR: {}, \".format(IQR),\n",
    "      \"Границы выбросов: [{f}, {l}].\".format(f=perc25 - 1.5*IQR, l=perc75 + 1.5*IQR))\n",
    "\n",
    "\n",
    "school.absences.loc[school.absences <= 385].hist(bins = 30, \n",
    "                                  range = (-1, 386), \n",
    "                                  color = 'red',\n",
    "                                  label = 'выбросы')\n",
    "\n",
    "school.absences.loc[school.absences.between(perc25 - 1.5*IQR, perc75 + 1.5*IQR)].hist(bins = 30, \n",
    "                                                                        range = (-1, 386),\n",
    "                                                                        color = 'blue',\n",
    "                                                                        label = 'IQR')\n",
    "\n",
    "plt.legend();"
   ]
  },
  {
   "cell_type": "code",
   "execution_count": 77,
   "metadata": {},
   "outputs": [],
   "source": [
    "# на первый взгляд может показаться, что выбросов очень много\n",
    "# но мне опять кажеться что распределение очень похоже на логнормальное\n",
    "\n",
    "# проверим эту гипотезу добавив к распределению небольшое смещение epsilon \n",
    "# так как самое популярное значение это ноль\n",
    "# а логарифм с нулем не дружит\n",
    "epsilon = 0.001\n",
    "# можно применить логарифмирование и проверить распределение на логнормальность\n",
    "stud_absences_ln = school.absences.apply(lambda x: math.log(x+epsilon))"
   ]
  },
  {
   "cell_type": "code",
   "execution_count": 78,
   "metadata": {},
   "outputs": [
    {
     "data": {
      "text/plain": [
       "<AxesSubplot:>"
      ]
     },
     "execution_count": 78,
     "metadata": {},
     "output_type": "execute_result"
    },
    {
     "data": {
      "image/png": "[encoded data removed]",
      "text/plain": [
       "<Figure size 432x288 with 1 Axes>"
      ]
     },
     "metadata": {
      "needs_background": "light"
     },
     "output_type": "display_data"
    }
   ],
   "source": [
    "# построим ящик с усами чтобы проверить на наличие выбросов\n",
    "sns.boxplot(data=stud_absences_ln)"
   ]
  },
  {
   "cell_type": "code",
   "execution_count": 79,
   "metadata": {},
   "outputs": [
    {
     "data": {
      "text/plain": [
       "count    383.000000\n",
       "mean       7.279373\n",
       "std       23.465197\n",
       "min        0.000000\n",
       "25%        0.000000\n",
       "50%        4.000000\n",
       "75%        8.000000\n",
       "max      385.000000\n",
       "Name: absences, dtype: float64"
      ]
     },
     "execution_count": 79,
     "metadata": {},
     "output_type": "execute_result"
    }
   ],
   "source": [
    "# выбросов нет \n",
    "# продолжаем\n",
    "school.absences.describe()"
   ]
  },
  {
   "cell_type": "code",
   "execution_count": 80,
   "metadata": {},
   "outputs": [
    {
     "data": {
      "text/plain": [
       "12"
      ]
     },
     "execution_count": 80,
     "metadata": {},
     "output_type": "execute_result"
    }
   ],
   "source": [
    "# Пропуски в данных\n",
    "395-383"
   ]
  },
  {
   "cell_type": "code",
   "execution_count": 81,
   "metadata": {},
   "outputs": [
    {
     "data": {
      "text/html": [
       "<div>\n",
       "<style scoped>\n",
       "    .dataframe tbody tr th:only-of-type {\n",
       "        vertical-align: middle;\n",
       "    }\n",
       "\n",
       "    .dataframe tbody tr th {\n",
       "        vertical-align: top;\n",
       "    }\n",
       "\n",
       "    .dataframe thead th {\n",
       "        text-align: right;\n",
       "    }\n",
       "</style>\n",
       "<table border=\"1\" class=\"dataframe\">\n",
       "  <thead>\n",
       "    <tr style=\"text-align: right;\">\n",
       "      <th></th>\n",
       "      <th>school</th>\n",
       "      <th>sex</th>\n",
       "      <th>age</th>\n",
       "      <th>address</th>\n",
       "      <th>famsize</th>\n",
       "      <th>p_status</th>\n",
       "      <th>m_edu</th>\n",
       "      <th>f_edu</th>\n",
       "      <th>m_job</th>\n",
       "      <th>f_job</th>\n",
       "      <th>reason</th>\n",
       "      <th>guardian</th>\n",
       "      <th>traveltime</th>\n",
       "      <th>studytime</th>\n",
       "      <th>failures</th>\n",
       "      <th>schoolsup</th>\n",
       "      <th>famsup</th>\n",
       "      <th>paid</th>\n",
       "      <th>activities</th>\n",
       "      <th>nursery</th>\n",
       "      <th>higher</th>\n",
       "      <th>internet</th>\n",
       "      <th>romantic</th>\n",
       "      <th>famrel</th>\n",
       "      <th>freetime</th>\n",
       "      <th>goout</th>\n",
       "      <th>health</th>\n",
       "      <th>absences</th>\n",
       "      <th>score</th>\n",
       "    </tr>\n",
       "  </thead>\n",
       "  <tbody>\n",
       "    <tr>\n",
       "      <th>24</th>\n",
       "      <td>GP</td>\n",
       "      <td>F</td>\n",
       "      <td>15.0</td>\n",
       "      <td>R</td>\n",
       "      <td>GT3</td>\n",
       "      <td>T</td>\n",
       "      <td>2.0</td>\n",
       "      <td>4.0</td>\n",
       "      <td>services</td>\n",
       "      <td>health</td>\n",
       "      <td>course</td>\n",
       "      <td>mother</td>\n",
       "      <td>1.0</td>\n",
       "      <td>3.0</td>\n",
       "      <td>0.0</td>\n",
       "      <td>yes</td>\n",
       "      <td>yes</td>\n",
       "      <td>yes</td>\n",
       "      <td>yes</td>\n",
       "      <td>yes</td>\n",
       "      <td>yes</td>\n",
       "      <td>yes</td>\n",
       "      <td>no</td>\n",
       "      <td>4.0</td>\n",
       "      <td>3.0</td>\n",
       "      <td>2.0</td>\n",
       "      <td>5.0</td>\n",
       "      <td>NaN</td>\n",
       "      <td>40.0</td>\n",
       "    </tr>\n",
       "    <tr>\n",
       "      <th>101</th>\n",
       "      <td>GP</td>\n",
       "      <td>M</td>\n",
       "      <td>16.0</td>\n",
       "      <td>U</td>\n",
       "      <td>GT3</td>\n",
       "      <td>T</td>\n",
       "      <td>4.0</td>\n",
       "      <td>4.0</td>\n",
       "      <td>services</td>\n",
       "      <td>teacher</td>\n",
       "      <td>other</td>\n",
       "      <td>father</td>\n",
       "      <td>1.0</td>\n",
       "      <td>3.0</td>\n",
       "      <td>0.0</td>\n",
       "      <td>no</td>\n",
       "      <td>yes</td>\n",
       "      <td>no</td>\n",
       "      <td>yes</td>\n",
       "      <td>yes</td>\n",
       "      <td>yes</td>\n",
       "      <td>yes</td>\n",
       "      <td>yes</td>\n",
       "      <td>4.0</td>\n",
       "      <td>4.0</td>\n",
       "      <td>3.0</td>\n",
       "      <td>4.0</td>\n",
       "      <td>NaN</td>\n",
       "      <td>85.0</td>\n",
       "    </tr>\n",
       "    <tr>\n",
       "      <th>120</th>\n",
       "      <td>GP</td>\n",
       "      <td>F</td>\n",
       "      <td>15.0</td>\n",
       "      <td>U</td>\n",
       "      <td>GT3</td>\n",
       "      <td>T</td>\n",
       "      <td>1.0</td>\n",
       "      <td>2.0</td>\n",
       "      <td>at_home</td>\n",
       "      <td>NaN</td>\n",
       "      <td>course</td>\n",
       "      <td>mother</td>\n",
       "      <td>1.0</td>\n",
       "      <td>2.0</td>\n",
       "      <td>0.0</td>\n",
       "      <td>no</td>\n",
       "      <td>no</td>\n",
       "      <td>no</td>\n",
       "      <td>no</td>\n",
       "      <td>no</td>\n",
       "      <td>yes</td>\n",
       "      <td>yes</td>\n",
       "      <td>no</td>\n",
       "      <td>3.0</td>\n",
       "      <td>2.0</td>\n",
       "      <td>3.0</td>\n",
       "      <td>1.0</td>\n",
       "      <td>NaN</td>\n",
       "      <td>75.0</td>\n",
       "    </tr>\n",
       "    <tr>\n",
       "      <th>129</th>\n",
       "      <td>GP</td>\n",
       "      <td>M</td>\n",
       "      <td>16.0</td>\n",
       "      <td>R</td>\n",
       "      <td>NaN</td>\n",
       "      <td>T</td>\n",
       "      <td>4.0</td>\n",
       "      <td>4.0</td>\n",
       "      <td>teacher</td>\n",
       "      <td>teacher</td>\n",
       "      <td>course</td>\n",
       "      <td>mother</td>\n",
       "      <td>1.0</td>\n",
       "      <td>NaN</td>\n",
       "      <td>0.0</td>\n",
       "      <td>no</td>\n",
       "      <td>no</td>\n",
       "      <td>yes</td>\n",
       "      <td>yes</td>\n",
       "      <td>yes</td>\n",
       "      <td>yes</td>\n",
       "      <td>yes</td>\n",
       "      <td>no</td>\n",
       "      <td>3.0</td>\n",
       "      <td>5.0</td>\n",
       "      <td>5.0</td>\n",
       "      <td>4.0</td>\n",
       "      <td>NaN</td>\n",
       "      <td>90.0</td>\n",
       "    </tr>\n",
       "    <tr>\n",
       "      <th>150</th>\n",
       "      <td>GP</td>\n",
       "      <td>M</td>\n",
       "      <td>18.0</td>\n",
       "      <td>U</td>\n",
       "      <td>LE3</td>\n",
       "      <td>T</td>\n",
       "      <td>1.0</td>\n",
       "      <td>1.0</td>\n",
       "      <td>other</td>\n",
       "      <td>other</td>\n",
       "      <td>course</td>\n",
       "      <td>mother</td>\n",
       "      <td>1.0</td>\n",
       "      <td>1.0</td>\n",
       "      <td>3.0</td>\n",
       "      <td>no</td>\n",
       "      <td>no</td>\n",
       "      <td>no</td>\n",
       "      <td>no</td>\n",
       "      <td>yes</td>\n",
       "      <td>no</td>\n",
       "      <td>yes</td>\n",
       "      <td>yes</td>\n",
       "      <td>2.0</td>\n",
       "      <td>3.0</td>\n",
       "      <td>5.0</td>\n",
       "      <td>4.0</td>\n",
       "      <td>NaN</td>\n",
       "      <td>0.0</td>\n",
       "    </tr>\n",
       "    <tr>\n",
       "      <th>172</th>\n",
       "      <td>GP</td>\n",
       "      <td>M</td>\n",
       "      <td>17.0</td>\n",
       "      <td>U</td>\n",
       "      <td>NaN</td>\n",
       "      <td>T</td>\n",
       "      <td>4.0</td>\n",
       "      <td>4.0</td>\n",
       "      <td>teacher</td>\n",
       "      <td>other</td>\n",
       "      <td>reputation</td>\n",
       "      <td>mother</td>\n",
       "      <td>1.0</td>\n",
       "      <td>2.0</td>\n",
       "      <td>0.0</td>\n",
       "      <td>no</td>\n",
       "      <td>yes</td>\n",
       "      <td>yes</td>\n",
       "      <td>yes</td>\n",
       "      <td>yes</td>\n",
       "      <td>yes</td>\n",
       "      <td>yes</td>\n",
       "      <td>no</td>\n",
       "      <td>4.0</td>\n",
       "      <td>4.0</td>\n",
       "      <td>4.0</td>\n",
       "      <td>5.0</td>\n",
       "      <td>NaN</td>\n",
       "      <td>50.0</td>\n",
       "    </tr>\n",
       "    <tr>\n",
       "      <th>215</th>\n",
       "      <td>GP</td>\n",
       "      <td>F</td>\n",
       "      <td>17.0</td>\n",
       "      <td>U</td>\n",
       "      <td>LE3</td>\n",
       "      <td>T</td>\n",
       "      <td>3.0</td>\n",
       "      <td>2.0</td>\n",
       "      <td>other</td>\n",
       "      <td>other</td>\n",
       "      <td>reputation</td>\n",
       "      <td>mother</td>\n",
       "      <td>2.0</td>\n",
       "      <td>2.0</td>\n",
       "      <td>0.0</td>\n",
       "      <td>no</td>\n",
       "      <td>no</td>\n",
       "      <td>NaN</td>\n",
       "      <td>no</td>\n",
       "      <td>yes</td>\n",
       "      <td>yes</td>\n",
       "      <td>NaN</td>\n",
       "      <td>no</td>\n",
       "      <td>4.0</td>\n",
       "      <td>4.0</td>\n",
       "      <td>4.0</td>\n",
       "      <td>1.0</td>\n",
       "      <td>NaN</td>\n",
       "      <td>75.0</td>\n",
       "    </tr>\n",
       "    <tr>\n",
       "      <th>227</th>\n",
       "      <td>GP</td>\n",
       "      <td>M</td>\n",
       "      <td>17.0</td>\n",
       "      <td>U</td>\n",
       "      <td>LE3</td>\n",
       "      <td>NaN</td>\n",
       "      <td>2.0</td>\n",
       "      <td>3.0</td>\n",
       "      <td>services</td>\n",
       "      <td>services</td>\n",
       "      <td>reputation</td>\n",
       "      <td>father</td>\n",
       "      <td>1.0</td>\n",
       "      <td>NaN</td>\n",
       "      <td>0.0</td>\n",
       "      <td>no</td>\n",
       "      <td>yes</td>\n",
       "      <td>yes</td>\n",
       "      <td>no</td>\n",
       "      <td>no</td>\n",
       "      <td>NaN</td>\n",
       "      <td>yes</td>\n",
       "      <td>no</td>\n",
       "      <td>5.0</td>\n",
       "      <td>3.0</td>\n",
       "      <td>3.0</td>\n",
       "      <td>3.0</td>\n",
       "      <td>NaN</td>\n",
       "      <td>60.0</td>\n",
       "    </tr>\n",
       "    <tr>\n",
       "      <th>254</th>\n",
       "      <td>GP</td>\n",
       "      <td>M</td>\n",
       "      <td>17.0</td>\n",
       "      <td>NaN</td>\n",
       "      <td>NaN</td>\n",
       "      <td>T</td>\n",
       "      <td>2.0</td>\n",
       "      <td>1.0</td>\n",
       "      <td>other</td>\n",
       "      <td>other</td>\n",
       "      <td>course</td>\n",
       "      <td>mother</td>\n",
       "      <td>1.0</td>\n",
       "      <td>1.0</td>\n",
       "      <td>0.0</td>\n",
       "      <td>no</td>\n",
       "      <td>no</td>\n",
       "      <td>no</td>\n",
       "      <td>no</td>\n",
       "      <td>no</td>\n",
       "      <td>yes</td>\n",
       "      <td>yes</td>\n",
       "      <td>no</td>\n",
       "      <td>4.0</td>\n",
       "      <td>4.0</td>\n",
       "      <td>2.0</td>\n",
       "      <td>5.0</td>\n",
       "      <td>NaN</td>\n",
       "      <td>60.0</td>\n",
       "    </tr>\n",
       "    <tr>\n",
       "      <th>265</th>\n",
       "      <td>GP</td>\n",
       "      <td>M</td>\n",
       "      <td>18.0</td>\n",
       "      <td>R</td>\n",
       "      <td>LE3</td>\n",
       "      <td>NaN</td>\n",
       "      <td>3.0</td>\n",
       "      <td>4.0</td>\n",
       "      <td>NaN</td>\n",
       "      <td>other</td>\n",
       "      <td>reputation</td>\n",
       "      <td>mother</td>\n",
       "      <td>2.0</td>\n",
       "      <td>2.0</td>\n",
       "      <td>0.0</td>\n",
       "      <td>no</td>\n",
       "      <td>yes</td>\n",
       "      <td>yes</td>\n",
       "      <td>yes</td>\n",
       "      <td>yes</td>\n",
       "      <td>yes</td>\n",
       "      <td>yes</td>\n",
       "      <td>no</td>\n",
       "      <td>4.0</td>\n",
       "      <td>2.0</td>\n",
       "      <td>5.0</td>\n",
       "      <td>1.0</td>\n",
       "      <td>NaN</td>\n",
       "      <td>85.0</td>\n",
       "    </tr>\n",
       "    <tr>\n",
       "      <th>270</th>\n",
       "      <td>GP</td>\n",
       "      <td>F</td>\n",
       "      <td>19.0</td>\n",
       "      <td>NaN</td>\n",
       "      <td>GT3</td>\n",
       "      <td>T</td>\n",
       "      <td>3.0</td>\n",
       "      <td>3.0</td>\n",
       "      <td>other</td>\n",
       "      <td>services</td>\n",
       "      <td>home</td>\n",
       "      <td>other</td>\n",
       "      <td>1.0</td>\n",
       "      <td>2.0</td>\n",
       "      <td>2.0</td>\n",
       "      <td>no</td>\n",
       "      <td>yes</td>\n",
       "      <td>yes</td>\n",
       "      <td>yes</td>\n",
       "      <td>yes</td>\n",
       "      <td>yes</td>\n",
       "      <td>yes</td>\n",
       "      <td>no</td>\n",
       "      <td>4.0</td>\n",
       "      <td>3.0</td>\n",
       "      <td>5.0</td>\n",
       "      <td>5.0</td>\n",
       "      <td>NaN</td>\n",
       "      <td>NaN</td>\n",
       "    </tr>\n",
       "    <tr>\n",
       "      <th>352</th>\n",
       "      <td>MS</td>\n",
       "      <td>M</td>\n",
       "      <td>18.0</td>\n",
       "      <td>U</td>\n",
       "      <td>LE3</td>\n",
       "      <td>T</td>\n",
       "      <td>1.0</td>\n",
       "      <td>3.0</td>\n",
       "      <td>at_home</td>\n",
       "      <td>services</td>\n",
       "      <td>course</td>\n",
       "      <td>mother</td>\n",
       "      <td>1.0</td>\n",
       "      <td>1.0</td>\n",
       "      <td>1.0</td>\n",
       "      <td>no</td>\n",
       "      <td>no</td>\n",
       "      <td>no</td>\n",
       "      <td>no</td>\n",
       "      <td>yes</td>\n",
       "      <td>no</td>\n",
       "      <td>yes</td>\n",
       "      <td>yes</td>\n",
       "      <td>4.0</td>\n",
       "      <td>3.0</td>\n",
       "      <td>3.0</td>\n",
       "      <td>3.0</td>\n",
       "      <td>NaN</td>\n",
       "      <td>40.0</td>\n",
       "    </tr>\n",
       "  </tbody>\n",
       "</table>\n",
       "</div>"
      ],
      "text/plain": [
       "    school sex   age address famsize p_status  m_edu  f_edu     m_job  \\\n",
       "24      GP   F  15.0       R     GT3        T    2.0    4.0  services   \n",
       "101     GP   M  16.0       U     GT3        T    4.0    4.0  services   \n",
       "120     GP   F  15.0       U     GT3        T    1.0    2.0   at_home   \n",
       "129     GP   M  16.0       R     NaN        T    4.0    4.0   teacher   \n",
       "150     GP   M  18.0       U     LE3        T    1.0    1.0     other   \n",
       "172     GP   M  17.0       U     NaN        T    4.0    4.0   teacher   \n",
       "215     GP   F  17.0       U     LE3        T    3.0    2.0     other   \n",
       "227     GP   M  17.0       U     LE3      NaN    2.0    3.0  services   \n",
       "254     GP   M  17.0     NaN     NaN        T    2.0    1.0     other   \n",
       "265     GP   M  18.0       R     LE3      NaN    3.0    4.0       NaN   \n",
       "270     GP   F  19.0     NaN     GT3        T    3.0    3.0     other   \n",
       "352     MS   M  18.0       U     LE3        T    1.0    3.0   at_home   \n",
       "\n",
       "        f_job      reason guardian  traveltime  studytime  failures schoolsup  \\\n",
       "24     health      course   mother         1.0        3.0       0.0       yes   \n",
       "101   teacher       other   father         1.0        3.0       0.0        no   \n",
       "120       NaN      course   mother         1.0        2.0       0.0        no   \n",
       "129   teacher      course   mother         1.0        NaN       0.0        no   \n",
       "150     other      course   mother         1.0        1.0       3.0        no   \n",
       "172     other  reputation   mother         1.0        2.0       0.0        no   \n",
       "215     other  reputation   mother         2.0        2.0       0.0        no   \n",
       "227  services  reputation   father         1.0        NaN       0.0        no   \n",
       "254     other      course   mother         1.0        1.0       0.0        no   \n",
       "265     other  reputation   mother         2.0        2.0       0.0        no   \n",
       "270  services        home    other         1.0        2.0       2.0        no   \n",
       "352  services      course   mother         1.0        1.0       1.0        no   \n",
       "\n",
       "    famsup paid activities nursery higher internet romantic  famrel  freetime  \\\n",
       "24     yes  yes        yes     yes    yes      yes       no     4.0       3.0   \n",
       "101    yes   no        yes     yes    yes      yes      yes     4.0       4.0   \n",
       "120     no   no         no      no    yes      yes       no     3.0       2.0   \n",
       "129     no  yes        yes     yes    yes      yes       no     3.0       5.0   \n",
       "150     no   no         no     yes     no      yes      yes     2.0       3.0   \n",
       "172    yes  yes        yes     yes    yes      yes       no     4.0       4.0   \n",
       "215     no  NaN         no     yes    yes      NaN       no     4.0       4.0   \n",
       "227    yes  yes         no      no    NaN      yes       no     5.0       3.0   \n",
       "254     no   no         no      no    yes      yes       no     4.0       4.0   \n",
       "265    yes  yes        yes     yes    yes      yes       no     4.0       2.0   \n",
       "270    yes  yes        yes     yes    yes      yes       no     4.0       3.0   \n",
       "352     no   no         no     yes     no      yes      yes     4.0       3.0   \n",
       "\n",
       "     goout  health  absences  score  \n",
       "24     2.0     5.0       NaN   40.0  \n",
       "101    3.0     4.0       NaN   85.0  \n",
       "120    3.0     1.0       NaN   75.0  \n",
       "129    5.0     4.0       NaN   90.0  \n",
       "150    5.0     4.0       NaN    0.0  \n",
       "172    4.0     5.0       NaN   50.0  \n",
       "215    4.0     1.0       NaN   75.0  \n",
       "227    3.0     3.0       NaN   60.0  \n",
       "254    2.0     5.0       NaN   60.0  \n",
       "265    5.0     1.0       NaN   85.0  \n",
       "270    5.0     5.0       NaN    NaN  \n",
       "352    3.0     3.0       NaN   40.0  "
      ]
     },
     "execution_count": 81,
     "metadata": {},
     "output_type": "execute_result"
    }
   ],
   "source": [
    "# у нас 12 пропусков, взглянем на них\n",
    "temp = school[school.absences.isnull()]\n",
    "temp"
   ]
  },
  {
   "cell_type": "markdown",
   "metadata": {},
   "source": [
    "#### есть предположение о том, что кол-во пропусков может быть следствием критериев famrel, freetime, goout, health потому что\n",
    "\n",
    "- health — текущее состояние здоровья (от 1 - очень плохо до 5 - очень хорошо)\n",
    "    - если ребенок много болеет то он пропускает занятия\n",
    "\n",
    "- famrel — семейные отношения (от 1 - очень плохо до 5 - очень хорошо)\n",
    "    - если у него плохие отношения в семье то он не хочет идти домой делать уроки и заниматся\n",
    "\n",
    "- freetime — свободное время после школы (от 1 - очень мало до 5 - очень мого)\n",
    "    - у него много времени после учебы то он плохо делает домашнее задание и это может стать \n",
    "\n",
    "- goout — проведение времени с друзьями (от 1 - очень мало до 5 - очень много)\n",
    "    - если ребенок много времени проводит с друзьями, то как следствие на это нужно время помимо школы \n"
   ]
  },
  {
   "cell_type": "code",
   "execution_count": 82,
   "metadata": {
    "scrolled": true
   },
   "outputs": [
    {
     "data": {
      "text/html": [
       "<div>\n",
       "<style scoped>\n",
       "    .dataframe tbody tr th:only-of-type {\n",
       "        vertical-align: middle;\n",
       "    }\n",
       "\n",
       "    .dataframe tbody tr th {\n",
       "        vertical-align: top;\n",
       "    }\n",
       "\n",
       "    .dataframe thead tr th {\n",
       "        text-align: left;\n",
       "    }\n",
       "\n",
       "    .dataframe thead tr:last-of-type th {\n",
       "        text-align: right;\n",
       "    }\n",
       "</style>\n",
       "<table border=\"1\" class=\"dataframe\">\n",
       "  <thead>\n",
       "    <tr>\n",
       "      <th></th>\n",
       "      <th colspan=\"4\" halign=\"left\">count</th>\n",
       "      <th colspan=\"4\" halign=\"left\">mean</th>\n",
       "    </tr>\n",
       "    <tr>\n",
       "      <th></th>\n",
       "      <th>famrel</th>\n",
       "      <th>freetime</th>\n",
       "      <th>goout</th>\n",
       "      <th>health</th>\n",
       "      <th>famrel</th>\n",
       "      <th>freetime</th>\n",
       "      <th>goout</th>\n",
       "      <th>health</th>\n",
       "    </tr>\n",
       "    <tr>\n",
       "      <th>absences</th>\n",
       "      <th></th>\n",
       "      <th></th>\n",
       "      <th></th>\n",
       "      <th></th>\n",
       "      <th></th>\n",
       "      <th></th>\n",
       "      <th></th>\n",
       "      <th></th>\n",
       "    </tr>\n",
       "  </thead>\n",
       "  <tbody>\n",
       "    <tr>\n",
       "      <th>(-1, 0]</th>\n",
       "      <td>100</td>\n",
       "      <td>108</td>\n",
       "      <td>110</td>\n",
       "      <td>106</td>\n",
       "      <td>4.100000</td>\n",
       "      <td>3.240741</td>\n",
       "      <td>2.890909</td>\n",
       "      <td>3.622642</td>\n",
       "    </tr>\n",
       "    <tr>\n",
       "      <th>(0, 2]</th>\n",
       "      <td>59</td>\n",
       "      <td>63</td>\n",
       "      <td>61</td>\n",
       "      <td>60</td>\n",
       "      <td>3.898305</td>\n",
       "      <td>3.158730</td>\n",
       "      <td>2.885246</td>\n",
       "      <td>3.716667</td>\n",
       "    </tr>\n",
       "    <tr>\n",
       "      <th>(2, 4]</th>\n",
       "      <td>60</td>\n",
       "      <td>60</td>\n",
       "      <td>57</td>\n",
       "      <td>59</td>\n",
       "      <td>3.950000</td>\n",
       "      <td>3.200000</td>\n",
       "      <td>3.368421</td>\n",
       "      <td>3.322034</td>\n",
       "    </tr>\n",
       "    <tr>\n",
       "      <th>(4, 6]</th>\n",
       "      <td>34</td>\n",
       "      <td>35</td>\n",
       "      <td>36</td>\n",
       "      <td>34</td>\n",
       "      <td>3.794118</td>\n",
       "      <td>3.171429</td>\n",
       "      <td>3.472222</td>\n",
       "      <td>3.500000</td>\n",
       "    </tr>\n",
       "    <tr>\n",
       "      <th>(6, 8]</th>\n",
       "      <td>27</td>\n",
       "      <td>26</td>\n",
       "      <td>27</td>\n",
       "      <td>26</td>\n",
       "      <td>4.074074</td>\n",
       "      <td>3.230769</td>\n",
       "      <td>2.925926</td>\n",
       "      <td>3.461538</td>\n",
       "    </tr>\n",
       "    <tr>\n",
       "      <th>(8, 12]</th>\n",
       "      <td>30</td>\n",
       "      <td>33</td>\n",
       "      <td>34</td>\n",
       "      <td>32</td>\n",
       "      <td>3.933333</td>\n",
       "      <td>3.393939</td>\n",
       "      <td>3.000000</td>\n",
       "      <td>3.531250</td>\n",
       "    </tr>\n",
       "    <tr>\n",
       "      <th>(12, 20]</th>\n",
       "      <td>30</td>\n",
       "      <td>32</td>\n",
       "      <td>33</td>\n",
       "      <td>34</td>\n",
       "      <td>3.700000</td>\n",
       "      <td>3.562500</td>\n",
       "      <td>3.454545</td>\n",
       "      <td>3.588235</td>\n",
       "    </tr>\n",
       "    <tr>\n",
       "      <th>(20, 50]</th>\n",
       "      <td>12</td>\n",
       "      <td>11</td>\n",
       "      <td>12</td>\n",
       "      <td>12</td>\n",
       "      <td>3.750000</td>\n",
       "      <td>2.454545</td>\n",
       "      <td>3.333333</td>\n",
       "      <td>3.000000</td>\n",
       "    </tr>\n",
       "    <tr>\n",
       "      <th>(50, 100]</th>\n",
       "      <td>2</td>\n",
       "      <td>2</td>\n",
       "      <td>3</td>\n",
       "      <td>3</td>\n",
       "      <td>4.500000</td>\n",
       "      <td>2.000000</td>\n",
       "      <td>2.333333</td>\n",
       "      <td>3.666667</td>\n",
       "    </tr>\n",
       "  </tbody>\n",
       "</table>\n",
       "</div>"
      ],
      "text/plain": [
       "           count                            mean                              \n",
       "          famrel freetime goout health    famrel  freetime     goout    health\n",
       "absences                                                                      \n",
       "(-1, 0]      100      108   110    106  4.100000  3.240741  2.890909  3.622642\n",
       "(0, 2]        59       63    61     60  3.898305  3.158730  2.885246  3.716667\n",
       "(2, 4]        60       60    57     59  3.950000  3.200000  3.368421  3.322034\n",
       "(4, 6]        34       35    36     34  3.794118  3.171429  3.472222  3.500000\n",
       "(6, 8]        27       26    27     26  4.074074  3.230769  2.925926  3.461538\n",
       "(8, 12]       30       33    34     32  3.933333  3.393939  3.000000  3.531250\n",
       "(12, 20]      30       32    33     34  3.700000  3.562500  3.454545  3.588235\n",
       "(20, 50]      12       11    12     12  3.750000  2.454545  3.333333  3.000000\n",
       "(50, 100]      2        2     3      3  4.500000  2.000000  2.333333  3.666667"
      ]
     },
     "execution_count": 82,
     "metadata": {},
     "output_type": "execute_result"
    }
   ],
   "source": [
    "# сгрупировать данные пропущенных значений по этим критериям\n",
    "\n",
    "absences = pd.cut(school['absences'], [-1,0, 2,4,6,8, 12, 20, 50,100])\n",
    "school.pivot_table(['health', 'famrel', 'goout', 'freetime'], absences, aggfunc=['count','mean'])"
   ]
  },
  {
   "cell_type": "markdown",
   "metadata": {},
   "source": [
    "никакой явной зависимости не читается, поэтому оставим эти значения без заполнения"
   ]
  },
  {
   "cell_type": "markdown",
   "metadata": {},
   "source": [
    "### Посмотрим на числовое распределение score — баллы по госэкзамену по математике"
   ]
  },
  {
   "cell_type": "code",
   "execution_count": 83,
   "metadata": {},
   "outputs": [
    {
     "data": {
      "text/plain": [
       "<AxesSubplot:>"
      ]
     },
     "execution_count": 83,
     "metadata": {},
     "output_type": "execute_result"
    },
    {
     "data": {
      "image/png": "[encoded data removed]",
      "text/plain": [
       "<Figure size 432x288 with 1 Axes>"
      ]
     },
     "metadata": {
      "needs_background": "light"
     },
     "output_type": "display_data"
    }
   ],
   "source": [
    "school.score.hist()"
   ]
  },
  {
   "cell_type": "code",
   "execution_count": 84,
   "metadata": {},
   "outputs": [
    {
     "data": {
      "text/plain": [
       "<AxesSubplot:>"
      ]
     },
     "execution_count": 84,
     "metadata": {},
     "output_type": "execute_result"
    },
    {
     "data": {
      "image/png": "[encoded data removed]",
      "text/plain": [
       "<Figure size 432x288 with 1 Axes>"
      ]
     },
     "metadata": {
      "needs_background": "light"
     },
     "output_type": "display_data"
    }
   ],
   "source": [
    "# на первый взгляд в елом правая часть достаточно нормальная и слева выброс\n",
    "# построим ящик с усами чтобы проверить на наличие выбросов\n",
    "sns.boxplot(data=school.score)"
   ]
  },
  {
   "cell_type": "code",
   "execution_count": 85,
   "metadata": {},
   "outputs": [
    {
     "name": "stdout",
     "output_type": "stream",
     "text": [
      "25-й перцентиль: 40.0, 75-й перцентиль: 70.0, IQR: 70.0,  Границы выбросов: [-65.0, 175.0].\n"
     ]
    },
    {
     "data": {
      "image/png": "[encoded data removed]",
      "text/plain": [
       "<Figure size 432x288 with 1 Axes>"
      ]
     },
     "metadata": {
      "needs_background": "light"
     },
     "output_type": "display_data"
    }
   ],
   "source": [
    "# сделаем подровный анализ границ и расчитаем их точные значения\n",
    "median = school.score.median()\n",
    "IQR = school.score.quantile(0.75) - school.absences.quantile(0.25)\n",
    "perc25 = school.score.quantile(0.25)\n",
    "perc75 = school.score.quantile(0.75)\n",
    "print('25-й перцентиль: {},'.format(perc25),\n",
    "      '75-й перцентиль: {},'.format(perc75),\n",
    "      \"IQR: {}, \".format(IQR),\n",
    "      \"Границы выбросов: [{f}, {l}].\".format(f=perc25 - 1.5*IQR, l=perc75 + 1.5*IQR))\n",
    "\n",
    "\n",
    "school.score.loc[school.score <= 101].hist(bins = 21, \n",
    "                                  range = (-1, 101), \n",
    "                                  color = 'red',\n",
    "                                  label = 'выбросы')\n",
    "\n",
    "school.score.loc[school.score.between(perc25 - 1.5*IQR, perc75 + 1.5*IQR)].hist(bins = 21, \n",
    "                                                                        range = (-1, 101),\n",
    "                                                                        color = 'blue',\n",
    "                                                                        label = 'IQR')\n",
    "\n",
    "plt.legend();"
   ]
  },
  {
   "cell_type": "code",
   "execution_count": 86,
   "metadata": {},
   "outputs": [
    {
     "data": {
      "text/plain": [
       "count    389.000000\n",
       "mean      52.262211\n",
       "std       22.919022\n",
       "min        0.000000\n",
       "25%       40.000000\n",
       "50%       55.000000\n",
       "75%       70.000000\n",
       "max      100.000000\n",
       "Name: score, dtype: float64"
      ]
     },
     "execution_count": 86,
     "metadata": {},
     "output_type": "execute_result"
    }
   ],
   "source": [
    "school.score.describe()"
   ]
  },
  {
   "cell_type": "code",
   "execution_count": 87,
   "metadata": {},
   "outputs": [
    {
     "data": {
      "text/plain": [
       "50.0     54\n",
       "55.0     46\n",
       "0.0      37\n",
       "75.0     33\n",
       "65.0     31\n",
       "40.0     31\n",
       "60.0     31\n",
       "70.0     27\n",
       "45.0     27\n",
       "80.0     16\n",
       "30.0     15\n",
       "90.0     12\n",
       "35.0      9\n",
       "25.0      7\n",
       "85.0      6\n",
       "95.0      5\n",
       "100.0     1\n",
       "20.0      1\n",
       "Name: score, dtype: int64"
      ]
     },
     "execution_count": 87,
     "metadata": {},
     "output_type": "execute_result"
    }
   ],
   "source": [
    "school.score.value_counts()"
   ]
  },
  {
   "cell_type": "code",
   "execution_count": 88,
   "metadata": {},
   "outputs": [],
   "source": [
    "# посмотрим на распределение без нуля\n",
    "stud_score_bli_0 = school.score.apply(lambda x: x if x>0 else np.nan)"
   ]
  },
  {
   "cell_type": "code",
   "execution_count": 89,
   "metadata": {},
   "outputs": [
    {
     "data": {
      "text/plain": [
       "<AxesSubplot:>"
      ]
     },
     "execution_count": 89,
     "metadata": {},
     "output_type": "execute_result"
    },
    {
     "data": {
      "image/png": "[encoded data removed]",
      "text/plain": [
       "<Figure size 432x288 with 1 Axes>"
      ]
     },
     "metadata": {
      "needs_background": "light"
     },
     "output_type": "display_data"
    }
   ],
   "source": [
    "stud_score_bli_0.hist(bins = 15)"
   ]
  },
  {
   "cell_type": "code",
   "execution_count": 90,
   "metadata": {},
   "outputs": [
    {
     "name": "stderr",
     "output_type": "stream",
     "text": [
      "C:\\Users\\Scribl\\anaconda3\\lib\\site-packages\\seaborn\\distributions.py:2551: FutureWarning: `distplot` is a deprecated function and will be removed in a future version. Please adapt your code to use either `displot` (a figure-level function with similar flexibility) or `histplot` (an axes-level function for histograms).\n",
      "  warnings.warn(msg, FutureWarning)\n"
     ]
    },
    {
     "data": {
      "text/plain": [
       "<AxesSubplot:xlabel='score', ylabel='Density'>"
      ]
     },
     "execution_count": 90,
     "metadata": {},
     "output_type": "execute_result"
    },
    {
     "data": {
      "image/png": "[encoded data removed]",
      "text/plain": [
       "<Figure size 432x288 with 1 Axes>"
      ]
     },
     "metadata": {
      "needs_background": "light"
     },
     "output_type": "display_data"
    }
   ],
   "source": [
    "sns.distplot(stud_score_bli_0, bins = 15)"
   ]
  },
  {
   "cell_type": "code",
   "execution_count": 91,
   "metadata": {},
   "outputs": [
    {
     "name": "stdout",
     "output_type": "stream",
     "text": [
      "25-й перцентиль: 45.0, 75-й перцентиль: 70.0, IQR: 25.0,  Границы выбросов: [7.5, 107.5].\n"
     ]
    },
    {
     "data": {
      "image/png": "[encoded data removed]",
      "text/plain": [
       "<Figure size 432x288 with 1 Axes>"
      ]
     },
     "metadata": {
      "needs_background": "light"
     },
     "output_type": "display_data"
    }
   ],
   "source": [
    "# сделаем подровный анализ границ и расчитаем их точные значения\n",
    "median = stud_score_bli_0.median()\n",
    "IQR = stud_score_bli_0.quantile(0.75) - stud_score_bli_0.quantile(0.25)\n",
    "perc25 = stud_score_bli_0.quantile(0.25)\n",
    "perc75 = stud_score_bli_0.quantile(0.75)\n",
    "print('25-й перцентиль: {},'.format(perc25),\n",
    "      '75-й перцентиль: {},'.format(perc75),\n",
    "      \"IQR: {}, \".format(IQR),\n",
    "      \"Границы выбросов: [{f}, {l}].\".format(f=perc25 - 1.5*IQR, l=perc75 + 1.5*IQR))\n",
    "\n",
    "\n",
    "stud_score_bli_0.loc[stud_score_bli_0 <= 101].hist(bins = 15, \n",
    "                                  range = (19, 101), \n",
    "                                  color = 'red',\n",
    "                                  label = 'выбросы')\n",
    "\n",
    "stud_score_bli_0.loc[stud_score_bli_0.between(perc25 - 1.5*IQR, perc75 + 1.5*IQR)].hist(bins = 15, \n",
    "                                                                        range = (19, 101),\n",
    "                                                                        color = 'blue',\n",
    "                                                                        label = 'IQR')\n",
    "\n",
    "plt.legend();"
   ]
  },
  {
   "cell_type": "markdown",
   "metadata": {},
   "source": [
    "Если смотреть на распределение без ноля, то видно, что достаточно НЕбольшое кол-во строк по медианному значению 55 и по значению 50 делают распределение НЕвытянутым вверх, потому что расброс значений большой. То есть дисперсия увеличена и распределение выглядит вытянутым в бока. При такой ситуации оно может вбирать в себя выбросы которые будут возникать рядом. так нижняя граница выбросов распределения без нуля ==7.5 это рядом с нулем.\n",
    "\n",
    "Теперь, что такое ноль. Очень часто при внесении данных могут возникать ошибки из-за человеческого фактора или автоматической загрузки данных. Часто недостающие значения вносят как нули. Кроме этого данное значение в достаточно большом кол-ве и тянет на отдельное распределение. В результате мы видим два распределения наложенных друг на друга. Нам повезло что мы так просто смогли их разделить. На практике это встречается достаточно часто и разспознать распрределения и тем более очень сложная задача, благо теперь уже много готовых библиотек которые самостоятельно проводят тесты (не могу тут привести примеры библиотек Python так как изучал и работал в этой теме в R и SPSS)\n",
    "\n",
    "Поэтому удаляем значение ноль из этого критерия и создаем новый булевый критерий no_score, чтобы не потерять важную информацию. Но помним, что наша задача провести EDA для посмотроения модели целевой переменной score, которую мы теперь кастрировали и часть её вынесли в отдельный критерий. Поэтому на этапе коррелационного анализа нам кроме переменной score нужно будет проверить все также и для no_score."
   ]
  },
  {
   "cell_type": "code",
   "execution_count": 92,
   "metadata": {},
   "outputs": [],
   "source": [
    "school['no_score'] = school.score.apply(lambda x: None if pd.isnull(x) else 1 if x==0 else 0)"
   ]
  },
  {
   "cell_type": "code",
   "execution_count": 93,
   "metadata": {},
   "outputs": [
    {
     "data": {
      "text/html": [
       "<div>\n",
       "<style scoped>\n",
       "    .dataframe tbody tr th:only-of-type {\n",
       "        vertical-align: middle;\n",
       "    }\n",
       "\n",
       "    .dataframe tbody tr th {\n",
       "        vertical-align: top;\n",
       "    }\n",
       "\n",
       "    .dataframe thead th {\n",
       "        text-align: right;\n",
       "    }\n",
       "</style>\n",
       "<table border=\"1\" class=\"dataframe\">\n",
       "  <thead>\n",
       "    <tr style=\"text-align: right;\">\n",
       "      <th></th>\n",
       "      <th>school</th>\n",
       "      <th>sex</th>\n",
       "      <th>age</th>\n",
       "      <th>address</th>\n",
       "      <th>famsize</th>\n",
       "      <th>p_status</th>\n",
       "      <th>m_edu</th>\n",
       "      <th>f_edu</th>\n",
       "      <th>m_job</th>\n",
       "      <th>f_job</th>\n",
       "      <th>reason</th>\n",
       "      <th>guardian</th>\n",
       "      <th>traveltime</th>\n",
       "      <th>studytime</th>\n",
       "      <th>failures</th>\n",
       "      <th>schoolsup</th>\n",
       "      <th>famsup</th>\n",
       "      <th>paid</th>\n",
       "      <th>activities</th>\n",
       "      <th>nursery</th>\n",
       "      <th>higher</th>\n",
       "      <th>internet</th>\n",
       "      <th>romantic</th>\n",
       "      <th>famrel</th>\n",
       "      <th>freetime</th>\n",
       "      <th>goout</th>\n",
       "      <th>health</th>\n",
       "      <th>absences</th>\n",
       "      <th>score</th>\n",
       "      <th>no_score</th>\n",
       "    </tr>\n",
       "  </thead>\n",
       "  <tbody>\n",
       "    <tr>\n",
       "      <th>0</th>\n",
       "      <td>GP</td>\n",
       "      <td>F</td>\n",
       "      <td>18.0</td>\n",
       "      <td>U</td>\n",
       "      <td>NaN</td>\n",
       "      <td>A</td>\n",
       "      <td>4.0</td>\n",
       "      <td>4.0</td>\n",
       "      <td>at_home</td>\n",
       "      <td>teacher</td>\n",
       "      <td>course</td>\n",
       "      <td>mother</td>\n",
       "      <td>2.0</td>\n",
       "      <td>2.0</td>\n",
       "      <td>0.0</td>\n",
       "      <td>yes</td>\n",
       "      <td>no</td>\n",
       "      <td>no</td>\n",
       "      <td>no</td>\n",
       "      <td>yes</td>\n",
       "      <td>yes</td>\n",
       "      <td>NaN</td>\n",
       "      <td>no</td>\n",
       "      <td>4.0</td>\n",
       "      <td>3.0</td>\n",
       "      <td>4.0</td>\n",
       "      <td>3.0</td>\n",
       "      <td>6.0</td>\n",
       "      <td>30.0</td>\n",
       "      <td>0.0</td>\n",
       "    </tr>\n",
       "    <tr>\n",
       "      <th>1</th>\n",
       "      <td>GP</td>\n",
       "      <td>F</td>\n",
       "      <td>17.0</td>\n",
       "      <td>U</td>\n",
       "      <td>GT3</td>\n",
       "      <td>NaN</td>\n",
       "      <td>1.0</td>\n",
       "      <td>1.0</td>\n",
       "      <td>at_home</td>\n",
       "      <td>other</td>\n",
       "      <td>course</td>\n",
       "      <td>father</td>\n",
       "      <td>1.0</td>\n",
       "      <td>2.0</td>\n",
       "      <td>0.0</td>\n",
       "      <td>no</td>\n",
       "      <td>yes</td>\n",
       "      <td>no</td>\n",
       "      <td>no</td>\n",
       "      <td>no</td>\n",
       "      <td>yes</td>\n",
       "      <td>yes</td>\n",
       "      <td>no</td>\n",
       "      <td>5.0</td>\n",
       "      <td>3.0</td>\n",
       "      <td>3.0</td>\n",
       "      <td>3.0</td>\n",
       "      <td>4.0</td>\n",
       "      <td>30.0</td>\n",
       "      <td>0.0</td>\n",
       "    </tr>\n",
       "    <tr>\n",
       "      <th>2</th>\n",
       "      <td>GP</td>\n",
       "      <td>F</td>\n",
       "      <td>15.0</td>\n",
       "      <td>U</td>\n",
       "      <td>LE3</td>\n",
       "      <td>T</td>\n",
       "      <td>1.0</td>\n",
       "      <td>1.0</td>\n",
       "      <td>at_home</td>\n",
       "      <td>other</td>\n",
       "      <td>other</td>\n",
       "      <td>mother</td>\n",
       "      <td>1.0</td>\n",
       "      <td>2.0</td>\n",
       "      <td>3.0</td>\n",
       "      <td>yes</td>\n",
       "      <td>no</td>\n",
       "      <td>NaN</td>\n",
       "      <td>no</td>\n",
       "      <td>yes</td>\n",
       "      <td>yes</td>\n",
       "      <td>yes</td>\n",
       "      <td>NaN</td>\n",
       "      <td>4.0</td>\n",
       "      <td>3.0</td>\n",
       "      <td>2.0</td>\n",
       "      <td>3.0</td>\n",
       "      <td>10.0</td>\n",
       "      <td>50.0</td>\n",
       "      <td>0.0</td>\n",
       "    </tr>\n",
       "    <tr>\n",
       "      <th>3</th>\n",
       "      <td>GP</td>\n",
       "      <td>F</td>\n",
       "      <td>15.0</td>\n",
       "      <td>U</td>\n",
       "      <td>GT3</td>\n",
       "      <td>T</td>\n",
       "      <td>4.0</td>\n",
       "      <td>2.0</td>\n",
       "      <td>health</td>\n",
       "      <td>NaN</td>\n",
       "      <td>home</td>\n",
       "      <td>mother</td>\n",
       "      <td>1.0</td>\n",
       "      <td>3.0</td>\n",
       "      <td>0.0</td>\n",
       "      <td>no</td>\n",
       "      <td>yes</td>\n",
       "      <td>yes</td>\n",
       "      <td>yes</td>\n",
       "      <td>yes</td>\n",
       "      <td>yes</td>\n",
       "      <td>yes</td>\n",
       "      <td>yes</td>\n",
       "      <td>3.0</td>\n",
       "      <td>2.0</td>\n",
       "      <td>2.0</td>\n",
       "      <td>5.0</td>\n",
       "      <td>2.0</td>\n",
       "      <td>75.0</td>\n",
       "      <td>0.0</td>\n",
       "    </tr>\n",
       "    <tr>\n",
       "      <th>4</th>\n",
       "      <td>GP</td>\n",
       "      <td>F</td>\n",
       "      <td>16.0</td>\n",
       "      <td>U</td>\n",
       "      <td>GT3</td>\n",
       "      <td>T</td>\n",
       "      <td>3.0</td>\n",
       "      <td>3.0</td>\n",
       "      <td>other</td>\n",
       "      <td>other</td>\n",
       "      <td>home</td>\n",
       "      <td>father</td>\n",
       "      <td>1.0</td>\n",
       "      <td>2.0</td>\n",
       "      <td>0.0</td>\n",
       "      <td>no</td>\n",
       "      <td>yes</td>\n",
       "      <td>yes</td>\n",
       "      <td>no</td>\n",
       "      <td>yes</td>\n",
       "      <td>yes</td>\n",
       "      <td>no</td>\n",
       "      <td>no</td>\n",
       "      <td>4.0</td>\n",
       "      <td>3.0</td>\n",
       "      <td>2.0</td>\n",
       "      <td>5.0</td>\n",
       "      <td>4.0</td>\n",
       "      <td>50.0</td>\n",
       "      <td>0.0</td>\n",
       "    </tr>\n",
       "  </tbody>\n",
       "</table>\n",
       "</div>"
      ],
      "text/plain": [
       "  school sex   age address famsize p_status  m_edu  f_edu    m_job    f_job  \\\n",
       "0     GP   F  18.0       U     NaN        A    4.0    4.0  at_home  teacher   \n",
       "1     GP   F  17.0       U     GT3      NaN    1.0    1.0  at_home    other   \n",
       "2     GP   F  15.0       U     LE3        T    1.0    1.0  at_home    other   \n",
       "3     GP   F  15.0       U     GT3        T    4.0    2.0   health      NaN   \n",
       "4     GP   F  16.0       U     GT3        T    3.0    3.0    other    other   \n",
       "\n",
       "   reason guardian  traveltime  studytime  failures schoolsup famsup paid  \\\n",
       "0  course   mother         2.0        2.0       0.0       yes     no   no   \n",
       "1  course   father         1.0        2.0       0.0        no    yes   no   \n",
       "2   other   mother         1.0        2.0       3.0       yes     no  NaN   \n",
       "3    home   mother         1.0        3.0       0.0        no    yes  yes   \n",
       "4    home   father         1.0        2.0       0.0        no    yes  yes   \n",
       "\n",
       "  activities nursery higher internet romantic  famrel  freetime  goout  \\\n",
       "0         no     yes    yes      NaN       no     4.0       3.0    4.0   \n",
       "1         no      no    yes      yes       no     5.0       3.0    3.0   \n",
       "2         no     yes    yes      yes      NaN     4.0       3.0    2.0   \n",
       "3        yes     yes    yes      yes      yes     3.0       2.0    2.0   \n",
       "4         no     yes    yes       no       no     4.0       3.0    2.0   \n",
       "\n",
       "   health  absences  score  no_score  \n",
       "0     3.0       6.0   30.0       0.0  \n",
       "1     3.0       4.0   30.0       0.0  \n",
       "2     3.0      10.0   50.0       0.0  \n",
       "3     5.0       2.0   75.0       0.0  \n",
       "4     5.0       4.0   50.0       0.0  "
      ]
     },
     "metadata": {},
     "output_type": "display_data"
    },
    {
     "data": {
      "text/plain": [
       "0.0    352\n",
       "1.0     37\n",
       "Name: no_score, dtype: int64"
      ]
     },
     "execution_count": 93,
     "metadata": {},
     "output_type": "execute_result"
    }
   ],
   "source": [
    "# проверим\n",
    "display(school.head())\n",
    "school['no_score'].value_counts()"
   ]
  },
  {
   "cell_type": "code",
   "execution_count": 94,
   "metadata": {},
   "outputs": [],
   "source": [
    "# все ок\n",
    "# удаляем нули\n",
    "school.loc[school['score'] == 0.0, 'score'] = np.nan"
   ]
  },
  {
   "cell_type": "code",
   "execution_count": 95,
   "metadata": {},
   "outputs": [
    {
     "data": {
      "text/plain": [
       "<AxesSubplot:>"
      ]
     },
     "execution_count": 95,
     "metadata": {},
     "output_type": "execute_result"
    },
    {
     "data": {
      "image/png": "[encoded data removed]",
      "text/plain": [
       "<Figure size 432x288 with 1 Axes>"
      ]
     },
     "metadata": {
      "needs_background": "light"
     },
     "output_type": "display_data"
    }
   ],
   "source": [
    "# проверяем\n",
    "school.score.hist(bins=15)"
   ]
  },
  {
   "cell_type": "markdown",
   "metadata": {},
   "source": [
    "### Итог:\n",
    "- score: распределение признака нормальное с достаточно большой дисперсией. Выбросов теперь нет - удалил значение 0.0 (^выброс). Добавил новый булевый критерий - no_score, соответствующий значению 0.0). Медиана немного смещена влево. Пропусков много 43. Но это следствие добавления нового признака, до добавления признака пропусков было 6.\n",
    "- no_score. Признак булевый числовой. Пропусков 6. Одно значение в нем достаточно доминирует, но данный признак новый и смоделирован, поэтому челесообразно сохранить структуру пропусков как у score "
   ]
  },
  {
   "cell_type": "markdown",
   "metadata": {},
   "source": [
    "### \"бинарные\" категориальные признаки, попробуем обработать их"
   ]
  },
  {
   "cell_type": "code",
   "execution_count": 96,
   "metadata": {},
   "outputs": [],
   "source": [
    "replacement_list = []\n",
    "list_of_binary_columns = ['sex', 'address', 'famsize', 'p_status', \n",
    "                   'schoolsup', 'famsup', 'paid', 'activities', \n",
    "                   'nursery', 'higher', 'internet', 'romantic']"
   ]
  },
  {
   "cell_type": "code",
   "execution_count": 97,
   "metadata": {},
   "outputs": [
    {
     "data": {
      "text/plain": [
       "[['F', 'M'],\n",
       " ['U', 'R'],\n",
       " ['GT3', 'LE3'],\n",
       " ['A', 'T'],\n",
       " ['yes', 'no'],\n",
       " ['no', 'yes'],\n",
       " ['no', 'yes'],\n",
       " ['no', 'yes'],\n",
       " ['yes', 'no'],\n",
       " ['yes', 'no'],\n",
       " ['yes', 'no'],\n",
       " ['no', 'yes']]"
      ]
     },
     "execution_count": 97,
     "metadata": {},
     "output_type": "execute_result"
    }
   ],
   "source": [
    "for elem in list_of_binary_columns:\n",
    "    a = school[elem].unique()\n",
    "    a = a[~pd.isnull(a)]\n",
    "    if len(a) == 2:\n",
    "        replacement_list.append([a[0],a[1]])\n",
    "    else:\n",
    "        print(f\"со столбцом {elem} произошла ошибка. Уникальные значения: stud[elem].values\")\n",
    "replacement_list"
   ]
  },
  {
   "cell_type": "code",
   "execution_count": 98,
   "metadata": {},
   "outputs": [
    {
     "data": {
      "text/plain": [
       "[['F', 'M'],\n",
       " ['U', 'R'],\n",
       " ['GT3', 'LE3'],\n",
       " ['A', 'T'],\n",
       " ['yes', 'no'],\n",
       " ['yes', 'no'],\n",
       " ['no', 'yes'],\n",
       " ['no', 'yes'],\n",
       " ['yes', 'no'],\n",
       " ['yes', 'no'],\n",
       " ['yes', 'no'],\n",
       " ['no', 'yes']]"
      ]
     },
     "execution_count": 98,
     "metadata": {},
     "output_type": "execute_result"
    }
   ],
   "source": [
    "replacement_list[5] = ['yes', 'no']\n",
    "replacement_list"
   ]
  },
  {
   "cell_type": "code",
   "execution_count": 99,
   "metadata": {},
   "outputs": [],
   "source": [
    "# никаких ошибок не получили значит ошибок в написании возможных вариантов значений нет\n",
    "\n",
    "# приведем yes и no к единообразию (это не критично для модели, \n",
    "# но важно для отката назад если при моделировании возникнут проблемы к критериями)\n",
    "replacement_list[5] = ['yes', 'no']\n",
    "replacement_list[6] = ['yes', 'no']\n",
    "replacement_list[7] = ['yes', 'no']\n",
    "replacement_list[11] = ['yes', 'no']"
   ]
  },
  {
   "cell_type": "code",
   "execution_count": 100,
   "metadata": {},
   "outputs": [
    {
     "data": {
      "text/plain": [
       "[['F', 'M'],\n",
       " ['U', 'R'],\n",
       " ['GT3', 'LE3'],\n",
       " ['A', 'T'],\n",
       " ['yes', 'no'],\n",
       " ['yes', 'no'],\n",
       " ['yes', 'no'],\n",
       " ['yes', 'no'],\n",
       " ['yes', 'no'],\n",
       " ['yes', 'no'],\n",
       " ['yes', 'no'],\n",
       " ['yes', 'no']]"
      ]
     },
     "execution_count": 100,
     "metadata": {},
     "output_type": "execute_result"
    }
   ],
   "source": [
    "# проверяем\n",
    "replacement_list"
   ]
  },
  {
   "cell_type": "code",
   "execution_count": 101,
   "metadata": {},
   "outputs": [],
   "source": [
    "# заменяем\n",
    "for i in range(len(list_of_binary_columns)):\n",
    "    elem = list_of_binary_columns[i]\n",
    "    school.loc[school[elem] == replacement_list[i][0], elem] = 1.0\n",
    "    school.loc[school[elem] == replacement_list[i][1], elem] = 0.0"
   ]
  },
  {
   "cell_type": "code",
   "execution_count": 102,
   "metadata": {},
   "outputs": [
    {
     "data": {
      "text/plain": [
       "[[1.0, 0.0],\n",
       " [1.0, 0.0],\n",
       " [1.0, 0.0],\n",
       " [1.0, 0.0],\n",
       " [1.0, 0.0],\n",
       " [0.0, 1.0],\n",
       " [0.0, 1.0],\n",
       " [0.0, 1.0],\n",
       " [1.0, 0.0],\n",
       " [1.0, 0.0],\n",
       " [1.0, 0.0],\n",
       " [0.0, 1.0]]"
      ]
     },
     "execution_count": 102,
     "metadata": {},
     "output_type": "execute_result"
    }
   ],
   "source": [
    "# проверяем\n",
    "replacement_list =[]\n",
    "for elem in list_of_binary_columns:\n",
    "    a = school[elem].unique()\n",
    "    a = a[~pd.isnull(a)]\n",
    "    if len(a) == 2:\n",
    "        replacement_list.append([a[0],a[1]])\n",
    "    else:\n",
    "        print(f\"со столбцом {elem} произошла ошибка. Уникальные значения: stud[elem].values\")\n",
    "replacement_list"
   ]
  },
  {
   "cell_type": "code",
   "execution_count": 103,
   "metadata": {},
   "outputs": [
    {
     "data": {
      "text/html": [
       "<div>\n",
       "<style scoped>\n",
       "    .dataframe tbody tr th:only-of-type {\n",
       "        vertical-align: middle;\n",
       "    }\n",
       "\n",
       "    .dataframe tbody tr th {\n",
       "        vertical-align: top;\n",
       "    }\n",
       "\n",
       "    .dataframe thead th {\n",
       "        text-align: right;\n",
       "    }\n",
       "</style>\n",
       "<table border=\"1\" class=\"dataframe\">\n",
       "  <thead>\n",
       "    <tr style=\"text-align: right;\">\n",
       "      <th></th>\n",
       "      <th>sex</th>\n",
       "      <th>address</th>\n",
       "      <th>famsize</th>\n",
       "      <th>p_status</th>\n",
       "      <th>schoolsup</th>\n",
       "      <th>famsup</th>\n",
       "      <th>paid</th>\n",
       "      <th>activities</th>\n",
       "      <th>nursery</th>\n",
       "      <th>higher</th>\n",
       "      <th>internet</th>\n",
       "      <th>romantic</th>\n",
       "    </tr>\n",
       "  </thead>\n",
       "  <tbody>\n",
       "    <tr>\n",
       "      <th>count</th>\n",
       "      <td>395.0</td>\n",
       "      <td>378.0</td>\n",
       "      <td>368.0</td>\n",
       "      <td>350.0</td>\n",
       "      <td>386.0</td>\n",
       "      <td>356.0</td>\n",
       "      <td>355.0</td>\n",
       "      <td>381.0</td>\n",
       "      <td>379.0</td>\n",
       "      <td>375.0</td>\n",
       "      <td>361.0</td>\n",
       "      <td>364.0</td>\n",
       "    </tr>\n",
       "    <tr>\n",
       "      <th>unique</th>\n",
       "      <td>2.0</td>\n",
       "      <td>2.0</td>\n",
       "      <td>2.0</td>\n",
       "      <td>2.0</td>\n",
       "      <td>2.0</td>\n",
       "      <td>2.0</td>\n",
       "      <td>2.0</td>\n",
       "      <td>2.0</td>\n",
       "      <td>2.0</td>\n",
       "      <td>2.0</td>\n",
       "      <td>2.0</td>\n",
       "      <td>2.0</td>\n",
       "    </tr>\n",
       "    <tr>\n",
       "      <th>top</th>\n",
       "      <td>1.0</td>\n",
       "      <td>1.0</td>\n",
       "      <td>1.0</td>\n",
       "      <td>0.0</td>\n",
       "      <td>0.0</td>\n",
       "      <td>1.0</td>\n",
       "      <td>0.0</td>\n",
       "      <td>1.0</td>\n",
       "      <td>1.0</td>\n",
       "      <td>1.0</td>\n",
       "      <td>1.0</td>\n",
       "      <td>0.0</td>\n",
       "    </tr>\n",
       "    <tr>\n",
       "      <th>freq</th>\n",
       "      <td>208.0</td>\n",
       "      <td>295.0</td>\n",
       "      <td>261.0</td>\n",
       "      <td>314.0</td>\n",
       "      <td>335.0</td>\n",
       "      <td>219.0</td>\n",
       "      <td>200.0</td>\n",
       "      <td>195.0</td>\n",
       "      <td>300.0</td>\n",
       "      <td>356.0</td>\n",
       "      <td>305.0</td>\n",
       "      <td>240.0</td>\n",
       "    </tr>\n",
       "  </tbody>\n",
       "</table>\n",
       "</div>"
      ],
      "text/plain": [
       "          sex  address  famsize  p_status  schoolsup  famsup   paid  \\\n",
       "count   395.0    378.0    368.0     350.0      386.0   356.0  355.0   \n",
       "unique    2.0      2.0      2.0       2.0        2.0     2.0    2.0   \n",
       "top       1.0      1.0      1.0       0.0        0.0     1.0    0.0   \n",
       "freq    208.0    295.0    261.0     314.0      335.0   219.0  200.0   \n",
       "\n",
       "        activities  nursery  higher  internet  romantic  \n",
       "count        381.0    379.0   375.0     361.0     364.0  \n",
       "unique         2.0      2.0     2.0       2.0       2.0  \n",
       "top            1.0      1.0     1.0       1.0       0.0  \n",
       "freq         195.0    300.0   356.0     305.0     240.0  "
      ]
     },
     "execution_count": 103,
     "metadata": {},
     "output_type": "execute_result"
    }
   ],
   "source": [
    "# все прекрасно\n",
    "# продолжаем анализ бинарных критериев\n",
    "school[list_of_binary_columns].describe()"
   ]
  },
  {
   "cell_type": "code",
   "execution_count": 104,
   "metadata": {},
   "outputs": [],
   "source": [
    "temp = school[list_of_binary_columns].describe()"
   ]
  },
  {
   "cell_type": "code",
   "execution_count": 105,
   "metadata": {},
   "outputs": [
    {
     "data": {
      "text/plain": [
       "sex            0.0\n",
       "address       17.0\n",
       "famsize       27.0\n",
       "p_status      45.0\n",
       "schoolsup      9.0\n",
       "famsup        39.0\n",
       "paid          40.0\n",
       "activities    14.0\n",
       "nursery       16.0\n",
       "higher        20.0\n",
       "internet      34.0\n",
       "romantic      31.0\n",
       "Name: count, dtype: float64"
      ]
     },
     "execution_count": 105,
     "metadata": {},
     "output_type": "execute_result"
    }
   ],
   "source": [
    "# расчитаем кол-во пропущенных значений по бинарным критериям\n",
    "395-temp.T['count']"
   ]
  },
  {
   "cell_type": "code",
   "execution_count": 106,
   "metadata": {},
   "outputs": [
    {
     "data": {
      "text/html": [
       "<div>\n",
       "<style scoped>\n",
       "    .dataframe tbody tr th:only-of-type {\n",
       "        vertical-align: middle;\n",
       "    }\n",
       "\n",
       "    .dataframe tbody tr th {\n",
       "        vertical-align: top;\n",
       "    }\n",
       "\n",
       "    .dataframe thead tr th {\n",
       "        text-align: left;\n",
       "    }\n",
       "\n",
       "    .dataframe thead tr:last-of-type th {\n",
       "        text-align: right;\n",
       "    }\n",
       "</style>\n",
       "<table border=\"1\" class=\"dataframe\">\n",
       "  <thead>\n",
       "    <tr>\n",
       "      <th></th>\n",
       "      <th colspan=\"10\" halign=\"left\">count</th>\n",
       "    </tr>\n",
       "    <tr>\n",
       "      <th></th>\n",
       "      <th>activities</th>\n",
       "      <th>address</th>\n",
       "      <th>famsize</th>\n",
       "      <th>famsup</th>\n",
       "      <th>higher</th>\n",
       "      <th>internet</th>\n",
       "      <th>nursery</th>\n",
       "      <th>p_status</th>\n",
       "      <th>paid</th>\n",
       "      <th>romantic</th>\n",
       "    </tr>\n",
       "    <tr>\n",
       "      <th>sex</th>\n",
       "      <th></th>\n",
       "      <th></th>\n",
       "      <th></th>\n",
       "      <th></th>\n",
       "      <th></th>\n",
       "      <th></th>\n",
       "      <th></th>\n",
       "      <th></th>\n",
       "      <th></th>\n",
       "      <th></th>\n",
       "    </tr>\n",
       "  </thead>\n",
       "  <tbody>\n",
       "    <tr>\n",
       "      <th>0.0</th>\n",
       "      <td>179</td>\n",
       "      <td>178</td>\n",
       "      <td>171</td>\n",
       "      <td>174</td>\n",
       "      <td>172</td>\n",
       "      <td>167</td>\n",
       "      <td>179</td>\n",
       "      <td>166</td>\n",
       "      <td>166</td>\n",
       "      <td>169</td>\n",
       "    </tr>\n",
       "    <tr>\n",
       "      <th>1.0</th>\n",
       "      <td>202</td>\n",
       "      <td>200</td>\n",
       "      <td>197</td>\n",
       "      <td>182</td>\n",
       "      <td>203</td>\n",
       "      <td>194</td>\n",
       "      <td>200</td>\n",
       "      <td>184</td>\n",
       "      <td>189</td>\n",
       "      <td>195</td>\n",
       "    </tr>\n",
       "  </tbody>\n",
       "</table>\n",
       "</div>"
      ],
      "text/plain": [
       "         count                                                               \\\n",
       "    activities address famsize famsup higher internet nursery p_status paid   \n",
       "sex                                                                           \n",
       "0.0        179     178     171    174    172      167     179      166  166   \n",
       "1.0        202     200     197    182    203      194     200      184  189   \n",
       "\n",
       "              \n",
       "    romantic  \n",
       "sex           \n",
       "0.0      169  \n",
       "1.0      195  "
      ]
     },
     "execution_count": 106,
     "metadata": {},
     "output_type": "execute_result"
    }
   ],
   "source": [
    "# для критериев с пропусками больше 10 выведем частоту встречаемости значений\n",
    "school.pivot_table(['address','famsize', 'p_status', 'famsup', 'paid', 'activities', \n",
    "                   'nursery', 'higher', 'internet', 'romantic'], 'sex', aggfunc=['count'])"
   ]
  },
  {
   "cell_type": "markdown",
   "metadata": {},
   "source": [
    "### Итог:\n",
    "- по бинарным критериям (sex, address, famsize, Pstatus, schoolsup, famsup, paid, activities, nursery, higher, internet, romantic): Все критерии приведены к численным значениям и готовы к загрузкам в модель. Больше всего пропусков в критерии Pstatus 45. Это статус совместного жилья родителей. Заполнить пропуски для всех критериев на данный момент не представляется возможным, так как значения внутри распределены без очевидных перекосов и выделить какое-то одно однозначно доминирующее невозможно."
   ]
  },
  {
   "cell_type": "markdown",
   "metadata": {},
   "source": [
    "# 3. Корреляционный анализ"
   ]
  },
  {
   "cell_type": "markdown",
   "metadata": {},
   "source": [
    "Выясним, какие столбцы коррелируют с score. Это поможет понять, какие параметры стоит оставить для модели, а какие — исключить."
   ]
  },
  {
   "cell_type": "markdown",
   "metadata": {},
   "source": [
    "#### Корреляции рассмотрим только для числовых столбцов."
   ]
  },
  {
   "cell_type": "code",
   "execution_count": 107,
   "metadata": {},
   "outputs": [],
   "source": [
    "stud_num = school[['age', 'absences', 'score']]"
   ]
  },
  {
   "cell_type": "code",
   "execution_count": 108,
   "metadata": {},
   "outputs": [
    {
     "data": {
      "text/plain": [
       "<seaborn.axisgrid.PairGrid at 0x208503931f0>"
      ]
     },
     "execution_count": 108,
     "metadata": {},
     "output_type": "execute_result"
    },
    {
     "data": {
      "image/png": "[encoded data removed]",
      "text/plain": [
       "<Figure size 540x540 with 12 Axes>"
      ]
     },
     "metadata": {
      "needs_background": "light"
     },
     "output_type": "display_data"
    }
   ],
   "source": [
    "sns.pairplot(stud_num, kind = 'reg')"
   ]
  },
  {
   "cell_type": "code",
   "execution_count": 109,
   "metadata": {},
   "outputs": [
    {
     "data": {
      "text/html": [
       "<div>\n",
       "<style scoped>\n",
       "    .dataframe tbody tr th:only-of-type {\n",
       "        vertical-align: middle;\n",
       "    }\n",
       "\n",
       "    .dataframe tbody tr th {\n",
       "        vertical-align: top;\n",
       "    }\n",
       "\n",
       "    .dataframe thead th {\n",
       "        text-align: right;\n",
       "    }\n",
       "</style>\n",
       "<table border=\"1\" class=\"dataframe\">\n",
       "  <thead>\n",
       "    <tr style=\"text-align: right;\">\n",
       "      <th></th>\n",
       "      <th>age</th>\n",
       "      <th>absences</th>\n",
       "      <th>score</th>\n",
       "    </tr>\n",
       "  </thead>\n",
       "  <tbody>\n",
       "    <tr>\n",
       "      <th>age</th>\n",
       "      <td>1.000000</td>\n",
       "      <td>0.091656</td>\n",
       "      <td>-0.121579</td>\n",
       "    </tr>\n",
       "    <tr>\n",
       "      <th>absences</th>\n",
       "      <td>0.091656</td>\n",
       "      <td>1.000000</td>\n",
       "      <td>-0.014039</td>\n",
       "    </tr>\n",
       "    <tr>\n",
       "      <th>score</th>\n",
       "      <td>-0.121579</td>\n",
       "      <td>-0.014039</td>\n",
       "      <td>1.000000</td>\n",
       "    </tr>\n",
       "  </tbody>\n",
       "</table>\n",
       "</div>"
      ],
      "text/plain": [
       "               age  absences     score\n",
       "age       1.000000  0.091656 -0.121579\n",
       "absences  0.091656  1.000000 -0.014039\n",
       "score    -0.121579 -0.014039  1.000000"
      ]
     },
     "execution_count": 109,
     "metadata": {},
     "output_type": "execute_result"
    }
   ],
   "source": [
    "# Используем для наглядности матрицу корреляций:\n",
    "stud_num.corr()"
   ]
  },
  {
   "cell_type": "markdown",
   "metadata": {},
   "source": [
    "Оставляем эти два критерия потому что они не сколлерированны между собой\n",
    "\n",
    "Можно заметить что между возрастом есть обратная корреляция как я писал выше. Чем выше возраст тем ниже score"
   ]
  },
  {
   "cell_type": "markdown",
   "metadata": {},
   "source": [
    "### Анализ категориальных переменных"
   ]
  },
  {
   "cell_type": "markdown",
   "metadata": {},
   "source": [
    "\n",
    "посмотрим различаются ли распределения рейтинга в зависимости от значения этих переменных.\n",
    "\n",
    "переменные, которые осталось рассмотреть:\n",
    "-Бинарных (два значения) - 13: sex, address, famsize, Pstatus, schoolsup, famsup, paid, activities, nursery, higher, internet, romantic, school -Оценочных (несколько значений) - 13: Medu, Fedu, Mjob, Fjob, reason, guardian, traveltime, studytime, failures, famrel, freetime, goout, health"
   ]
  },
  {
   "cell_type": "code",
   "execution_count": 110,
   "metadata": {},
   "outputs": [],
   "source": [
    "# для удобства составим списки этих критериев\n",
    "# бинарный мы уже сделали выше list_of_binary_columns но нужно добавить к нему school\n",
    "list_of_binary_columns.append('school')\n",
    "list_of_rating_columns = ('m_edu', 'f_edu', 'm_job', 'f_job',\n",
    "                            'reason', 'guardian', 'traveltime', 'studytime',\n",
    "                            'failures', 'famrel', 'freetime', 'goout', 'health')\n",
    "list_of_all_columns=[]\n",
    "list_of_all_columns.extend(list_of_binary_columns)\n",
    "list_of_all_columns.extend(list_of_rating_columns)"
   ]
  },
  {
   "cell_type": "markdown",
   "metadata": {},
   "source": [
    "### Анализ \"бинарных\" категориальных переменных"
   ]
  },
  {
   "cell_type": "code",
   "execution_count": 111,
   "metadata": {},
   "outputs": [],
   "source": [
    "# функция для бинарных\n",
    "def get_boxplot(column):\n",
    "    fig, ax = plt.subplots(figsize = (10, 3))\n",
    "    sns.boxplot(x=column, y='score', \n",
    "                data=school.loc[school.loc[:, column].isin(school.loc[:, column].value_counts().index[:])],\n",
    "                ax=ax)\n",
    "    plt.xticks(rotation=45)\n",
    "    ax.set_title('Boxplot for ' + column)\n",
    "    plt.show()"
   ]
  },
  {
   "cell_type": "code",
   "execution_count": 112,
   "metadata": {},
   "outputs": [
    {
     "data": {
      "image/png": "[encoded data removed]",
      "text/plain": [
       "<Figure size 720x216 with 1 Axes>"
      ]
     },
     "metadata": {
      "needs_background": "light"
     },
     "output_type": "display_data"
    },
    {
     "data": {
      "image/png": "[encoded data removed]",
      "text/plain": [
       "<Figure size 720x216 with 1 Axes>"
      ]
     },
     "metadata": {
      "needs_background": "light"
     },
     "output_type": "display_data"
    },
    {
     "data": {
      "image/png": "[encoded data removed]",
      "text/plain": [
       "<Figure size 720x216 with 1 Axes>"
      ]
     },
     "metadata": {
      "needs_background": "light"
     },
     "output_type": "display_data"
    },
    {
     "data": {
      "image/png": "[encoded data removed]",
      "text/plain": [
       "<Figure size 720x216 with 1 Axes>"
      ]
     },
     "metadata": {
      "needs_background": "light"
     },
     "output_type": "display_data"
    },
    {
     "data": {
      "image/png": "[encoded data removed]",
      "text/plain": [
       "<Figure size 720x216 with 1 Axes>"
      ]
     },
     "metadata": {
      "needs_background": "light"
     },
     "output_type": "display_data"
    },
    {
     "data": {
      "image/png": "[encoded data removed]",
      "text/plain": [
       "<Figure size 720x216 with 1 Axes>"
      ]
     },
     "metadata": {
      "needs_background": "light"
     },
     "output_type": "display_data"
    },
    {
     "data": {
      "image/png": "[encoded data removed]",
      "text/plain": [
       "<Figure size 720x216 with 1 Axes>"
      ]
     },
     "metadata": {
      "needs_background": "light"
     },
     "output_type": "display_data"
    },
    {
     "data": {
      "image/png": "[encoded data removed]",
      "text/plain": [
       "<Figure size 720x216 with 1 Axes>"
      ]
     },
     "metadata": {
      "needs_background": "light"
     },
     "output_type": "display_data"
    },
    {
     "data": {
      "image/png": "[encoded data removed]",
      "text/plain": [
       "<Figure size 720x216 with 1 Axes>"
      ]
     },
     "metadata": {
      "needs_background": "light"
     },
     "output_type": "display_data"
    },
    {
     "data": {
      "image/png": "[encoded data removed]",
      "text/plain": [
       "<Figure size 720x216 with 1 Axes>"
      ]
     },
     "metadata": {
      "needs_background": "light"
     },
     "output_type": "display_data"
    },
    {
     "data": {
      "image/png": "[encoded data removed]",
      "text/plain": [
       "<Figure size 720x216 with 1 Axes>"
      ]
     },
     "metadata": {
      "needs_background": "light"
     },
     "output_type": "display_data"
    },
    {
     "data": {
      "image/png": "[encoded data removed]",
      "text/plain": [
       "<Figure size 720x216 with 1 Axes>"
      ]
     },
     "metadata": {
      "needs_background": "light"
     },
     "output_type": "display_data"
    },
    {
     "data": {
      "image/png": "[encoded data removed]",
      "text/plain": [
       "<Figure size 720x216 with 1 Axes>"
      ]
     },
     "metadata": {
      "needs_background": "light"
     },
     "output_type": "display_data"
    }
   ],
   "source": [
    "# сначала сделаем box plot на бинарных\n",
    "for col in list_of_binary_columns:\n",
    "    get_boxplot(col)"
   ]
  },
  {
   "cell_type": "markdown",
   "metadata": {},
   "source": [
    "визуально кажется что плотности распределения существенно различаются для следующих распределений:\n",
    "\n",
    "- schoolsup\n",
    "- nursery\n",
    "- higher\n",
    "\n",
    "посмотрим что покажет тест Стюдентса"
   ]
  },
  {
   "cell_type": "markdown",
   "metadata": {},
   "source": [
    "### Анализ \"оценочных\" категориальных переменных"
   ]
  },
  {
   "cell_type": "code",
   "execution_count": 113,
   "metadata": {},
   "outputs": [],
   "source": [
    "# функция для оценочных\n",
    "def get_boxplot(column):\n",
    "    fig, ax = plt.subplots(figsize = (12, 4))\n",
    "    sns.boxplot(x=column, y='score', \n",
    "                data=school.loc[school.loc[:, column].isin(school.loc[:, column].value_counts().index[:])],\n",
    "                ax=ax)\n",
    "    plt.xticks(rotation=45)\n",
    "    ax.set_title('Boxplot for ' + column)\n",
    "    plt.show()"
   ]
  },
  {
   "cell_type": "code",
   "execution_count": 114,
   "metadata": {
    "scrolled": false
   },
   "outputs": [
    {
     "data": {
      "image/png": "[encoded data removed]",
      "text/plain": [
       "<Figure size 864x288 with 1 Axes>"
      ]
     },
     "metadata": {
      "needs_background": "light"
     },
     "output_type": "display_data"
    },
    {
     "data": {
      "image/png": "[encoded data removed]",
      "text/plain": [
       "<Figure size 864x288 with 1 Axes>"
      ]
     },
     "metadata": {
      "needs_background": "light"
     },
     "output_type": "display_data"
    },
    {
     "data": {
      "image/png": "[encoded data removed]",
      "text/plain": [
       "<Figure size 864x288 with 1 Axes>"
      ]
     },
     "metadata": {
      "needs_background": "light"
     },
     "output_type": "display_data"
    },
    {
     "data": {
      "image/png": "[encoded data removed]",
      "text/plain": [
       "<Figure size 864x288 with 1 Axes>"
      ]
     },
     "metadata": {
      "needs_background": "light"
     },
     "output_type": "display_data"
    },
    {
     "data": {
      "image/png": "[encoded data removed]",
      "text/plain": [
       "<Figure size 864x288 with 1 Axes>"
      ]
     },
     "metadata": {
      "needs_background": "light"
     },
     "output_type": "display_data"
    },
    {
     "data": {
      "image/png": "[encoded data removed]",
      "text/plain": [
       "<Figure size 864x288 with 1 Axes>"
      ]
     },
     "metadata": {
      "needs_background": "light"
     },
     "output_type": "display_data"
    },
    {
     "data": {
      "image/png": "[encoded data removed]",
      "text/plain": [
       "<Figure size 864x288 with 1 Axes>"
      ]
     },
     "metadata": {
      "needs_background": "light"
     },
     "output_type": "display_data"
    },
    {
     "data": {
      "image/png": "[encoded data removed]",
      "text/plain": [
       "<Figure size 864x288 with 1 Axes>"
      ]
     },
     "metadata": {
      "needs_background": "light"
     },
     "output_type": "display_data"
    },
    {
     "data": {
      "image/png": "[encoded data removed]",
      "text/plain": [
       "<Figure size 864x288 with 1 Axes>"
      ]
     },
     "metadata": {
      "needs_background": "light"
     },
     "output_type": "display_data"
    },
    {
     "data": {
      "image/png": "[encoded data removed]",
      "text/plain": [
       "<Figure size 864x288 with 1 Axes>"
      ]
     },
     "metadata": {
      "needs_background": "light"
     },
     "output_type": "display_data"
    },
    {
     "data": {
      "image/png": "[encoded data removed]",
      "text/plain": [
       "<Figure size 864x288 with 1 Axes>"
      ]
     },
     "metadata": {
      "needs_background": "light"
     },
     "output_type": "display_data"
    },
    {
     "data": {
      "image/png": "[encoded data removed]",
      "text/plain": [
       "<Figure size 864x288 with 1 Axes>"
      ]
     },
     "metadata": {
      "needs_background": "light"
     },
     "output_type": "display_data"
    },
    {
     "data": {
      "image/png": "[encoded data removed]",
      "text/plain": [
       "<Figure size 864x288 with 1 Axes>"
      ]
     },
     "metadata": {
      "needs_background": "light"
     },
     "output_type": "display_data"
    }
   ],
   "source": [
    "# сначала сделаем box plot на бинарных\n",
    "for col in list_of_rating_columns:\n",
    "    get_boxplot(col)"
   ]
  },
  {
   "cell_type": "markdown",
   "metadata": {},
   "source": [
    "визуально кажется что плотности распределения существенно различаются для следующих распределений:\n",
    "\n",
    "- m_edu\n",
    "- f_edu\n",
    "- m_job\n",
    "- f_job\n",
    "- studytime\n",
    "- failures\n",
    "- goout\n",
    "- health\n",
    "\n",
    "посмотрим что покажет тест Стюдентса"
   ]
  },
  {
   "cell_type": "markdown",
   "metadata": {},
   "source": [
    "### Тест Стьюдента по всем категориальным признакам"
   ]
  },
  {
   "cell_type": "code",
   "execution_count": 115,
   "metadata": {},
   "outputs": [],
   "source": [
    "# Проверим, есть ли статистическая разница в распределении оценок по всем категориальным признакам, \n",
    "# с помощью теста Стьюдента. Проверим нулевую гипотезу о том, \n",
    "# что распределения score по различным параметрам неразличимы:\n",
    "def get_stat_dif(column):\n",
    "    cols = school.loc[:, column].value_counts().index[:]\n",
    "    combinations_all = list(combinations(cols, 2))\n",
    "    for comb in combinations_all:\n",
    "        ttest = ttest_ind(school.loc[school.loc[:, column] == comb[0], 'score'].dropna(),\n",
    "                          school.loc[school.loc[:, column] == comb[1], 'score'].dropna()).pvalue\n",
    "#         print(f\"для столбца {column} ttest:= {ttest}\")\n",
    "#         print(f\"                     comb:= {combinations_all}\")\n",
    "        if  ttest<= 0.05/len(combinations_all): # Учли поправку Бонферони\n",
    "            print('!!!Найдены статистически значимые различия для колонки', column)\n",
    "            break"
   ]
  },
  {
   "cell_type": "code",
   "execution_count": 116,
   "metadata": {},
   "outputs": [
    {
     "name": "stdout",
     "output_type": "stream",
     "text": [
      "!!!Найдены статистически значимые различия для колонки address\n",
      "!!!Найдены статистически значимые различия для колонки schoolsup\n",
      "!!!Найдены статистически значимые различия для колонки m_edu\n",
      "!!!Найдены статистически значимые различия для колонки f_edu\n",
      "!!!Найдены статистически значимые различия для колонки m_job\n",
      "!!!Найдены статистически значимые различия для колонки f_job\n",
      "!!!Найдены статистически значимые различия для колонки studytime\n",
      "!!!Найдены статистически значимые различия для колонки failures\n",
      "!!!Найдены статистически значимые различия для колонки goout\n"
     ]
    }
   ],
   "source": [
    "for elem in list_of_all_columns:\n",
    "    get_stat_dif(elem)"
   ]
  },
  {
   "cell_type": "markdown",
   "metadata": {},
   "source": [
    "### Итог:\n",
    "- тест Стьюдента (score): достаточно отличаются 9 параметров: address, schoolsup, m_edu, f_edu, m_job, f_job, studytime, failures, goout. Оставим эти переменные в датасете для дальнейшего построения модели.\n",
    "\n",
    "Вспоминаем о новой переменной no_score. Видно, что метод с тестом Стьюдента более четкий, поэтому строить бокс плоты для этого нового критерия не будем, сразу построим новую фукцию и проведем тест Стьюдента"
   ]
  },
  {
   "cell_type": "code",
   "execution_count": 117,
   "metadata": {},
   "outputs": [],
   "source": [
    "def get_stat_dif(column):\n",
    "    cols = school.loc[:, column].value_counts().index[:]\n",
    "    combinations_all = list(combinations(cols, 2))\n",
    "    for comb in combinations_all:\n",
    "        ttest = ttest_ind(school.loc[school.loc[:, column] == comb[0], 'no_score'].dropna(),\n",
    "                          school.loc[school.loc[:, column] == comb[1], 'no_score'].dropna()).pvalue\n",
    "#         print(f\"для столбца {column} ttest:= {ttest}\")\n",
    "#         print(f\"                     comb:= {combinations_all}\")\n",
    "        if  ttest<= 0.05/len(combinations_all): # Учли поправку Бонферони\n",
    "            print('!!!Найдены статистически значимые различия для колонки', column)\n",
    "            break"
   ]
  },
  {
   "cell_type": "code",
   "execution_count": 118,
   "metadata": {},
   "outputs": [
    {
     "name": "stdout",
     "output_type": "stream",
     "text": [
      "!!!Найдены статистически значимые различия для колонки paid\n",
      "!!!Найдены статистически значимые различия для колонки higher\n",
      "!!!Найдены статистически значимые различия для колонки romantic\n",
      "!!!Найдены статистически значимые различия для колонки failures\n"
     ]
    }
   ],
   "source": [
    "for elem in list_of_all_columns:\n",
    "    get_stat_dif(elem)"
   ]
  },
  {
   "cell_type": "markdown",
   "metadata": {},
   "source": [
    "### Итог:\n",
    "- тест Стьюдента (no_score): достаточно отличаются 4 параметра: paid, higher, romantic, failures. Некоторые из них уже были указаны выше - failures. Оставим эти переменные.\n",
    "\n",
    "В результате у нас получилось 14 важных переменных , которые, возможно, оказывают влияние на score: age, absences,address, schoolsup, m_edu, f_edu, m_job, f_job, studytime, failures, goout, paid, higher, romantic"
   ]
  },
  {
   "cell_type": "code",
   "execution_count": 119,
   "metadata": {},
   "outputs": [],
   "source": [
    "stud_for_model = school.loc[:, ['age', 'absences', 'address', 'schoolsup', \n",
    "                              'm_edu', 'f_edu', 'm_job', 'f_job', \n",
    "                              'studytime', 'failures', 'goout', 'paid', \n",
    "                              'higher', 'romantic', 'score', 'no_score']]\n",
    "# !!!обратите внимание в датасете для построения модели я добавил score и no_score\n",
    "# это очень важно в примере который выложен на сайте это не сделано\n",
    "# без целевой переменной невозможно будет убучать модель"
   ]
  },
  {
   "cell_type": "code",
   "execution_count": 120,
   "metadata": {},
   "outputs": [
    {
     "data": {
      "text/html": [
       "<div>\n",
       "<style scoped>\n",
       "    .dataframe tbody tr th:only-of-type {\n",
       "        vertical-align: middle;\n",
       "    }\n",
       "\n",
       "    .dataframe tbody tr th {\n",
       "        vertical-align: top;\n",
       "    }\n",
       "\n",
       "    .dataframe thead th {\n",
       "        text-align: right;\n",
       "    }\n",
       "</style>\n",
       "<table border=\"1\" class=\"dataframe\">\n",
       "  <thead>\n",
       "    <tr style=\"text-align: right;\">\n",
       "      <th></th>\n",
       "      <th>age</th>\n",
       "      <th>absences</th>\n",
       "      <th>address</th>\n",
       "      <th>schoolsup</th>\n",
       "      <th>m_edu</th>\n",
       "      <th>f_edu</th>\n",
       "      <th>m_job</th>\n",
       "      <th>f_job</th>\n",
       "      <th>studytime</th>\n",
       "      <th>failures</th>\n",
       "      <th>goout</th>\n",
       "      <th>paid</th>\n",
       "      <th>higher</th>\n",
       "      <th>romantic</th>\n",
       "      <th>score</th>\n",
       "      <th>no_score</th>\n",
       "    </tr>\n",
       "  </thead>\n",
       "  <tbody>\n",
       "    <tr>\n",
       "      <th>0</th>\n",
       "      <td>18.0</td>\n",
       "      <td>6.0</td>\n",
       "      <td>1</td>\n",
       "      <td>1</td>\n",
       "      <td>4.0</td>\n",
       "      <td>4.0</td>\n",
       "      <td>at_home</td>\n",
       "      <td>teacher</td>\n",
       "      <td>2.0</td>\n",
       "      <td>0.0</td>\n",
       "      <td>4.0</td>\n",
       "      <td>0</td>\n",
       "      <td>1</td>\n",
       "      <td>0</td>\n",
       "      <td>30.0</td>\n",
       "      <td>0.0</td>\n",
       "    </tr>\n",
       "    <tr>\n",
       "      <th>1</th>\n",
       "      <td>17.0</td>\n",
       "      <td>4.0</td>\n",
       "      <td>1</td>\n",
       "      <td>0</td>\n",
       "      <td>1.0</td>\n",
       "      <td>1.0</td>\n",
       "      <td>at_home</td>\n",
       "      <td>other</td>\n",
       "      <td>2.0</td>\n",
       "      <td>0.0</td>\n",
       "      <td>3.0</td>\n",
       "      <td>0</td>\n",
       "      <td>1</td>\n",
       "      <td>0</td>\n",
       "      <td>30.0</td>\n",
       "      <td>0.0</td>\n",
       "    </tr>\n",
       "    <tr>\n",
       "      <th>2</th>\n",
       "      <td>15.0</td>\n",
       "      <td>10.0</td>\n",
       "      <td>1</td>\n",
       "      <td>1</td>\n",
       "      <td>1.0</td>\n",
       "      <td>1.0</td>\n",
       "      <td>at_home</td>\n",
       "      <td>other</td>\n",
       "      <td>2.0</td>\n",
       "      <td>3.0</td>\n",
       "      <td>2.0</td>\n",
       "      <td>NaN</td>\n",
       "      <td>1</td>\n",
       "      <td>NaN</td>\n",
       "      <td>50.0</td>\n",
       "      <td>0.0</td>\n",
       "    </tr>\n",
       "    <tr>\n",
       "      <th>3</th>\n",
       "      <td>15.0</td>\n",
       "      <td>2.0</td>\n",
       "      <td>1</td>\n",
       "      <td>0</td>\n",
       "      <td>4.0</td>\n",
       "      <td>2.0</td>\n",
       "      <td>health</td>\n",
       "      <td>NaN</td>\n",
       "      <td>3.0</td>\n",
       "      <td>0.0</td>\n",
       "      <td>2.0</td>\n",
       "      <td>1</td>\n",
       "      <td>1</td>\n",
       "      <td>1</td>\n",
       "      <td>75.0</td>\n",
       "      <td>0.0</td>\n",
       "    </tr>\n",
       "    <tr>\n",
       "      <th>4</th>\n",
       "      <td>16.0</td>\n",
       "      <td>4.0</td>\n",
       "      <td>1</td>\n",
       "      <td>0</td>\n",
       "      <td>3.0</td>\n",
       "      <td>3.0</td>\n",
       "      <td>other</td>\n",
       "      <td>other</td>\n",
       "      <td>2.0</td>\n",
       "      <td>0.0</td>\n",
       "      <td>2.0</td>\n",
       "      <td>1</td>\n",
       "      <td>1</td>\n",
       "      <td>0</td>\n",
       "      <td>50.0</td>\n",
       "      <td>0.0</td>\n",
       "    </tr>\n",
       "  </tbody>\n",
       "</table>\n",
       "</div>"
      ],
      "text/plain": [
       "    age  absences address schoolsup  m_edu  f_edu    m_job    f_job  \\\n",
       "0  18.0       6.0       1         1    4.0    4.0  at_home  teacher   \n",
       "1  17.0       4.0       1         0    1.0    1.0  at_home    other   \n",
       "2  15.0      10.0       1         1    1.0    1.0  at_home    other   \n",
       "3  15.0       2.0       1         0    4.0    2.0   health      NaN   \n",
       "4  16.0       4.0       1         0    3.0    3.0    other    other   \n",
       "\n",
       "   studytime  failures  goout paid higher romantic  score  no_score  \n",
       "0        2.0       0.0    4.0    0      1        0   30.0       0.0  \n",
       "1        2.0       0.0    3.0    0      1        0   30.0       0.0  \n",
       "2        2.0       3.0    2.0  NaN      1      NaN   50.0       0.0  \n",
       "3        3.0       0.0    2.0    1      1        1   75.0       0.0  \n",
       "4        2.0       0.0    2.0    1      1        0   50.0       0.0  "
      ]
     },
     "execution_count": 120,
     "metadata": {},
     "output_type": "execute_result"
    }
   ],
   "source": [
    "# проверяем\n",
    "stud_for_model.head()"
   ]
  },
  {
   "cell_type": "code",
   "execution_count": 121,
   "metadata": {},
   "outputs": [
    {
     "data": {
      "text/html": [
       "<div>\n",
       "<style scoped>\n",
       "    .dataframe tbody tr th:only-of-type {\n",
       "        vertical-align: middle;\n",
       "    }\n",
       "\n",
       "    .dataframe tbody tr th {\n",
       "        vertical-align: top;\n",
       "    }\n",
       "\n",
       "    .dataframe thead th {\n",
       "        text-align: right;\n",
       "    }\n",
       "</style>\n",
       "<table border=\"1\" class=\"dataframe\">\n",
       "  <thead>\n",
       "    <tr style=\"text-align: right;\">\n",
       "      <th></th>\n",
       "      <th>age</th>\n",
       "      <th>absences</th>\n",
       "      <th>m_edu</th>\n",
       "      <th>f_edu</th>\n",
       "      <th>studytime</th>\n",
       "      <th>failures</th>\n",
       "      <th>goout</th>\n",
       "      <th>score</th>\n",
       "      <th>no_score</th>\n",
       "    </tr>\n",
       "  </thead>\n",
       "  <tbody>\n",
       "    <tr>\n",
       "      <th>age</th>\n",
       "      <td>1.000000</td>\n",
       "      <td>0.091656</td>\n",
       "      <td>-0.167883</td>\n",
       "      <td>-0.152024</td>\n",
       "      <td>-0.002354</td>\n",
       "      <td>0.201066</td>\n",
       "      <td>0.119997</td>\n",
       "      <td>-0.121579</td>\n",
       "      <td>0.103534</td>\n",
       "    </tr>\n",
       "    <tr>\n",
       "      <th>absences</th>\n",
       "      <td>0.091656</td>\n",
       "      <td>1.000000</td>\n",
       "      <td>-0.011944</td>\n",
       "      <td>0.022572</td>\n",
       "      <td>-0.026544</td>\n",
       "      <td>0.055583</td>\n",
       "      <td>-0.048738</td>\n",
       "      <td>-0.014039</td>\n",
       "      <td>-0.100701</td>\n",
       "    </tr>\n",
       "    <tr>\n",
       "      <th>m_edu</th>\n",
       "      <td>-0.167883</td>\n",
       "      <td>-0.011944</td>\n",
       "      <td>1.000000</td>\n",
       "      <td>0.625516</td>\n",
       "      <td>0.078589</td>\n",
       "      <td>-0.243567</td>\n",
       "      <td>0.064164</td>\n",
       "      <td>0.186477</td>\n",
       "      <td>-0.127218</td>\n",
       "    </tr>\n",
       "    <tr>\n",
       "      <th>f_edu</th>\n",
       "      <td>-0.152024</td>\n",
       "      <td>0.022572</td>\n",
       "      <td>0.625516</td>\n",
       "      <td>1.000000</td>\n",
       "      <td>0.012896</td>\n",
       "      <td>-0.264230</td>\n",
       "      <td>0.042663</td>\n",
       "      <td>0.135268</td>\n",
       "      <td>-0.060536</td>\n",
       "    </tr>\n",
       "    <tr>\n",
       "      <th>studytime</th>\n",
       "      <td>-0.002354</td>\n",
       "      <td>-0.026544</td>\n",
       "      <td>0.078589</td>\n",
       "      <td>0.012896</td>\n",
       "      <td>1.000000</td>\n",
       "      <td>-0.176488</td>\n",
       "      <td>-0.051280</td>\n",
       "      <td>0.142055</td>\n",
       "      <td>-0.035106</td>\n",
       "    </tr>\n",
       "    <tr>\n",
       "      <th>failures</th>\n",
       "      <td>0.201066</td>\n",
       "      <td>0.055583</td>\n",
       "      <td>-0.243567</td>\n",
       "      <td>-0.264230</td>\n",
       "      <td>-0.176488</td>\n",
       "      <td>1.000000</td>\n",
       "      <td>0.122542</td>\n",
       "      <td>-0.286925</td>\n",
       "      <td>0.250669</td>\n",
       "    </tr>\n",
       "    <tr>\n",
       "      <th>goout</th>\n",
       "      <td>0.119997</td>\n",
       "      <td>-0.048738</td>\n",
       "      <td>0.064164</td>\n",
       "      <td>0.042663</td>\n",
       "      <td>-0.051280</td>\n",
       "      <td>0.122542</td>\n",
       "      <td>1.000000</td>\n",
       "      <td>-0.182286</td>\n",
       "      <td>0.020959</td>\n",
       "    </tr>\n",
       "    <tr>\n",
       "      <th>score</th>\n",
       "      <td>-0.121579</td>\n",
       "      <td>-0.014039</td>\n",
       "      <td>0.186477</td>\n",
       "      <td>0.135268</td>\n",
       "      <td>0.142055</td>\n",
       "      <td>-0.286925</td>\n",
       "      <td>-0.182286</td>\n",
       "      <td>1.000000</td>\n",
       "      <td>NaN</td>\n",
       "    </tr>\n",
       "    <tr>\n",
       "      <th>no_score</th>\n",
       "      <td>0.103534</td>\n",
       "      <td>-0.100701</td>\n",
       "      <td>-0.127218</td>\n",
       "      <td>-0.060536</td>\n",
       "      <td>-0.035106</td>\n",
       "      <td>0.250669</td>\n",
       "      <td>0.020959</td>\n",
       "      <td>NaN</td>\n",
       "      <td>1.000000</td>\n",
       "    </tr>\n",
       "  </tbody>\n",
       "</table>\n",
       "</div>"
      ],
      "text/plain": [
       "                age  absences     m_edu     f_edu  studytime  failures  \\\n",
       "age        1.000000  0.091656 -0.167883 -0.152024  -0.002354  0.201066   \n",
       "absences   0.091656  1.000000 -0.011944  0.022572  -0.026544  0.055583   \n",
       "m_edu     -0.167883 -0.011944  1.000000  0.625516   0.078589 -0.243567   \n",
       "f_edu     -0.152024  0.022572  0.625516  1.000000   0.012896 -0.264230   \n",
       "studytime -0.002354 -0.026544  0.078589  0.012896   1.000000 -0.176488   \n",
       "failures   0.201066  0.055583 -0.243567 -0.264230  -0.176488  1.000000   \n",
       "goout      0.119997 -0.048738  0.064164  0.042663  -0.051280  0.122542   \n",
       "score     -0.121579 -0.014039  0.186477  0.135268   0.142055 -0.286925   \n",
       "no_score   0.103534 -0.100701 -0.127218 -0.060536  -0.035106  0.250669   \n",
       "\n",
       "              goout     score  no_score  \n",
       "age        0.119997 -0.121579  0.103534  \n",
       "absences  -0.048738 -0.014039 -0.100701  \n",
       "m_edu      0.064164  0.186477 -0.127218  \n",
       "f_edu      0.042663  0.135268 -0.060536  \n",
       "studytime -0.051280  0.142055 -0.035106  \n",
       "failures   0.122542 -0.286925  0.250669  \n",
       "goout      1.000000 -0.182286  0.020959  \n",
       "score     -0.182286  1.000000       NaN  \n",
       "no_score   0.020959       NaN  1.000000  "
      ]
     },
     "execution_count": 121,
     "metadata": {},
     "output_type": "execute_result"
    }
   ],
   "source": [
    "\n",
    "# визуально столбы все есть, значения тоже соответствующие\n",
    "# теперь проверим нет ли дублей (очень сильно скоррелированных столбцов)\n",
    "stud_for_model.corr()"
   ]
  },
  {
   "cell_type": "code",
   "execution_count": 122,
   "metadata": {},
   "outputs": [
    {
     "data": {
      "text/plain": [
       "<AxesSubplot:>"
      ]
     },
     "execution_count": 122,
     "metadata": {},
     "output_type": "execute_result"
    },
    {
     "data": {
      "image/png": "[encoded data removed]",
      "text/plain": [
       "<Figure size 432x288 with 2 Axes>"
      ]
     },
     "metadata": {
      "needs_background": "light"
     },
     "output_type": "display_data"
    }
   ],
   "source": [
    "# визуально это отследить тяжеловато, поэтому построим тепловую карту\n",
    "temp_corr = stud_for_model.corr()\n",
    "sns.heatmap(temp_corr)"
   ]
  },
  {
   "cell_type": "markdown",
   "metadata": {},
   "source": [
    "Cветлых зон кроме диагонали в филаном датасете нигде нет, темноватые зоны только в двух столбцах age и failures. Визуальный осмотр значений по этим столбцам показал, что значений очень близких к 1 или -1 нет, значит все ок.\n",
    "\n",
    "Можно переходить к подготовке датасета для моделирования"
   ]
  },
  {
   "cell_type": "markdown",
   "metadata": {},
   "source": [
    "# 4. Подготовка датафрейма к моделированию"
   ]
  },
  {
   "cell_type": "code",
   "execution_count": 123,
   "metadata": {},
   "outputs": [
    {
     "data": {
      "text/plain": [
       "[['at_home', 'health', 'other', 'services', 'teacher'],\n",
       " ['teacher', 'other', 'health', 'services', 'at_home']]"
      ]
     },
     "execution_count": 123,
     "metadata": {},
     "output_type": "execute_result"
    }
   ],
   "source": [
    "# заменим значения в столбцах  и  на числовые \n",
    "# аналогично тому как мы \"хором\" обрабатывали булевые критерии\n",
    "replacement_list = []\n",
    "temp_list_of_columns = ['m_job', 'f_job']\n",
    "\n",
    "for elem in temp_list_of_columns:\n",
    "    a = stud_for_model[elem].unique()\n",
    "    a = a[~pd.isnull(a)]\n",
    "    if len(a) == 5:\n",
    "        replacement_list.append([a[0],a[1],a[2],a[3], a[4]])\n",
    "    else:\n",
    "        print(f\"со столбцом {elem} произошла ошибка. Уникальные значения: {a}\")\n",
    "replacement_list"
   ]
  },
  {
   "cell_type": "code",
   "execution_count": 124,
   "metadata": {},
   "outputs": [],
   "source": [
    "# никаких ошибок не получили значит ошибок в написании возможных вариантов значений нет\n",
    "\n",
    "# приведем значения к единообразию (это не критично для модели, \n",
    "# но важно для отката назад если при моделировании возникнут проблемы к критериями)\n",
    "\n",
    "# сделаем в порядке в соответствии с описанием\n",
    "# ['teacher', 'health', 'services', 'at_home', 'other']\n",
    "replacement_list[0] = ['teacher', 'health', 'services', 'at_home', 'other']\n",
    "replacement_list[1] = ['teacher', 'health', 'services', 'at_home', 'other']"
   ]
  },
  {
   "cell_type": "code",
   "execution_count": 125,
   "metadata": {},
   "outputs": [],
   "source": [
    "# заменяем\n",
    "for i in range(len(temp_list_of_columns)):\n",
    "    elem = temp_list_of_columns[i]\n",
    "    stud_for_model.loc[stud_for_model[elem] == replacement_list[i][0], elem] = 1.0\n",
    "    stud_for_model.loc[stud_for_model[elem] == replacement_list[i][1], elem] = 2.0\n",
    "    stud_for_model.loc[stud_for_model[elem] == replacement_list[i][2], elem] = 3.0\n",
    "    stud_for_model.loc[stud_for_model[elem] == replacement_list[i][3], elem] = 4.0\n",
    "    stud_for_model.loc[stud_for_model[elem] == replacement_list[i][4], elem] = 5.0"
   ]
  },
  {
   "cell_type": "code",
   "execution_count": 126,
   "metadata": {},
   "outputs": [
    {
     "data": {
      "text/plain": [
       "[[4.0, 2.0, 5.0, 3.0, 1.0], [1.0, 5.0, 2.0, 3.0, 4.0]]"
      ]
     },
     "execution_count": 126,
     "metadata": {},
     "output_type": "execute_result"
    }
   ],
   "source": [
    "\n",
    "# проверяем\n",
    "replacement_list = []\n",
    "for elem in temp_list_of_columns:\n",
    "    a = stud_for_model[elem].unique()\n",
    "    a = a[~pd.isnull(a)]\n",
    "    if len(a) == 5:\n",
    "        replacement_list.append([a[0],a[1],a[2],a[3], a[4]])\n",
    "    else:\n",
    "        print(f\"со столбцом {elem} произошла ошибка. Уникальные значения: {a}\")\n",
    "replacement_list"
   ]
  },
  {
   "cell_type": "code",
   "execution_count": 127,
   "metadata": {},
   "outputs": [],
   "source": [
    "#теперь переводим все типы рядов во float62\n",
    "stud_for_model = stud_for_model.infer_objects()"
   ]
  },
  {
   "cell_type": "code",
   "execution_count": 128,
   "metadata": {},
   "outputs": [
    {
     "data": {
      "text/html": [
       "<div>\n",
       "<style scoped>\n",
       "    .dataframe tbody tr th:only-of-type {\n",
       "        vertical-align: middle;\n",
       "    }\n",
       "\n",
       "    .dataframe tbody tr th {\n",
       "        vertical-align: top;\n",
       "    }\n",
       "\n",
       "    .dataframe thead th {\n",
       "        text-align: right;\n",
       "    }\n",
       "</style>\n",
       "<table border=\"1\" class=\"dataframe\">\n",
       "  <thead>\n",
       "    <tr style=\"text-align: right;\">\n",
       "      <th></th>\n",
       "      <th>age</th>\n",
       "      <th>absences</th>\n",
       "      <th>address</th>\n",
       "      <th>schoolsup</th>\n",
       "      <th>m_edu</th>\n",
       "      <th>f_edu</th>\n",
       "      <th>m_job</th>\n",
       "      <th>f_job</th>\n",
       "      <th>studytime</th>\n",
       "      <th>failures</th>\n",
       "      <th>goout</th>\n",
       "      <th>paid</th>\n",
       "      <th>higher</th>\n",
       "      <th>romantic</th>\n",
       "      <th>score</th>\n",
       "      <th>no_score</th>\n",
       "    </tr>\n",
       "  </thead>\n",
       "  <tbody>\n",
       "    <tr>\n",
       "      <th>0</th>\n",
       "      <td>18.0</td>\n",
       "      <td>6.0</td>\n",
       "      <td>1.0</td>\n",
       "      <td>1.0</td>\n",
       "      <td>4.0</td>\n",
       "      <td>4.0</td>\n",
       "      <td>4.0</td>\n",
       "      <td>1.0</td>\n",
       "      <td>2.0</td>\n",
       "      <td>0.0</td>\n",
       "      <td>4.0</td>\n",
       "      <td>0.0</td>\n",
       "      <td>1.0</td>\n",
       "      <td>0.0</td>\n",
       "      <td>30.0</td>\n",
       "      <td>0.0</td>\n",
       "    </tr>\n",
       "    <tr>\n",
       "      <th>1</th>\n",
       "      <td>17.0</td>\n",
       "      <td>4.0</td>\n",
       "      <td>1.0</td>\n",
       "      <td>0.0</td>\n",
       "      <td>1.0</td>\n",
       "      <td>1.0</td>\n",
       "      <td>4.0</td>\n",
       "      <td>5.0</td>\n",
       "      <td>2.0</td>\n",
       "      <td>0.0</td>\n",
       "      <td>3.0</td>\n",
       "      <td>0.0</td>\n",
       "      <td>1.0</td>\n",
       "      <td>0.0</td>\n",
       "      <td>30.0</td>\n",
       "      <td>0.0</td>\n",
       "    </tr>\n",
       "    <tr>\n",
       "      <th>2</th>\n",
       "      <td>15.0</td>\n",
       "      <td>10.0</td>\n",
       "      <td>1.0</td>\n",
       "      <td>1.0</td>\n",
       "      <td>1.0</td>\n",
       "      <td>1.0</td>\n",
       "      <td>4.0</td>\n",
       "      <td>5.0</td>\n",
       "      <td>2.0</td>\n",
       "      <td>3.0</td>\n",
       "      <td>2.0</td>\n",
       "      <td>NaN</td>\n",
       "      <td>1.0</td>\n",
       "      <td>NaN</td>\n",
       "      <td>50.0</td>\n",
       "      <td>0.0</td>\n",
       "    </tr>\n",
       "    <tr>\n",
       "      <th>3</th>\n",
       "      <td>15.0</td>\n",
       "      <td>2.0</td>\n",
       "      <td>1.0</td>\n",
       "      <td>0.0</td>\n",
       "      <td>4.0</td>\n",
       "      <td>2.0</td>\n",
       "      <td>2.0</td>\n",
       "      <td>NaN</td>\n",
       "      <td>3.0</td>\n",
       "      <td>0.0</td>\n",
       "      <td>2.0</td>\n",
       "      <td>1.0</td>\n",
       "      <td>1.0</td>\n",
       "      <td>1.0</td>\n",
       "      <td>75.0</td>\n",
       "      <td>0.0</td>\n",
       "    </tr>\n",
       "    <tr>\n",
       "      <th>4</th>\n",
       "      <td>16.0</td>\n",
       "      <td>4.0</td>\n",
       "      <td>1.0</td>\n",
       "      <td>0.0</td>\n",
       "      <td>3.0</td>\n",
       "      <td>3.0</td>\n",
       "      <td>5.0</td>\n",
       "      <td>5.0</td>\n",
       "      <td>2.0</td>\n",
       "      <td>0.0</td>\n",
       "      <td>2.0</td>\n",
       "      <td>1.0</td>\n",
       "      <td>1.0</td>\n",
       "      <td>0.0</td>\n",
       "      <td>50.0</td>\n",
       "      <td>0.0</td>\n",
       "    </tr>\n",
       "  </tbody>\n",
       "</table>\n",
       "</div>"
      ],
      "text/plain": [
       "    age  absences  address  schoolsup  m_edu  f_edu  m_job  f_job  studytime  \\\n",
       "0  18.0       6.0      1.0        1.0    4.0    4.0    4.0    1.0        2.0   \n",
       "1  17.0       4.0      1.0        0.0    1.0    1.0    4.0    5.0        2.0   \n",
       "2  15.0      10.0      1.0        1.0    1.0    1.0    4.0    5.0        2.0   \n",
       "3  15.0       2.0      1.0        0.0    4.0    2.0    2.0    NaN        3.0   \n",
       "4  16.0       4.0      1.0        0.0    3.0    3.0    5.0    5.0        2.0   \n",
       "\n",
       "   failures  goout  paid  higher  romantic  score  no_score  \n",
       "0       0.0    4.0   0.0     1.0       0.0   30.0       0.0  \n",
       "1       0.0    3.0   0.0     1.0       0.0   30.0       0.0  \n",
       "2       3.0    2.0   NaN     1.0       NaN   50.0       0.0  \n",
       "3       0.0    2.0   1.0     1.0       1.0   75.0       0.0  \n",
       "4       0.0    2.0   1.0     1.0       0.0   50.0       0.0  "
      ]
     },
     "metadata": {},
     "output_type": "display_data"
    },
    {
     "name": "stdout",
     "output_type": "stream",
     "text": [
      "<class 'pandas.core.frame.DataFrame'>\n",
      "RangeIndex: 395 entries, 0 to 394\n",
      "Data columns (total 16 columns):\n",
      " #   Column     Non-Null Count  Dtype  \n",
      "---  ------     --------------  -----  \n",
      " 0   age        394 non-null    float64\n",
      " 1   absences   383 non-null    float64\n",
      " 2   address    378 non-null    float64\n",
      " 3   schoolsup  386 non-null    float64\n",
      " 4   m_edu      392 non-null    float64\n",
      " 5   f_edu      371 non-null    float64\n",
      " 6   m_job      376 non-null    float64\n",
      " 7   f_job      359 non-null    float64\n",
      " 8   studytime  388 non-null    float64\n",
      " 9   failures   395 non-null    float64\n",
      " 10  goout      387 non-null    float64\n",
      " 11  paid       355 non-null    float64\n",
      " 12  higher     375 non-null    float64\n",
      " 13  romantic   364 non-null    float64\n",
      " 14  score      352 non-null    float64\n",
      " 15  no_score   389 non-null    float64\n",
      "dtypes: float64(16)\n",
      "memory usage: 49.5 KB\n"
     ]
    }
   ],
   "source": [
    "# проверяем\n",
    "display(stud_for_model.head())\n",
    "stud_for_model.info()"
   ]
  },
  {
   "cell_type": "code",
   "execution_count": 129,
   "metadata": {},
   "outputs": [],
   "source": [
    "# создаем словарь соответствий значений описания и датафрейма \n",
    "# на случай если датафрейм будем использовать не мы \n",
    "help_read_dict = {'address':[['U', 1.0], ['R', 0.0]],\n",
    "                  'schoolsup':[['yes', 1.0], ['no', 0.0]],\n",
    "                  'famsup':[['yes', 1.0], ['no', 0.0]], \n",
    "                  'paid':[['yes', 1.0], ['no', 0.0]], \n",
    "                  'higher':[['yes', 1.0], ['no', 0.0]], \n",
    "                  'romantic':[['yes', 1.0], ['no', 0.0]],\n",
    "                  'm_job':[['teacher', 1.0], ['health', 2.0], \n",
    "                           ['services', 3.0], ['at_home', 4.0],\n",
    "                           ['other', 5.0]],\n",
    "                  'f_job':[['teacher', 1.0], ['health', 2.0], \n",
    "                           ['services', 3.0], ['at_home', 4.0],\n",
    "                           ['other', 5.0]]}"
   ]
  },
  {
   "cell_type": "code",
   "execution_count": 130,
   "metadata": {},
   "outputs": [
    {
     "data": {
      "text/html": [
       "<div>\n",
       "<style scoped>\n",
       "    .dataframe tbody tr th:only-of-type {\n",
       "        vertical-align: middle;\n",
       "    }\n",
       "\n",
       "    .dataframe tbody tr th {\n",
       "        vertical-align: top;\n",
       "    }\n",
       "\n",
       "    .dataframe thead th {\n",
       "        text-align: right;\n",
       "    }\n",
       "</style>\n",
       "<table border=\"1\" class=\"dataframe\">\n",
       "  <thead>\n",
       "    <tr style=\"text-align: right;\">\n",
       "      <th></th>\n",
       "      <th>score</th>\n",
       "    </tr>\n",
       "  </thead>\n",
       "  <tbody>\n",
       "    <tr>\n",
       "      <th>age</th>\n",
       "      <td>-0.121579</td>\n",
       "    </tr>\n",
       "    <tr>\n",
       "      <th>absences</th>\n",
       "      <td>-0.014039</td>\n",
       "    </tr>\n",
       "    <tr>\n",
       "      <th>address</th>\n",
       "      <td>0.138230</td>\n",
       "    </tr>\n",
       "    <tr>\n",
       "      <th>schoolsup</th>\n",
       "      <td>-0.249796</td>\n",
       "    </tr>\n",
       "    <tr>\n",
       "      <th>m_edu</th>\n",
       "      <td>0.186477</td>\n",
       "    </tr>\n",
       "    <tr>\n",
       "      <th>f_edu</th>\n",
       "      <td>0.135268</td>\n",
       "    </tr>\n",
       "    <tr>\n",
       "      <th>m_job</th>\n",
       "      <td>-0.161517</td>\n",
       "    </tr>\n",
       "    <tr>\n",
       "      <th>f_job</th>\n",
       "      <td>-0.105052</td>\n",
       "    </tr>\n",
       "    <tr>\n",
       "      <th>studytime</th>\n",
       "      <td>0.142055</td>\n",
       "    </tr>\n",
       "    <tr>\n",
       "      <th>failures</th>\n",
       "      <td>-0.286925</td>\n",
       "    </tr>\n",
       "    <tr>\n",
       "      <th>goout</th>\n",
       "      <td>-0.182286</td>\n",
       "    </tr>\n",
       "    <tr>\n",
       "      <th>paid</th>\n",
       "      <td>-0.022039</td>\n",
       "    </tr>\n",
       "    <tr>\n",
       "      <th>higher</th>\n",
       "      <td>0.104812</td>\n",
       "    </tr>\n",
       "    <tr>\n",
       "      <th>romantic</th>\n",
       "      <td>-0.061963</td>\n",
       "    </tr>\n",
       "  </tbody>\n",
       "</table>\n",
       "</div>"
      ],
      "text/plain": [
       "              score\n",
       "age       -0.121579\n",
       "absences  -0.014039\n",
       "address    0.138230\n",
       "schoolsup -0.249796\n",
       "m_edu      0.186477\n",
       "f_edu      0.135268\n",
       "m_job     -0.161517\n",
       "f_job     -0.105052\n",
       "studytime  0.142055\n",
       "failures  -0.286925\n",
       "goout     -0.182286\n",
       "paid      -0.022039\n",
       "higher     0.104812\n",
       "romantic  -0.061963"
      ]
     },
     "execution_count": 130,
     "metadata": {},
     "output_type": "execute_result"
    }
   ],
   "source": [
    "# в числовом датафрейме посмотрим корреляцию на score для формирования гипотез \n",
    "temp_corr = stud_for_model.corr()\n",
    "pd.DataFrame(temp_corr.iloc[-2,:-2])"
   ]
  },
  {
   "cell_type": "markdown",
   "metadata": {},
   "source": [
    "# 5. Выводы"
   ]
  },
  {
   "cell_type": "markdown",
   "metadata": {},
   "source": [
    "В результате EDA для анализа влияния критериев датасета на модель, которая предсказывала бы результаты госэкзамена по математике для каждого ученика школы были получены следующие выводы:\n",
    "\n",
    "1. В датасете остались пустые значения. На данном этапе сложно сказать, насколько это будет значимо. Только 3 столбца из 29 заполнены полностью. Если бы мы очистили датасет от всех записей, содержащих хотя бы 1 пустое значение, то из 395 строк осталось бы около 228, и качество выборки заметно бы ухудшилось.\n",
    "\n",
    "2. выбросы найдены:\n",
    "    - в столбце возраст (значение 22 удалено)\n",
    "    - в столбце score (значение 0.0 удалено, на его основе создан новый булевый критерий no_score)\n",
    "    \n",
    "3. гипотезы:\n",
    "    - полученные результаты экзаменов по математике во многом зависели от самых разных факторов, таких, как работа матери, количество свободного времени или даже наличия романтических отношений.\n",
    "    - положительная корреляция по парамметру f_edu говорит о том, что чем выше образование отца тем выше балл.\n",
    "    - положительная корреляция по парамметру m_edu говорит о том, что чем выше образование матери тем выше балл.\n",
    "    - отрицательная корреляция параметра age и score может говорить о том, что чем выше возраст тем ниже score\n",
    "    - отрицательная корреляция параметра failures и score может говорить о том, что чем больше неудач по другим предметам тем ниже score\n",
    "    - отрицательная корреляция параметра goout и score может говорить о том, что чем больше ученик проводит времени с друзьями тем ниже score\n",
    "    - cамых важных критериев, которые предлагается использовать в дальнейшем для построения модели 14, это: age, absences, address, schoolsup, m_edu, f_edu, m_job, f_job, studytime, failures, goout, paid, higher, romantic.\n",
    "\n",
    "\n",
    "Результат работы включает полностью подготовленный числовой датасет stud_for_model и словарь соответствий между значениями датасета и описанием датасета help_read_dict"
   ]
  },
  {
   "cell_type": "code",
   "execution_count": null,
   "metadata": {},
   "outputs": [],
   "source": []
  }
 ],
 "metadata": {
  "kernelspec": {
   "display_name": "Python 3",
   "language": "python",
   "name": "python3"
  }
 },
 "nbformat": 4,
 "nbformat_minor": 4
}
