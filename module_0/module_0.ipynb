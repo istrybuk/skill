{
 "cells": [
  {
   "cell_type": "code",
   "execution_count": null,
   "metadata": {},
   "outputs": [],
   "source": [
    "# Finding a random number\n",
    "# Setting the borders for search range\n",
    "lower_limit = 1\n",
    "upper_limit = 100\n",
    "\n",
    "\n",
    "# Definitions of an unknown number\n",
    "import numpy as np\n",
    "target_number = np.random.randint(lower_limit,upper_limit + 1)\n",
    "print (f\"Загадано число от {lower_limit} до {upper_limit}\")\n",
    "\n",
    "\n",
    "def search_function(target_number):\n",
    "    \"\"\" function to find the target_number \"\"\"\n",
    "    \n",
    "    low = lower_limit\n",
    "    up = upper_limit\n",
    "    iteration_count = 0\n",
    "    predict = 0\n",
    "    \n",
    "    while predict != target_number:\n",
    "        iteration_count += 1\n",
    "        predict = (low + up) // 2\n",
    "        \n",
    "        if target_number == predict: break\n",
    "        elif target_number > predict:\n",
    "            low = predict +1\n",
    "        elif target_number < predict:\n",
    "            up = predict -1\n",
    "    return(iteration_count)\n",
    "\n",
    "print (f'Вы угадали число {target_number} за {search_function(target_number)} попыток')\n",
    "\n",
    "\n",
    "def mean_count(find_function):\n",
    "    '''Calcualating mean count of iterations through testing \"find_function\" by 1000 times'''\n",
    "\n",
    "    iteration_count_ls = []\n",
    "    np.random.seed(1)\n",
    "    random_array = np.random.randint(lower_limit,upper_limit + 1, size=(1000))\n",
    "    \n",
    "    for number in random_array:\n",
    "        iteration_count_ls.append(search_function(number))\n",
    "    score = int(np.mean(iteration_count_ls))\n",
    "    return(score)\n",
    "\n",
    "print(f'Ваш алгоритм угадывает число в среднем за {mean_count(search_function)} попыток')"
   ]
  },
  {
   "cell_type": "code",
   "execution_count": null,
   "metadata": {},
   "outputs": [],
   "source": []
  }
 ],
 "metadata": {
  "kernelspec": {
   "display_name": "Python 3",
   "language": "python",
   "name": "python3"
  },
  "language_info": {
   "codemirror_mode": {
    "name": "ipython",
    "version": 3
   },
   "file_extension": ".py",
   "mimetype": "text/x-python",
   "name": "python",
   "nbconvert_exporter": "python",
   "pygments_lexer": "ipython3",
   "version": "3.8.5"
  }
 },
 "nbformat": 4,
 "nbformat_minor": 4
}
